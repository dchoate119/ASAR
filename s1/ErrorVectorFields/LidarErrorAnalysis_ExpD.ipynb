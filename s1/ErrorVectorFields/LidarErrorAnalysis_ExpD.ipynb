{
 "cells": [
  {
   "cell_type": "markdown",
   "id": "d7d310bc",
   "metadata": {},
   "source": [
    "# Characterizing Lidar Point-Cloud Adversities Using a Vector Field Visualization"
   ]
  },
  {
   "cell_type": "code",
   "execution_count": 1,
   "id": "7dcada9b",
   "metadata": {},
   "outputs": [
    {
     "name": "stderr",
     "output_type": "stream",
     "text": [
      "2024-07-30 12:51:25.464136: I tensorflow/core/util/port.cc:113] oneDNN custom operations are on. You may see slightly different numerical results due to floating-point round-off errors from different computation orders. To turn them off, set the environment variable `TF_ENABLE_ONEDNN_OPTS=0`.\n",
      "2024-07-30 12:51:25.488974: E external/local_xla/xla/stream_executor/cuda/cuda_dnn.cc:10575] Unable to register cuDNN factory: Attempting to register factory for plugin cuDNN when one has already been registered\n",
      "2024-07-30 12:51:25.488990: E external/local_xla/xla/stream_executor/cuda/cuda_fft.cc:479] Unable to register cuFFT factory: Attempting to register factory for plugin cuFFT when one has already been registered\n",
      "2024-07-30 12:51:25.490034: E external/local_xla/xla/stream_executor/cuda/cuda_blas.cc:1442] Unable to register cuBLAS factory: Attempting to register factory for plugin cuBLAS when one has already been registered\n",
      "2024-07-30 12:51:25.494041: I tensorflow/core/platform/cpu_feature_guard.cc:210] This TensorFlow binary is optimized to use available CPU instructions in performance-critical operations.\n",
      "To enable the following instructions: SSE4.1 SSE4.2 AVX AVX2 AVX_VNNI FMA, in other operations, rebuild TensorFlow with the appropriate compiler flags.\n"
     ]
    }
   ],
   "source": [
    "import numpy as np\n",
    "import tensorflow as tf\n",
    "import matplotlib.pyplot as plt\n",
    "# import scipy.io as sio\n",
    "# import datetime\n",
    "# import trimesh \n",
    "# import time\n",
    "import math\n",
    "from vedo import *\n",
    "# from trimesh import creation, transformations\n",
    "from ipyvtklink.viewer import ViewInteractiveWidget\n",
    "# import open3d as o3d\n",
    "# from pyndt import NDT\n",
    "\n",
    "# # Limit GPU memory, if running notebook on GPU\n",
    "# gpus = tf.config.experimental.list_physical_devices('GPU')\n",
    "# print(gpus)\n",
    "# if gpus:\n",
    "#     try:\n",
    "#         memlim = 2*1024\n",
    "#         tf.config.experimental.set_virtual_device_configuration(gpus[0], [tf.config.experimental.VirtualDeviceConfiguration(memory_limit=memlim)])\n",
    "#     except RuntimeError as e:\n",
    "#         print(e)"
   ]
  },
  {
   "cell_type": "code",
   "execution_count": 2,
   "id": "e1304b94",
   "metadata": {},
   "outputs": [
    {
     "name": "stdout",
     "output_type": "stream",
     "text": [
      "[[        nan         nan         nan]\n",
      " [        nan         nan         nan]\n",
      " [        nan         nan         nan]\n",
      " ...\n",
      " [-0.1363716  15.946853   -4.2731023 ]\n",
      " [        nan         nan         nan]\n",
      " [-0.02500946 15.924233   -4.266891  ]]\n",
      "[[            nan             nan             nan]\n",
      " [            nan             nan             nan]\n",
      " [            nan             nan             nan]\n",
      " ...\n",
      " [            nan             nan             nan]\n",
      " [-7.01405481e-02  1.60747852e+01 -4.30726671e+00]\n",
      " [-1.11888228e-02  1.60208416e+01 -4.29277277e+00]]\n",
      "[<vedo.pointcloud.Points object at 0x7289e5b1f910>, <vedo.pointcloud.Points object at 0x7289e6eb0400>]\n"
     ]
    },
    {
     "name": "stderr",
     "output_type": "stream",
     "text": [
      "libGL: Can't open configuration file /etc/drirc: No such file or directory.\n",
      "libGL: Can't open configuration file /home/daniel-choate/.drirc: No such file or directory.\n",
      "using driver i915 for 60\n",
      "libGL: Can't open configuration file /etc/drirc: No such file or directory.\n",
      "libGL: Can't open configuration file /home/daniel-choate/.drirc: No such file or directory.\n",
      "using driver i915 for 60\n",
      "pci id for fd 60: 8086:a7a0, driver iris\n",
      "MESA-LOADER: dlopen(/usr/lib/x86_64-linux-gnu/dri/iris_dri.so)\n",
      "libGL: Can't open configuration file /etc/drirc: No such file or directory.\n",
      "libGL: Can't open configuration file /home/daniel-choate/.drirc: No such file or directory.\n",
      "libGL: Can't open configuration file /etc/drirc: No such file or directory.\n",
      "libGL: Can't open configuration file /home/daniel-choate/.drirc: No such file or directory.\n",
      "libGL: Can't open configuration file /etc/drirc: No such file or directory.\n",
      "libGL: Can't open configuration file /home/daniel-choate/.drirc: No such file or directory.\n",
      "Using DRI3 for screen 0\n"
     ]
    },
    {
     "data": {
      "application/vnd.jupyter.widget-view+json": {
       "model_id": "be387186691f46f7a679228d661c946f",
       "version_major": 2,
       "version_minor": 0
      },
      "text/plain": [
       "ViewInteractiveWidget(height=600, layout=Layout(height='auto', width='100%'), width=800)"
      ]
     },
     "metadata": {},
     "output_type": "display_data"
    }
   ],
   "source": [
    "# Import experimental data\n",
    "ptCloud1_fn = \"/home/daniel-choate/ASAR/s1/ErrorVectorFields/Cloud1_ExpD.txt\"\n",
    "ptCloud1 = np.loadtxt(ptCloud1_fn)\n",
    "print(ptCloud1)\n",
    "ptCloud10_fn = \"/home/daniel-choate/ASAR/s1/ErrorVectorFields/Cloud10_ExpD.txt\"\n",
    "ptCloud10 = np.loadtxt(ptCloud10_fn)\n",
    "print(ptCloud10)\n",
    "\n",
    "# Plot scans using vedo \n",
    "plt1 = Plotter(N = 1, axes = 4, bg = (1,1,1), interactive = True)\n",
    "disp = []\n",
    "disp.append(Points(ptCloud1, c = '#0072BD', r = 2, alpha = 1)) #+ np.array([-13,-13,3]) #0343DF\n",
    "disp.append(Points(ptCloud10, c = 'red', r = 2, alpha = 1)) #+ np.array([-13,-13,3])\n",
    "\n",
    "print(disp)\n",
    "\n",
    "plt1.show(disp, \"Fig 1.1\")\n",
    "ViewInteractiveWidget(plt1.window)"
   ]
  },
  {
   "cell_type": "code",
   "execution_count": 3,
   "id": "aae2cf9e-2f31-4c2f-83d8-adb7d4c98d47",
   "metadata": {},
   "outputs": [],
   "source": [
    "# Convert .txt files to .xyz files to be match open3d format\n",
    "\n",
    "# Replace with your input and output file paths\n",
    "input_file = ptCloud1_fn\n",
    "output_file1 = \"/home/daniel-choate/ASAR/s1/ErrorVectorFields/Cloud1_ExpD.xyz\"\n",
    "\n",
    "# Read data from .txt file\n",
    "with open(input_file, 'r') as f:\n",
    "    lines = f.readlines()\n",
    "\n",
    "# Extract XYZ coordinates and write to .xyz file\n",
    "with open(output_file1, 'w') as f:\n",
    "    for line in lines:\n",
    "        if line.strip():  # Check if line is not empty\n",
    "            # Assuming each line contains XYZ coordinates separated by spaces or commas\n",
    "            parts = line.strip().split()\n",
    "            if len(parts) >= 3:\n",
    "                x, y, z = parts[:3]  # Extract XYZ coordinates\n",
    "                f.write(f\"{x} {y} {z}\\n\")  # Write XYZ coordinates in .xyz format\n",
    "\n",
    "# Replace with your input and output file paths\n",
    "input_file = ptCloud10_fn\n",
    "output_file10 = \"/home/daniel-choate/ASAR/s1/ErrorVectorFields/Cloud10_ExpD.xyz\"\n",
    "\n",
    "# Read data from .txt file\n",
    "with open(input_file, 'r') as f:\n",
    "    lines = f.readlines()\n",
    "\n",
    "# Extract XYZ coordinates and write to .xyz file\n",
    "with open(output_file10, 'w') as f:\n",
    "    for line in lines:\n",
    "        if line.strip():  # Check if line is not empty\n",
    "            # Assuming each line contains XYZ coordinates separated by spaces or commas\n",
    "            parts = line.strip().split()\n",
    "            if len(parts) >= 3:\n",
    "                x, y, z = parts[:3]  # Extract XYZ coordinates\n",
    "                f.write(f\"{x} {y} {z}\\n\")  # Write XYZ coordinates in .xyz format\n"
   ]
  },
  {
   "cell_type": "code",
   "execution_count": 4,
   "id": "78bab945",
   "metadata": {},
   "outputs": [
    {
     "ename": "NameError",
     "evalue": "name 'o3d' is not defined",
     "output_type": "error",
     "traceback": [
      "\u001b[0;31m---------------------------------------------------------------------------\u001b[0m",
      "\u001b[0;31mNameError\u001b[0m                                 Traceback (most recent call last)",
      "Cell \u001b[0;32mIn[4], line 3\u001b[0m\n\u001b[1;32m      1\u001b[0m \u001b[38;5;66;03m# Align scans using NDT\u001b[39;00m\n\u001b[0;32m----> 3\u001b[0m pcd1 \u001b[38;5;241m=\u001b[39m \u001b[43mo3d\u001b[49m\u001b[38;5;241m.\u001b[39mio\u001b[38;5;241m.\u001b[39mread_point_cloud(output_file1)\n\u001b[1;32m      4\u001b[0m pcd10 \u001b[38;5;241m=\u001b[39m o3d\u001b[38;5;241m.\u001b[39mio\u001b[38;5;241m.\u001b[39mread_point_cloud(output_file10)\n\u001b[1;32m      6\u001b[0m \u001b[38;5;66;03m# voxel_size = 0.05\u001b[39;00m\n\u001b[1;32m      7\u001b[0m \u001b[38;5;66;03m# pcd1_down = pcd1.voxel_down_sample(voxel_size=voxel_size)\u001b[39;00m\n\u001b[1;32m      8\u001b[0m \u001b[38;5;66;03m# pcd2_down = pcd2.voxel_down_sample(voxel_size=voxel_size)\u001b[39;00m\n",
      "\u001b[0;31mNameError\u001b[0m: name 'o3d' is not defined"
     ]
    }
   ],
   "source": [
    "# Align scans using NDT\n",
    "\n",
    "pcd1 = o3d.io.read_point_cloud(output_file1)\n",
    "pcd10 = o3d.io.read_point_cloud(output_file10)\n",
    "\n",
    "# voxel_size = 0.05\n",
    "# pcd1_down = pcd1.voxel_down_sample(voxel_size=voxel_size)\n",
    "# pcd2_down = pcd2.voxel_down_sample(voxel_size=voxel_size)\n",
    "\n",
    "o3d.visualization.draw_geometries([pcd1, pcd10], point_show_normal=False, mesh_show_wireframe=True)\n",
    "print(pcd1)\n",
    "print(pcd10)\n",
    "\n",
    "source = pcd1\n",
    "target = pcd10\n",
    "\n",
    "# Perform NDT registration\n",
    "# result = o3d.pipelines.registration.registration_ndt(pcd1, pcd10)\n",
    "# result = o3d.pipelines.registration.registration_ransac_based_on_feature_matching(source, target, o3d.pipelines.registration.FastGlobalRegistrationOption())\n",
    "\n",
    "# # Get the transformation matrix\n",
    "# T = registration.transformation\n",
    "\n",
    "# Apply transformation to cloud2 to align it with cloud1\n",
    "# cloud10_aligned = pcd10.transform(T)"
   ]
  },
  {
   "cell_type": "code",
   "execution_count": null,
   "id": "947d50cb",
   "metadata": {},
   "outputs": [],
   "source": [
    "# Import previously aligned scan 10 using NDT \n",
    "\n",
    "ptCloud10_fn = \"/home/daniel-choate/ASAR/s1/ErrorVectorFields/Cloud10Aligned_ExpD.txt\"\n",
    "ptCloud10 = np.loadtxt(ptCloud10_fn)\n",
    "print(ptCloud10)\n",
    "\n",
    "# Plot newly aligned clouds\n",
    "# Plot scans using vedo \n",
    "plt2 = Plotter(N = 1, axes = 4, bg = (1,1,1), interactive = True)\n",
    "disp2 = []\n",
    "disp2.append(Points(ptCloud1, c = '#0072BD', r = 2, alpha = 1)) #+ np.array([-13,-13,3]) #0343DF\n",
    "disp2.append(Points(ptCloud10, c = 'red', r = 2, alpha = 1)) #+ np.array([-13,-13,3])\n",
    "\n",
    "print(disp2)\n",
    "\n",
    "plt2.show(disp2, \"Fig 1.2\")\n",
    "ViewInteractiveWidget(plt2.window)\n"
   ]
  },
  {
   "cell_type": "code",
   "execution_count": null,
   "id": "0c63313b-5bfc-4807-8409-fb988779d0ff",
   "metadata": {},
   "outputs": [],
   "source": []
  },
  {
   "cell_type": "code",
   "execution_count": null,
   "id": "c7a9996e-8935-4d4c-b4c7-a63e1a97c6c6",
   "metadata": {},
   "outputs": [],
   "source": []
  },
  {
   "cell_type": "code",
   "execution_count": null,
   "id": "40c8f090",
   "metadata": {},
   "outputs": [],
   "source": []
  }
 ],
 "metadata": {
  "kernelspec": {
   "display_name": "Python 3 (ipykernel)",
   "language": "python",
   "name": "python3"
  },
  "language_info": {
   "codemirror_mode": {
    "name": "ipython",
    "version": 3
   },
   "file_extension": ".py",
   "mimetype": "text/x-python",
   "name": "python",
   "nbconvert_exporter": "python",
   "pygments_lexer": "ipython3",
   "version": "3.9.18"
  }
 },
 "nbformat": 4,
 "nbformat_minor": 5
}
