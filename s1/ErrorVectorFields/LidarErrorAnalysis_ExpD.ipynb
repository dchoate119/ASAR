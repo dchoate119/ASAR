{
 "cells": [
  {
   "cell_type": "markdown",
   "id": "d7d310bc",
   "metadata": {},
   "source": [
    "# Characterizing Lidar Point-Cloud Adversities Using a Vector Field Visualization"
   ]
  },
  {
   "cell_type": "code",
   "execution_count": 1,
   "id": "7dcada9b",
   "metadata": {},
   "outputs": [
    {
     "name": "stderr",
     "output_type": "stream",
     "text": [
      "2024-07-16 14:18:04.355647: I tensorflow/core/util/port.cc:110] oneDNN custom operations are on. You may see slightly different numerical results due to floating-point round-off errors from different computation orders. To turn them off, set the environment variable `TF_ENABLE_ONEDNN_OPTS=0`.\n",
      "2024-07-16 14:18:04.372435: I tensorflow/tsl/cuda/cudart_stub.cc:28] Could not find cuda drivers on your machine, GPU will not be used.\n",
      "2024-07-16 14:18:04.499254: I tensorflow/tsl/cuda/cudart_stub.cc:28] Could not find cuda drivers on your machine, GPU will not be used.\n",
      "2024-07-16 14:18:04.500778: I tensorflow/core/platform/cpu_feature_guard.cc:182] This TensorFlow binary is optimized to use available CPU instructions in performance-critical operations.\n",
      "To enable the following instructions: AVX2 AVX_VNNI FMA, in other operations, rebuild TensorFlow with the appropriate compiler flags.\n",
      "2024-07-16 14:18:05.097096: W tensorflow/compiler/tf2tensorrt/utils/py_utils.cc:38] TF-TRT Warning: Could not find TensorRT\n"
     ]
    },
    {
     "ename": "ModuleNotFoundError",
     "evalue": "No module named 'pyndt'",
     "output_type": "error",
     "traceback": [
      "\u001b[0;31m---------------------------------------------------------------------------\u001b[0m",
      "\u001b[0;31mModuleNotFoundError\u001b[0m                       Traceback (most recent call last)",
      "Cell \u001b[0;32mIn[1], line 12\u001b[0m\n\u001b[1;32m     10\u001b[0m \u001b[38;5;28;01mfrom\u001b[39;00m \u001b[38;5;21;01mtrimesh\u001b[39;00m \u001b[38;5;28;01mimport\u001b[39;00m creation, transformations\n\u001b[1;32m     11\u001b[0m \u001b[38;5;28;01mfrom\u001b[39;00m \u001b[38;5;21;01mipyvtklink\u001b[39;00m\u001b[38;5;21;01m.\u001b[39;00m\u001b[38;5;21;01mviewer\u001b[39;00m \u001b[38;5;28;01mimport\u001b[39;00m ViewInteractiveWidget\n\u001b[0;32m---> 12\u001b[0m \u001b[38;5;28;01mfrom\u001b[39;00m \u001b[38;5;21;01mpyndt\u001b[39;00m \u001b[38;5;28;01mimport\u001b[39;00m NDT\n",
      "\u001b[0;31mModuleNotFoundError\u001b[0m: No module named 'pyndt'"
     ]
    }
   ],
   "source": [
    "import numpy as np\n",
    "import tensorflow as tf\n",
    "import matplotlib.pyplot as plt\n",
    "import scipy.io as sio\n",
    "import datetime\n",
    "import trimesh \n",
    "import time\n",
    "import math\n",
    "from vedo import *\n",
    "from trimesh import creation, transformations\n",
    "from ipyvtklink.viewer import ViewInteractiveWidget\n",
    "from pyndt import NDT\n",
    "\n",
    "# # Limit GPU memory, if running notebook on GPU\n",
    "# gpus = tf.config.experimental.list_physical_devices('GPU')\n",
    "# print(gpus)\n",
    "# if gpus:\n",
    "#     try:\n",
    "#         memlim = 2*1024\n",
    "#         tf.config.experimental.set_virtual_device_configuration(gpus[0], [tf.config.experimental.VirtualDeviceConfiguration(memory_limit=memlim)])\n",
    "#     except RuntimeError as e:\n",
    "#         print(e)"
   ]
  },
  {
   "cell_type": "code",
   "execution_count": 2,
   "id": "e1304b94",
   "metadata": {},
   "outputs": [],
   "source": [
    "# Import experimental data\n",
    "ptCloud1_fn = \"/home/danielchoate/ASAR/s1/ErrorVectorFields/Cloud1_ExpD.txt\"\n",
    "ptCloud1 = np.loadtxt(ptCloud1_fn)\n",
    "\n",
    "ptCloud10_fn = \"/home/danielchoate/ASAR/s1/ErrorVectorFields/Cloud10_ExpD.txt\"\n",
    "ptCloud10 = np.loadtxt(ptCloud10_fn)\n"
   ]
  },
  {
   "cell_type": "code",
   "execution_count": 1,
   "id": "78bab945",
   "metadata": {},
   "outputs": [],
   "source": [
    "# Align scans using NDT\n",
    "\n"
   ]
  },
  {
   "cell_type": "code",
   "execution_count": null,
   "id": "947d50cb",
   "metadata": {},
   "outputs": [],
   "source": []
  },
  {
   "cell_type": "code",
   "execution_count": null,
   "id": "40c8f090",
   "metadata": {},
   "outputs": [],
   "source": []
  }
 ],
 "metadata": {
  "kernelspec": {
   "display_name": "Python 3 (ipykernel)",
   "language": "python",
   "name": "python3"
  },
  "language_info": {
   "codemirror_mode": {
    "name": "ipython",
    "version": 3
   },
   "file_extension": ".py",
   "mimetype": "text/x-python",
   "name": "python",
   "nbconvert_exporter": "python",
   "pygments_lexer": "ipython3",
   "version": "3.9.17"
  }
 },
 "nbformat": 4,
 "nbformat_minor": 5
}
