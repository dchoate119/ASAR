{
 "cells": [
  {
   "cell_type": "markdown",
   "id": "d7d310bc",
   "metadata": {},
   "source": [
    "# Characterizing Lidar Point-Cloud Adversities Using a Vector Field Visualization"
   ]
  },
  {
   "cell_type": "code",
   "execution_count": 5,
   "id": "7dcada9b",
   "metadata": {},
   "outputs": [],
   "source": [
    "import numpy as np\n",
    "import tensorflow as tf\n",
    "import matplotlib.pyplot as plt\n",
    "import scipy.io as sio\n",
    "import datetime\n",
    "import trimesh \n",
    "import time\n",
    "import math\n",
    "from vedo import *\n",
    "from trimesh import creation, transformations\n",
    "from ipyvtklink.viewer import ViewInteractiveWidget\n",
    "import open3d as o3d\n",
    "# from pyndt import NDT\n",
    "\n",
    "# # Limit GPU memory, if running notebook on GPU\n",
    "# gpus = tf.config.experimental.list_physical_devices('GPU')\n",
    "# print(gpus)\n",
    "# if gpus:\n",
    "#     try:\n",
    "#         memlim = 2*1024\n",
    "#         tf.config.experimental.set_virtual_device_configuration(gpus[0], [tf.config.experimental.VirtualDeviceConfiguration(memory_limit=memlim)])\n",
    "#     except RuntimeError as e:\n",
    "#         print(e)"
   ]
  },
  {
   "cell_type": "code",
   "execution_count": 7,
   "id": "e1304b94",
   "metadata": {},
   "outputs": [
    {
     "name": "stdout",
     "output_type": "stream",
     "text": [
      "[<vedo.pointcloud.Points object at 0x789c4f3c9910>, <vedo.pointcloud.Points object at 0x789e138243a0>]\n"
     ]
    },
    {
     "data": {
      "application/vnd.jupyter.widget-view+json": {
       "model_id": "e618cf06b9844c8fbc60cb42d0b25dfc",
       "version_major": 2,
       "version_minor": 0
      },
      "text/plain": [
       "ViewInteractiveWidget(height=600, layout=Layout(height='auto', width='100%'), width=800)"
      ]
     },
     "execution_count": 7,
     "metadata": {},
     "output_type": "execute_result"
    }
   ],
   "source": [
    "# Import experimental data\n",
    "ptCloud1_fn = \"/home/daniel-choate/ASAR/s1/ErrorVectorFields/Cloud1_ExpD.txt\"\n",
    "ptCloud1 = np.loadtxt(ptCloud1_fn)\n",
    "\n",
    "ptCloud10_fn = \"/home/daniel-choate/ASAR/s1/ErrorVectorFields/Cloud10_ExpD.txt\"\n",
    "ptCloud10 = np.loadtxt(ptCloud10_fn)\n",
    "\n",
    "# Plot scans using vedo \n",
    "plt1 = Plotter(N = 1, axes = 4, bg = (1,1,1), interactive = True)\n",
    "disp = []\n",
    "disp.append(Points(ptCloud1, c = 'blue', r = 3, alpha = 1)) #+ np.array([-13,-13,3]) #0343DF\n",
    "disp.append(Points(ptCloud10, c = 'red', r = 3, alpha = 1)) #+ np.array([-13,-13,3])\n",
    "\n",
    "print(disp)\n",
    "\n",
    "plt1.show(disp, \"Fig 1.1\")\n",
    "ViewInteractiveWidget(plt1.window)"
   ]
  },
  {
   "cell_type": "code",
   "execution_count": 8,
   "id": "aae2cf9e-2f31-4c2f-83d8-adb7d4c98d47",
   "metadata": {},
   "outputs": [],
   "source": [
    "# Convert .txt files to .xyz files to be match open3d format\n",
    "\n",
    "# Replace with your input and output file paths\n",
    "input_file = ptCloud1_fn\n",
    "output_file1 = \"/home/daniel-choate/ASAR/s1/ErrorVectorFields/Cloud1_ExpD.xyz\"\n",
    "\n",
    "# Read data from .txt file\n",
    "with open(input_file, 'r') as f:\n",
    "    lines = f.readlines()\n",
    "\n",
    "# Extract XYZ coordinates and write to .xyz file\n",
    "with open(output_file1, 'w') as f:\n",
    "    for line in lines:\n",
    "        if line.strip():  # Check if line is not empty\n",
    "            # Assuming each line contains XYZ coordinates separated by spaces or commas\n",
    "            parts = line.strip().split()\n",
    "            if len(parts) >= 3:\n",
    "                x, y, z = parts[:3]  # Extract XYZ coordinates\n",
    "                f.write(f\"{x} {y} {z}\\n\")  # Write XYZ coordinates in .xyz format\n",
    "\n",
    "# Replace with your input and output file paths\n",
    "input_file = ptCloud10_fn\n",
    "output_file10 = \"/home/daniel-choate/ASAR/s1/ErrorVectorFields/Cloud10_ExpD.xyz\"\n",
    "\n",
    "# Read data from .txt file\n",
    "with open(input_file, 'r') as f:\n",
    "    lines = f.readlines()\n",
    "\n",
    "# Extract XYZ coordinates and write to .xyz file\n",
    "with open(output_file10, 'w') as f:\n",
    "    for line in lines:\n",
    "        if line.strip():  # Check if line is not empty\n",
    "            # Assuming each line contains XYZ coordinates separated by spaces or commas\n",
    "            parts = line.strip().split()\n",
    "            if len(parts) >= 3:\n",
    "                x, y, z = parts[:3]  # Extract XYZ coordinates\n",
    "                f.write(f\"{x} {y} {z}\\n\")  # Write XYZ coordinates in .xyz format\n"
   ]
  },
  {
   "cell_type": "code",
   "execution_count": 9,
   "id": "78bab945",
   "metadata": {},
   "outputs": [
    {
     "name": "stdout",
     "output_type": "stream",
     "text": [
      "PointCloud with 28960 points.\n",
      "PointCloud with 28960 points.\n"
     ]
    }
   ],
   "source": [
    "# Align scans using NDT\n",
    "\n",
    "pcd1 = o3d.io.read_point_cloud(output_file1)\n",
    "pcd10 = o3d.io.read_point_cloud(output_file10)\n",
    "\n",
    "# voxel_size = 0.05\n",
    "# pcd1_down = pcd1.voxel_down_sample(voxel_size=voxel_size)\n",
    "# pcd2_down = pcd2.voxel_down_sample(voxel_size=voxel_size)\n",
    "\n",
    "o3d.visualization.draw_geometries([pcd1, pcd10])\n",
    "print(pcd1)\n",
    "print(pcd10)"
   ]
  },
  {
   "cell_type": "code",
   "execution_count": null,
   "id": "947d50cb",
   "metadata": {},
   "outputs": [],
   "source": []
  },
  {
   "cell_type": "code",
   "execution_count": null,
   "id": "40c8f090",
   "metadata": {},
   "outputs": [],
   "source": []
  }
 ],
 "metadata": {
  "kernelspec": {
   "display_name": "Python 3 (ipykernel)",
   "language": "python",
   "name": "python3"
  },
  "language_info": {
   "codemirror_mode": {
    "name": "ipython",
    "version": 3
   },
   "file_extension": ".py",
   "mimetype": "text/x-python",
   "name": "python",
   "nbconvert_exporter": "python",
   "pygments_lexer": "ipython3",
   "version": "3.9.18"
  }
 },
 "nbformat": 4,
 "nbformat_minor": 5
}
