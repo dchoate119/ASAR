{
 "cells": [
  {
   "cell_type": "code",
   "execution_count": null,
   "id": "be42c7fc",
   "metadata": {},
   "outputs": [],
   "source": [
    "import vtk\n",
    "vtk.vtkObject.GlobalWarningDisplayOn()\n",
    "\n",
    "from vedo import Plotter, Cube\n",
    "\n",
    "cube = Cube()\n",
    "plotter = Plotter()\n",
    "plotter.show(cube, interactive=True)"
   ]
  },
  {
   "cell_type": "code",
   "execution_count": 1,
   "id": "45ae6b4a",
   "metadata": {},
   "outputs": [
    {
     "ename": "ModuleNotFoundError",
     "evalue": "No module named 'vtk'",
     "output_type": "error",
     "traceback": [
      "\u001b[0;31m---------------------------------------------------------------------------\u001b[0m",
      "\u001b[0;31mModuleNotFoundError\u001b[0m                       Traceback (most recent call last)",
      "Cell \u001b[0;32mIn[1], line 1\u001b[0m\n\u001b[0;32m----> 1\u001b[0m \u001b[38;5;28;01mimport\u001b[39;00m \u001b[38;5;21;01mvtk\u001b[39;00m\n\u001b[1;32m      2\u001b[0m \u001b[38;5;28;01mimport\u001b[39;00m \u001b[38;5;21;01mvedo\u001b[39;00m\n\u001b[1;32m      3\u001b[0m \u001b[38;5;28mprint\u001b[39m(vtk\u001b[38;5;241m.\u001b[39mVTK_VERSION)\n",
      "\u001b[0;31mModuleNotFoundError\u001b[0m: No module named 'vtk'"
     ]
    }
   ],
   "source": [
    "import vtk\n",
    "import vedo\n",
    "print(vtk.VTK_VERSION)\n",
    "print(vedo.__version__)"
   ]
  },
  {
   "cell_type": "code",
   "execution_count": 3,
   "id": "5662c2c6",
   "metadata": {},
   "outputs": [
    {
     "ename": "ModuleNotFoundError",
     "evalue": "No module named 'vtk'",
     "output_type": "error",
     "traceback": [
      "\u001b[0;31m---------------------------------------------------------------------------\u001b[0m",
      "\u001b[0;31mModuleNotFoundError\u001b[0m                       Traceback (most recent call last)",
      "Cell \u001b[0;32mIn[3], line 1\u001b[0m\n\u001b[0;32m----> 1\u001b[0m \u001b[38;5;28;01mimport\u001b[39;00m \u001b[38;5;21;01mvtk\u001b[39;00m\n\u001b[1;32m      3\u001b[0m \u001b[38;5;66;03m# Initialize VTK\u001b[39;00m\n\u001b[1;32m      4\u001b[0m vtk\u001b[38;5;241m.\u001b[39mvtkObject\u001b[38;5;241m.\u001b[39mGlobalWarningDisplayOn()\n",
      "\u001b[0;31mModuleNotFoundError\u001b[0m: No module named 'vtk'"
     ]
    }
   ],
   "source": [
    "import vtk\n",
    "\n",
    "# Initialize VTK\n",
    "vtk.vtkObject.GlobalWarningDisplayOn()\n",
    "\n",
    "# Simple VTK object\n",
    "sphere = vtk.vtkSphereSource()\n",
    "sphere.Update()\n",
    "print(\"VTK is working\")\n",
    "\n",
    "from vedo import Plotter, Cube\n",
    "\n",
    "# Simple Vedo code\n",
    "cube = Cube()\n",
    "plotter = Plotter()\n",
    "plotter.show(cube, interactive=True)"
   ]
  },
  {
   "cell_type": "code",
   "execution_count": 3,
   "id": "8231a0fd",
   "metadata": {},
   "outputs": [
    {
     "name": "stdout",
     "output_type": "stream",
     "text": [
      "Python version: 3.12.3 (main, Apr 10 2024, 05:33:47) [GCC 13.2.0]\n",
      "Site packages: ['/usr/lib/python312.zip', '/usr/lib/python3.12', '/usr/lib/python3.12/lib-dynload', '', '/usr/local/lib/python3.12/dist-packages', '/usr/lib/python3/dist-packages']\n",
      "vtk                       9.3.1\n"
     ]
    }
   ],
   "source": [
    "import sys\n",
    "print(\"Python version:\", sys.version)\n",
    "print(\"Site packages:\", sys.path)\n",
    "!pip list | grep vtk"
   ]
  },
  {
   "cell_type": "code",
   "execution_count": 2,
   "id": "634fc97f",
   "metadata": {},
   "outputs": [
    {
     "name": "stdout",
     "output_type": "stream",
     "text": [
      "Python version: 3.9.18 | packaged by conda-forge | (main, Dec 23 2023, 16:33:10) \n",
      "[GCC 12.3.0]\n",
      "Site packages: ['/home/daniel-choate/miniconda3/envs/py39/lib/python39.zip', '/home/daniel-choate/miniconda3/envs/py39/lib/python3.9', '/home/daniel-choate/miniconda3/envs/py39/lib/python3.9/lib-dynload', '', '/home/daniel-choate/miniconda3/envs/py39/lib/python3.9/site-packages']\n",
      "vtk                       9.3.1\n"
     ]
    }
   ],
   "source": [
    "import sys\n",
    "print(\"Python version:\", sys.version)\n",
    "print(\"Site packages:\", sys.path)\n",
    "!pip list | grep vtk"
   ]
  },
  {
   "cell_type": "code",
   "execution_count": 1,
   "id": "ed7a1cc0-92f8-4e1a-bddf-b1928a7028b8",
   "metadata": {},
   "outputs": [
    {
     "name": "stdout",
     "output_type": "stream",
     "text": [
      "2.0.1\n"
     ]
    }
   ],
   "source": [
    "import numpy as np\n",
    "print(np.__version__)\n"
   ]
  },
  {
   "cell_type": "code",
   "execution_count": null,
   "id": "1017b3fd-b902-4e0c-9dd1-c1d5113a43d0",
   "metadata": {},
   "outputs": [],
   "source": [
    "import vtk\n",
    "vtk.vtkObject.GlobalWarningDisplayOn()\n",
    "\n",
    "from vedo import Plotter, Cube\n",
    "\n",
    "cube = Cube()\n",
    "plotter = Plotter()\n",
    "plotter.show(cube, interactive=True)"
   ]
  },
  {
   "cell_type": "code",
   "execution_count": null,
   "id": "364613ce-f43b-4f22-8086-704846fd8230",
   "metadata": {},
   "outputs": [],
   "source": []
  }
 ],
 "metadata": {
  "kernelspec": {
   "display_name": "Python 3 (ipykernel)",
   "language": "python",
   "name": "python3"
  },
  "language_info": {
   "codemirror_mode": {
    "name": "ipython",
    "version": 3
   },
   "file_extension": ".py",
   "mimetype": "text/x-python",
   "name": "python",
   "nbconvert_exporter": "python",
   "pygments_lexer": "ipython3",
   "version": "3.9.18"
  }
 },
 "nbformat": 4,
 "nbformat_minor": 5
}
