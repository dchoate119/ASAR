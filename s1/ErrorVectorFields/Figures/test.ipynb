{
 "cells": [
  {
   "cell_type": "code",
   "execution_count": 1,
   "id": "4d657d55-5079-4249-aba8-f0b9b4c4eb1f",
   "metadata": {},
   "outputs": [
    {
     "name": "stdout",
     "output_type": "stream",
     "text": [
      "/home/daniel-choate/miniconda3/envs/py39/bin/python\n"
     ]
    }
   ],
   "source": [
    "%%bash\n",
    "which python"
   ]
  },
  {
   "cell_type": "code",
   "execution_count": 2,
   "id": "cae1d48a-f5f6-4c76-bb21-402562eb309f",
   "metadata": {},
   "outputs": [],
   "source": [
    "from vedo import Plotter, Points, Mesh\n",
    "from ipyvtklink.viewer import ViewInteractiveWidget\n",
    "import trimesh\n",
    "\n",
    "import numpy as np\n",
    "# For auto loading external modules \n",
    "#%load_ext autoreload\n",
    "#%autoreload 2\n",
    "#%autosave 180"
   ]
  },
  {
   "cell_type": "code",
   "execution_count": null,
   "id": "56ebb15c-7cf1-4b35-a83d-233893e75128",
   "metadata": {},
   "outputs": [],
   "source": [
    "from vedo import Sphere, show\n",
    "sphere = Sphere()\n",
    "show(sphere, interactive = True)"
   ]
  },
  {
   "cell_type": "code",
   "execution_count": null,
   "id": "3db0c094-080f-40fc-8f4f-1818bfd1d72f",
   "metadata": {},
   "outputs": [],
   "source": [
    "# Load mesh of object \n",
    "surf_fn = \"/home/daniel-choate/ASAR/s1/ErrorVectorFields/TestEnvironment.STL\"\n",
    "print(surf_fn)\n",
    "M = trimesh.load(surf_fn)\n",
    "# M.rotate[90,0,0]\n",
    "# Get ground truth translation\n",
    "# -- import a file to represent the ground truth translation as an txt --\n",
    "# gt = ...\n",
    "# print(gt)\n",
    "# load point clouds of surface generated in matlab \n",
    "scale_factor = 1000\n",
    "trans_base = [1, 1, 0]\n",
    "trans_base = [i * scale_factor for i in trans_base]\n",
    "trans_match = [-12.5, -12.5, 2.5]\n",
    "trans_match = [i * scale_factor for i in trans_match]\n",
    "print(trans_base)\n",
    "pts1_fn = \"/home/daniel-choate/ASAR/s1/ErrorVectorFields/Figures/ptcloud1PTS.txt\" \n",
    "pts1 = np.loadtxt(pts1_fn)\n",
    "# print(pts1)\n",
    "pts1 = pts1*np.array([scale_factor, scale_factor, scale_factor]) + np.array(trans_match)\n",
    "# print(pts1)\n",
    "pts2_fn = \"/home/daniel-choate/ASAR/s1/ErrorVectorFields/Figures/ptcloud2PTS.txt\"\n",
    "pts2 = np.loadtxt(pts2_fn)\n",
    "print(pts2)\n",
    "pts2 = pts2*np.array([scale_factor, scale_factor, scale_factor]) - np.array(trans_base) + np.array(trans_match)\n",
    "print(pts2)\n",
    "\n",
    "\n",
    "# temp for making wall figure (not used for my example, but keep to see the function)\n",
    "# pts2 = pts2[pts2[:,1] < -39]\n",
    "# pts1 = pts1[pts1[:,1] < -40]\n",
    "# print(np.shape(pts2))"
   ]
  },
  {
   "cell_type": "code",
   "execution_count": null,
   "id": "54f27a26-6477-4b31-a023-ba341d21a705",
   "metadata": {},
   "outputs": [],
   "source": [
    "# Rotate point cloud to match plotted mesh\n",
    "import math\n",
    "from trimesh import creation, transformations\n",
    "\n",
    "angle = math.pi/2\n",
    "direction = [1, 0, 0]\n",
    "center = [0, 0, 0]\n",
    "\n",
    "rot_matrix = transformations.rotation_matrix(angle, direction, center)\n",
    "\n",
    "M.apply_transform(rot_matrix)\n",
    "\n",
    "angle = math.pi/2*3\n",
    "direction = [0, 0, 1]\n",
    "center = [0, 0, 0]\n",
    "\n",
    "rot_matrix = transformations.rotation_matrix(angle, direction, center)\n",
    "\n",
    "M.apply_transform(rot_matrix)"
   ]
  },
  {
   "cell_type": "code",
   "execution_count": null,
   "id": "541beb60-8f21-462d-a27c-19615021471d",
   "metadata": {},
   "outputs": [],
   "source": [
    "# plot with vedo \n",
    "plt1 = Plotter(N = 1, axes = 4, bg = (1,1,1), interactive = True)\n",
    "print(\"got here\")\n",
    "disp = []\n",
    "disp.append(Points(pts1)) #, c = '#0072BD', r = 1, alpha = 1)) #+ np.array([-13,-13,3]) #0343DF\n",
    "disp.append(Points(pts2))#, c = 'red', r = 1, alpha = 1)) #+ np.array([-13,-13,3])\n",
    "print(\"right before show\")\n",
    "\n",
    "plt1.show(disp, \"Fig 1.1\")\n",
    "print(\"got here\")\n",
    "ViewInteractiveWidget(plt1.window)"
   ]
  },
  {
   "cell_type": "code",
   "execution_count": null,
   "id": "68746668-ee22-4318-bf21-d1eff8bfd971",
   "metadata": {},
   "outputs": [],
   "source": []
  }
 ],
 "metadata": {
  "kernelspec": {
   "display_name": "Python 3 (ipykernel)",
   "language": "python",
   "name": "python3"
  },
  "language_info": {
   "codemirror_mode": {
    "name": "ipython",
    "version": 3
   },
   "file_extension": ".py",
   "mimetype": "text/x-python",
   "name": "python",
   "nbconvert_exporter": "python",
   "pygments_lexer": "ipython3",
   "version": "3.9.16"
  }
 },
 "nbformat": 4,
 "nbformat_minor": 5
}
