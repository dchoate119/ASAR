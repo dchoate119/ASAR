{
 "cells": [
  {
   "cell_type": "code",
   "execution_count": 1,
   "id": "7553dbc4",
   "metadata": {
    "scrolled": true
   },
   "outputs": [
    {
     "name": "stderr",
     "output_type": "stream",
     "text": [
      "2024-06-10 16:17:02.664884: I tensorflow/core/util/port.cc:110] oneDNN custom operations are on. You may see slightly different numerical results due to floating-point round-off errors from different computation orders. To turn them off, set the environment variable `TF_ENABLE_ONEDNN_OPTS=0`.\n",
      "2024-06-10 16:17:02.666144: I tensorflow/tsl/cuda/cudart_stub.cc:28] Could not find cuda drivers on your machine, GPU will not be used.\n",
      "2024-06-10 16:17:02.693494: I tensorflow/tsl/cuda/cudart_stub.cc:28] Could not find cuda drivers on your machine, GPU will not be used.\n",
      "2024-06-10 16:17:02.694098: I tensorflow/core/platform/cpu_feature_guard.cc:182] This TensorFlow binary is optimized to use available CPU instructions in performance-critical operations.\n",
      "To enable the following instructions: AVX2 AVX_VNNI FMA, in other operations, rebuild TensorFlow with the appropriate compiler flags.\n",
      "2024-06-10 16:17:03.152163: W tensorflow/compiler/tf2tensorrt/utils/py_utils.cc:38] TF-TRT Warning: Could not find TensorRT\n"
     ]
    },
    {
     "name": "stdout",
     "output_type": "stream",
     "text": [
      "[]\n",
      "2.13.0\n"
     ]
    },
    {
     "data": {
      "application/javascript": [
       "IPython.notebook.set_autosave_interval(180000)"
      ]
     },
     "metadata": {},
     "output_type": "display_data"
    },
    {
     "name": "stdout",
     "output_type": "stream",
     "text": [
      "Autosaving every 180 seconds\n"
     ]
    }
   ],
   "source": [
    "import numpy as np\n",
    "import tensorflow as tf\n",
    "import matplotlib.pyplot as plt\n",
    "import scipy.io as sio\n",
    "import datetime\n",
    "import trimesh \n",
    "import time\n",
    "import math\n",
    "from vedo import *\n",
    "from trimesh import creation, transformations\n",
    "from ipyvtklink.viewer import ViewInteractiveWidget\n",
    "\n",
    "# Limit GPU memory \n",
    "gpus = tf.config.experimental.list_physical_devices('GPU')\n",
    "print(gpus)\n",
    "if gpus:\n",
    "    try:\n",
    "        memlim = 2*1024\n",
    "        tf.config.experimental.set_virtual_device_configuration(gpus[0], [tf.config.experimental.VirtualDeviceConfiguration(memory_limit=memlim)])\n",
    "    except RuntimeError as e:\n",
    "        print(e)\n",
    "\n",
    "# ----------------------------------\n",
    "\n",
    "print(tf.__version__)\n",
    "\n",
    "%matplotlib inline\n",
    "plt.rcParams['figure.figsize'] = (10, 8) # Set default size of plots \n",
    "plt.rcParams['image.interpolation'] = 'nearest'\n",
    "plt.rcParams['image.cmap'] = 'gray'\n",
    "%matplotlib notebook\n",
    "\n",
    "# For auto loading external modules \n",
    "%load_ext autoreload\n",
    "%autoreload 2\n",
    "%autosave 180\n",
    "        "
   ]
  },
  {
   "cell_type": "code",
   "execution_count": 2,
   "id": "e92f6ed2",
   "metadata": {},
   "outputs": [
    {
     "name": "stdout",
     "output_type": "stream",
     "text": [
      "/home/danielchoate/ASAR/Year1/ErrorVectorFields/TestEnvironment.STL\n",
      "[1000, 1000, 0]\n",
      "[[-3.7126305e+00 -4.5466610e-16 -1.5000001e+00]\n",
      " [-3.7895457e+00 -4.6408550e-16 -1.4999999e+00]\n",
      " [-3.8692588e+00 -4.7384754e-16 -1.4999999e+00]\n",
      " ...\n",
      " [           nan            nan            nan]\n",
      " [           nan            nan            nan]\n",
      " [           nan            nan            nan]]\n",
      "[[-17212.6305 -13500.        999.9999]\n",
      " [-17289.5457 -13500.       1000.0001]\n",
      " [-17369.2588 -13500.       1000.0001]\n",
      " ...\n",
      " [        nan         nan         nan]\n",
      " [        nan         nan         nan]\n",
      " [        nan         nan         nan]]\n"
     ]
    }
   ],
   "source": [
    "# Load mesh of object \n",
    "surf_fn = \"/home/danielchoate/ASAR/Year1/ErrorVectorFields/TestEnvironment.STL\"\n",
    "print(surf_fn)\n",
    "M = trimesh.load(surf_fn)\n",
    "# M.rotate[90,0,0]\n",
    "# Get ground truth translation\n",
    "# -- import a file to represent the ground truth translation as an txt --\n",
    "# gt = ...\n",
    "# print(gt)\n",
    "# load point clouds of surface generated in matlab \n",
    "scale_factor = 1000\n",
    "trans_base = [1, 1, 0]\n",
    "trans_base = [i * scale_factor for i in trans_base]\n",
    "trans_match = [-12.5, -12.5, 2.5]\n",
    "trans_match = [i * scale_factor for i in trans_match]\n",
    "print(trans_base)\n",
    "pts1_fn = \"/home/danielchoate/ASAR/Year1/ErrorVectorFields/ptcloud1PTS.txt\" \n",
    "pts1 = np.loadtxt(pts1_fn)\n",
    "# print(pts1)\n",
    "pts1 = pts1*np.array([scale_factor, scale_factor, scale_factor]) + np.array(trans_match)\n",
    "# print(pts1)\n",
    "pts2_fn = \"/home/danielchoate/ASAR/Year1/ErrorVectorFields/ptcloud2PTS.txt\"\n",
    "pts2 = np.loadtxt(pts2_fn)\n",
    "print(pts2)\n",
    "pts2 = pts2*np.array([scale_factor, scale_factor, scale_factor]) - np.array(trans_base) + np.array(trans_match)\n",
    "print(pts2)\n",
    "\n",
    "\n",
    "# temp for making wall figure (not used for my example, but keep to see the function)\n",
    "# pts2 = pts2[pts2[:,1] < -39]\n",
    "# pts1 = pts1[pts1[:,1] < -40]\n",
    "# print(np.shape(pts2))"
   ]
  },
  {
   "cell_type": "code",
   "execution_count": 3,
   "id": "1014c940",
   "metadata": {},
   "outputs": [
    {
     "data": {
      "text/plain": [
       "<trimesh.Trimesh(vertices.shape=(109, 3), faces.shape=(214, 3), name=`TestEnvironment.STL`)>"
      ]
     },
     "execution_count": 3,
     "metadata": {},
     "output_type": "execute_result"
    }
   ],
   "source": [
    "# Rotate point cloud to match plotted mesh\n",
    "\n",
    "angle = math.pi/2\n",
    "direction = [1, 0, 0]\n",
    "center = [0, 0, 0]\n",
    "\n",
    "rot_matrix = transformations.rotation_matrix(angle, direction, center)\n",
    "\n",
    "M.apply_transform(rot_matrix)\n",
    "\n",
    "angle = math.pi/2*3\n",
    "direction = [0, 0, 1]\n",
    "center = [0, 0, 0]\n",
    "\n",
    "rot_matrix = transformations.rotation_matrix(angle, direction, center)\n",
    "\n",
    "M.apply_transform(rot_matrix)"
   ]
  },
  {
   "cell_type": "code",
   "execution_count": 4,
   "id": "2ce75980",
   "metadata": {},
   "outputs": [
    {
     "name": "stdout",
     "output_type": "stream",
     "text": [
      "[<Points(0x61026a0) at 0x7f5b4846b220>, <Mesh(0x610c1a0) at 0x7f5b4846b4c0>]\n"
     ]
    },
    {
     "data": {
      "application/vnd.jupyter.widget-view+json": {
       "model_id": "3fff3a00218c4bd7be8fed99d8ab2b59",
       "version_major": 2,
       "version_minor": 0
      },
      "text/plain": [
       "ViewInteractiveWidget(height=960, layout=Layout(height='auto', width='100%'), width=960)"
      ]
     },
     "metadata": {},
     "output_type": "display_data"
    }
   ],
   "source": [
    "# plot with vedo \n",
    "plt1 = Plotter(N = 1, axes = 4, bg = (1,1,1), interactive = True)\n",
    "disp = []\n",
    "disp.append(Points(pts1, c = '#0072BD', r = 3, alpha = 1)) #+ np.array([-13,-13,3]) #0343DF\n",
    "# disp.append(Points(pts2, c = 'red', r = 3, alpha = 1)) #+ np.array([-13,-13,3])\n",
    "w1 = Mesh(M).c(\"white\").alpha(1)\n",
    "# w1.pose(gt[0], gt[1], gt[2]) # ADD WHEN YOU HAVE GROUND TRUTH \n",
    "# w1.pos(0,0,0) # \n",
    "# print(gt[2]) # ADD WHEN YOU HAVE GROUND TRUTH\n",
    "disp.append(w1)\n",
    "\n",
    "print(disp)\n",
    "\n",
    "plt1.show(disp, \"Fig 1.1\")\n",
    "ViewInteractiveWidget(plt1.window)"
   ]
  },
  {
   "cell_type": "code",
   "execution_count": null,
   "id": "3d05c2f5",
   "metadata": {},
   "outputs": [],
   "source": []
  },
  {
   "cell_type": "code",
   "execution_count": null,
   "id": "2974b3e3",
   "metadata": {},
   "outputs": [],
   "source": []
  }
 ],
 "metadata": {
  "kernelspec": {
   "display_name": "Python 3 (ipykernel)",
   "language": "python",
   "name": "python3"
  },
  "language_info": {
   "codemirror_mode": {
    "name": "ipython",
    "version": 3
   },
   "file_extension": ".py",
   "mimetype": "text/x-python",
   "name": "python",
   "nbconvert_exporter": "python",
   "pygments_lexer": "ipython3",
   "version": "3.9.17"
  }
 },
 "nbformat": 4,
 "nbformat_minor": 5
}
