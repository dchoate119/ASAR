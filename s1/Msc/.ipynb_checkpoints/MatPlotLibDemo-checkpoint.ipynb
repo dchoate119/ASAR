{
 "cells": [
  {
   "cell_type": "code",
   "execution_count": null,
   "id": "350ad48b-a760-434f-af81-9a244e6f0987",
   "metadata": {},
   "outputs": [],
   "source": [
    "import numpy as np\n",
    "from mpl_toolkits.mplot3d import axes3d\n",
    "from matplotlib import cm\n",
    "import matplotlib.pyplot as plt"
   ]
  },
  {
   "cell_type": "code",
   "execution_count": null,
   "id": "d9eee846-3162-429e-abd0-7ef2010c8d2c",
   "metadata": {},
   "outputs": [],
   "source": [
    "# CREATE DATA for 'poses'"
   ]
  },
  {
   "cell_type": "code",
   "execution_count": 1,
   "id": "bca8feac-9ef3-49ca-b99f-0d1b6210fe38",
   "metadata": {},
   "outputs": [
    {
     "ename": "NameError",
     "evalue": "name 'poses' is not defined",
     "output_type": "error",
     "traceback": [
      "\u001b[0;31m---------------------------------------------------------------------------\u001b[0m",
      "\u001b[0;31mNameError\u001b[0m                                 Traceback (most recent call last)",
      "Cell \u001b[0;32mIn[1], line 10\u001b[0m\n\u001b[1;32m      1\u001b[0m \u001b[38;5;66;03m#debug coordinate system in <poses>\u001b[39;00m\n\u001b[1;32m      2\u001b[0m \n\u001b[1;32m      3\u001b[0m \u001b[38;5;66;03m# #scale poses to unit cube\u001b[39;00m\n\u001b[0;32m   (...)\u001b[0m\n\u001b[1;32m      8\u001b[0m \n\u001b[1;32m      9\u001b[0m \u001b[38;5;66;03m# camera_centers = ax.scatter3D(poses[:,0,-1],poses[:,1,-1],poses[:,2,-1])\u001b[39;00m\n\u001b[0;32m---> 10\u001b[0m headings \u001b[38;5;241m=\u001b[39m \u001b[43mposes\u001b[49m[:,:\u001b[38;5;241m3\u001b[39m,:\u001b[38;5;241m3\u001b[39m] \u001b[38;5;241m@\u001b[39m np\u001b[38;5;241m.\u001b[39marray([\u001b[38;5;241m0\u001b[39m,\u001b[38;5;241m0\u001b[39m,\u001b[38;5;241m-\u001b[39m\u001b[38;5;241m1\u001b[39m]) \u001b[38;5;66;03m#works\u001b[39;00m\n\u001b[1;32m     11\u001b[0m \u001b[38;5;66;03m# print(headings)\u001b[39;00m\n\u001b[1;32m     12\u001b[0m \n\u001b[1;32m     13\u001b[0m \u001b[38;5;66;03m# print(poses[0])\u001b[39;00m\n\u001b[1;32m     14\u001b[0m ax \u001b[38;5;241m=\u001b[39m plt\u001b[38;5;241m.\u001b[39mfigure()\u001b[38;5;241m.\u001b[39madd_subplot(projection\u001b[38;5;241m=\u001b[39m\u001b[38;5;124m'\u001b[39m\u001b[38;5;124m3d\u001b[39m\u001b[38;5;124m'\u001b[39m)\n",
      "\u001b[0;31mNameError\u001b[0m: name 'poses' is not defined"
     ]
    }
   ],
   "source": [
    "\n",
    "#debug coordinate system in <poses>\n",
    "\n",
    "# #scale poses to unit cube\n",
    "# radii = np.sqrt(np.sum(poses[:,:3,-1]**2, axis = 1))\n",
    "# print(max(radii))\n",
    "# poses[:,:3,-1] = 3*poses[:,:3,-1]/max(radii)\n",
    "\n",
    "\n",
    "# camera_centers = ax.scatter3D(poses[:,0,-1],poses[:,1,-1],poses[:,2,-1])\n",
    "headings = poses[:,:3,:3] @ np.array([0,0,-1]) #works\n",
    "# print(headings)\n",
    "\n",
    "# print(poses[0])\n",
    "ax = plt.figure().add_subplot(projection='3d')\n",
    "ax.set_xlim([-10,10])\n",
    "ax.set_ylim([-10,10])\n",
    "ax.set_zlim([0,20])\n",
    "ax.set_xlabel('x')\n",
    "ax.set_ylabel('y')\n",
    "ax.set_zlabel('z')\n",
    "ax.grid(False)\n",
    "X, Y, Z = axes3d.get_test_data(0.05)\n",
    "# ax.contour(X, Y, Z, cmap=cm.coolwarm)  # Plot contour curves\n",
    "\n",
    "#plot axis\n",
    "ax.scatter3D(0,0,0, color='purple')\n",
    "ax.plot([0,1],[0,0],[0,0], color = 'red')\n",
    "ax.plot([0,0],[0,1],[0,0], color = 'green')\n",
    "ax.plot([0,0],[0,0],[0,1], color = 'blue')\n",
    "\n",
    "ax.quiver(poses[:,0,-1],poses[:,1,-1],poses[:,2,-1], headings[:,0], headings[:,1], headings[:,2], color = 'yellow', alpha = 0.5)\n",
    "headings = poses[:,:3,:3] @ np.array([1,0,0])\n",
    "ax.quiver(poses[:,0,-1],poses[:,1,-1],poses[:,2,-1], headings[:,0], headings[:,1], headings[:,2], color = 'red', alpha = 0.5)\n",
    "headings = poses[:,:3,:3] @ np.array([0,1,0])\n",
    "ax.quiver(poses[:,0,-1],poses[:,1,-1],poses[:,2,-1], headings[:,0], headings[:,1], headings[:,2], color = 'green', alpha = 0.5)\n",
    "headings = poses[:,:3,:3] @ np.array([0,0,1]) \n",
    "ax.quiver(poses[:,0,-1],poses[:,1,-1],poses[:,2,-1], headings[:,0], headings[:,1], headings[:,2], color = 'blue', alpha = 0.5)\n",
    "print(len(poses))\n",
    "plt.show()"
   ]
  },
  {
   "cell_type": "code",
   "execution_count": null,
   "id": "a8c4c530-1702-4534-b590-d32adefde167",
   "metadata": {},
   "outputs": [],
   "source": []
  }
 ],
 "metadata": {
  "kernelspec": {
   "display_name": "Python 3 (ipykernel)",
   "language": "python",
   "name": "python3"
  },
  "language_info": {
   "codemirror_mode": {
    "name": "ipython",
    "version": 3
   },
   "file_extension": ".py",
   "mimetype": "text/x-python",
   "name": "python",
   "nbconvert_exporter": "python",
   "pygments_lexer": "ipython3",
   "version": "3.9.18"
  }
 },
 "nbformat": 4,
 "nbformat_minor": 5
}
