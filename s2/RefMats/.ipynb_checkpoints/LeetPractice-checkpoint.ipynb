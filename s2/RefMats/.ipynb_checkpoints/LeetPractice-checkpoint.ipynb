{
 "cells": [
  {
   "cell_type": "code",
   "execution_count": 4,
   "id": "1889c362-a907-4ef7-a6db-0f8e998b1526",
   "metadata": {},
   "outputs": [
    {
     "name": "stdout",
     "output_type": "stream",
     "text": [
      "{2: 0}\n",
      "{2: 0, 7: 1}\n",
      "{2: 0, 7: 1, 9: 2}\n",
      "{2: 0, 7: 1, 9: 2, 15: 3}\n",
      "{2: 0, 7: 1, 9: 2, 15: 3}\n"
     ]
    }
   ],
   "source": [
    "nums = [2, 7, 9, 15]\n",
    "numMap = {}\n",
    "for i in range(len(nums)):\n",
    "    numMap[nums[i]] = i\n",
    "    print(numMap)\n",
    "    \n",
    "print(numMap)"
   ]
  },
  {
   "cell_type": "code",
   "execution_count": 22,
   "id": "0576dbcd-ef07-4d91-be92-ea9a4394439d",
   "metadata": {},
   "outputs": [
    {
     "name": "stdout",
     "output_type": "stream",
     "text": [
      "<__main__.ListNode object at 0x71c3addcb4f0>\n",
      "<__main__.ListNode object at 0x71c3addcb4f0>\n"
     ]
    }
   ],
   "source": [
    "class ListNode:\n",
    "    def __init__(self, value=0, next=None):\n",
    "        self.value = value\n",
    "        self.next = next\n",
    "\n",
    "# Create nodes\n",
    "node1 = 2\n",
    "node2 = 5\n",
    "node3 = 9\n",
    "\n",
    "node1 = ListNode(1)\n",
    "node2 = ListNode(2)\n",
    "node3 = ListNode(3)\n",
    "\n",
    "# Link nodes\n",
    "node1.next = node2\n",
    "node2.next = node3\n",
    "\n",
    "print(node2)\n",
    "print(node1.next)"
   ]
  },
  {
   "cell_type": "code",
   "execution_count": 19,
   "id": "c100ae1e-ce96-4606-bf6c-a608e12a7474",
   "metadata": {},
   "outputs": [
    {
     "name": "stdout",
     "output_type": "stream",
     "text": [
      "<class 'type'>\n",
      "<__main__.ListNode object at 0x71c3a7ed20d0>\n"
     ]
    }
   ],
   "source": [
    "print(type(ListNode))\n",
    "print(ListNode(1))"
   ]
  },
  {
   "cell_type": "code",
   "execution_count": 13,
   "id": "b5fd9cdf-e469-4d10-993a-74bd00f114ff",
   "metadata": {},
   "outputs": [
    {
     "ename": "IndexError",
     "evalue": "list index out of range",
     "output_type": "error",
     "traceback": [
      "\u001b[0;31m---------------------------------------------------------------------------\u001b[0m",
      "\u001b[0;31mIndexError\u001b[0m                                Traceback (most recent call last)",
      "Cell \u001b[0;32mIn[13], line 1\u001b[0m\n\u001b[0;32m----> 1\u001b[0m \u001b[38;5;28mprint\u001b[39m(\u001b[43ml1\u001b[49m\u001b[43m[\u001b[49m\u001b[38;5;241;43m4\u001b[39;49m\u001b[43m]\u001b[49m)\n",
      "\u001b[0;31mIndexError\u001b[0m: list index out of range"
     ]
    }
   ],
   "source": [
    "print(l1[4])"
   ]
  },
  {
   "cell_type": "code",
   "execution_count": 23,
   "id": "aa8ee602-98c5-4384-b8ab-5603f737212d",
   "metadata": {},
   "outputs": [
    {
     "name": "stdout",
     "output_type": "stream",
     "text": [
      "1\n"
     ]
    }
   ],
   "source": [
    "def modulus_sum(numbers, modulus):\n",
    "    # Compute sum of remainders\n",
    "    total_sum = sum(num % modulus for num in numbers)\n",
    "    # Compute final result modulo the given modulus\n",
    "    return total_sum % modulus\n",
    "\n",
    "# Example usage\n",
    "numbers = [10, 15, 25]\n",
    "modulus = 7\n",
    "result = modulus_sum(numbers, modulus)\n",
    "print(result)  # Output: 1\n"
   ]
  },
  {
   "cell_type": "code",
   "execution_count": 26,
   "id": "e21c5d7a-0b75-4408-9d91-ec4cafef22b1",
   "metadata": {},
   "outputs": [
    {
     "data": {
      "text/plain": [
       "2"
      ]
     },
     "execution_count": 26,
     "metadata": {},
     "output_type": "execute_result"
    }
   ],
   "source": [
    "8//4"
   ]
  },
  {
   "cell_type": "code",
   "execution_count": 34,
   "id": "dcac4b13-2488-40f8-9154-195be8014325",
   "metadata": {},
   "outputs": [
    {
     "data": {
      "text/plain": [
       "0"
      ]
     },
     "execution_count": 34,
     "metadata": {},
     "output_type": "execute_result"
    }
   ],
   "source": [
    "12%3"
   ]
  },
  {
   "cell_type": "code",
   "execution_count": 35,
   "id": "04c643a2-af20-4271-9a9a-f49841a09f18",
   "metadata": {},
   "outputs": [
    {
     "name": "stdout",
     "output_type": "stream",
     "text": [
      "1\n",
      "2\n",
      "3\n"
     ]
    }
   ],
   "source": [
    "class ListNode:\n",
    "    def __init__(self, value=0, next=None):\n",
    "        self.value = value  # The value of the node\n",
    "        self.next = next    # Pointer to the next node in the list\n",
    "        \n",
    "# Create individual nodes\n",
    "node1 = ListNode(1)\n",
    "node2 = ListNode(2)\n",
    "node3 = ListNode(3)\n",
    "\n",
    "# Link nodes together to form a list: 1 -> 2 -> 3\n",
    "node1.next = node2\n",
    "node2.next = node3\n",
    "\n",
    "# Traverse and print the list\n",
    "current = node1\n",
    "while current:\n",
    "    print(current.value)  # Outputs: 1 2 3\n",
    "    current = current.next\n"
   ]
  },
  {
   "cell_type": "code",
   "execution_count": 29,
   "id": "d979c001-2fe3-40e7-874c-2afe646cf90d",
   "metadata": {},
   "outputs": [
    {
     "data": {
      "text/plain": [
       "1"
      ]
     },
     "execution_count": 29,
     "metadata": {},
     "output_type": "execute_result"
    }
   ],
   "source": [
    "10//9"
   ]
  },
  {
   "cell_type": "code",
   "execution_count": 37,
   "id": "a808eb87-8115-4ae8-9db2-82136a81be7f",
   "metadata": {},
   "outputs": [
    {
     "name": "stdout",
     "output_type": "stream",
     "text": [
      "120\n"
     ]
    }
   ],
   "source": [
    "x = 120\n",
    "xstr = str(x)\n",
    "print(xstr)"
   ]
  },
  {
   "cell_type": "code",
   "execution_count": 45,
   "id": "ce30c8fb-96cf-4bc2-abe0-95e980814ca2",
   "metadata": {},
   "outputs": [],
   "source": [
    "# len(xstr)"
   ]
  },
  {
   "cell_type": "code",
   "execution_count": 50,
   "id": "6b6acf20-4a39-4ca7-be6f-be2dc2daa8f8",
   "metadata": {},
   "outputs": [
    {
     "data": {
      "text/plain": [
       "True"
      ]
     },
     "execution_count": 50,
     "metadata": {},
     "output_type": "execute_result"
    }
   ],
   "source": [
    "def is_palindrome(x):\n",
    "    x_str = str(x)\n",
    "    sp = 0\n",
    "    ep = len(x_str)-1\n",
    "    while sp != ep:\n",
    "        if x_str[sp] != x_str[ep]: return False\n",
    "        sp += 1\n",
    "        ep -= 1\n",
    "    return True\n",
    "\n",
    "is_palindrome(131)"
   ]
  },
  {
   "cell_type": "code",
   "execution_count": 65,
   "id": "d9d2e4cc-4e2a-43eb-942a-4772096b8eff",
   "metadata": {},
   "outputs": [
    {
     "name": "stdout",
     "output_type": "stream",
     "text": [
      "range(0, 5)\n",
      "range(0, 5)\n"
     ]
    }
   ],
   "source": [
    "r = \"MCDEJ\"\n",
    "print(range(len(r)))\n",
    "q = [1,4,5,3,2]\n",
    "print(range(len(q)))"
   ]
  },
  {
   "cell_type": "code",
   "execution_count": 115,
   "id": "b1908a01-19dc-47dd-a602-1effc195fc69",
   "metadata": {},
   "outputs": [
    {
     "data": {
      "text/plain": [
       "1994"
      ]
     },
     "execution_count": 115,
     "metadata": {},
     "output_type": "execute_result"
    }
   ],
   "source": [
    "\n",
    "def romanToInt(s):\n",
    "    \"\"\"\n",
    "    :type s: str\n",
    "    :rtype: int\n",
    "    \"\"\"\n",
    "    idx = 0\n",
    "    ans = 0\n",
    "    # print(len(s))\n",
    "    while idx <= len(s)-1:\n",
    "        # print(idx)\n",
    "        lpair = 0 if idx == len(s) - 1 else s[idx] + s[idx + 1]\n",
    "        if lpair == 'IV': digit = 4; ans += digit; idx +=2; continue\n",
    "        if lpair == 'IX': digit = 9; ans += digit; idx +=2; continue\n",
    "        if lpair == 'XL': digit = 40; ans += digit; idx +=2; continue\n",
    "        if lpair == 'XC': digit = 90; ans += digit; idx +=2; continue\n",
    "        if lpair == 'CD': digit = 400; ans += digit; idx +=2; continue\n",
    "        if lpair == 'CM': digit = 900; ans += digit; idx +=2; continue\n",
    "        l = s[idx] #if idx <= len(s) - 1 else 0\n",
    "        if l == 'I': digit = 1; ans += digit; idx +=1\n",
    "        if l == 'V': digit = 5; ans += digit; idx +=1\n",
    "        if l == 'X': digit = 10; ans += digit; idx +=1\n",
    "        if l == 'L': digit = 50; ans += digit; idx +=1\n",
    "        if l == 'C': digit = 100; ans += digit; idx +=1\n",
    "        if l == 'D': digit = 500; ans += digit; idx +=1\n",
    "        if l == 'M': digit = 1000; ans += digit; idx +=1\n",
    "    return ans\n",
    "\n",
    "romanToInt('MCMXCIV')"
   ]
  },
  {
   "cell_type": "code",
   "execution_count": 117,
   "id": "e9359d32-cb8f-400a-9412-55dd9a5cf71d",
   "metadata": {},
   "outputs": [
    {
     "data": {
      "text/plain": [
       "1994"
      ]
     },
     "execution_count": 117,
     "metadata": {},
     "output_type": "execute_result"
    }
   ],
   "source": [
    "def romanToInt(s: str) -> int:\n",
    "    m = {\n",
    "        'I': 1,\n",
    "        'V': 5,\n",
    "        'X': 10,\n",
    "        'L': 50,\n",
    "        'C': 100,\n",
    "        'D': 500,\n",
    "        'M': 1000\n",
    "    }\n",
    "    \n",
    "    ans = 0\n",
    "    \n",
    "    for i in range(len(s)):\n",
    "        if i < len(s) - 1 and m[s[i]] < m[s[i+1]]:\n",
    "            ans -= m[s[i]]\n",
    "        else:\n",
    "            ans += m[s[i]]\n",
    "    \n",
    "    return ans\n",
    "\n",
    "romanToInt('MCMXCIV')"
   ]
  },
  {
   "cell_type": "code",
   "execution_count": null,
   "id": "e68869fa-9f92-44b9-9258-ba10cbf35c6f",
   "metadata": {},
   "outputs": [],
   "source": []
  }
 ],
 "metadata": {
  "kernelspec": {
   "display_name": "Python 3 (ipykernel)",
   "language": "python",
   "name": "python3"
  },
  "language_info": {
   "codemirror_mode": {
    "name": "ipython",
    "version": 3
   },
   "file_extension": ".py",
   "mimetype": "text/x-python",
   "name": "python",
   "nbconvert_exporter": "python",
   "pygments_lexer": "ipython3",
   "version": "3.9.18"
  }
 },
 "nbformat": 4,
 "nbformat_minor": 5
}
