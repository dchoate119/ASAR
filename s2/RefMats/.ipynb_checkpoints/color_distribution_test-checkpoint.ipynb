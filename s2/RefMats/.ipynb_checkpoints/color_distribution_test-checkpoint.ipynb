{
 "cells": [
  {
   "cell_type": "markdown",
   "id": "f65d3f19-12e3-4099-92da-14eb1d87fcbc",
   "metadata": {},
   "source": [
    "# Color Distribution Test "
   ]
  },
  {
   "cell_type": "code",
   "execution_count": 1,
   "id": "e18823ea-45f0-46dd-b6b4-be05ea46a6f6",
   "metadata": {},
   "outputs": [],
   "source": [
    "# For visualization purposes "
   ]
  },
  {
   "cell_type": "code",
   "execution_count": 2,
   "id": "c79207bd-020e-4867-b7bd-54c8bbc74ce6",
   "metadata": {},
   "outputs": [
    {
     "name": "stdout",
     "output_type": "stream",
     "text": [
      "Jupyter environment detected. Enabling Open3D WebVisualizer.\n",
      "[Open3D INFO] WebRTC GUI backend enabled.\n",
      "[Open3D INFO] WebRTCWindowSystem: HTTP handshake server disabled.\n"
     ]
    },
    {
     "data": {
      "application/javascript": [
       "IPython.notebook.set_autosave_interval(180000)"
      ]
     },
     "metadata": {},
     "output_type": "display_data"
    },
    {
     "name": "stdout",
     "output_type": "stream",
     "text": [
      "Autosaving every 180 seconds\n"
     ]
    }
   ],
   "source": [
    "import numpy as np\n",
    "import cv2\n",
    "import open3d as o3d\n",
    "\n",
    "# SAVE YOUR WORK\n",
    "%load_ext autoreload\n",
    "%autoreload 2\n",
    "%autosave 180"
   ]
  },
  {
   "cell_type": "code",
   "execution_count": 3,
   "id": "31af4e81-1f4e-4b9a-9a4c-97de23d29105",
   "metadata": {},
   "outputs": [],
   "source": [
    "im = cv2.imread('apple_test.jpg')"
   ]
  },
  {
   "cell_type": "code",
   "execution_count": 4,
   "id": "daeba6a6-ecc5-4d88-ac37-943abf37ee3d",
   "metadata": {},
   "outputs": [
    {
     "name": "stdout",
     "output_type": "stream",
     "text": [
      "Apple points\n",
      " [[ 0.000e+00  0.000e+00  1.000e+00]\n",
      " [-1.000e+00  0.000e+00  1.000e+00]\n",
      " [-2.000e+00  0.000e+00  1.000e+00]\n",
      " ...\n",
      " [-1.277e+03 -8.190e+02  1.000e+00]\n",
      " [-1.278e+03 -8.190e+02  1.000e+00]\n",
      " [-1.279e+03 -8.190e+02  1.000e+00]]\n",
      "\n",
      "RGB values \n",
      " [[0.58823529 0.60784314 0.58431373]\n",
      " [0.59215686 0.61176471 0.58823529]\n",
      " [0.61960784 0.63921569 0.61568627]\n",
      " ...\n",
      " [0.70196078 0.76470588 0.76470588]\n",
      " [0.69803922 0.76078431 0.76078431]\n",
      " [0.69019608 0.75294118 0.75294118]]\n"
     ]
    }
   ],
   "source": [
    "# Create arrays for rgb and pixel pos\n",
    "im = cv2.cvtColor(im, cv2.COLOR_BGR2RGB)\n",
    "L = im.shape[0]\n",
    "W = im.shape[1]\n",
    "n = L*W\n",
    "apple_pts = np.zeros((n,3))\n",
    "apple_rgb = np.zeros((n,3))\n",
    "# print(sat_pts)\n",
    "count = 0\n",
    "for i in range(L):\n",
    "    for j in range(W):\n",
    "        px = j\n",
    "        py = j\n",
    "        rgb = im[i][j]\n",
    "        apple_pts[count] = [-j, -i, 1]\n",
    "        apple_rgb[count] = rgb\n",
    "        count += 1\n",
    "\n",
    "apple_rgb /= 255\n",
    "print(\"Apple points\\n\", apple_pts)\n",
    "print(\"\\nRGB values \\n\", apple_rgb)"
   ]
  },
  {
   "cell_type": "code",
   "execution_count": 10,
   "id": "671c8084-5ae6-4349-aa42-0e1c82585565",
   "metadata": {},
   "outputs": [
    {
     "name": "stderr",
     "output_type": "stream",
     "text": [
      "libGL: Can't open configuration file /etc/drirc: No such file or directory.\n",
      "libGL: Can't open configuration file /home/daniel-choate/.drirc: No such file or directory.\n",
      "using driver i915 for 67\n",
      "libGL: Can't open configuration file /etc/drirc: No such file or directory.\n",
      "libGL: Can't open configuration file /home/daniel-choate/.drirc: No such file or directory.\n",
      "using driver i915 for 67\n",
      "pci id for fd 67: 8086:a7a0, driver iris\n",
      "libGL: Can't open configuration file /etc/drirc: No such file or directory.\n",
      "libGL: Can't open configuration file /home/daniel-choate/.drirc: No such file or directory.\n",
      "libGL: Can't open configuration file /etc/drirc: No such file or directory.\n",
      "libGL: Can't open configuration file /home/daniel-choate/.drirc: No such file or directory.\n",
      "libGL: Can't open configuration file /etc/drirc: No such file or directory.\n",
      "libGL: Can't open configuration file /home/daniel-choate/.drirc: No such file or directory.\n",
      "Using DRI3 for screen 0\n"
     ]
    }
   ],
   "source": [
    "# Visualize in open3d \n",
    "\n",
    "# Create vis\n",
    "vis = o3d.visualization.Visualizer()\n",
    "vis.create_window(window_name = 'Color distribution of apple image')\n",
    "\n",
    "# Create axes @ origin\n",
    "axis_origin = o3d.geometry.TriangleMesh.create_coordinate_frame(size=1)\n",
    "\n",
    "# Create point cloud \n",
    "apple = o3d.geometry.PointCloud()\n",
    "apple.points = o3d.utility.Vector3dVector(apple_rgb)\n",
    "apple.colors = o3d.utility.Vector3dVector(apple_rgb)\n",
    "\n",
    "# Create a unit box\n",
    "# Define the 8 vertices of a unit cube with one corner at (0,0,0)\n",
    "vertices = np.array([\n",
    "    [0, 0, 0], [1, 0, 0], [1, 1, 0], [0, 1, 0],  # Bottom face\n",
    "    [0, 0, 1], [1, 0, 1], [1, 1, 1], [0, 1, 1]   # Top face\n",
    "])\n",
    "\n",
    "# Define the 12 edges connecting the vertices\n",
    "edges = [\n",
    "    [0, 1], [1, 2], [2, 3], [3, 0],  # Bottom face\n",
    "    [4, 5], [5, 6], [6, 7], [7, 4],  # Top face\n",
    "    [0, 4], [1, 5], [2, 6], [3, 7]   # Vertical edges\n",
    "]\n",
    "\n",
    "# Create a LineSet for visualization\n",
    "line_set = o3d.geometry.LineSet()\n",
    "line_set.points = o3d.utility.Vector3dVector(vertices)\n",
    "line_set.lines = o3d.utility.Vector2iVector(edges)\n",
    "\n",
    "# Add necessary geometries \n",
    "vis.add_geometry(axis_origin)\n",
    "vis.add_geometry(line_set)\n",
    "vis.add_geometry(apple)\n",
    "\n",
    "# Run and destroy visualization \n",
    "vis.run()\n",
    "vis.destroy_window()"
   ]
  },
  {
   "cell_type": "code",
   "execution_count": null,
   "id": "c6c253ad-5157-4ecf-9343-aeb31048f0b7",
   "metadata": {},
   "outputs": [],
   "source": []
  },
  {
   "cell_type": "code",
   "execution_count": null,
   "id": "49ec00ff-6f22-42ae-ba27-ac3ebcd46c03",
   "metadata": {},
   "outputs": [],
   "source": []
  }
 ],
 "metadata": {
  "kernelspec": {
   "display_name": "Python 3 (ipykernel)",
   "language": "python",
   "name": "python3"
  },
  "language_info": {
   "codemirror_mode": {
    "name": "ipython",
    "version": 3
   },
   "file_extension": ".py",
   "mimetype": "text/x-python",
   "name": "python",
   "nbconvert_exporter": "python",
   "pygments_lexer": "ipython3",
   "version": "3.9.18"
  }
 },
 "nbformat": 4,
 "nbformat_minor": 5
}
