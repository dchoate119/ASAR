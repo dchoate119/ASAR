{
 "cells": [
  {
   "cell_type": "code",
   "execution_count": 3,
   "id": "322c4ce7-6308-431f-b408-335087277699",
   "metadata": {},
   "outputs": [
    {
     "name": "stdout",
     "output_type": "stream",
     "text": [
      "['screenshot_0.png', 'screenshot_1.png', 'screenshot_2.png', 'screenshot_3.png', 'screenshot_4.png', 'screenshot_5.png', 'screenshot_6.png', 'screenshot_7.png', 'screenshot_8.png', 'screenshot_9.png', 'screenshot_10.png']\n",
      "GIF saved to /home/daniel-choate/ASAR/s2/TerrainNav/Figs_ScrSh/Single_IM/June5Test_5x5ROT/turf_match5x5ROTBAD.gif\n"
     ]
    }
   ],
   "source": [
    "from PIL import Image\n",
    "import os\n",
    "import re\n",
    "\n",
    "def extract_number(filename):\n",
    "    # Extract number after the last underscore and before the file extension\n",
    "    match = re.search(r'_(\\d+)\\.\\w+$', filename)\n",
    "    return int(match.group(1)) if match else -1\n",
    "\n",
    "def create_gif_from_folder(folder_path, output_path=\"/home/daniel-choate/ASAR/s2/TerrainNav/Figs_ScrSh/Single_IM/June5Test_5x5ROT/turf_match5x5ROTBAD.gif\", duration=100):\n",
    "    # Get list of image files in the folder, sorted by name\n",
    "    images = [f for f in os.listdir(folder_path) if f.lower().endswith(('.png', '.jpg', '.jpeg'))]\n",
    "    images.sort(key=extract_number)  # Ensure a predictable order, e.g., img0.jpg, img1.jpg, ...\n",
    "    print(images)\n",
    "\n",
    "    if len(images) < 10:\n",
    "        raise ValueError(\"The folder must contain at least 10 images.\")\n",
    "\n",
    "    # Open the first 10 images\n",
    "    frames = [Image.open(os.path.join(folder_path, img)) for img in images[:10]]\n",
    "\n",
    "    # Save as GIF\n",
    "    frames[0].save(\n",
    "        output_path,\n",
    "        format='GIF',\n",
    "        save_all=True,\n",
    "        append_images=frames[1:],\n",
    "        duration=duration,\n",
    "        loop=0\n",
    "    )\n",
    "\n",
    "    print(f\"GIF saved to {output_path}\")\n",
    "\n",
    "# Example usage\n",
    "if __name__ == \"__main__\":\n",
    "    create_gif_from_folder(\"/home/daniel-choate/ASAR/s2/TerrainNav/Figs_ScrSh/Single_IM/June5Test_5x5ROT\")  # Replace with your folder path"
   ]
  },
  {
   "cell_type": "code",
   "execution_count": null,
   "id": "4fda7765-53b5-4d6e-8ab7-d36c58979940",
   "metadata": {},
   "outputs": [],
   "source": []
  }
 ],
 "metadata": {
  "kernelspec": {
   "display_name": "Python 3 (ipykernel)",
   "language": "python",
   "name": "python3"
  },
  "language_info": {
   "codemirror_mode": {
    "name": "ipython",
    "version": 3
   },
   "file_extension": ".py",
   "mimetype": "text/x-python",
   "name": "python",
   "nbconvert_exporter": "python",
   "pygments_lexer": "ipython3",
   "version": "3.9.18"
  }
 },
 "nbformat": 4,
 "nbformat_minor": 5
}
