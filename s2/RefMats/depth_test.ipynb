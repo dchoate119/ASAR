{
 "cells": [
  {
   "cell_type": "code",
   "execution_count": 1,
   "id": "77cbf724-ec3e-414b-b7e0-61d4fba2f90a",
   "metadata": {},
   "outputs": [
    {
     "name": "stdout",
     "output_type": "stream",
     "text": [
      "Images loaded successfully!\n"
     ]
    }
   ],
   "source": [
    "import cv2\n",
    "\n",
    "# Load images to check\n",
    "color_image = cv2.imread('/home/daniel-choate/ndt-6d/images/color1.png')\n",
    "depth_image = cv2.imread('/home/daniel-choate/ndt-6d/images/depth1.png')\n",
    "\n",
    "# Check if images are loaded\n",
    "if color_image is None or depth_image is None:\n",
    "    print(\"One or more images could not be loaded.\")\n",
    "else:\n",
    "    print(\"Images loaded successfully!\")"
   ]
  },
  {
   "cell_type": "code",
   "execution_count": null,
   "id": "cebccc0b-3ca2-4cef-9ab2-af9a27c0efdb",
   "metadata": {},
   "outputs": [],
   "source": []
  }
 ],
 "metadata": {
  "kernelspec": {
   "display_name": "Python 3 (ipykernel)",
   "language": "python",
   "name": "python3"
  },
  "language_info": {
   "codemirror_mode": {
    "name": "ipython",
    "version": 3
   },
   "file_extension": ".py",
   "mimetype": "text/x-python",
   "name": "python",
   "nbconvert_exporter": "python",
   "pygments_lexer": "ipython3",
   "version": "3.9.18"
  }
 },
 "nbformat": 4,
 "nbformat_minor": 5
}
