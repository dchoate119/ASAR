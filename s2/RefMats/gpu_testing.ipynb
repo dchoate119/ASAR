{
 "cells": [
  {
   "cell_type": "code",
   "execution_count": null,
   "id": "aaf4b080-38ce-466c-afce-874e416a96f4",
   "metadata": {},
   "outputs": [],
   "source": [
    "import tensorflow as tf\n",
    "\n",
    "# Check if GPU is available\n",
    "gpus = tf.config.list_physical_devices('GPU')\n",
    "if gpus:\n",
    "    print(\"GPU is available:\", gpus)\n",
    "else:\n",
    "    print(\"GPU not found, using CPU.\")\n",
    "\n",
    "# Template code for using a desired section of the GPU\n",
    "\n",
    "# memlim = 2x1024 specifies 2 GB \n",
    "# My GPU is 8 GB *******\n",
    "# Limit GPU memory, if running notebook on GPU\n",
    "gpus = tf.config.experimental.list_physical_devices('GPU')\n",
    "print(gpus)\n",
    "if gpus:\n",
    "    try:\n",
    "        memlim = 2*1024\n",
    "        tf.config.experimental.set_virtual_device_configuration(gpus[0], [tf.config.experimental.VirtualDeviceConfiguration(memory_limit=memlim)])\n",
    "        # tf.config.set_virtual_device_configuration(gpus[0], [tf.config.VirtualDeviceConfiguration(memory_limit=2048)])\n",
    "    except RuntimeError as e:\n",
    "        print(e)"
   ]
  },
  {
   "cell_type": "code",
   "execution_count": null,
   "id": "3e6a81d8-c0ce-4134-bfb7-3bdcd964d63e",
   "metadata": {},
   "outputs": [],
   "source": [
    "# Create a simple tensor\n",
    "tensor = tf.constant([[1, 2, 3], [4, 5, 6], [7, 8, 9]])\n",
    "\n",
    "# Print the tensor\n",
    "print(\"Tensor:\", tensor)"
   ]
  },
  {
   "cell_type": "code",
   "execution_count": null,
   "id": "fa582488-d4f3-495c-b071-8dd718666a3e",
   "metadata": {},
   "outputs": [],
   "source": [
    "print(\"Num GPUs Available: \", len(tf.config.experimental.list_physical_devices('GPU')))\n",
    "print(\"GPUs:\", tf.config.list_physical_devices('GPU'))\n",
    "print(tf.__version__)"
   ]
  },
  {
   "cell_type": "code",
   "execution_count": null,
   "id": "d87b1f5b-c209-4c9e-82a4-51b747a5847a",
   "metadata": {},
   "outputs": [],
   "source": [
    "x = 1\n",
    "y = 10+x\n",
    "print(x,y)"
   ]
  },
  {
   "cell_type": "code",
   "execution_count": null,
   "id": "e2750642-8a07-4617-aadc-9b998d7ef5df",
   "metadata": {},
   "outputs": [],
   "source": []
  }
 ],
 "metadata": {
  "kernelspec": {
   "display_name": "Python 3 (ipykernel)",
   "language": "python",
   "name": "python3"
  },
  "language_info": {
   "codemirror_mode": {
    "name": "ipython",
    "version": 3
   },
   "file_extension": ".py",
   "mimetype": "text/x-python",
   "name": "python",
   "nbconvert_exporter": "python",
   "pygments_lexer": "ipython3",
   "version": "3.9.18"
  }
 },
 "nbformat": 4,
 "nbformat_minor": 5
}
