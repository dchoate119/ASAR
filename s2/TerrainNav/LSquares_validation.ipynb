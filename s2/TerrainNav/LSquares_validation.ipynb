{
 "cells": [
  {
   "cell_type": "markdown",
   "id": "0d4761ce-9ca6-4d24-a931-ad2b6e7702e8",
   "metadata": {},
   "source": [
    "# Least-Squares Error Minimization Validation \n",
    "\n",
    "Setting up a scenario to test the accuracy of the least-squares algorithm developed in groundNAV_TTurf. Aiming to make for easier troubleshooting."
   ]
  },
  {
   "cell_type": "markdown",
   "id": "2aafe973-6e43-4450-bcbc-2d2c32c0d2a5",
   "metadata": {},
   "source": [
    "Checklist \n",
    "1. [ ] Import satellite image, crop 4 sections\n",
    "2. [ ] Apply a shift on 4 sections\n",
    "3. [ ] Calculate SSD of 4 sections for a nxn shift\n",
    "4. [ ] Generate best shift vectors\n",
    "5. [ ] Apply least sqaures process on shift vectors\n",
    "6. [ ] Apply shift\n",
    "7. [ ] Repeat SSD process and LS\n",
    "8. [ ] Converge?"
   ]
  },
  {
   "cell_type": "code",
   "execution_count": 1,
   "id": "8c257c74-8838-4a93-bf32-b91d9dd2df86",
   "metadata": {},
   "outputs": [
    {
     "name": "stdout",
     "output_type": "stream",
     "text": [
      "Jupyter environment detected. Enabling Open3D WebVisualizer.\n",
      "[Open3D INFO] WebRTC GUI backend enabled.\n",
      "[Open3D INFO] WebRTCWindowSystem: HTTP handshake server disabled.\n"
     ]
    },
    {
     "data": {
      "application/javascript": [
       "IPython.notebook.set_autosave_interval(180000)"
      ]
     },
     "metadata": {},
     "output_type": "display_data"
    },
    {
     "name": "stdout",
     "output_type": "stream",
     "text": [
      "Autosaving every 180 seconds\n"
     ]
    }
   ],
   "source": [
    "import numpy as np\n",
    "import cv2\n",
    "import open3d as o3d\n",
    "import plotly.graph_objects as go\n",
    "import plotly.io as pio\n",
    "from scipy.spatial.transform import Rotation as R\n",
    "from scipy.spatial import cKDTree\n",
    "import imageio\n",
    "# %matplotlib qt\n",
    "import matplotlib.pyplot as plt\n",
    "from matplotlib.path import Path\n",
    "\n",
    "from groundNAV_agent import *\n",
    "from colmapParsingUtils import *\n",
    "\n",
    "# SAVE YOUR WORK\n",
    "%load_ext autoreload\n",
    "%autoreload 2\n",
    "%autosave 180"
   ]
  },
  {
   "cell_type": "code",
   "execution_count": null,
   "id": "713b949e-22e5-47a5-ae68-64aef4a59619",
   "metadata": {},
   "outputs": [],
   "source": []
  }
 ],
 "metadata": {
  "kernelspec": {
   "display_name": "Python 3 (ipykernel)",
   "language": "python",
   "name": "python3"
  },
  "language_info": {
   "codemirror_mode": {
    "name": "ipython",
    "version": 3
   },
   "file_extension": ".py",
   "mimetype": "text/x-python",
   "name": "python",
   "nbconvert_exporter": "python",
   "pygments_lexer": "ipython3",
   "version": "3.9.18"
  }
 },
 "nbformat": 4,
 "nbformat_minor": 5
}
