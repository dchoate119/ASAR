{
 "cells": [
  {
   "cell_type": "markdown",
   "id": "c3644567-a5b8-48ec-9fc9-6a668b42feca",
   "metadata": {},
   "source": [
    "# Practicing a Histogram Orientation Gradient (HOG)"
   ]
  },
  {
   "cell_type": "code",
   "execution_count": 1,
   "id": "c01b0dc2-8021-4469-96dd-90dbd7346e67",
   "metadata": {},
   "outputs": [
    {
     "name": "stdout",
     "output_type": "stream",
     "text": [
      "Jupyter environment detected. Enabling Open3D WebVisualizer.\n",
      "[Open3D INFO] WebRTC GUI backend enabled.\n",
      "[Open3D INFO] WebRTCWindowSystem: HTTP handshake server disabled.\n"
     ]
    },
    {
     "data": {
      "application/javascript": [
       "IPython.notebook.set_autosave_interval(180000)"
      ]
     },
     "metadata": {},
     "output_type": "display_data"
    },
    {
     "name": "stdout",
     "output_type": "stream",
     "text": [
      "Autosaving every 180 seconds\n"
     ]
    }
   ],
   "source": [
    "import cv2\n",
    "import open3d as o3d\n",
    "\n",
    "%load_ext autoreload\n",
    "%autoreload 2\n",
    "%autosave 180"
   ]
  },
  {
   "cell_type": "markdown",
   "id": "0774c4be-28b6-4b44-9bb9-a3eb98f10ed9",
   "metadata": {},
   "source": [
    "# Step 1: Preprocessing "
   ]
  },
  {
   "cell_type": "code",
   "execution_count": 4,
   "id": "a30b45f3-a4f4-4043-af60-3ff8e5e81d5b",
   "metadata": {},
   "outputs": [
    {
     "name": "stdout",
     "output_type": "stream",
     "text": [
      "The selected pixel ratio is 64 x 128\n"
     ]
    }
   ],
   "source": [
    "# Load the image\n",
    "im = cv2.imread('/home/daniel-choate/ASAR/s2/TerrainNav/Match_Demos/bolt.png')\n",
    "\n",
    "# Specify the desired dimensions\n",
    "width_s, width_e = 70, 134  # desired width in pixels\n",
    "height_s, height_e = 50, 178  # desired height in pixels\n",
    "# new_dim = (width, height)\n",
    "\n",
    "print('The selected pixel ratio is', width_e-width_s, 'x', height_e-height_s)\n",
    "\n",
    "# Crop the image \n",
    "im_crop = im[height_s:height_e, width_s:width_e] #, height_s:height_e]\n",
    "\n",
    "# # Or, RESIZE the image\n",
    "# im_resize = cv2.resize(im, new_dim)\n",
    "\n",
    "# Save the resized image\n",
    "# cv2.imwrite('path/to/your/resized_image.png', resized_image)\n",
    "\n",
    "# Optionally, display the resized image\n",
    "# Can do with opencv, don't need open3d\n",
    "cv2.imshow('Cropped Image', im_crop)\n",
    "cv2.waitKey(0)\n",
    "cv2.destroyAllWindows()\n"
   ]
  },
  {
   "cell_type": "code",
   "execution_count": null,
   "id": "5efb7997-5d1b-4ff2-b58d-4ad9280ae9d4",
   "metadata": {},
   "outputs": [],
   "source": []
  },
  {
   "cell_type": "raw",
   "id": "04d6a41f-0132-4199-93a4-65fbcf6622ca",
   "metadata": {},
   "source": []
  },
  {
   "cell_type": "code",
   "execution_count": null,
   "id": "f010662d-1068-4a16-890a-e3f5a2269246",
   "metadata": {},
   "outputs": [],
   "source": []
  }
 ],
 "metadata": {
  "kernelspec": {
   "display_name": "Python 3 (ipykernel)",
   "language": "python",
   "name": "python3"
  },
  "language_info": {
   "codemirror_mode": {
    "name": "ipython",
    "version": 3
   },
   "file_extension": ".py",
   "mimetype": "text/x-python",
   "name": "python",
   "nbconvert_exporter": "python",
   "pygments_lexer": "ipython3",
   "version": "3.9.18"
  }
 },
 "nbformat": 4,
 "nbformat_minor": 5
}
