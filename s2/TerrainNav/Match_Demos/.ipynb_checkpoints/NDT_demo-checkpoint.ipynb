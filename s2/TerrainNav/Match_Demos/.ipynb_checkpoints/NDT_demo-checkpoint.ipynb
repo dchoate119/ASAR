{
 "cells": [
  {
   "cell_type": "markdown",
   "id": "a76aefc6-5be5-4816-a091-80a09fa010c4",
   "metadata": {},
   "source": [
    "# NDT DEMO"
   ]
  },
  {
   "cell_type": "markdown",
   "id": "6a9aba3b-1ffc-4b34-af23-eaf94cc2b1d8",
   "metadata": {},
   "source": [
    "Initial demonstration of normal distributions transform, with later goal to implement color-based NDT"
   ]
  },
  {
   "cell_type": "code",
   "execution_count": 3,
   "id": "31d2754d-41f6-4d90-b464-f398d5d56c8b",
   "metadata": {},
   "outputs": [
    {
     "data": {
      "application/javascript": [
       "IPython.notebook.set_autosave_interval(180000)"
      ]
     },
     "metadata": {},
     "output_type": "display_data"
    },
    {
     "name": "stdout",
     "output_type": "stream",
     "text": [
      "Autosaving every 180 seconds\n"
     ]
    }
   ],
   "source": [
    "import numpy as np\n",
    "import cv2\n",
    "import open3d as o3d\n",
    "\n",
    "\n",
    "%load_ext autoreload\n",
    "%autoreload 2\n",
    "%autosave 180"
   ]
  },
  {
   "cell_type": "code",
   "execution_count": null,
   "id": "3241a991-b51e-4be6-b39c-7347e937fdab",
   "metadata": {},
   "outputs": [],
   "source": []
  }
 ],
 "metadata": {
  "kernelspec": {
   "display_name": "Python 3 (ipykernel)",
   "language": "python",
   "name": "python3"
  },
  "language_info": {
   "codemirror_mode": {
    "name": "ipython",
    "version": 3
   },
   "file_extension": ".py",
   "mimetype": "text/x-python",
   "name": "python",
   "nbconvert_exporter": "python",
   "pygments_lexer": "ipython3",
   "version": "3.9.18"
  }
 },
 "nbformat": 4,
 "nbformat_minor": 5
}
