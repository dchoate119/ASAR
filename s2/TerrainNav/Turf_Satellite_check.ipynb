{
 "cells": [
  {
   "cell_type": "markdown",
   "id": "e7c7a246-9e19-4de1-93da-61431a3d11d0",
   "metadata": {},
   "source": [
    "# Sanity check for Colmap points versus the satellite image"
   ]
  },
  {
   "cell_type": "markdown",
   "id": "30e99e0e-8bde-4013-9f6f-7d89d9bb25c9",
   "metadata": {},
   "source": [
    "As a sanity check, what happens if you create a snapshot (birdseye view) of the collmap point cloud, and then measure distances between relevant points on the field.\n",
    "- You can make the measurements in yards if the field is 100 yd long\n",
    "\n",
    "How do the distances in the collmap point cloud image compare to those in the satellite photo\n",
    "\n",
    "Are the distances comparable?  \n",
    "\n",
    "Wondering if the collmap dimensions are a bit skewed, or even if the painting on the field might have been updated between your photos and the satellite photo\n",
    "\n",
    "If the dimensions between key features measured in the collmap don’t match the satellite image, then that gives us a good clue about where to start next."
   ]
  },
  {
   "cell_type": "code",
   "execution_count": 1,
   "id": "d725392a-69da-4bb2-a32d-78c2a382a4f6",
   "metadata": {},
   "outputs": [
    {
     "name": "stdout",
     "output_type": "stream",
     "text": [
      "Jupyter environment detected. Enabling Open3D WebVisualizer.\n",
      "[Open3D INFO] WebRTC GUI backend enabled.\n",
      "[Open3D INFO] WebRTCWindowSystem: HTTP handshake server disabled.\n"
     ]
    },
    {
     "data": {
      "application/javascript": [
       "IPython.notebook.set_autosave_interval(180000)"
      ]
     },
     "metadata": {},
     "output_type": "display_data"
    },
    {
     "name": "stdout",
     "output_type": "stream",
     "text": [
      "Autosaving every 180 seconds\n"
     ]
    }
   ],
   "source": [
    "import numpy as np\n",
    "import cv2\n",
    "import open3d as o3d\n",
    "import plotly.graph_objects as go\n",
    "import plotly.io as pio\n",
    "from scipy.spatial.transform import Rotation as R\n",
    "from scipy.spatial import cKDTree\n",
    "import imageio\n",
    "# %matplotlib qt\n",
    "import matplotlib.pyplot as plt\n",
    "from matplotlib.path import Path\n",
    "\n",
    "from groundNAV_agentEDITING import *\n",
    "from colmapParsingUtils import *\n",
    "\n",
    "# SAVE YOUR WORK\n",
    "%load_ext autoreload\n",
    "%autoreload 2\n",
    "%autosave 180"
   ]
  },
  {
   "cell_type": "code",
   "execution_count": 2,
   "id": "af7a606b-2a1a-4931-9ded-657946b75c19",
   "metadata": {},
   "outputs": [],
   "source": [
    "# Load in necessary parameters for gNAV agent \n",
    "# Define Class Parameters \n",
    "\n",
    "images_colm  = \"/home/daniel-choate/ASAR/s2/TerrainNav/TTurf/test/images.txt\"\n",
    "cameras_colm = \"/home/daniel-choate/ASAR/s2/TerrainNav/TTurf/test/cameras.txt\"\n",
    "pts3d_colm = \"/home/daniel-choate/ASAR/s2/TerrainNav/TTurf/test/points3D_f.txt\"\n",
    "\n",
    "# Load in satellite reference image\n",
    "sat_ref = \"TTurf/TurfSat.jpg\"\n",
    "\n",
    "# Images selected for local corrections\n",
    "image_1 = \"/home/daniel-choate/Datasets/COLMAP/TTurfSAT/TTurf_Im/IMG_9446.JPEG\" #ID:4\n",
    "\n",
    "# Organize for agent params\n",
    "images = [image_1]"
   ]
  },
  {
   "cell_type": "code",
   "execution_count": 3,
   "id": "37c7ef10-b102-49b2-bcc5-9419c2547987",
   "metadata": {},
   "outputs": [],
   "source": [
    "# Create class\n",
    "gnav = gNAV_agent(images_colm, cameras_colm, pts3d_colm, images, sat_ref)\n",
    "\n",
    "# Grab raw points and RGB data for scene and reference cloud\n",
    "scene_pts, rgb_data = gnav.grab_pts(gnav.pts3d_c)\n",
    "ref_pts, ref_rgb = gnav.ref_pts, gnav.ref_rgb"
   ]
  },
  {
   "cell_type": "code",
   "execution_count": 4,
   "id": "0007a035-9cb5-4605-9733-d7477274ff61",
   "metadata": {},
   "outputs": [],
   "source": [
    "# Use ground plane pts to set reference frame \n",
    "# Need gravity and height\n",
    "pts_gnd_idx = np.array([25440, 25450, 25441, 25449, 25442, 25445, 103922, 103921, 103919, 103920])\n",
    "tform_ref_frame = gnav.set_ref_frame(pts_gnd_idx)\n",
    "tform_ref_frame_pts = gnav.inv_homog_transform(tform_ref_frame)\n",
    "# print(\"\\nReference frame transformation\\n\", tform_ref_frame)"
   ]
  },
  {
   "cell_type": "code",
   "execution_count": 5,
   "id": "0e5d439a-a21a-447a-96fb-84ab1fe6d896",
   "metadata": {},
   "outputs": [],
   "source": [
    "# Transform all points to the new coordinate system \n",
    "# Not necessary since we aren't using the cloud, but a good visual check for coord frame\n",
    "tform_ref_frame_inv = gnav.inv_homog_transform(tform_ref_frame)\n",
    "origin_ref, scene_pts_ref, scene_vec_ref = gnav.unit_vec_tform(scene_pts, gnav.origin_w, tform_ref_frame_inv)\n",
    "# print(origin_ref)\n",
    "# Transform scene cloud to 2D (also as a visual check)\n",
    "# Note: 2d projection will look off with z=-1; see TTurf_v2 for cropping method\n",
    "scene_ref_2d = gnav.proj_2d_scene(scene_pts_ref)\n",
    "# print(scene_ref_2d)"
   ]
  },
  {
   "cell_type": "code",
   "execution_count": 6,
   "id": "5b1483c9-9c69-4c21-b673-52f352b5dc58",
   "metadata": {},
   "outputs": [
    {
     "name": "stdout",
     "output_type": "stream",
     "text": [
      "44.175401880708456\n",
      "[[11.74604814 -6.40375344 39.53529655]\n",
      " [12.13326906 -6.77923053 38.09590283]\n",
      " [11.49564909 -4.10254722 37.60552444]\n",
      " ...\n",
      " [ 0.58305242 -1.86513577 40.00641745]\n",
      " [ 0.08944373 -2.65965277 40.00618831]\n",
      " [-0.34202601 -3.33846128 40.00245484]]\n"
     ]
    }
   ],
   "source": [
    "# CROP UNNECESSARY colmap cloud points for birds-eye view \n",
    "# Crop points outside of boundary \n",
    "print(max(scene_pts_ref[:,2]))\n",
    "x_min = -20\n",
    "x_max = 20\n",
    "y_min = -15\n",
    "y_max = 15\n",
    "z_min = 0\n",
    "z_max = 2\n",
    "\n",
    "# boundary_pts_idx = np.argwhere((pts_2D[:,0] < x_min) | (pts_2D[:,0] > x_max) | (pts_2D[:,1] < y_min) | (pts_2D[:,1] > y_max))\n",
    "new_pts_idx = np.argwhere((scene_pts_ref[:,0] > x_min) & (scene_pts_ref[:,0] < x_max) & (scene_pts_ref[:,1] > y_min) &\n",
    "                          (scene_pts_ref[:,1] < y_max))# & (scene_pts_ref[:,2] > z_min) & (scene_pts_ref[:,2] < z_max))\n",
    "# Get new points and rgb data \n",
    "new_pts = scene_pts_ref[new_pts_idx[:,0],:]\n",
    "rgb_data_new = rgb_data[new_pts_idx[:,0],:]\n",
    "# Get 2d projection of points\n",
    "scene_ref_2d = gnav.proj_2d_scene(new_pts)\n",
    "print(new_pts)"
   ]
  },
  {
   "cell_type": "code",
   "execution_count": 23,
   "id": "54fd2a24-d059-4ea2-ad62-285fd5d2d47d",
   "metadata": {},
   "outputs": [
    {
     "name": "stderr",
     "output_type": "stream",
     "text": [
      "libGL: Can't open configuration file /etc/drirc: No such file or directory.\n",
      "libGL: Can't open configuration file /home/daniel-choate/.drirc: No such file or directory.\n",
      "using driver i915 for 74\n",
      "libGL: Can't open configuration file /etc/drirc: No such file or directory.\n",
      "libGL: Can't open configuration file /home/daniel-choate/.drirc: No such file or directory.\n",
      "using driver i915 for 74\n",
      "pci id for fd 74: 8086:a7a0, driver iris\n",
      "libGL: Can't open configuration file /etc/drirc: No such file or directory.\n",
      "libGL: Can't open configuration file /home/daniel-choate/.drirc: No such file or directory.\n",
      "libGL: Can't open configuration file /etc/drirc: No such file or directory.\n",
      "libGL: Can't open configuration file /home/daniel-choate/.drirc: No such file or directory.\n",
      "libGL: Can't open configuration file /etc/drirc: No such file or directory.\n",
      "libGL: Can't open configuration file /home/daniel-choate/.drirc: No such file or directory.\n",
      "Using DRI3 for screen 0\n"
     ]
    }
   ],
   "source": [
    "# CHECKING CROPPED CLOUD \n",
    "\n",
    "# Use open3d to create point cloud visualization \n",
    "# Create visualization \n",
    "vis = o3d.visualization.Visualizer()\n",
    "vis.create_window(window_name=\"Originial scene with ORIGINAL ORIGIN\")\n",
    "\n",
    "# Create axes @ origin\n",
    "axis_origin = o3d.geometry.TriangleMesh.create_coordinate_frame(size=1)\n",
    "\n",
    "# Create point cloud for scene points\n",
    "scene_cloud = o3d.geometry.PointCloud()\n",
    "scene_cloud.points = o3d.utility.Vector3dVector(scene_pts)\n",
    "scene_cloud.colors = o3d.utility.Vector3dVector(rgb_data)\n",
    "\n",
    "# # Create point cloud for satellite reference points\n",
    "# ref_cloud = o3d.geometry.PointCloud()\n",
    "# ref_cloud.points = o3d.utility.Vector3dVector(ref_pts)\n",
    "# ref_cloud.colors = o3d.utility.Vector3dVector(ref_rgb)\n",
    "\n",
    "# Add necessary geometries to visualization \n",
    "vis.add_geometry(axis_origin)\n",
    "vis.add_geometry(scene_cloud)\n",
    "# vis.add_geometry(ref_cloud)\n",
    "\n",
    "# # Size options (jupyter gives issues when running this multiple times, but it looks better)\n",
    "# render_option = vis.get_render_option()\n",
    "# render_option.point_size = 2\n",
    "\n",
    "# Run and destroy visualization \n",
    "vis.run()\n",
    "vis.destroy_window()"
   ]
  },
  {
   "cell_type": "code",
   "execution_count": 24,
   "id": "7c493cff-d436-4e69-be18-a60608d4e025",
   "metadata": {},
   "outputs": [],
   "source": [
    "# Original guess to align clouds\n",
    "\n",
    "# Implementing an initial guess for the local image \n",
    "\n",
    "# SCALE for initial guess \n",
    "scale = 2700 # Decent average guess (not actually, need to change)\n",
    "\n",
    "# Translation and Rotation for initial guess\n",
    "x = 395\n",
    "y = 317\n",
    "yaw = -1\n",
    "\n",
    "tform_guess = gnav.tform_create(x,y,0,0,0,yaw)\n",
    "\n",
    "bestguess_2d = scene_ref_2d.copy()\n",
    "bestguess_2d[:,:2] *= scale\n",
    "# Get new points \n",
    "__, bestguess_2d_pts, bestguess_2d_vec = gnav.unit_vec_tform(bestguess_2d, gnav.origin_w, tform_guess)"
   ]
  },
  {
   "cell_type": "code",
   "execution_count": 25,
   "id": "4d709536-43af-4b36-b33e-e4d199e08aae",
   "metadata": {},
   "outputs": [
    {
     "name": "stderr",
     "output_type": "stream",
     "text": [
      "libGL: Can't open configuration file /etc/drirc: No such file or directory.\n",
      "libGL: Can't open configuration file /home/daniel-choate/.drirc: No such file or directory.\n",
      "using driver i915 for 74\n",
      "libGL: Can't open configuration file /etc/drirc: No such file or directory.\n",
      "libGL: Can't open configuration file /home/daniel-choate/.drirc: No such file or directory.\n",
      "using driver i915 for 74\n",
      "pci id for fd 74: 8086:a7a0, driver iris\n",
      "libGL: Can't open configuration file /etc/drirc: No such file or directory.\n",
      "libGL: Can't open configuration file /home/daniel-choate/.drirc: No such file or directory.\n",
      "libGL: Can't open configuration file /etc/drirc: No such file or directory.\n",
      "libGL: Can't open configuration file /home/daniel-choate/.drirc: No such file or directory.\n",
      "libGL: Can't open configuration file /etc/drirc: No such file or directory.\n",
      "libGL: Can't open configuration file /home/daniel-choate/.drirc: No such file or directory.\n",
      "Using DRI3 for screen 0\n"
     ]
    }
   ],
   "source": [
    "# PLOTTING THE ORIGINAL SCENE WITH THE ORIGINAL ORIGIN \n",
    "\n",
    "# Use open3d to create point cloud visualization \n",
    "# Create visualization \n",
    "vis = o3d.visualization.Visualizer()\n",
    "vis.create_window(window_name=\"Originial scene with ORIGINAL ORIGIN\")\n",
    "\n",
    "# Create axes @ origin\n",
    "axis_origin = o3d.geometry.TriangleMesh.create_coordinate_frame(size=100)\n",
    "\n",
    "# Create point cloud for scene points\n",
    "scene_cloud = o3d.geometry.PointCloud()\n",
    "scene_cloud.points = o3d.utility.Vector3dVector(bestguess_2d_pts)\n",
    "scene_cloud.colors = o3d.utility.Vector3dVector(rgb_data_new)\n",
    "\n",
    "# Create point cloud for satellite reference points\n",
    "ref_cloud = o3d.geometry.PointCloud()\n",
    "ref_cloud.points = o3d.utility.Vector3dVector(ref_pts)\n",
    "ref_cloud.colors = o3d.utility.Vector3dVector(ref_rgb)\n",
    "\n",
    "# Add necessary geometries to visualization \n",
    "# vis.add_geometry(axis_origin)\n",
    "vis.add_geometry(scene_cloud)\n",
    "vis.add_geometry(ref_cloud)\n",
    "\n",
    "# # Size options (jupyter gives issues when running this multiple times, but it looks better)\n",
    "# render_option = vis.get_render_option()\n",
    "# render_option.point_size = 2\n",
    "\n",
    "# Run and destroy visualization \n",
    "vis.run()\n",
    "vis.destroy_window()"
   ]
  },
  {
   "cell_type": "code",
   "execution_count": null,
   "id": "622e0266-1c4d-49b0-93d3-33d397637d6f",
   "metadata": {},
   "outputs": [],
   "source": []
  },
  {
   "cell_type": "code",
   "execution_count": null,
   "id": "aa4e7894-8d0e-42d4-b27c-6a23998aa7a5",
   "metadata": {},
   "outputs": [],
   "source": []
  }
 ],
 "metadata": {
  "kernelspec": {
   "display_name": "Python 3 (ipykernel)",
   "language": "python",
   "name": "python3"
  },
  "language_info": {
   "codemirror_mode": {
    "name": "ipython",
    "version": 3
   },
   "file_extension": ".py",
   "mimetype": "text/x-python",
   "name": "python",
   "nbconvert_exporter": "python",
   "pygments_lexer": "ipython3",
   "version": "3.9.18"
  }
 },
 "nbformat": 4,
 "nbformat_minor": 5
}
