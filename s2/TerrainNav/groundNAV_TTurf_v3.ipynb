{
 "cells": [
  {
   "cell_type": "markdown",
   "id": "1cafd0ed-4b95-426d-9583-12b2e6d3d933",
   "metadata": {},
   "source": [
    "# Ground Navigation for Aerial Vehicles"
   ]
  },
  {
   "cell_type": "markdown",
   "id": "3e5c5d35-2eae-429a-a855-b6979467f5d0",
   "metadata": {},
   "source": [
    "With a satellite reference image, we intend to utilize a SfM solution to match ground segments of images to the reference map.\n",
    "- Inputs: Reference image (satellite), SfM solution (images, points, cameras), selected images (5)\n",
    "- Output: Correction solutions for translation, rotation, scaling"
   ]
  },
  {
   "cell_type": "markdown",
   "id": "331f822a-1ce0-4cc4-86f1-466a1425be1a",
   "metadata": {},
   "source": [
    "Checklist\n",
    "1. [ ] Make a checklist\n",
    "2. [ ] everything else"
   ]
  },
  {
   "cell_type": "code",
   "execution_count": 1,
   "id": "71d7d391-9ddf-429f-a308-73f28625cc7d",
   "metadata": {},
   "outputs": [
    {
     "name": "stdout",
     "output_type": "stream",
     "text": [
      "Jupyter environment detected. Enabling Open3D WebVisualizer.\n",
      "[Open3D INFO] WebRTC GUI backend enabled.\n",
      "[Open3D INFO] WebRTCWindowSystem: HTTP handshake server disabled.\n"
     ]
    },
    {
     "data": {
      "application/javascript": [
       "IPython.notebook.set_autosave_interval(180000)"
      ]
     },
     "metadata": {},
     "output_type": "display_data"
    },
    {
     "name": "stdout",
     "output_type": "stream",
     "text": [
      "Autosaving every 180 seconds\n"
     ]
    }
   ],
   "source": [
    "import numpy as np\n",
    "import cv2\n",
    "import open3d as o3d\n",
    "import plotly.graph_objects as go\n",
    "import plotly.io as pio\n",
    "from scipy.spatial.transform import Rotation as R\n",
    "from scipy.spatial import cKDTree\n",
    "import imageio\n",
    "%matplotlib qt\n",
    "import matplotlib.pyplot as plt\n",
    "\n",
    "from groundNAV_agent import *\n",
    "from colmapParsingUtils import *\n",
    "\n",
    "# SAVE YOUR WORK\n",
    "%load_ext autoreload\n",
    "%autoreload 2\n",
    "%autosave 180"
   ]
  },
  {
   "cell_type": "code",
   "execution_count": 2,
   "id": "7b5c728c-bac3-4070-bac2-742fffa5e648",
   "metadata": {},
   "outputs": [],
   "source": [
    "# NOTES: \n",
    "# OS in JUMBOS: IMG_9446; ID = 4\n",
    "# 40yd (far hash): IMG_9520; ID = 78\n",
    "# Jumbo logo: IMG_9531; ID = 89\n",
    "# 30yd (near hash): IMG_9542; ID = 100\n",
    "# U in JUMBOS: IMG_9576; ID = 134"
   ]
  },
  {
   "cell_type": "code",
   "execution_count": 3,
   "id": "1ff42a32-c938-449b-a5eb-c4ecf7781ad0",
   "metadata": {},
   "outputs": [],
   "source": [
    "# Load in necessary parameters for gNAV agent \n",
    "# Define Class Parameters \n",
    "\n",
    "images_colm  = \"/home/daniel-choate/ASAR/s2/TerrainNav/TTurf/test/images.txt\"\n",
    "cameras_colm = \"/home/daniel-choate/ASAR/s2/TerrainNav/TTurf/test/cameras.txt\"\n",
    "pts3d_colm = \"/home/daniel-choate/ASAR/s2/TerrainNav/TTurf/test/points3D_f.txt\"\n",
    "\n",
    "# Images selected for local corrections\n",
    "image_1 = \"/home/daniel-choate/Datasets/COLMAP/TTurfSAT/TTurf_Im/IMG_9446.JPEG\"\n",
    "# ID_1 = 4\n",
    "image_2 = \"/home/daniel-choate/Datasets/COLMAP/TTurfSAT/TTurf_Im/IMG_9520.JPEG\"\n",
    "# ID_2 = 78\n",
    "image_3 = \"/home/daniel-choate/Datasets/COLMAP/TTurfSAT/TTurf_Im/IMG_9531.JPEG\"\n",
    "# ID_3 = 89\n",
    "image_4 = \"/home/daniel-choate/Datasets/COLMAP/TTurfSAT/TTurf_Im/IMG_9542.JPEG\"\n",
    "# ID_4 = 100\n",
    "image_5 = \"/home/daniel-choate/Datasets/COLMAP/TTurfSAT/TTurf_Im/IMG_9576.JPEG\"\n",
    "# ID_5 = 134\n",
    "# Load in satellite reference image\n",
    "sat_ref = \"TTurf/TurfSat.jpg\"\n",
    "# sat_ref = cv2.imread('TTurf/TurfSat.jpg')\n",
    "\n",
    "# Organize for agent params\n",
    "images = [image_1, image_2, image_3, image_4, image_5]"
   ]
  },
  {
   "cell_type": "code",
   "execution_count": 4,
   "id": "d36f5c2f-162d-46fd-9cc7-e3ba9b62d383",
   "metadata": {},
   "outputs": [],
   "source": [
    "# Create class\n",
    "gnav = gNAV_agent(images_colm, cameras_colm, pts3d_colm, images, sat_ref)\n",
    "\n",
    "# Grab raw points and RGB data \n",
    "scene_pts, rgb_data = gnav.grab_pts(gnav.pts3d_c)"
   ]
  },
  {
   "cell_type": "code",
   "execution_count": 5,
   "id": "73a48502-dbf3-44bc-a3cc-9ef3d1a8f9c5",
   "metadata": {},
   "outputs": [
    {
     "name": "stderr",
     "output_type": "stream",
     "text": [
      "libGL: Can't open configuration file /etc/drirc: No such file or directory.\n",
      "libGL: Can't open configuration file /home/daniel-choate/.drirc: No such file or directory.\n",
      "using driver i915 for 74\n",
      "libGL: Can't open configuration file /etc/drirc: No such file or directory.\n",
      "libGL: Can't open configuration file /home/daniel-choate/.drirc: No such file or directory.\n",
      "using driver i915 for 74\n",
      "pci id for fd 74: 8086:a7a0, driver iris\n",
      "libGL: Can't open configuration file /etc/drirc: No such file or directory.\n",
      "libGL: Can't open configuration file /home/daniel-choate/.drirc: No such file or directory.\n",
      "libGL: Can't open configuration file /etc/drirc: No such file or directory.\n",
      "libGL: Can't open configuration file /home/daniel-choate/.drirc: No such file or directory.\n",
      "libGL: Can't open configuration file /etc/drirc: No such file or directory.\n",
      "libGL: Can't open configuration file /home/daniel-choate/.drirc: No such file or directory.\n",
      "Using DRI3 for screen 0\n"
     ]
    }
   ],
   "source": [
    "# For plotting purposes \n",
    "# Grab raw points and rgb data \n",
    "# scene_pts, rgb_data = gnav.grab_pts(gnav.pts3d_c)\n",
    "\n",
    "# Use open3d to create point cloud visualization \n",
    "# Create visualization \n",
    "vis = o3d.visualization.Visualizer()\n",
    "vis.create_window(window_name=\"Originial scene with REFERENCE ORIGIN\")\n",
    "\n",
    "# Create axes @ origin\n",
    "axis_origin = o3d.geometry.TriangleMesh.create_coordinate_frame(size=1)\n",
    "\n",
    "# Create point cloud for scene points\n",
    "scene_cloud = o3d.geometry.PointCloud()\n",
    "scene_cloud.points = o3d.utility.Vector3dVector(scene_pts)\n",
    "scene_cloud.colors = o3d.utility.Vector3dVector(rgb_data)\n",
    "\n",
    "# Add necessary geometries to visualization \n",
    "vis.add_geometry(axis_origin)\n",
    "vis.add_geometry(scene_cloud)\n",
    "\n",
    "# # Size options (jupyter gives issues when running this multiple times, but it looks better)\n",
    "# render_option = vis.get_render_option()\n",
    "# render_option.point_size = 2\n",
    "\n",
    "# Run and destroy visualization \n",
    "vis.run()\n",
    "vis.destroy_window()"
   ]
  },
  {
   "cell_type": "code",
   "execution_count": 18,
   "id": "35869fe8-d35b-47a5-8636-d5a2179c3d67",
   "metadata": {},
   "outputs": [
    {
     "name": "stdout",
     "output_type": "stream",
     "text": [
      "Gravity vector \n",
      " [ 0.98974383 -0.02606363  0.1404558 ]\n",
      "\n",
      "Height h_0 =  0.2729831012742149\n",
      "2\n",
      "Focal length\n",
      " 2987.396087478296\n"
     ]
    }
   ],
   "source": [
    "# # Define origin \n",
    "# origin_w = np.array([0,0,0])\n",
    "# # Find GRAVITY and HEIGHT\n",
    "pts_gnd_idx = np.array([25440, 25450, 25441, 25449, 25442, 25445, 103922, 103921, 103919, 103920])\n",
    "x = gnav.set_ref_frame(pts_gnd_idx)"
   ]
  },
  {
   "cell_type": "code",
   "execution_count": null,
   "id": "2e026689-584a-4807-a3ed-a17a9369e081",
   "metadata": {},
   "outputs": [],
   "source": [
    "#### LEAVING OFF HERE - VERIFY THIS PART \n",
    "# Define coordinate frame\n",
    "z_bar = grav_dir\n",
    "# Define a vector on the x-y plane \n",
    "P1, P2 = scene_pts[pts_gnd_idx[0],:], scene_pts[pts_gnd_idx[5],:]\n",
    "v = P2-P1\n",
    "# X direction as ZxV\n",
    "x_dir = np.cross(z_bar, v)\n",
    "x_bar = x_dir/np.linalg.norm(x_dir) # Normalize\n",
    "print(\"X unit vector \\n\", x_bar)\n",
    "# Y direction as ZxX\n",
    "y_dir = np.cross(z_bar, x_bar)\n",
    "y_bar = y_dir/np.linalg.norm(y_dir) # Normalize\n",
    "print(\"\\nY unit vector \\n\", y_bar)\n",
    "\n",
    "# Rotation matrix \n",
    "rotmat = np.column_stack((x_bar, y_bar, z_bar))\n",
    "print(\"\\nRotation matrix \\n\", rotmat)\n",
    "# Translation vector \n",
    "trans = P1.reshape([3,1])\n",
    "\n",
    "# Form transformation matrix\n",
    "bottom = np.array([0.0, 0.0, 0.0, 1.0]).reshape([1, 4])\n",
    "tform = np.concatenate([np.concatenate([rotmat, trans], 1), bottom], 0)\n",
    "print(\"\\nTransformation matrix to ground \\n\", tform)\n",
    "\n",
    "### FINISHED HERE ^^ VERIFY THE ABOVE \n",
    "# Translation from ground to desired height\n",
    "h = 1\n",
    "x = 0\n",
    "y = 0\n",
    "yaw = np.deg2rad(220)\n",
    "trans2 = np.array([x,y,-h]).reshape([3,1])\n",
    "# Rotation matrix\n",
    "euler_angles = [0., 0., yaw] #rotation about xaxis, yaxis, zaxis\n",
    "rotmat2 = R.from_euler('xyz', euler_angles).as_matrix()\n",
    "# rotmat2 = np.eye(3)\n",
    "tform2 = np.concatenate([np.concatenate([rotmat2, trans2], 1), bottom], 0)\n",
    "print(\"\\nTransformation matrix from ground desired coord frame \\n\", tform2)\n",
    "\n",
    "# Combine transformation matrices \n",
    "tform_T = tform @ tform2\n",
    "print(\"\\nTransformation from origin to desired coord frame \\n\", tform_T)"
   ]
  },
  {
   "cell_type": "code",
   "execution_count": null,
   "id": "0723fd3f-e5ab-4f8c-9d31-76a8b53acac3",
   "metadata": {},
   "outputs": [],
   "source": []
  }
 ],
 "metadata": {
  "kernelspec": {
   "display_name": "Python 3 (ipykernel)",
   "language": "python",
   "name": "python3"
  },
  "language_info": {
   "codemirror_mode": {
    "name": "ipython",
    "version": 3
   },
   "file_extension": ".py",
   "mimetype": "text/x-python",
   "name": "python",
   "nbconvert_exporter": "python",
   "pygments_lexer": "ipython3",
   "version": "3.9.18"
  }
 },
 "nbformat": 4,
 "nbformat_minor": 5
}
