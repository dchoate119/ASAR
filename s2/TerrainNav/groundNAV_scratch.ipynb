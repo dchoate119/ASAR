{
 "cells": [
  {
   "cell_type": "markdown",
   "id": "24bc9992-1dc6-493c-8e33-061fc6c1cb05",
   "metadata": {},
   "source": [
    "# Satellite Matching with Enhanced Map Generation "
   ]
  },
  {
   "cell_type": "code",
   "execution_count": null,
   "id": "6251aaf7-d2d4-42a8-896a-05d6bc5b5c62",
   "metadata": {},
   "outputs": [],
   "source": [
    "# Simplifying process of reverse homography transform\n",
    "# Testing class here"
   ]
  }
 ],
 "metadata": {
  "kernelspec": {
   "display_name": "Python 3 (ipykernel)",
   "language": "python",
   "name": "python3"
  },
  "language_info": {
   "codemirror_mode": {
    "name": "ipython",
    "version": 3
   },
   "file_extension": ".py",
   "mimetype": "text/x-python",
   "name": "python",
   "nbconvert_exporter": "python",
   "pygments_lexer": "ipython3",
   "version": "3.9.18"
  }
 },
 "nbformat": 4,
 "nbformat_minor": 5
}
