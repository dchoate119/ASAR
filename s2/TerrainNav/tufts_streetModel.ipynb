{
 "cells": [
  {
   "cell_type": "code",
   "execution_count": 1,
   "id": "d9e150b1-8ec8-41bd-8374-233387870f03",
   "metadata": {},
   "outputs": [
    {
     "name": "stdout",
     "output_type": "stream",
     "text": [
      "Jupyter environment detected. Enabling Open3D WebVisualizer.\n",
      "[Open3D INFO] WebRTC GUI backend enabled.\n",
      "[Open3D INFO] WebRTCWindowSystem: HTTP handshake server disabled.\n"
     ]
    },
    {
     "name": "stderr",
     "output_type": "stream",
     "text": [
      "2024-08-29 14:13:30.054258: I tensorflow/core/util/port.cc:153] oneDNN custom operations are on. You may see slightly different numerical results due to floating-point round-off errors from different computation orders. To turn them off, set the environment variable `TF_ENABLE_ONEDNN_OPTS=0`.\n",
      "2024-08-29 14:13:30.063805: E external/local_xla/xla/stream_executor/cuda/cuda_fft.cc:485] Unable to register cuFFT factory: Attempting to register factory for plugin cuFFT when one has already been registered\n",
      "2024-08-29 14:13:30.074665: E external/local_xla/xla/stream_executor/cuda/cuda_dnn.cc:8454] Unable to register cuDNN factory: Attempting to register factory for plugin cuDNN when one has already been registered\n",
      "2024-08-29 14:13:30.078021: E external/local_xla/xla/stream_executor/cuda/cuda_blas.cc:1452] Unable to register cuBLAS factory: Attempting to register factory for plugin cuBLAS when one has already been registered\n",
      "2024-08-29 14:13:30.086208: I tensorflow/core/platform/cpu_feature_guard.cc:210] This TensorFlow binary is optimized to use available CPU instructions in performance-critical operations.\n",
      "To enable the following instructions: AVX2 AVX_VNNI FMA, in other operations, rebuild TensorFlow with the appropriate compiler flags.\n",
      "2024-08-29 14:13:30.671555: W tensorflow/compiler/tf2tensorrt/utils/py_utils.cc:38] TF-TRT Warning: Could not find TensorRT\n"
     ]
    },
    {
     "data": {
      "application/javascript": [
       "IPython.notebook.set_autosave_interval(180000)"
      ]
     },
     "metadata": {},
     "output_type": "display_data"
    },
    {
     "name": "stdout",
     "output_type": "stream",
     "text": [
      "Autosaving every 180 seconds\n"
     ]
    }
   ],
   "source": [
    "# Demo test scene: Sidewalk near JCC building at Tufts University \n",
    "# Behind baseball field \n",
    "# Structure-from-Motion solution provided by COLMAP \n",
    "# Colmap generated: images, 3D points, cameras\n",
    "\n",
    "import open3d as o3d\n",
    "import numpy as np\n",
    "import plotly.graph_objects as go \n",
    "from scipy.spatial.transform import Rotation as R\n",
    "from colmapParsingUtils import *\n",
    "import copy\n",
    "\n",
    "from ptCloudParsingUtils import *\n",
    "\n",
    "\n",
    "from mpl_toolkits.mplot3d import axes3d\n",
    "from matplotlib import cm\n",
    "import matplotlib.pyplot as plt\n",
    "\n",
    "import tensorflow as tf\n",
    "import cv2\n",
    "\n",
    "%load_ext autoreload\n",
    "%autoreload 2\n",
    "%autosave 180\n",
    "\n",
    "# # Limit GPU memory, if running notebook on GPU\n",
    "# gpus = tf.config.experimental.list_physical_devices('GPU')\n",
    "# print(gpus)\n",
    "# if gpus:\n",
    "#     try:\n",
    "#         memlim = 2*1024\n",
    "#         tf.config.experimental.set_virtual_device_configuration(gpus[0], [tf.config.experimental.VirtualDeviceConfiguration(memory_limit=memlim)])\n",
    "#     except RuntimeError as e:\n",
    "#         print(e)"
   ]
  },
  {
   "cell_type": "code",
   "execution_count": 2,
   "id": "3b5607ee-45c1-41c8-a261-e3fa9b7a7847",
   "metadata": {},
   "outputs": [],
   "source": [
    "# Load images, points, pose estimations from COLMAP \n",
    "\n",
    "images_colmap = read_images_text('/home/daniel-choate/ASAR/s2/TerrainNav/TuftsWalkway/images.txt')\n",
    "cameras = read_cameras_text('/home/daniel-choate/ASAR/s2/TerrainNav/TuftsWalkway/cameras.txt')\n",
    "pts3d = read_points3D_text('/home/daniel-choate/ASAR/s2/TerrainNav/TuftsWalkway/points3D.txt')\n"
   ]
  },
  {
   "cell_type": "code",
   "execution_count": 3,
   "id": "8c5c2c3f-c2be-41d9-998b-60f0bcccc656",
   "metadata": {},
   "outputs": [],
   "source": [
    "# Extract 3d points from raw file \n",
    "\n",
    "pointdata_fn = \"/home/daniel-choate/ASAR/s2/TerrainNav/TuftsWalkway/points3D.txt\"\n",
    "num_pts = 75497 # Gerrard Hall\n",
    "\n",
    "# points_data = []\n",
    "scene_pts = np.zeros([num_pts, 3]) \n",
    "idx = 0\n",
    "\n",
    "with open(pointdata_fn, 'r') as file:\n",
    "    lines = file.readlines()[3:]  # Skip the first three lines\n",
    "    \n",
    "    for line in lines:\n",
    "        elements = line.strip().split()\n",
    "        \n",
    "        row = [float(elem) for elem in list(elements)]\n",
    "\n",
    "        scene_pts[idx,0] = row[1]\n",
    "        scene_pts[idx,1] = row[2]\n",
    "        scene_pts[idx,2] = row[3]\n",
    "        idx += 1\n",
    "\n",
    "# Filter RGB data into separate numpy array \n",
    "rgb_data = np.zeros([num_pts, 3])\n",
    "idx = 0\n",
    "\n",
    "with open(pointdata_fn, 'r') as file:\n",
    "    lines = file.readlines()[3:] # Skip the first three lines \n",
    "    for line in lines:\n",
    "        elements = line.strip().split()\n",
    "        row = [float(elem) for elem in list(elements)]\n",
    "\n",
    "        rgb_data[idx,0] = row[4]\n",
    "        rgb_data[idx,1] = row[5]\n",
    "        rgb_data[idx,2] = row[6]\n",
    "        idx += 1\n",
    "\n",
    "# SCALE COLORS\n",
    "rgb_data = rgb_data/255\n",
    "# print(scene_pts[:10])\n",
    "\n",
    "# Filter RGB data into separate numpy array with ALPHA\n",
    "rgba_data = np.zeros([num_pts, 4])\n",
    "idx = 0\n",
    "\n",
    "with open(pointdata_fn, 'r') as file:\n",
    "    lines = file.readlines()[3:] # Skip the first three lines \n",
    "    for line in lines:\n",
    "        elements = line.strip().split()\n",
    "        row = [float(elem) for elem in list(elements)]\n",
    "\n",
    "        rgba_data[idx,0] = row[4]\n",
    "        rgba_data[idx,1] = row[5]\n",
    "        rgba_data[idx,2] = row[6]\n",
    "        rgba_data[idx,3] = .5\n",
    "        idx += 1\n",
    "\n",
    "# SCALE COLORS\n",
    "# rgba_data = rgba_data/255\n",
    "rgba_data[:, :3] = rgba_data[:, :3] / 255\n",
    "# print(scene_pts[:10])"
   ]
  },
  {
   "cell_type": "code",
   "execution_count": 4,
   "id": "ab1eb4aa-c351-4ac5-b1b1-77ced6341c2d",
   "metadata": {},
   "outputs": [
    {
     "name": "stdout",
     "output_type": "stream",
     "text": [
      "250.99782250100847\n"
     ]
    }
   ],
   "source": [
    "# Convert COLMAP poses (xyz,quats) to rotm\n",
    "\n",
    "poses = np.zeros([len(images_colmap),4,4])\n",
    "images = np.zeros([len(poses),250,250,3])\n",
    "\n",
    "\n",
    "skip_indices = {56, 58}  # Use a set to store the indices to skip\n",
    "\n",
    "#loop through <images_from_colmap> to get 3D poses of cameras at each timestamp\n",
    "# print(len(images_from_colmap))\n",
    "for n in range(len(images_colmap)):\n",
    "    # if n in skip_indices:\n",
    "        # continue\n",
    "\n",
    "\n",
    "    # Pull quaternion and translation vector\n",
    "    qvec = images_colmap[n+1].qvec #raw\n",
    "    # print(qvec)\n",
    "    # print(images_colmap[n+1].tvec)\n",
    "    tvec = images_colmap[n+1].tvec[:,None]\n",
    "    # print(tvec)\n",
    "    \n",
    "    t = tvec.reshape([3,1])\n",
    "    # print(tvec)\n",
    "    Rotmat = qvec2rotmat(-qvec)\n",
    "    \n",
    "    bottom = np.array([0.0, 0.0, 0.0, 1.0]).reshape([1, 4])\n",
    "    m = np.concatenate([np.concatenate([Rotmat, t], 1), bottom], 0)\n",
    "    c2w = np.linalg.inv(m)\n",
    "\n",
    "    # NERF SPECIFIC ROTATIONS \n",
    "    # c2w[0:3,2] *= -1 # flip the y and z axis\n",
    "    # c2w[0:3,1] *= -1\n",
    "    # c2w = c2w[[1,0,2,3],:]\n",
    "    # c2w[2,:] *= -1 # flip whole world upside down\n",
    "    \n",
    "\n",
    "\n",
    "    poses[n] = c2w\n",
    "    # poses[n] = m\n",
    "    \n",
    "    #~~~~~~~~~~~~~~~~~~~~~~~~~~~~~~~~~~~~~~~~~~~~~\n",
    "\n",
    "#GET REST OF PARAMS NEEDED FOR tinyNeRF format~~~~~~~~~~~~~~~~~~~~~~~~~~~~    \n",
    "\n",
    "#fix order of colors\n",
    "images[:,:,:,0], images[:,:,:,1] = images[:,:,:,1], images[:,:,:,0]\n",
    "\n",
    "H,W = images.shape[1:3]\n",
    "# print(H,W)\n",
    "testimg, testpose = images[55], poses[55]\n",
    "\n",
    "focal = cameras[1].params[0] #test- see if same focal length can be shared across all images\n",
    "focal = focal/12\n",
    "print(focal)\n",
    "# print(poses)\n",
    "#~~~~~~~~~~~~~~~~~~~~~~~~~~~~~~~~~~~~~~~~~~~~~~~~~~~~~~~~~~~~~~~~~~~~~~~~~"
   ]
  },
  {
   "cell_type": "code",
   "execution_count": 5,
   "id": "0c70098d-fbab-49ad-b825-06ed93bb0577",
   "metadata": {},
   "outputs": [],
   "source": [
    "# np.save('poses_tuftsww.npy', poses)\n",
    "# np.save('tuftsww_3dpts.npy', scene_pts)"
   ]
  },
  {
   "cell_type": "code",
   "execution_count": 6,
   "id": "de73ac0a-4595-4d7f-b1e2-7823af247ca0",
   "metadata": {},
   "outputs": [
    {
     "name": "stdout",
     "output_type": "stream",
     "text": [
      "[0.16078431 0.16078431 0.04705882 0.5       ]\n"
     ]
    }
   ],
   "source": [
    "print(rgba_data[1])"
   ]
  },
  {
   "cell_type": "markdown",
   "id": "35e90041-bb25-499b-b22b-6d4756c987bd",
   "metadata": {},
   "source": [
    "# Plotting 3D point Cloud "
   ]
  },
  {
   "cell_type": "code",
   "execution_count": 7,
   "id": "65e1e71d-5c29-4b8c-ab31-28f336931a4a",
   "metadata": {},
   "outputs": [
    {
     "name": "stderr",
     "output_type": "stream",
     "text": [
      "libGL: Can't open configuration file /etc/drirc: No such file or directory.\n",
      "libGL: Can't open configuration file /home/daniel-choate/.drirc: No such file or directory.\n",
      "using driver i915 for 70\n",
      "libGL: Can't open configuration file /etc/drirc: No such file or directory.\n",
      "libGL: Can't open configuration file /home/daniel-choate/.drirc: No such file or directory.\n",
      "using driver i915 for 70\n",
      "pci id for fd 70: 8086:a7a0, driver iris\n",
      "MESA-LOADER: dlopen(/usr/lib/x86_64-linux-gnu/dri/iris_dri.so)\n",
      "libGL: Can't open configuration file /etc/drirc: No such file or directory.\n",
      "libGL: Can't open configuration file /home/daniel-choate/.drirc: No such file or directory.\n",
      "libGL: Can't open configuration file /etc/drirc: No such file or directory.\n",
      "libGL: Can't open configuration file /home/daniel-choate/.drirc: No such file or directory.\n",
      "libGL: Can't open configuration file /etc/drirc: No such file or directory.\n",
      "libGL: Can't open configuration file /home/daniel-choate/.drirc: No such file or directory.\n",
      "Using DRI3 for screen 0\n"
     ]
    }
   ],
   "source": [
    "# Plotting 3D points\n",
    "# BY ITSELF\n",
    "# Data generated by COLMAP\n",
    "\n",
    "vis = o3d.visualization.Visualizer()\n",
    "vis.create_window()\n",
    "\n",
    "scene_cloud = o3d.geometry.PointCloud()\n",
    "scene_cloud.points = o3d.utility.Vector3dVector(scene_pts)\n",
    "scene_cloud.colors = o3d.utility.Vector3dVector(rgb_data)\n",
    "# scene_cloud.colors = o3d.utility.Vector3dVector(rgba_data)\n",
    "vis.add_geometry(scene_cloud)\n",
    "\n",
    "# render_option = vis.get_render_option()\n",
    "render_option = vis.get_render_option()\n",
    "\n",
    "render_option.point_size = 2.5\n",
    "# render_option.point_alpha = .5\n",
    "\n",
    "vis.run()\n",
    "\n",
    "vis.destroy_window()\n"
   ]
  },
  {
   "cell_type": "markdown",
   "id": "cb90c68d-19e6-45ff-b60b-515d6d0448ae",
   "metadata": {},
   "source": [
    "# Plotting 3D coord frames"
   ]
  },
  {
   "cell_type": "code",
   "execution_count": 8,
   "id": "d4f684c1-71be-472b-a66b-a98dbd409bb6",
   "metadata": {},
   "outputs": [
    {
     "name": "stderr",
     "output_type": "stream",
     "text": [
      "libGL: Can't open configuration file /etc/drirc: No such file or directory.\n",
      "libGL: Can't open configuration file /home/daniel-choate/.drirc: No such file or directory.\n",
      "using driver i915 for 70\n",
      "libGL: Can't open configuration file /etc/drirc: No such file or directory.\n",
      "libGL: Can't open configuration file /home/daniel-choate/.drirc: No such file or directory.\n",
      "using driver i915 for 70\n",
      "pci id for fd 70: 8086:a7a0, driver iris\n",
      "MESA-LOADER: dlopen(/usr/lib/x86_64-linux-gnu/dri/iris_dri.so)\n",
      "libGL: Can't open configuration file /etc/drirc: No such file or directory.\n",
      "libGL: Can't open configuration file /home/daniel-choate/.drirc: No such file or directory.\n",
      "libGL: Can't open configuration file /etc/drirc: No such file or directory.\n",
      "libGL: Can't open configuration file /home/daniel-choate/.drirc: No such file or directory.\n",
      "libGL: Can't open configuration file /etc/drirc: No such file or directory.\n",
      "libGL: Can't open configuration file /home/daniel-choate/.drirc: No such file or directory.\n",
      "Using DRI3 for screen 0\n"
     ]
    }
   ],
   "source": [
    "# Create Open3D visualizer object\n",
    "vis = o3d.visualization.Visualizer()\n",
    "vis.create_window(window_name='3D Plot with Pose Axes and Point Cloud', width=1000, height=1000)\n",
    "\n",
    "# Add coordinate axes\n",
    "axes = o3d.geometry.TriangleMesh.create_coordinate_frame(size=0.5)\n",
    "\n",
    "# loop through poses \n",
    "for pose in poses:\n",
    "    homog_t = pose\n",
    "    axes1 = copy.deepcopy(axes).transform(homog_t)\n",
    "    vis.add_geometry(axes1)\n",
    "    \n",
    "\n",
    "vis.add_geometry(axes)\n",
    "# vis.add_geometry(scene_cloud)\n",
    "\n",
    "# Run the visualizer\n",
    "vis.run()\n",
    "vis.destroy_window()"
   ]
  },
  {
   "cell_type": "markdown",
   "id": "a37fc5b9-f582-4b18-a53a-e785db9e97e5",
   "metadata": {},
   "source": [
    "# Coord frames and point cloud"
   ]
  },
  {
   "cell_type": "code",
   "execution_count": 9,
   "id": "3d2082ca-e937-43ba-91cc-52685467fbbf",
   "metadata": {},
   "outputs": [
    {
     "name": "stderr",
     "output_type": "stream",
     "text": [
      "libGL: Can't open configuration file /etc/drirc: No such file or directory.\n",
      "libGL: Can't open configuration file /home/daniel-choate/.drirc: No such file or directory.\n",
      "using driver i915 for 70\n",
      "libGL: Can't open configuration file /etc/drirc: No such file or directory.\n",
      "libGL: Can't open configuration file /home/daniel-choate/.drirc: No such file or directory.\n",
      "using driver i915 for 70\n",
      "pci id for fd 70: 8086:a7a0, driver iris\n",
      "MESA-LOADER: dlopen(/usr/lib/x86_64-linux-gnu/dri/iris_dri.so)\n",
      "libGL: Can't open configuration file /etc/drirc: No such file or directory.\n",
      "libGL: Can't open configuration file /home/daniel-choate/.drirc: No such file or directory.\n",
      "libGL: Can't open configuration file /etc/drirc: No such file or directory.\n",
      "libGL: Can't open configuration file /home/daniel-choate/.drirc: No such file or directory.\n",
      "libGL: Can't open configuration file /etc/drirc: No such file or directory.\n",
      "libGL: Can't open configuration file /home/daniel-choate/.drirc: No such file or directory.\n",
      "Using DRI3 for screen 0\n"
     ]
    }
   ],
   "source": [
    "# Create Open3D visualizer object\n",
    "vis = o3d.visualization.Visualizer()\n",
    "vis.create_window(window_name='3D Plot with Pose Axes and Point Cloud', width=1000, height=1000)\n",
    "\n",
    "# Add coordinate axes\n",
    "axes = o3d.geometry.TriangleMesh.create_coordinate_frame(size=0.1)\n",
    "\n",
    "# loop through poses \n",
    "for pose in poses:\n",
    "    homog_t = pose\n",
    "    axes1 = copy.deepcopy(axes).transform(homog_t)\n",
    "    vis.add_geometry(axes1)\n",
    "    \n",
    "\n",
    "vis.add_geometry(axes)\n",
    "vis.add_geometry(scene_cloud)\n",
    "\n",
    "# Run the visualizer\n",
    "vis.run()\n",
    "vis.destroy_window()"
   ]
  },
  {
   "cell_type": "code",
   "execution_count": 10,
   "id": "ef255cb3-97a6-4b9e-a091-a3054750640a",
   "metadata": {},
   "outputs": [],
   "source": [
    "# import tensorflow as tf\n",
    "# import keras\n",
    "\n",
    "# print(\"TensorFlow version:\", tf.__version__)\n",
    "# print(\"Keras version:\", keras.__version__)\n"
   ]
  },
  {
   "cell_type": "markdown",
   "id": "f3a67358-c243-43d1-9529-74ffd79af309",
   "metadata": {},
   "source": [
    "# Voxelization"
   ]
  },
  {
   "cell_type": "code",
   "execution_count": 11,
   "id": "8875acb8-1cc7-4203-a511-48e607398bdf",
   "metadata": {},
   "outputs": [
    {
     "name": "stdout",
     "output_type": "stream",
     "text": [
      "[[ 642.]\n",
      " [1838.]\n",
      " [1041.]\n",
      " ...\n",
      " [1040.]\n",
      " [1040.]\n",
      " [1040.]]\n"
     ]
    }
   ],
   "source": [
    "# Finding the parameters of the max and min x values \n",
    "# Specify parameters of voxelization x,y,z\n",
    "\n",
    "max_x = 9\n",
    "max_y = 17\n",
    "max_z = 48\n",
    "min_x = -28\n",
    "min_y = -25\n",
    "min_z = -6\n",
    "\n",
    "# Specify voxel width \n",
    "width = 2\n",
    "\n",
    "vox_x = np.ceil((max_x - min_x)/width)\n",
    "vox_y = np.ceil((max_y - min_y)/width)\n",
    "vox_z = np.ceil((max_z - min_z)/width)\n",
    "num_vox = vox_x*vox_y*vox_z\n",
    "\n",
    "\n",
    "\n",
    "\n",
    "\n",
    "vox_dist = voxel_distribution(width, min_x, min_y, min_z, max_x, max_y, max_z, scene_pts)\n",
    "# print(num_vox)\n",
    "print(vox_dist)"
   ]
  },
  {
   "cell_type": "code",
   "execution_count": 20,
   "id": "7c9f4c03-6e9d-4caf-b740-06c203780878",
   "metadata": {},
   "outputs": [],
   "source": [
    "# Choosing a SPECIFIC VOXEL to plot \n",
    "\n",
    "# Specify the x,y,z location \n",
    "x_spec = 1\n",
    "y_spec = 1\n",
    "z_spec = 1\n",
    "\n",
    "vox_ID = x_spec + ((y_spec-1)*vox_x) + ((z_spec-1)*vox_y*vox_z)\n",
    "# Or, specify index directly \n",
    "vox_ID = 642\n",
    "color_red = [1,0,0]\n"
   ]
  },
  {
   "cell_type": "code",
   "execution_count": 21,
   "id": "5657e649-ed55-415e-8d8a-3f5bcc1f8a4f",
   "metadata": {},
   "outputs": [
    {
     "name": "stderr",
     "output_type": "stream",
     "text": [
      "libGL: Can't open configuration file /etc/drirc: No such file or directory.\n",
      "libGL: Can't open configuration file /home/daniel-choate/.drirc: No such file or directory.\n",
      "using driver i915 for 70\n",
      "libGL: Can't open configuration file /etc/drirc: No such file or directory.\n",
      "libGL: Can't open configuration file /home/daniel-choate/.drirc: No such file or directory.\n",
      "using driver i915 for 70\n",
      "pci id for fd 70: 8086:a7a0, driver iris\n",
      "MESA-LOADER: dlopen(/usr/lib/x86_64-linux-gnu/dri/iris_dri.so)\n",
      "libGL: Can't open configuration file /etc/drirc: No such file or directory.\n",
      "libGL: Can't open configuration file /home/daniel-choate/.drirc: No such file or directory.\n",
      "libGL: Can't open configuration file /etc/drirc: No such file or directory.\n",
      "libGL: Can't open configuration file /home/daniel-choate/.drirc: No such file or directory.\n",
      "libGL: Can't open configuration file /etc/drirc: No such file or directory.\n",
      "libGL: Can't open configuration file /home/daniel-choate/.drirc: No such file or directory.\n",
      "Using DRI3 for screen 0\n"
     ]
    }
   ],
   "source": [
    "# Plotting specific voxel \n",
    "# First, plot original scene \n",
    "\n",
    "vis = o3d.visualization.Visualizer()\n",
    "vis.create_window()\n",
    "axes = o3d.geometry.TriangleMesh.create_coordinate_frame(size=0.1)\n",
    "\n",
    "# Add geometry \n",
    "vis.add_geometry(scene_cloud)\n",
    "vis.add_geometry(axes)\n",
    "\n",
    "# Color SPECIFIED VOXEL \n",
    "vis = plot_spec_vox(vis, scene_pts, vox_dist, vox_ID, color_red)\n",
    "\n",
    "# Run the visualization\n",
    "vis.run()\n",
    "vis.destroy_window()\n"
   ]
  },
  {
   "cell_type": "code",
   "execution_count": 22,
   "id": "afa1d2a8-3374-4903-93df-e881c2336959",
   "metadata": {},
   "outputs": [],
   "source": [
    "# NEW GOAL\n",
    "# Given: idx of all pts inside voxel\n",
    "# Calc: muh and sigma "
   ]
  },
  {
   "cell_type": "code",
   "execution_count": 33,
   "id": "4efe1d1d-09c0-4070-9cc1-e4314eed5aeb",
   "metadata": {},
   "outputs": [
    {
     "name": "stdout",
     "output_type": "stream",
     "text": [
      "[0.37503568 0.00979393 0.0519995 ]\n",
      "[[-0.32214535 -0.75319345  0.57351722]\n",
      " [-0.13864862  0.63681747  0.75844582]\n",
      " [ 0.93648221 -0.16481242  0.30957702]]\n"
     ]
    }
   ],
   "source": [
    "# Get indices for a random voxel \n",
    "\n",
    "ind_spec = np.argwhere(vox_dist == vox_ID) # specified indices\n",
    "# print(ind_spec)\n",
    "pts_spec = scene_pts[ind_spec[:,0],:] # points from specified indices\n",
    "# print(pts_spec)\n",
    "\n",
    "# CALC MUH\n",
    "muh_pts = np.mean(pts_spec, axis=0)\n",
    "# print(muh_pts)\n",
    "\n",
    "# CALC COV\n",
    "cov_pts = np.cov(pts_spec, rowvar=False)\n",
    "# print(cov_pts)\n",
    "\n",
    "eig_vals, eig_vect = np.linalg.eig(cov_pts)\n",
    "print(eig_vals)\n",
    "# CHECK VECTORS, 3x1 or 1x3 ?*?*?*\n",
    "print(eig_vect)\n"
   ]
  },
  {
   "cell_type": "code",
   "execution_count": 25,
   "id": "881c9643-fe94-49d7-b390-a69c49804cd0",
   "metadata": {},
   "outputs": [
    {
     "name": "stderr",
     "output_type": "stream",
     "text": [
      "libGL: Can't open configuration file /etc/drirc: No such file or directory.\n",
      "libGL: Can't open configuration file /home/daniel-choate/.drirc: No such file or directory.\n",
      "using driver i915 for 70\n",
      "libGL: Can't open configuration file /etc/drirc: No such file or directory.\n",
      "libGL: Can't open configuration file /home/daniel-choate/.drirc: No such file or directory.\n",
      "using driver i915 for 70\n",
      "pci id for fd 70: 8086:a7a0, driver iris\n",
      "MESA-LOADER: dlopen(/usr/lib/x86_64-linux-gnu/dri/iris_dri.so)\n",
      "libGL: Can't open configuration file /etc/drirc: No such file or directory.\n",
      "libGL: Can't open configuration file /home/daniel-choate/.drirc: No such file or directory.\n",
      "libGL: Can't open configuration file /etc/drirc: No such file or directory.\n",
      "libGL: Can't open configuration file /home/daniel-choate/.drirc: No such file or directory.\n",
      "libGL: Can't open configuration file /etc/drirc: No such file or directory.\n",
      "libGL: Can't open configuration file /home/daniel-choate/.drirc: No such file or directory.\n",
      "Using DRI3 for screen 0\n"
     ]
    },
    {
     "name": "stdout",
     "output_type": "stream",
     "text": [
      "\u001b[1;33m[Open3D WARNING] The number of points is 0 when creating axis-aligned bounding box.\u001b[0;m\n"
     ]
    }
   ],
   "source": [
    "# Plot points from voxel with mean \n",
    "\n",
    "# Plotting specific voxel \n",
    "# First, plot original scene \n",
    "\n",
    "vis = o3d.visualization.Visualizer()\n",
    "vis.create_window()\n",
    "axes = o3d.geometry.TriangleMesh.create_coordinate_frame(size=0.1)\n",
    "pts_spec = o3d.geometry.PointCloud()\n",
    "# muh_pts = o3d.geometry.PointCloud()\n",
    "# muh_pts.paint_uniform_color([0,0,1])\n",
    "muh_sphere = o3d.geometry.TriangleMesh.create_sphere(radius = .05)\n",
    "muh_sphere.translate(muh_pts, relative=True)\n",
    "\n",
    "\n",
    "\n",
    "# Add geometry \n",
    "vis.add_geometry(pts_spec)\n",
    "vis.add_geometry(axes)\n",
    "\n",
    "# ADD MUH\n",
    "vis.add_geometry(muh_sphere)\n",
    "\n",
    "\n",
    "# Color SPECIFIED VOXEL \n",
    "vis = plot_spec_vox(vis, scene_pts, vox_dist, vox_ID, color_red)\n",
    "\n",
    "# Run the visualization\n",
    "vis.run()\n",
    "vis.destroy_window()"
   ]
  },
  {
   "cell_type": "code",
   "execution_count": null,
   "id": "2023a814-4196-472d-b098-15788e68c3ff",
   "metadata": {},
   "outputs": [],
   "source": []
  }
 ],
 "metadata": {
  "kernelspec": {
   "display_name": "Python 3 (ipykernel)",
   "language": "python",
   "name": "python3"
  },
  "language_info": {
   "codemirror_mode": {
    "name": "ipython",
    "version": 3
   },
   "file_extension": ".py",
   "mimetype": "text/x-python",
   "name": "python",
   "nbconvert_exporter": "python",
   "pygments_lexer": "ipython3",
   "version": "3.9.18"
  }
 },
 "nbformat": 4,
 "nbformat_minor": 5
}
