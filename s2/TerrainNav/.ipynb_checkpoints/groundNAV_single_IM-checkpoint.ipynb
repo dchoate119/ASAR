{
 "cells": [
  {
   "cell_type": "markdown",
   "id": "70340f67-2604-4535-bd6b-21309d48b5ab",
   "metadata": {},
   "source": [
    "# Ground Navigation for Aerial Vehicles"
   ]
  },
  {
   "cell_type": "markdown",
   "id": "200f2dce-317d-4ea8-8e52-a15ed02f7b92",
   "metadata": {},
   "source": [
    "With a satellite reference image, we intend to utilize a SfM solution to match ground segments of images to the reference map.\n",
    "- Inputs: Reference image (satellite), SfM solution (images, points, cameras), selected images (SINGLE)\n",
    "- Output: Correction solutions for translation, rotation, scaling"
   ]
  },
  {
   "cell_type": "markdown",
   "id": "65668f1a-f6bf-4ff9-a04e-ad2adde3522f",
   "metadata": {},
   "source": [
    "### Single image as opposed to multi-image submap"
   ]
  },
  {
   "cell_type": "code",
   "execution_count": null,
   "id": "6957051b-d9a3-4b5b-85a7-a4a2279e987f",
   "metadata": {},
   "outputs": [],
   "source": [
    "import numpy as np\n",
    "import cv2\n",
    "import open3d as o3d\n",
    "import plotly.graph_objects as go\n",
    "import plotly.io as pio\n",
    "from scipy.spatial.transform import Rotation as R\n",
    "from scipy.spatial import cKDTree\n",
    "import imageio\n",
    "# %matplotlib qt\n",
    "import matplotlib.pyplot as plt\n",
    "from matplotlib.path import Path\n",
    "\n",
    "from groundNAV_agent import *\n",
    "from colmapParsingUtils import *\n",
    "import pycolmap\n",
    "\n",
    "# SAVE YOUR WORK\n",
    "%load_ext autoreload\n",
    "%autoreload 2\n",
    "%autosave 180"
   ]
  },
  {
   "cell_type": "code",
   "execution_count": null,
   "id": "77b98442-35b0-403c-a2bc-3c6fe661f201",
   "metadata": {},
   "outputs": [],
   "source": [
    "# CLOSER IMAGES \n",
    "# Load in necessary parameters for gNAV agent \n",
    "# Define Class Parameters \n",
    "\n",
    "images_colm  = \"/home/daniel-choate/ASAR/s2/TerrainNav/TTurf/test/images.txt\"\n",
    "cameras_colm = \"/home/daniel-choate/ASAR/s2/TerrainNav/TTurf/test/cameras.txt\"\n",
    "pts3d_colm = \"/home/daniel-choate/ASAR/s2/TerrainNav/TTurf/test/points3D_f.txt\"\n",
    "\n",
    "# Images selected for local corrections\n",
    "image_1 = \"/home/daniel-choate/Datasets/COLMAP/TTurfSAT/TTurf_Im/IMG_9570.JPEG\"\n",
    "image_2 = \"/home/daniel-choate/Datasets/COLMAP/TTurfSAT/TTurf_Im/IMG_9570.JPEG\"\n",
    "image_3 = \"/home/daniel-choate/Datasets/COLMAP/TTurfSAT/TTurf_Im/IMG_9570.JPEG\"\n",
    "image_4 = \"/home/daniel-choate/Datasets/COLMAP/TTurfSAT/TTurf_Im/IMG_9570.JPEG\"\n",
    "# Load in satellite reference image\n",
    "sat_ref = \"TTurf/TurfSat.jpg\"\n",
    "\n",
    "# Organize for agent params\n",
    "images = [image_1, image_2, image_3, image_4,]"
   ]
  },
  {
   "cell_type": "code",
   "execution_count": null,
   "id": "315494c1-20d7-4a2b-8bbb-89e1afa52f4b",
   "metadata": {},
   "outputs": [],
   "source": [
    "# Create class\n",
    "gnav = gNAV_agent(images_colm, cameras_colm, pts3d_colm, images, sat_ref)\n",
    "\n",
    "# Grab raw points and RGB data for scene and reference cloud\n",
    "scene_pts, rgb_data = gnav.grab_pts(gnav.pts3d_c)\n",
    "ref_pts, ref_rgb = gnav.ref_pts, gnav.ref_rgb"
   ]
  },
  {
   "cell_type": "code",
   "execution_count": null,
   "id": "2b423952-ccef-4f16-a485-7a73f26c48cb",
   "metadata": {},
   "outputs": [],
   "source": [
    "# Use ground plane pts to set reference frame \n",
    "# Need gravity and height\n",
    "pts_gnd_idx = np.array([25440, 25450, 25441, 25449, 25442, 25445, 103922, 103921, 103919, 103920])\n",
    "# tform_ref_frame = gnav.set_ref_frame(pts_gnd_idx) # THIS IS WHAT I AM CHANGING \n",
    "tform_ref_frame = gnav.set_ref_frame_mid(pts_gnd_idx) # NEW VERSION\n",
    "tform_ref_frame_pts = gnav.inv_homog_transform(tform_ref_frame)\n",
    "print(\"\\nReference frame transformation\\n\", tform_ref_frame_pts)"
   ]
  },
  {
   "cell_type": "code",
   "execution_count": null,
   "id": "5616859f-e771-4a4e-8e85-6ba3a1f05126",
   "metadata": {},
   "outputs": [],
   "source": [
    "# Transform all points to the new coordinate system \n",
    "# Not necessary since we aren't using the cloud, but a good visual check for coord frame\n",
    "tform_ref_frame_inv = gnav.inv_homog_transform(tform_ref_frame)\n",
    "origin_ref, scene_pts_ref, scene_vec_ref = gnav.unit_vec_tform(scene_pts, gnav.origin_w, tform_ref_frame_inv)\n",
    "# print(origin_ref)\n",
    "# Transform scene cloud to 2D (also as a visual check)\n",
    "# Note: 2d projection will look off with z=-1; see TTurf_v2 for cropping method\n",
    "scene_ref_2d = gnav.proj_2d_scene(scene_pts_ref)\n",
    "# print(scene_ref_2d)"
   ]
  },
  {
   "cell_type": "markdown",
   "id": "31408d95-d4cf-4e4c-b221-e0193bc029a5",
   "metadata": {},
   "source": [
    "### 4 Sections of same image "
   ]
  },
  {
   "cell_type": "code",
   "execution_count": null,
   "id": "b0cc8f8f-4ada-4692-88d0-52f6614d3fd4",
   "metadata": {},
   "outputs": [],
   "source": [
    "# Section 0 -B bottom portion \n",
    "imnum = 0\n",
    "x,y = 500,1600\n",
    "side_x = 500 # WIDTH\n",
    "side_y = 500 # HEIGHT\n",
    "\n",
    "# Plot to visualize\n",
    "gnav.plot_rect_im(x, y, side_x, side_y, imnum) \n",
    "\n",
    "# Get necessary location and rgb data \n",
    "pts_loc, pts_rgb = gnav.grab_image_pts(x, y, side_x, side_y, imnum)"
   ]
  },
  {
   "cell_type": "code",
   "execution_count": null,
   "id": "a629ea66-4ab8-4b02-84d6-3eebf4852856",
   "metadata": {},
   "outputs": [],
   "source": [
    "# Section 1 - hash and endzone section\n",
    "imnum = 1\n",
    "x,y = 1500,1700\n",
    "side_x = 500 # WIDTH\n",
    "side_y = 300 # HEIGHT\n",
    "\n",
    "# Plot to visualize\n",
    "gnav.plot_rect_im(x, y, side_x, side_y, imnum) \n",
    "\n",
    "# Get necessary location and rgb data \n",
    "pts_loc, pts_rgb = gnav.grab_image_pts(x, y, side_x, side_y, imnum)"
   ]
  },
  {
   "cell_type": "code",
   "execution_count": null,
   "id": "509a1d0b-9b57-4fce-a1c6-f5f2691dc0ec",
   "metadata": {},
   "outputs": [],
   "source": [
    "# Section 2 - O in jumbos\n",
    "imnum = 2\n",
    "x,y = 1800,1500\n",
    "side_x = 300 # WIDTH\n",
    "side_y = 200 # HEIGHT\n",
    "\n",
    "# Plot to visualize\n",
    "gnav.plot_rect_im(x, y, side_x, side_y, imnum) \n",
    "\n",
    "# Get necessary location and rgb data \n",
    "pts_loc, pts_rgb = gnav.grab_image_pts(x, y, side_x, side_y, imnum)"
   ]
  },
  {
   "cell_type": "code",
   "execution_count": null,
   "id": "f8839eeb-01d7-4493-b086-a8b2d2d65c3d",
   "metadata": {},
   "outputs": [],
   "source": [
    "# Section 3 - 5yd hash\n",
    "imnum = 3\n",
    "x,y = 2500,1800\n",
    "side_x = 450 # WIDTH\n",
    "side_y = 300 # HEIGHT\n",
    "\n",
    "# Plot to visualize\n",
    "gnav.plot_rect_im(x, y, side_x, side_y, imnum) \n",
    "\n",
    "# Get necessary location and rgb data \n",
    "pts_loc, pts_rgb = gnav.grab_image_pts(x, y, side_x, side_y, imnum)"
   ]
  },
  {
   "cell_type": "code",
   "execution_count": null,
   "id": "58b6f289-d424-4467-a5ab-cdd569ef9805",
   "metadata": {},
   "outputs": [],
   "source": [
    "## Generate projection of image sections \n",
    "for i in range(len(images)):\n",
    "# Just for the first image for now\n",
    "# for i in range(1):\n",
    "    # Unit vectors in camera coords \n",
    "    pts_vec_c, pts_rgb_gnd = gnav.unit_vec_c(i)\n",
    "    gnav.im_mosaic[i] = {'rgbc': pts_rgb_gnd}\n",
    "\n",
    "    # Get transformation matrix that move from camera coords to world coords\n",
    "    id = gnav.im_ids[i]\n",
    "    homog_w2c, homog_c2w = gnav.get_pose_id(id,i)\n",
    "    # print('Homogeneous transformation from world to camera \\n', homog_c2w)\n",
    "    # print('\\n Homogeneous transformation from camera to world \\n', homog_w2c)\n",
    "\n",
    "    # Transform to world coords\n",
    "    origin_c, pts_loc_w, pts_vec_w = gnav.unit_vec_tform(pts_vec_c, gnav.origin_w, homog_c2w)\n",
    "    # print('\\n New camera frame origin = ', origin_c)\n",
    "    \n",
    "    # Get new points \n",
    "    ranges, new_pts_w = gnav.pt_range(pts_vec_w, homog_c2w, origin_c, i)\n",
    "    # print('\\nNew Points \\n', new_pts_w)\n",
    "\n",
    "    # Transfer points to reference frame\n",
    "    __, new_pts_r, pts_vec_r = gnav.unit_vec_tform(new_pts_w, gnav.origin_w, tform_ref_frame_pts)\n",
    "\n",
    "    # Convert points to grayscale \n",
    "    gray_c = gnav.conv_to_gray(gnav.im_mosaic[i]['rgbc'],i)\n",
    "    # print(gray_c)\n",
    "\n",
    "    # Put new points and grayscale colors in image mosaic\n",
    "    gnav.im_mosaic[i]['pts'] = new_pts_r\n",
    "    gnav.im_mosaic[i]['color_g'] = gray_c\n",
    "    \n",
    "    print(\"\\nDone image \", i)"
   ]
  },
  {
   "cell_type": "code",
   "execution_count": null,
   "id": "71424567-441b-4595-a850-0474b5207413",
   "metadata": {},
   "outputs": [],
   "source": [
    "# PLOT representative figure\n",
    "\n",
    "# Use open3d to create point cloud visualization \n",
    "# Create visualization \n",
    "vis = o3d.visualization.Visualizer()\n",
    "vis.create_window(window_name=\"Mosaic scene projection - COLMAP coords\")\n",
    "\n",
    "# Create axes @ origin\n",
    "axis_origin = o3d.geometry.TriangleMesh.create_coordinate_frame(size=1)\n",
    "\n",
    "\n",
    "# POINT CLOUDS \n",
    "for i in range(len(images)):\n",
    "    cloud = o3d.geometry.PointCloud()\n",
    "    cloud.points = o3d.utility.Vector3dVector(gnav.im_mosaic[i]['pts'])\n",
    "    cloud.colors = o3d.utility.Vector3dVector(gnav.im_mosaic[i]['color_g'])\n",
    "    vis.add_geometry(cloud)\n",
    "\n",
    "\n",
    "vis.add_geometry(axis_origin)\n",
    "\n",
    "# # Size options (jupyter gives issues when running this multiple times, but it looks better)\n",
    "# render_option = vis.get_render_option()\n",
    "# render_option.point_size = 2\n",
    "\n",
    "\n",
    "# Run and destroy visualization \n",
    "vis.run()\n",
    "vis.destroy_window()"
   ]
  },
  {
   "cell_type": "markdown",
   "id": "68bfa760-3e37-4f2f-82ef-e0c26a31a898",
   "metadata": {},
   "source": [
    "## Implement Guess and Plot"
   ]
  },
  {
   "cell_type": "code",
   "execution_count": null,
   "id": "0e909b6e-6445-418c-9562-957b855ff7df",
   "metadata": {},
   "outputs": [],
   "source": [
    "# Implementing an initial guess for the local image \n",
    "\n",
    "# SCALE for initial guess \n",
    "# scale = gnav.focal/39\n",
    "scale = 80\n",
    "\n",
    "\n",
    "# BEST after CONVERGENCE\n",
    "scale = 80.14819958\n",
    "yaw = 2.44777939\n",
    "x = -55.46495001\n",
    "y = 21.62910054\n",
    "\n",
    "# NEW solution for single image\n",
    "scale = 65\n",
    "yaw = np.deg2rad(134)\n",
    "x = -46\n",
    "y = 13\n",
    "\n",
    "\n",
    "tform_guess = gnav.tform_create(x,y,0,0,0,yaw)\n",
    "gnav.best_guess_tform = tform_guess\n",
    "gnav.best_guess_scale = scale\n",
    "# print(tform_guess)\n",
    "\n",
    "\n",
    "# NEW IMPLEMENTATION STRATEGY\n",
    "for i in range(len(images)):\n",
    "# Just for the first image for now\n",
    "# for i in range(1):\n",
    "    loc_im_pts = gnav.im_mosaic[i]['pts'].copy()\n",
    "    # print(loc_im_pts)\n",
    "\n",
    "    loc_im_pts[:, :2] *= scale # For SINGLE scale factor\n",
    "    # Get new points \n",
    "    __, loc_im_pts_guess, loc_im_vec_guess = gnav.unit_vec_tform(loc_im_pts, gnav.origin_w, tform_guess)\n",
    "    gnav.im_pts_best_guess[i] = {'pts': loc_im_pts_guess}\n",
    "    # gnav.im_pts_best_guess[i]['tree'] = cKDTree(loc_im_pts_guess) # UNECESSARY \n",
    "\n",
    "    print(\"\\nDone image \", i)"
   ]
  },
  {
   "cell_type": "code",
   "execution_count": null,
   "id": "e3fb580e-8841-49bc-815c-6d3faeb85921",
   "metadata": {},
   "outputs": [],
   "source": [
    "# PLOT representative figure\n",
    "\n",
    "# Use open3d to create point cloud visualization \n",
    "# Create visualization \n",
    "vis = o3d.visualization.Visualizer()\n",
    "vis.create_window(window_name=\"Mosaic scene projection - COLMAP coords\")\n",
    "\n",
    "# Create axes @ origin\n",
    "axis_origin = o3d.geometry.TriangleMesh.create_coordinate_frame(size=40)\n",
    "\n",
    "\n",
    "# POINT CLOUDS \n",
    "for i in range(len(images)):\n",
    "    cloud = o3d.geometry.PointCloud()\n",
    "    cloud.points = o3d.utility.Vector3dVector(gnav.im_pts_best_guess[i]['pts'])\n",
    "    cloud.colors = o3d.utility.Vector3dVector(gnav.im_mosaic[i]['color_g'])\n",
    "    vis.add_geometry(cloud)\n",
    "\n",
    "# Create point cloud for reference cloud (satellite)\n",
    "ref_cloud = o3d.geometry.PointCloud()\n",
    "ref_cloud.points = o3d.utility.Vector3dVector(gnav.ref_pts)\n",
    "ref_cloud.colors = o3d.utility.Vector3dVector(gnav.ref_rgb)\n",
    "\n",
    "vis.add_geometry(ref_cloud)\n",
    "vis.add_geometry(axis_origin)\n",
    "\n",
    "# # Size options (jupyter gives issues when running this multiple times, but it looks better)\n",
    "# render_option = vis.get_render_option()\n",
    "# render_option.point_size = 2\n",
    "\n",
    "\n",
    "# Run and destroy visualization \n",
    "vis.run()\n",
    "vis.destroy_window()"
   ]
  },
  {
   "cell_type": "code",
   "execution_count": null,
   "id": "af41941e-4015-47b8-8af4-caf606e2c2b2",
   "metadata": {},
   "outputs": [],
   "source": []
  }
 ],
 "metadata": {
  "kernelspec": {
   "display_name": "Python 3 (ipykernel)",
   "language": "python",
   "name": "python3"
  },
  "language_info": {
   "codemirror_mode": {
    "name": "ipython",
    "version": 3
   },
   "file_extension": ".py",
   "mimetype": "text/x-python",
   "name": "python",
   "nbconvert_exporter": "python",
   "pygments_lexer": "ipython3",
   "version": "3.9.18"
  }
 },
 "nbformat": 4,
 "nbformat_minor": 5
}
