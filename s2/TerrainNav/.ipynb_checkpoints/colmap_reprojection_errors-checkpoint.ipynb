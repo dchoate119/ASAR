{
 "cells": [
  {
   "cell_type": "markdown",
   "id": "8b6350b0-1f8e-4699-b8f0-9a0bade6a017",
   "metadata": {},
   "source": [
    "# Colmap Reprojection Error\n",
    "- Utilizing pycolmap to see if we can calculate the reporjection errors "
   ]
  },
  {
   "cell_type": "code",
   "execution_count": 1,
   "id": "433cfe01-dcf0-4407-8bad-cda27e9d2ddf",
   "metadata": {},
   "outputs": [
    {
     "name": "stdout",
     "output_type": "stream",
     "text": [
      "Jupyter environment detected. Enabling Open3D WebVisualizer.\n",
      "[Open3D INFO] WebRTC GUI backend enabled.\n",
      "[Open3D INFO] WebRTCWindowSystem: HTTP handshake server disabled.\n"
     ]
    },
    {
     "data": {
      "application/javascript": [
       "IPython.notebook.set_autosave_interval(180000)"
      ]
     },
     "metadata": {},
     "output_type": "display_data"
    },
    {
     "name": "stdout",
     "output_type": "stream",
     "text": [
      "Autosaving every 180 seconds\n"
     ]
    }
   ],
   "source": [
    "import numpy as np\n",
    "import cv2\n",
    "import open3d as o3d\n",
    "# %matplotlib qt\n",
    "import matplotlib.pyplot as plt\n",
    "from matplotlib.path import Path\n",
    "\n",
    "from groundNAV_agent import *\n",
    "from colmapParsingUtils import *\n",
    "import pycolmap\n",
    "\n",
    "# SAVE YOUR WORK\n",
    "%load_ext autoreload\n",
    "%autoreload 2\n",
    "%autosave 180"
   ]
  },
  {
   "cell_type": "code",
   "execution_count": 3,
   "id": "97917128-0a8a-4868-add0-5d474c51a3f8",
   "metadata": {},
   "outputs": [
    {
     "data": {
      "text/plain": [
       "pycolmap._core.Reconstruction"
      ]
     },
     "execution_count": 3,
     "metadata": {},
     "output_type": "execute_result"
    }
   ],
   "source": [
    "pycolmap.Reconstruction"
   ]
  },
  {
   "cell_type": "code",
   "execution_count": 11,
   "id": "f00be36a-f262-4eb3-b606-87398806c1fe",
   "metadata": {},
   "outputs": [],
   "source": [
    "pycolm = pycolmap.Reconstruction('/home/daniel-choate/ASAR/s2/TerrainNav/TTurf/bin_files')"
   ]
  },
  {
   "cell_type": "code",
   "execution_count": 15,
   "id": "c376be06-3b72-46be-aa06-4845c2299b35",
   "metadata": {},
   "outputs": [
    {
     "name": "stdout",
     "output_type": "stream",
     "text": [
      "1.2495111735699242\n"
     ]
    }
   ],
   "source": [
    "reproj = pycolm.compute_mean_reprojection_error()\n",
    "print(reproj)"
   ]
  },
  {
   "cell_type": "code",
   "execution_count": 22,
   "id": "a1dc8940-5d63-4e3d-bb2b-e011b52386d4",
   "metadata": {},
   "outputs": [],
   "source": [
    "pyIMO = pycolmap.IncrementalMapperOptions()"
   ]
  },
  {
   "cell_type": "code",
   "execution_count": 23,
   "id": "10063ab6-1c2f-47cb-9b80-34a3c50fdb28",
   "metadata": {},
   "outputs": [
    {
     "data": {
      "text/plain": [
       "IncrementalMapperOptions(init_min_num_inliers=100, init_max_error=4.0, init_max_forward_motion=0.95, init_min_tri_angle=16.0, init_max_reg_trials=2, abs_pose_max_error=12.0, abs_pose_min_num_inliers=30, abs_pose_min_inlier_ratio=0.25, abs_pose_refine_focal_length=True, abs_pose_refine_extra_params=True, local_ba_num_images=6, local_ba_min_tri_angle=6.0, min_focal_length_ratio=0.1, max_focal_length_ratio=10.0, max_extra_param=1.0, filter_max_reproj_error=4.0, filter_min_tri_angle=1.5, max_reg_trials=3, fix_existing_images=False, num_threads=-1, image_selection_method=ImageSelectionMethod.MIN_UNCERTAINTY)"
      ]
     },
     "execution_count": 23,
     "metadata": {},
     "output_type": "execute_result"
    }
   ],
   "source": [
    "pyIMO"
   ]
  },
  {
   "cell_type": "code",
   "execution_count": null,
   "id": "2e46c2db-f08f-40fb-a5c0-7261aa86b5fc",
   "metadata": {},
   "outputs": [],
   "source": []
  }
 ],
 "metadata": {
  "kernelspec": {
   "display_name": "Python 3 (ipykernel)",
   "language": "python",
   "name": "python3"
  },
  "language_info": {
   "codemirror_mode": {
    "name": "ipython",
    "version": 3
   },
   "file_extension": ".py",
   "mimetype": "text/x-python",
   "name": "python",
   "nbconvert_exporter": "python",
   "pygments_lexer": "ipython3",
   "version": "3.9.18"
  }
 },
 "nbformat": 4,
 "nbformat_minor": 5
}
