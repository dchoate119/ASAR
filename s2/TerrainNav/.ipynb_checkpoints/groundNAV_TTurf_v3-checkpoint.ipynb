{
 "cells": [
  {
   "cell_type": "markdown",
   "id": "1cafd0ed-4b95-426d-9583-12b2e6d3d933",
   "metadata": {},
   "source": [
    "# Ground Navigation for Aerial Vehicles"
   ]
  },
  {
   "cell_type": "markdown",
   "id": "3e5c5d35-2eae-429a-a855-b6979467f5d0",
   "metadata": {},
   "source": [
    "With a satellite reference image, we intend to utilize a SfM solution to match ground segments of images to the reference map.\n",
    "- Inputs: Reference image (satellite), SfM solution (images, points, cameras), selected images (5)\n",
    "- Output: Correction solutions for translation, rotation, scaling"
   ]
  },
  {
   "cell_type": "markdown",
   "id": "331f822a-1ce0-4cc4-86f1-466a1425be1a",
   "metadata": {},
   "source": [
    "Checklist\n",
    "1. [x] Load in satellite image values \n",
    "2. [ ] Choose ground segment in each image\n",
    "3. [ ] Load ground segments into a plot\n",
    "4. [ ] Implement an initial guess\n",
    "5. [ ] Perform SSD process on each\n",
    "6. [ ] Create a correction vector for each\n",
    "7. [ ] Visualization of each correction vector"
   ]
  },
  {
   "cell_type": "code",
   "execution_count": 9,
   "id": "71d7d391-9ddf-429f-a308-73f28625cc7d",
   "metadata": {},
   "outputs": [
    {
     "name": "stdout",
     "output_type": "stream",
     "text": [
      "The autoreload extension is already loaded. To reload it, use:\n",
      "  %reload_ext autoreload\n"
     ]
    },
    {
     "data": {
      "application/javascript": [
       "IPython.notebook.set_autosave_interval(180000)"
      ]
     },
     "metadata": {},
     "output_type": "display_data"
    },
    {
     "name": "stdout",
     "output_type": "stream",
     "text": [
      "Autosaving every 180 seconds\n"
     ]
    }
   ],
   "source": [
    "import numpy as np\n",
    "import cv2\n",
    "import open3d as o3d\n",
    "import plotly.graph_objects as go\n",
    "import plotly.io as pio\n",
    "from scipy.spatial.transform import Rotation as R\n",
    "from scipy.spatial import cKDTree\n",
    "import imageio\n",
    "%matplotlib qt\n",
    "import matplotlib.pyplot as plt\n",
    "\n",
    "from groundNAV_agent import *\n",
    "from colmapParsingUtils import *\n",
    "\n",
    "# SAVE YOUR WORK\n",
    "%load_ext autoreload\n",
    "%autoreload 2\n",
    "%autosave 180"
   ]
  },
  {
   "cell_type": "code",
   "execution_count": 2,
   "id": "7b5c728c-bac3-4070-bac2-742fffa5e648",
   "metadata": {},
   "outputs": [],
   "source": [
    "# NOTES: \n",
    "# OS in JUMBOS: IMG_9446; ID = 4\n",
    "# 40yd (far hash): IMG_9520; ID = 78\n",
    "# Jumbo logo: IMG_9531; ID = 89\n",
    "# 30yd (near hash): IMG_9542; ID = 100\n",
    "# U in JUMBOS: IMG_9576; ID = 134"
   ]
  },
  {
   "cell_type": "code",
   "execution_count": 3,
   "id": "1ff42a32-c938-449b-a5eb-c4ecf7781ad0",
   "metadata": {},
   "outputs": [],
   "source": [
    "# Load in necessary parameters for gNAV agent \n",
    "# Define Class Parameters \n",
    "\n",
    "images_colm  = \"/home/daniel-choate/ASAR/s2/TerrainNav/TTurf/test/images.txt\"\n",
    "cameras_colm = \"/home/daniel-choate/ASAR/s2/TerrainNav/TTurf/test/cameras.txt\"\n",
    "pts3d_colm = \"/home/daniel-choate/ASAR/s2/TerrainNav/TTurf/test/points3D_f.txt\"\n",
    "\n",
    "# Images selected for local corrections\n",
    "image_1 = \"/home/daniel-choate/Datasets/COLMAP/TTurfSAT/TTurf_Im/IMG_9446.JPEG\" #ID:4\n",
    "image_2 = \"/home/daniel-choate/Datasets/COLMAP/TTurfSAT/TTurf_Im/IMG_9520.JPEG\" #ID:78\n",
    "image_3 = \"/home/daniel-choate/Datasets/COLMAP/TTurfSAT/TTurf_Im/IMG_9531.JPEG\" #ID:89\n",
    "image_4 = \"/home/daniel-choate/Datasets/COLMAP/TTurfSAT/TTurf_Im/IMG_9542.JPEG\" #ID:100\n",
    "image_5 = \"/home/daniel-choate/Datasets/COLMAP/TTurfSAT/TTurf_Im/IMG_9576.JPEG\" #ID:134\n",
    "# Load in satellite reference image\n",
    "sat_ref = \"TTurf/TurfSat.jpg\"\n",
    "# sat_ref = cv2.imread('TTurf/TurfSat.jpg')\n",
    "\n",
    "# Organize for agent params\n",
    "images = [image_1, image_2, image_3, image_4, image_5]"
   ]
  },
  {
   "cell_type": "code",
   "execution_count": 4,
   "id": "d36f5c2f-162d-46fd-9cc7-e3ba9b62d383",
   "metadata": {},
   "outputs": [],
   "source": [
    "# Create class\n",
    "gnav = gNAV_agent(images_colm, cameras_colm, pts3d_colm, images, sat_ref)\n",
    "\n",
    "# Grab raw points and RGB data for scene and reference cloud\n",
    "scene_pts, rgb_data = gnav.grab_pts(gnav.pts3d_c)\n",
    "ref_pts, ref_rgb = gnav.ref_pts, gnav.ref_rgb"
   ]
  },
  {
   "cell_type": "code",
   "execution_count": null,
   "id": "35869fe8-d35b-47a5-8636-d5a2179c3d67",
   "metadata": {},
   "outputs": [],
   "source": [
    "# Use ground plane pts to set reference frame \n",
    "# Need gravity and height\n",
    "pts_gnd_idx = np.array([25440, 25450, 25441, 25449, 25442, 25445, 103922, 103921, 103919, 103920])\n",
    "tform_ref_frame = gnav.set_ref_frame(pts_gnd_idx)\n",
    "print(\"\\nReference frame transformation\\n\", tform_ref_frame)"
   ]
  },
  {
   "cell_type": "code",
   "execution_count": null,
   "id": "2e026689-584a-4807-a3ed-a17a9369e081",
   "metadata": {},
   "outputs": [],
   "source": [
    "# Transform all points to the new coordinate system \n",
    "# Not necessary since we aren't using the cloud, but a good visual check for coord frame\n",
    "tform_ref_frame_inv = gnav.inv_homog_transform(tform_ref_frame)\n",
    "origin_ref, scene_pts_ref, scene_vec_ref = gnav.unit_vec_tform(scene_pts, gnav.origin_w, tform_ref_frame_inv)\n",
    "# print(origin_ref)\n",
    "# Transform scene cloud to 2D (also as a visual check)\n",
    "# Note: 2d projection will look off with z=-1; see TTurf_v2 for cropping method\n",
    "scene_ref_2d = gnav.proj_2d_scene(scene_pts_ref)\n",
    "# print(scene_ref_2d)"
   ]
  },
  {
   "cell_type": "code",
   "execution_count": null,
   "id": "5ff282f7-ac6a-4758-94c0-b84700084d11",
   "metadata": {},
   "outputs": [],
   "source": []
  },
  {
   "cell_type": "markdown",
   "id": "5bd7c2b9-2ceb-4f08-b606-54bb1b234819",
   "metadata": {},
   "source": [
    "### Grab ground plane points from each desired image "
   ]
  },
  {
   "cell_type": "code",
   "execution_count": null,
   "id": "0723fd3f-e5ab-4f8c-9d31-76a8b53acac3",
   "metadata": {},
   "outputs": [],
   "source": [
    "# Image 1"
   ]
  },
  {
   "cell_type": "code",
   "execution_count": null,
   "id": "ba398c95-172a-46c7-bb05-c160f12c33ff",
   "metadata": {},
   "outputs": [],
   "source": [
    "# Image 2"
   ]
  },
  {
   "cell_type": "code",
   "execution_count": null,
   "id": "f19760b6-c63f-4cdf-8bf7-e3cf5f446e5d",
   "metadata": {},
   "outputs": [],
   "source": [
    "# Image 3"
   ]
  },
  {
   "cell_type": "code",
   "execution_count": null,
   "id": "35c22755-0835-468d-914e-af0a464e800c",
   "metadata": {},
   "outputs": [],
   "source": [
    "# Image 4"
   ]
  },
  {
   "cell_type": "code",
   "execution_count": null,
   "id": "4cb62bad-6cb7-4f9a-8804-e71c701eae08",
   "metadata": {},
   "outputs": [],
   "source": [
    "# Image 5"
   ]
  },
  {
   "cell_type": "code",
   "execution_count": null,
   "id": "60b02db6-4ccb-4813-9415-2e477c2fb7bf",
   "metadata": {},
   "outputs": [],
   "source": []
  },
  {
   "cell_type": "code",
   "execution_count": null,
   "id": "48ef8fb1-cca5-4ae8-a19b-360afdfe1924",
   "metadata": {},
   "outputs": [],
   "source": [
    "x,y = 150, 1600\n",
    "side_x = 2500 # WIDTH\n",
    "side_y = 1000 # HEIGHT\n",
    "\n",
    "# Plot to visualize\n",
    "# gnav.plot_rect_im(x, y, side_x, side_y) \n",
    "\n",
    "# Get necessary location and rghb data \n",
    "pts_loc, pts_rgb = gnav.grab_image_pts(x, y, side_x, side_y)\n",
    "# print(pts_loc)"
   ]
  },
  {
   "cell_type": "markdown",
   "id": "2b44c08a-9cf8-42e6-83f1-feb59dae92be",
   "metadata": {},
   "source": [
    "# Plotting Tools"
   ]
  },
  {
   "cell_type": "code",
   "execution_count": null,
   "id": "cc35dd2a-9108-4519-8f4b-9f6018bd1735",
   "metadata": {},
   "outputs": [],
   "source": [
    "# # PLOTTING THE ORIGINAL SCENE WITH THE ORIGINAL ORIGIN \n",
    "\n",
    "# # Use open3d to create point cloud visualization \n",
    "# # Create visualization \n",
    "# vis = o3d.visualization.Visualizer()\n",
    "# vis.create_window(window_name=\"Originial scene with ORIGINAL ORIGIN\")\n",
    "\n",
    "# # Create axes @ origin\n",
    "# axis_origin = o3d.geometry.TriangleMesh.create_coordinate_frame(size=1)\n",
    "\n",
    "# # Create point cloud for scene points\n",
    "# scene_cloud = o3d.geometry.PointCloud()\n",
    "# scene_cloud.points = o3d.utility.Vector3dVector(scene_pts)\n",
    "# scene_cloud.colors = o3d.utility.Vector3dVector(rgb_data)\n",
    "\n",
    "# # Add necessary geometries to visualization \n",
    "# vis.add_geometry(axis_origin)\n",
    "# vis.add_geometry(scene_cloud)\n",
    "\n",
    "# # # Size options (jupyter gives issues when running this multiple times, but it looks better)\n",
    "# # render_option = vis.get_render_option()\n",
    "# # render_option.point_size = 2\n",
    "\n",
    "# # Run and destroy visualization \n",
    "# vis.run()\n",
    "# vis.destroy_window()"
   ]
  },
  {
   "cell_type": "code",
   "execution_count": null,
   "id": "197fcea4-b4bc-4fe0-8c27-1be58bb51923",
   "metadata": {},
   "outputs": [],
   "source": [
    "# # PLOTTING the SATELLITE REFERENCE image as a cloud\n",
    "\n",
    "# # Use open3d to create point cloud visualization \n",
    "# # Create visualization \n",
    "# vis = o3d.visualization.Visualizer()\n",
    "# vis.create_window(window_name=\"Originial scene with ORIGINAL ORIGIN\")\n",
    "\n",
    "# # Create axes @ origin\n",
    "# axis_origin = o3d.geometry.TriangleMesh.create_coordinate_frame(size=500)\n",
    "\n",
    "# # Create point cloud for scene points\n",
    "# scene_cloud = o3d.geometry.PointCloud()\n",
    "# scene_cloud.points = o3d.utility.Vector3dVector(ref_pts)\n",
    "# scene_cloud.colors = o3d.utility.Vector3dVector(ref_rgb)\n",
    "\n",
    "# # Add necessary geometries to visualization \n",
    "# vis.add_geometry(axis_origin)\n",
    "# vis.add_geometry(scene_cloud)\n",
    "\n",
    "# # # Size options (jupyter gives issues when running this multiple times, but it looks better)\n",
    "# # render_option = vis.get_render_option()\n",
    "# # render_option.point_size = 2\n",
    "\n",
    "# # Run and destroy visualization \n",
    "# vis.run()\n",
    "# vis.destroy_window()"
   ]
  },
  {
   "cell_type": "code",
   "execution_count": null,
   "id": "e62ca98d-58a9-4393-a02a-298d2280e28d",
   "metadata": {},
   "outputs": [],
   "source": [
    "# # PLOTTING THE ORIGINAL SCENE WITH THE REFERENCE ORIGIN \n",
    "\n",
    "# # Use open3d to create point cloud visualization \n",
    "# # Create visualization \n",
    "# vis = o3d.visualization.Visualizer()\n",
    "# vis.create_window(window_name=\"Originial scene with REFERENCE ORIGIN\")\n",
    "\n",
    "# # Create axes @ origin\n",
    "# axis_origin = o3d.geometry.TriangleMesh.create_coordinate_frame(size=1)\n",
    "\n",
    "# # Create point cloud for scene points\n",
    "# scene_cloud = o3d.geometry.PointCloud()\n",
    "# scene_cloud.points = o3d.utility.Vector3dVector(scene_pts_ref)\n",
    "# scene_cloud.colors = o3d.utility.Vector3dVector(rgb_data)\n",
    "\n",
    "# # Add necessary geometries to visualization \n",
    "# vis.add_geometry(axis_origin)\n",
    "# vis.add_geometry(scene_cloud)\n",
    "\n",
    "# # # Size options (jupyter gives issues when running this multiple times, but it looks better)\n",
    "# # render_option = vis.get_render_option()\n",
    "# # render_option.point_size = 2\n",
    "\n",
    "# # Run and destroy visualization \n",
    "# vis.run()\n",
    "# vis.destroy_window()"
   ]
  },
  {
   "cell_type": "code",
   "execution_count": null,
   "id": "a5ad63af-00fa-407a-924d-ab05fcada379",
   "metadata": {},
   "outputs": [],
   "source": [
    "# # PLOTTING THE ORIGINAL SCENE WITH THE REFERENCE ORIGIN \n",
    "\n",
    "# # Use open3d to create point cloud visualization \n",
    "# # Create visualization \n",
    "# vis = o3d.visualization.Visualizer()\n",
    "# vis.create_window(window_name=\"2D PROJECTION scene with REFERENCE ORIGIN\")\n",
    "\n",
    "# # Create axes @ origin\n",
    "# # axis_origin = o3d.geometry.TriangleMesh.create_coordinate_frame(size=100)\n",
    "\n",
    "# # Create point cloud for scene points\n",
    "# scene_cloud = o3d.geometry.PointCloud()\n",
    "# scene_cloud.points = o3d.utility.Vector3dVector(scene_ref_2d)\n",
    "# scene_cloud.colors = o3d.utility.Vector3dVector(rgb_data)\n",
    "\n",
    "# # Add necessary geometries to visualization \n",
    "# # vis.add_geometry(axis_origin)\n",
    "# vis.add_geometry(scene_cloud)\n",
    "\n",
    "# # # Size options (jupyter gives issues when running this multiple times, but it looks better)\n",
    "# # render_option = vis.get_render_option()\n",
    "# # render_option.point_size = 2\n",
    "\n",
    "# # Run and destroy visualization \n",
    "# vis.run()\n",
    "# vis.destroy_window()"
   ]
  },
  {
   "cell_type": "code",
   "execution_count": null,
   "id": "f225e13a-a8ee-44ba-9a92-437ba378532f",
   "metadata": {},
   "outputs": [],
   "source": []
  },
  {
   "cell_type": "code",
   "execution_count": null,
   "id": "c9d1f71b-9c0b-4892-8c70-1838786524be",
   "metadata": {},
   "outputs": [],
   "source": []
  },
  {
   "cell_type": "code",
   "execution_count": null,
   "id": "bc1190ab-27b5-4bc1-a7d6-50192ea9b824",
   "metadata": {},
   "outputs": [],
   "source": []
  }
 ],
 "metadata": {
  "kernelspec": {
   "display_name": "Python 3 (ipykernel)",
   "language": "python",
   "name": "python3"
  },
  "language_info": {
   "codemirror_mode": {
    "name": "ipython",
    "version": 3
   },
   "file_extension": ".py",
   "mimetype": "text/x-python",
   "name": "python",
   "nbconvert_exporter": "python",
   "pygments_lexer": "ipython3",
   "version": "3.9.18"
  }
 },
 "nbformat": 4,
 "nbformat_minor": 5
}
