{
 "cells": [
  {
   "cell_type": "markdown",
   "id": "04ebdcae-bb5a-46e5-a518-25fc09538413",
   "metadata": {},
   "source": [
    "Exploring the impact of error biases from rotation or translation on the transformation equation 'y = cx'"
   ]
  },
  {
   "cell_type": "code",
   "execution_count": 1,
   "id": "262a11b7-2d55-4ba4-a6ac-229b13fde28a",
   "metadata": {},
   "outputs": [],
   "source": [
    "import numpy as np \n",
    "from sympy import symbols, Matrix, sin, cos, simplify"
   ]
  },
  {
   "cell_type": "code",
   "execution_count": 3,
   "id": "e99a6896-db05-4449-92e3-6d2516ccf074",
   "metadata": {},
   "outputs": [
    {
     "name": "stdout",
     "output_type": "stream",
     "text": [
      "(4, 4)\n",
      "\n",
      "Matrix J: \n",
      "\n",
      "Matrix([[p1*cos(theta) - q1*sin(theta), -s*(p1*sin(theta) + q1*cos(theta)), 1, 0], [p1*sin(theta) + q1*cos(theta), s*(p1*cos(theta) - q1*sin(theta)), 0, 1], [p2*cos(theta) - q2*sin(theta), -s*(p2*sin(theta) + q2*cos(theta)), 1, 0], [p2*sin(theta) + q2*cos(theta), s*(p2*cos(theta) - q2*sin(theta)), 0, 1]])\n",
      "\n",
      "J transpose * J =\n",
      "Matrix([[p1**2 + p2**2 + q1**2 + q2**2, 0, p1*cos(theta) + p2*cos(theta) - q1*sin(theta) - q2*sin(theta), p1*sin(theta) + p2*sin(theta) + q1*cos(theta) + q2*cos(theta)], [0, s**2*(p1**2 + p2**2 + q1**2 + q2**2), -s*(p1*sin(theta) + p2*sin(theta) + q1*cos(theta) + q2*cos(theta)), s*(p1*cos(theta) + p2*cos(theta) - q1*sin(theta) - q2*sin(theta))], [p1*cos(theta) + p2*cos(theta) - q1*sin(theta) - q2*sin(theta), -s*(p1*sin(theta) + p2*sin(theta) + q1*cos(theta) + q2*cos(theta)), 2, 0], [p1*sin(theta) + p2*sin(theta) + q1*cos(theta) + q2*cos(theta), s*(p1*cos(theta) + p2*cos(theta) - q1*sin(theta) - q2*sin(theta)), 0, 2]])\n"
     ]
    }
   ],
   "source": [
    "# Define symbolic variables\n",
    "s, t, p1, q1, p2, q2 = symbols('s theta p1 q1 p2 q2')\n",
    "\n",
    "# Create 2x4 J matrix\n",
    "# Wedge 1\n",
    "j11 = cos(t)*p1 - sin(t)*q1\n",
    "j12 = -s*(sin(t)*p1 + cos(t)*q1)\n",
    "j21 = sin(t)*p1 + cos(t)*q1\n",
    "j22 = s*(cos(t)*p1 - sin(t)*q1)\n",
    "# Wedge 2\n",
    "j31 = cos(t)*p2 - sin(t)*q2\n",
    "j32 = -s*(sin(t)*p2 + cos(t)*q2)\n",
    "j41 = sin(t)*p2 + cos(t)*q2\n",
    "j42 = s*(cos(t)*p2 - sin(t)*q2)\n",
    "# Constants\n",
    "j13, j14, j23, j24 = 1, 0, 0, 1\n",
    "j33, j34, j43, j44 = 1, 0, 0, 1\n",
    "J = Matrix([[j11, j12, j13, j14],\n",
    "            [j21, j22, j23, j24],\n",
    "            [j31, j32, j33, j34],\n",
    "            [j41, j42, j43, j44]])\n",
    "print(J.shape)\n",
    "print(\"\\nMatrix J: \\n\")\n",
    "print(J)\n",
    "\n",
    "# Transpose of J\n",
    "J_T = J.T\n",
    "\n",
    "# JTJ\n",
    "JTJ = simplify(J_T @ J)\n",
    "print(\"\\nJ transpose * J =\")\n",
    "print(JTJ)\n",
    "\n",
    "# # Calculate the inverse\n",
    "# # JTJi = np.linalg.inv(JTJ)\n",
    "# JTJi = JTJ.inv()\n",
    "\n",
    "# # Display the inverse\n",
    "# print(\"\\nInverse of JTJi:\")\n",
    "# print(JTJi)"
   ]
  },
  {
   "cell_type": "code",
   "execution_count": 4,
   "id": "190c35f0-f656-407a-8673-bb3639ba961c",
   "metadata": {},
   "outputs": [
    {
     "name": "stdout",
     "output_type": "stream",
     "text": [
      "s**2*(p1**2 - 2*p1*p2 + p2**2 + q1**2 - 2*q1*q2 + q2**2)**2\n"
     ]
    }
   ],
   "source": [
    "print(simplify(JTJ.det()))"
   ]
  },
  {
   "cell_type": "code",
   "execution_count": 5,
   "id": "c0549985-cd53-43d0-bcfe-dff423e6b03b",
   "metadata": {},
   "outputs": [
    {
     "name": "stdout",
     "output_type": "stream",
     "text": [
      "p1**4*s**2*sin(theta)**4 + 2*p1**4*s**2*sin(theta)**2*cos(theta)**2 - 4*p1**4*s**2*sin(theta)**2 + p1**4*s**2*cos(theta)**4 - 4*p1**4*s**2*cos(theta)**2 + 4*p1**4*s**2 + 4*p1**3*p2*s**2*sin(theta)**4 + 8*p1**3*p2*s**2*sin(theta)**2*cos(theta)**2 - 8*p1**3*p2*s**2*sin(theta)**2 + 4*p1**3*p2*s**2*cos(theta)**4 - 8*p1**3*p2*s**2*cos(theta)**2 + 6*p1**2*p2**2*s**2*sin(theta)**4 + 12*p1**2*p2**2*s**2*sin(theta)**2*cos(theta)**2 - 8*p1**2*p2**2*s**2*sin(theta)**2 + 6*p1**2*p2**2*s**2*cos(theta)**4 - 8*p1**2*p2**2*s**2*cos(theta)**2 + 8*p1**2*p2**2*s**2 + 2*p1**2*q1**2*s**2*sin(theta)**4 + 4*p1**2*q1**2*s**2*sin(theta)**2*cos(theta)**2 - 8*p1**2*q1**2*s**2*sin(theta)**2 + 2*p1**2*q1**2*s**2*cos(theta)**4 - 8*p1**2*q1**2*s**2*cos(theta)**2 + 8*p1**2*q1**2*s**2 + 4*p1**2*q1*q2*s**2*sin(theta)**4 + 8*p1**2*q1*q2*s**2*sin(theta)**2*cos(theta)**2 - 8*p1**2*q1*q2*s**2*sin(theta)**2 + 4*p1**2*q1*q2*s**2*cos(theta)**4 - 8*p1**2*q1*q2*s**2*cos(theta)**2 + 2*p1**2*q2**2*s**2*sin(theta)**4 + 4*p1**2*q2**2*s**2*sin(theta)**2*cos(theta)**2 - 8*p1**2*q2**2*s**2*sin(theta)**2 + 2*p1**2*q2**2*s**2*cos(theta)**4 - 8*p1**2*q2**2*s**2*cos(theta)**2 + 8*p1**2*q2**2*s**2 + 4*p1*p2**3*s**2*sin(theta)**4 + 8*p1*p2**3*s**2*sin(theta)**2*cos(theta)**2 - 8*p1*p2**3*s**2*sin(theta)**2 + 4*p1*p2**3*s**2*cos(theta)**4 - 8*p1*p2**3*s**2*cos(theta)**2 + 4*p1*p2*q1**2*s**2*sin(theta)**4 + 8*p1*p2*q1**2*s**2*sin(theta)**2*cos(theta)**2 - 8*p1*p2*q1**2*s**2*sin(theta)**2 + 4*p1*p2*q1**2*s**2*cos(theta)**4 - 8*p1*p2*q1**2*s**2*cos(theta)**2 + 8*p1*p2*q1*q2*s**2*sin(theta)**4 + 16*p1*p2*q1*q2*s**2*sin(theta)**2*cos(theta)**2 + 8*p1*p2*q1*q2*s**2*cos(theta)**4 + 4*p1*p2*q2**2*s**2*sin(theta)**4 + 8*p1*p2*q2**2*s**2*sin(theta)**2*cos(theta)**2 - 8*p1*p2*q2**2*s**2*sin(theta)**2 + 4*p1*p2*q2**2*s**2*cos(theta)**4 - 8*p1*p2*q2**2*s**2*cos(theta)**2 + p2**4*s**2*sin(theta)**4 + 2*p2**4*s**2*sin(theta)**2*cos(theta)**2 - 4*p2**4*s**2*sin(theta)**2 + p2**4*s**2*cos(theta)**4 - 4*p2**4*s**2*cos(theta)**2 + 4*p2**4*s**2 + 2*p2**2*q1**2*s**2*sin(theta)**4 + 4*p2**2*q1**2*s**2*sin(theta)**2*cos(theta)**2 - 8*p2**2*q1**2*s**2*sin(theta)**2 + 2*p2**2*q1**2*s**2*cos(theta)**4 - 8*p2**2*q1**2*s**2*cos(theta)**2 + 8*p2**2*q1**2*s**2 + 4*p2**2*q1*q2*s**2*sin(theta)**4 + 8*p2**2*q1*q2*s**2*sin(theta)**2*cos(theta)**2 - 8*p2**2*q1*q2*s**2*sin(theta)**2 + 4*p2**2*q1*q2*s**2*cos(theta)**4 - 8*p2**2*q1*q2*s**2*cos(theta)**2 + 2*p2**2*q2**2*s**2*sin(theta)**4 + 4*p2**2*q2**2*s**2*sin(theta)**2*cos(theta)**2 - 8*p2**2*q2**2*s**2*sin(theta)**2 + 2*p2**2*q2**2*s**2*cos(theta)**4 - 8*p2**2*q2**2*s**2*cos(theta)**2 + 8*p2**2*q2**2*s**2 + q1**4*s**2*sin(theta)**4 + 2*q1**4*s**2*sin(theta)**2*cos(theta)**2 - 4*q1**4*s**2*sin(theta)**2 + q1**4*s**2*cos(theta)**4 - 4*q1**4*s**2*cos(theta)**2 + 4*q1**4*s**2 + 4*q1**3*q2*s**2*sin(theta)**4 + 8*q1**3*q2*s**2*sin(theta)**2*cos(theta)**2 - 8*q1**3*q2*s**2*sin(theta)**2 + 4*q1**3*q2*s**2*cos(theta)**4 - 8*q1**3*q2*s**2*cos(theta)**2 + 6*q1**2*q2**2*s**2*sin(theta)**4 + 12*q1**2*q2**2*s**2*sin(theta)**2*cos(theta)**2 - 8*q1**2*q2**2*s**2*sin(theta)**2 + 6*q1**2*q2**2*s**2*cos(theta)**4 - 8*q1**2*q2**2*s**2*cos(theta)**2 + 8*q1**2*q2**2*s**2 + 4*q1*q2**3*s**2*sin(theta)**4 + 8*q1*q2**3*s**2*sin(theta)**2*cos(theta)**2 - 8*q1*q2**3*s**2*sin(theta)**2 + 4*q1*q2**3*s**2*cos(theta)**4 - 8*q1*q2**3*s**2*cos(theta)**2 + q2**4*s**2*sin(theta)**4 + 2*q2**4*s**2*sin(theta)**2*cos(theta)**2 - 4*q2**4*s**2*sin(theta)**2 + q2**4*s**2*cos(theta)**4 - 4*q2**4*s**2*cos(theta)**2 + 4*q2**4*s**2\n"
     ]
    }
   ],
   "source": [
    "print(JTJ.det())"
   ]
  },
  {
   "cell_type": "code",
   "execution_count": null,
   "id": "cc869f4a-4c26-40fd-9dfd-c224abd648d6",
   "metadata": {},
   "outputs": [],
   "source": []
  },
  {
   "cell_type": "code",
   "execution_count": null,
   "id": "5e2a1e6f-b391-4714-8fc4-408a7b157453",
   "metadata": {},
   "outputs": [],
   "source": []
  },
  {
   "cell_type": "code",
   "execution_count": null,
   "id": "70d72917-2c3e-4557-b457-22a63d38492a",
   "metadata": {},
   "outputs": [],
   "source": []
  },
  {
   "cell_type": "code",
   "execution_count": null,
   "id": "99756867-d004-4466-a1af-54a9f1449ded",
   "metadata": {},
   "outputs": [],
   "source": []
  },
  {
   "cell_type": "code",
   "execution_count": null,
   "id": "7cd53e42-5ff0-41b1-a8aa-70c2a8ed90f7",
   "metadata": {},
   "outputs": [],
   "source": []
  },
  {
   "cell_type": "code",
   "execution_count": null,
   "id": "590a16e0-ad21-4a17-82ab-da4fdbb48846",
   "metadata": {},
   "outputs": [],
   "source": []
  },
  {
   "cell_type": "code",
   "execution_count": null,
   "id": "1e5ff2f1-793d-40a1-9f7e-4536b50a97d5",
   "metadata": {},
   "outputs": [],
   "source": []
  },
  {
   "cell_type": "code",
   "execution_count": null,
   "id": "38dbef94-64be-400f-a07e-7f11e13803a3",
   "metadata": {},
   "outputs": [],
   "source": []
  },
  {
   "cell_type": "code",
   "execution_count": null,
   "id": "f6803033-d3be-46ff-9355-3a19074c9c97",
   "metadata": {},
   "outputs": [],
   "source": []
  },
  {
   "cell_type": "code",
   "execution_count": null,
   "id": "c0205324-a352-49c7-86a1-a0be529ba4d3",
   "metadata": {},
   "outputs": [],
   "source": []
  },
  {
   "cell_type": "code",
   "execution_count": null,
   "id": "be4566ff-c71d-4770-8c02-c8aef2d0f267",
   "metadata": {},
   "outputs": [],
   "source": []
  },
  {
   "cell_type": "code",
   "execution_count": null,
   "id": "2c0a9cb0-338c-43bd-bc54-cb9008fbe851",
   "metadata": {},
   "outputs": [],
   "source": []
  },
  {
   "cell_type": "code",
   "execution_count": null,
   "id": "d072269e-76b4-4de2-aecf-218ae3332726",
   "metadata": {},
   "outputs": [],
   "source": []
  },
  {
   "cell_type": "code",
   "execution_count": null,
   "id": "3c8bad9f-070e-4138-a9d2-d16461dec75c",
   "metadata": {},
   "outputs": [],
   "source": []
  },
  {
   "cell_type": "code",
   "execution_count": null,
   "id": "c8db1415-3bd5-49d5-a45e-ce914167cd6c",
   "metadata": {},
   "outputs": [],
   "source": []
  },
  {
   "cell_type": "code",
   "execution_count": null,
   "id": "d2d15ab1-4ae4-4252-991c-130fe2b04b1a",
   "metadata": {},
   "outputs": [],
   "source": []
  }
 ],
 "metadata": {
  "kernelspec": {
   "display_name": "Python 3 (ipykernel)",
   "language": "python",
   "name": "python3"
  },
  "language_info": {
   "codemirror_mode": {
    "name": "ipython",
    "version": 3
   },
   "file_extension": ".py",
   "mimetype": "text/x-python",
   "name": "python",
   "nbconvert_exporter": "python",
   "pygments_lexer": "ipython3",
   "version": "3.9.18"
  }
 },
 "nbformat": 4,
 "nbformat_minor": 5
}
