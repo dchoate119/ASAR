{
 "cells": [
  {
   "cell_type": "markdown",
   "id": "37e72da0-4a48-4a96-908b-cf81a4c08451",
   "metadata": {},
   "source": [
    "# Reverse Homography Process"
   ]
  },
  {
   "cell_type": "markdown",
   "id": "3167ed6c-0878-4fdd-b743-376bd1d17e14",
   "metadata": {},
   "source": [
    "Goal: Create a more dense colmap cloud with ground points\n",
    "- Accomplish the reverse process of the homography transform performed in 'homography_trans'\n",
    "- Move points from image to colmap points "
   ]
  },
  {
   "cell_type": "markdown",
   "id": "145540ab-e864-44dd-8859-ad4be4842c52",
   "metadata": {},
   "source": [
    "Checklist \n",
    "1. Grab several points from an image\n",
    "2. Create a G plane who's origin is on the ground\n",
    "3. Calculate a transformation from the W plane to the G plane\n",
    "4. Get a unit vector of a pixel\n",
    "5. Convert unit vector to G frame coords\n",
    "6. FINISH MATH "
   ]
  },
  {
   "cell_type": "code",
   "execution_count": null,
   "id": "f86dc03b-5560-4ab7-b294-830536a2eebb",
   "metadata": {},
   "outputs": [],
   "source": []
  }
 ],
 "metadata": {
  "kernelspec": {
   "display_name": "Python 3 (ipykernel)",
   "language": "python",
   "name": "python3"
  },
  "language_info": {
   "codemirror_mode": {
    "name": "ipython",
    "version": 3
   },
   "file_extension": ".py",
   "mimetype": "text/x-python",
   "name": "python",
   "nbconvert_exporter": "python",
   "pygments_lexer": "ipython3",
   "version": "3.9.18"
  }
 },
 "nbformat": 4,
 "nbformat_minor": 5
}
