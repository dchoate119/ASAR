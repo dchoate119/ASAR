{
 "cells": [
  {
   "cell_type": "markdown",
   "id": "824d1ffe-cd90-4a5a-b94d-780c0d28f4a5",
   "metadata": {},
   "source": [
    "# Color based NDT processing demonstration (trial run)"
   ]
  },
  {
   "cell_type": "code",
   "execution_count": 1,
   "id": "672390e6-5111-420d-b5b6-a715b7b1a087",
   "metadata": {},
   "outputs": [],
   "source": [
    "# Using 2D projection map generated from <color_NDT_preprocessing.ipynb> \n",
    "# Attempting initial implementation of color based NDT"
   ]
  },
  {
   "cell_type": "markdown",
   "id": "af99ce62-e962-4166-8577-c7bad9d3f0b2",
   "metadata": {},
   "source": [
    "Checklist \n",
    "1. [x] 2D projection map creation\n",
    "2. [x] Satellite image scaling\n",
    "3. [ ] Common coordinte frame with initial guess\n",
    "4. [ ] Define bins along coordinate frame\n",
    "5. [ ] Distribute reference map points in corresponding bins\n",
    "6. [ ] Distribute satellite image points in corresponding bins\n",
    "7. [ ] Define distributions within each voxel\n",
    "8. [ ] Define gradient data within each voxel \n",
    "\n",
    "Other things to do:\n",
    "1. [ ] Come up with a better acronym than color based NDT (if it works)\n",
    "2. [ ] Revisit scaling methods"
   ]
  },
  {
   "cell_type": "code",
   "execution_count": 2,
   "id": "f178f9fe-2e0a-43c4-a551-21629ea76b5a",
   "metadata": {},
   "outputs": [
    {
     "name": "stdout",
     "output_type": "stream",
     "text": [
      "Jupyter environment detected. Enabling Open3D WebVisualizer.\n",
      "[Open3D INFO] WebRTC GUI backend enabled.\n",
      "[Open3D INFO] WebRTCWindowSystem: HTTP handshake server disabled.\n"
     ]
    },
    {
     "data": {
      "application/javascript": [
       "IPython.notebook.set_autosave_interval(180000)"
      ]
     },
     "metadata": {},
     "output_type": "display_data"
    },
    {
     "name": "stdout",
     "output_type": "stream",
     "text": [
      "Autosaving every 180 seconds\n"
     ]
    }
   ],
   "source": [
    "import numpy as np\n",
    "import cv2\n",
    "import open3d as o3d\n",
    "import matplotlib.pyplot as plt\n",
    "import plotly.graph_objects as go\n",
    "import plotly.io as pio\n",
    "import imageio\n",
    "\n",
    "# If necessary \n",
    "from groundNAV_utils import * \n",
    "from colmapParsingUtils import *\n",
    "\n",
    "# SAVE YOUR WORK\n",
    "%load_ext autoreload\n",
    "%autoreload 2\n",
    "%autosave 180"
   ]
  },
  {
   "cell_type": "code",
   "execution_count": 3,
   "id": "0b546f47-4515-47ab-8674-b336fc2034a2",
   "metadata": {},
   "outputs": [],
   "source": [
    "# Load in reference map and satellite image \n",
    "ref_scene = np.load('Data_arrays/turf_colmap_2d_proj.npy')\n",
    "ref_rgb = np.load('Data_arrays/turf_colmap_2d_rgb.npy')\n",
    "sat_im = cv2.imread('TTurf/TurfSat.jpg')\n",
    "sat_im_crop = cv2.imread('TTurf/TurfSat_crop.png')"
   ]
  },
  {
   "cell_type": "code",
   "execution_count": 4,
   "id": "9205e764-b8b9-4faa-9cf4-59c4464eb141",
   "metadata": {},
   "outputs": [],
   "source": [
    "# # Optionally, display the resized image\n",
    "# # Can do with opencv, don't need open3d\n",
    "# cv2.imshow('Satellite image', sat_im)\n",
    "# cv2.imshow('Satellite image cropped', sat_im_crop)\n",
    "\n",
    "# cv2.waitKey(0)\n",
    "# cv2.destroyAllWindows()"
   ]
  },
  {
   "cell_type": "code",
   "execution_count": 5,
   "id": "dd7f91c5-6832-498b-b7a0-05ce54b11eea",
   "metadata": {},
   "outputs": [
    {
     "name": "stdout",
     "output_type": "stream",
     "text": [
      "\n",
      " Focal length =  2987.396087478296\n",
      "Satellite points\n",
      " [[  0.   0.   1.]\n",
      " [  0.   1.   1.]\n",
      " [  0.   2.   1.]\n",
      " ...\n",
      " [499. 247.   1.]\n",
      " [499. 248.   1.]\n",
      " [499. 249.   1.]]\n",
      "\n",
      "RGB values \n",
      " [[0.37647059 0.45490196 0.24705882]\n",
      " [0.36862745 0.44705882 0.23921569]\n",
      " [0.36862745 0.44705882 0.23921569]\n",
      " ...\n",
      " [0.40784314 0.4745098  0.2627451 ]\n",
      " [0.41568627 0.49019608 0.2745098 ]\n",
      " [0.41176471 0.49411765 0.2745098 ]]\n"
     ]
    }
   ],
   "source": [
    "# Create 2D points from image (1 in z direction)\n",
    "# print(sat_im_crop)\n",
    "sat_img = cv2.cvtColor(sat_im_crop, cv2.COLOR_BGR2RGB)\n",
    "L = sat_img.shape[0]\n",
    "W = sat_img.shape[1]\n",
    "n = L*W\n",
    "sat_pts = np.zeros((n,3))\n",
    "sat_rgb = np.zeros((n,3))\n",
    "# print(sat_pts)\n",
    "count = 0\n",
    "for i in range(L):\n",
    "    for j in range(W):\n",
    "        px = j\n",
    "        py = j\n",
    "        rgb = sat_img[i][j]\n",
    "        sat_pts[count] = [i, j, 1]\n",
    "        sat_rgb[count] = rgb\n",
    "        count += 1\n",
    "\n",
    "focal = 2987.396087478296\n",
    "print(\"\\n Focal length = \", focal)\n",
    "ref_scene[:, :2] *= focal\n",
    "sat_rgb = sat_rgb/255\n",
    "print(\"Satellite points\\n\", sat_pts)\n",
    "print(\"\\nRGB values \\n\", sat_rgb)"
   ]
  },
  {
   "cell_type": "code",
   "execution_count": 6,
   "id": "3c127a70-6dcd-4290-98f1-57312b859368",
   "metadata": {},
   "outputs": [
    {
     "name": "stderr",
     "output_type": "stream",
     "text": [
      "libGL: Can't open configuration file /etc/drirc: No such file or directory.\n",
      "libGL: Can't open configuration file /home/daniel-choate/.drirc: No such file or directory.\n",
      "using driver i915 for 69\n",
      "libGL: Can't open configuration file /etc/drirc: No such file or directory.\n",
      "libGL: Can't open configuration file /home/daniel-choate/.drirc: No such file or directory.\n",
      "using driver i915 for 69\n",
      "pci id for fd 69: 8086:a7a0, driver iris\n",
      "MESA-LOADER: dlopen(/usr/lib/x86_64-linux-gnu/dri/iris_dri.so)\n",
      "libGL: Can't open configuration file /etc/drirc: No such file or directory.\n",
      "libGL: Can't open configuration file /home/daniel-choate/.drirc: No such file or directory.\n",
      "libGL: Can't open configuration file /etc/drirc: No such file or directory.\n",
      "libGL: Can't open configuration file /home/daniel-choate/.drirc: No such file or directory.\n",
      "libGL: Can't open configuration file /etc/drirc: No such file or directory.\n",
      "libGL: Can't open configuration file /home/daniel-choate/.drirc: No such file or directory.\n",
      "Using DRI3 for screen 0\n"
     ]
    }
   ],
   "source": [
    "# Use open3d to create point cloud visualization \n",
    "\n",
    "# Create visualization \n",
    "vis = o3d.visualization.Visualizer()\n",
    "vis.create_window(window_name=\"Originial scene with origin\")\n",
    "\n",
    "# Create axes @ origin\n",
    "axis_origin = o3d.geometry.TriangleMesh.create_coordinate_frame(size=100)\n",
    "\n",
    "# Create point cloud for reference cloud\n",
    "ref_cloud = o3d.geometry.PointCloud()\n",
    "ref_cloud.points = o3d.utility.Vector3dVector(ref_scene)\n",
    "ref_cloud.colors = o3d.utility.Vector3dVector(ref_rgb)\n",
    "\n",
    "# Create point cloud for satellite image\n",
    "sat_cloud = o3d.geometry.PointCloud()\n",
    "sat_cloud.points = o3d.utility.Vector3dVector(sat_pts)\n",
    "sat_cloud.colors = o3d.utility.Vector3dVector(sat_rgb)\n",
    "\n",
    "# Add necessary geometries to visualization \n",
    "vis.add_geometry(ref_cloud)\n",
    "vis.add_geometry(sat_cloud)\n",
    "vis.add_geometry(axis_origin)\n",
    "\n",
    "# # Size options (jupyter gives issues when running this multiple times, but it looks better)\n",
    "# render_option = vis.get_render_option()\n",
    "# render_option.point_size = 2\n",
    "\n",
    "# Run and destroy visualization \n",
    "vis.run()\n",
    "vis.destroy_window()"
   ]
  },
  {
   "cell_type": "code",
   "execution_count": 7,
   "id": "0efad517-753d-4b8e-8de4-2cfaea2819c5",
   "metadata": {},
   "outputs": [
    {
     "name": "stderr",
     "output_type": "stream",
     "text": [
      "libGL: Can't open configuration file /etc/drirc: No such file or directory.\n",
      "libGL: Can't open configuration file /home/daniel-choate/.drirc: No such file or directory.\n",
      "using driver i915 for 69\n",
      "libGL: Can't open configuration file /etc/drirc: No such file or directory.\n",
      "libGL: Can't open configuration file /home/daniel-choate/.drirc: No such file or directory.\n",
      "using driver i915 for 69\n",
      "pci id for fd 69: 8086:a7a0, driver iris\n",
      "MESA-LOADER: dlopen(/usr/lib/x86_64-linux-gnu/dri/iris_dri.so)\n",
      "libGL: Can't open configuration file /etc/drirc: No such file or directory.\n",
      "libGL: Can't open configuration file /home/daniel-choate/.drirc: No such file or directory.\n",
      "libGL: Can't open configuration file /etc/drirc: No such file or directory.\n",
      "libGL: Can't open configuration file /home/daniel-choate/.drirc: No such file or directory.\n",
      "libGL: Can't open configuration file /etc/drirc: No such file or directory.\n",
      "libGL: Can't open configuration file /home/daniel-choate/.drirc: No such file or directory.\n",
      "Using DRI3 for screen 0\n"
     ]
    }
   ],
   "source": [
    "# PLOT NEW POINTS \n",
    "\n",
    "vis = o3d.visualization.Visualizer()\n",
    "vis.create_window()\n",
    "\n",
    "# Add coordinate axes\n",
    "# axis_origin = o3d.geometry.TriangleMesh.create_coordinate_frame(size=100)\n",
    "# axes = o3d.geometry.TriangleMesh.create_coordinate_frame(size=0.5)\n",
    "\n",
    "\n",
    "# cloud_2d = o3d.geometry.PointCloud()\n",
    "# cloud_2d.points = o3d.utility.Vector3dVector(pts_2d)\n",
    "# # cloud_2d.paint_uniform_color([0, 0, 1])\n",
    "# cloud_2d.colors = o3d.utility.Vector3dVector(camera_pts_rgb)\n",
    "\n",
    "# Add necessary geometries\n",
    "# vis.add_geometry(axis_origin)\n",
    "vis.add_geometry(ref_cloud)\n",
    "vis.add_geometry(sat_cloud)\n",
    "\n",
    "\n",
    "render_option = vis.get_render_option()\n",
    "render_option.point_size = 2\n",
    "\n",
    "vis.poll_events()\n",
    "vis.update_renderer()\n",
    "\n",
    "# Set up initial viewpoint\n",
    "view_control = vis.get_view_control()\n",
    "# Direction which the camera is looking\n",
    "view_control.set_front([0, 0, -1])  # Set the camera facing direction\n",
    "# Point which the camera revolves about \n",
    "view_control.set_lookat([0, 0, 0])   # Set the focus point\n",
    "# Defines which way is up in the camera perspective \n",
    "view_control.set_up([-1, 0, 0])       # Set the up direction\n",
    "view_control.set_zoom(2)           # Adjust zoom if necessary\n",
    "\n",
    "\n",
    "# Capture frames for GIF\n",
    "frames = []\n",
    "num_frames = 30  # Adjust the number of frames\n",
    "angle_step = 180/num_frames\n",
    "\n",
    "\n",
    "for i in range(num_frames):\n",
    "\t# Rotate the view\n",
    "    view_control.rotate(angle_step, 0)  # (horizontal, vertical)\n",
    "\n",
    "    # vis.update_geometry(axis_orig) # Only if I move it myself?\n",
    "    vis.poll_events()\n",
    "    vis.update_renderer()\n",
    "\n",
    "    # Capture frame directly into memory\n",
    "    image = vis.capture_screen_float_buffer(False)\n",
    "    image_8bit = (np.asarray(image) * 255).astype(np.uint8)  # Convert to 8-bit\n",
    "    frames.append(image_8bit)\n",
    "\n",
    "for i in range(num_frames):\n",
    "\t# Rotate the view\n",
    "\tview_control.rotate(-angle_step, 0)  # (horizontal, vertical)\n",
    "\n",
    "\t# vis.update_geometry(axis_orig) # Only if I move it myself?\n",
    "\tvis.poll_events()\n",
    "\tvis.update_renderer()\n",
    "\n",
    "\t# Capture frame directly into memory\n",
    "\timage = vis.capture_screen_float_buffer(False)\n",
    "\timage_8bit = (np.asarray(image) * 255).astype(np.uint8)  # Convert to 8-bit\n",
    "\tframes.append(image_8bit)\n",
    "\n",
    "for i in range(num_frames):\n",
    "\t# Rotate the view\n",
    "\tview_control.rotate(-angle_step, 0)  # (horizontal, vertical)\n",
    "\n",
    "\t# vis.update_geometry(axis_orig) # Only if I move it myself?\n",
    "\tvis.poll_events()\n",
    "\tvis.update_renderer()\n",
    "\n",
    "\t# Capture frame directly into memory\n",
    "\timage = vis.capture_screen_float_buffer(False)\n",
    "\timage_8bit = (np.asarray(image) * 255).astype(np.uint8)  # Convert to 8-bit\n",
    "\tframes.append(image_8bit)\n",
    "    \n",
    "for i in range(num_frames):\n",
    "\t# Rotate the view\n",
    "\tview_control.rotate(angle_step, 0)  # (horizontal, vertical)\n",
    "\n",
    "\t# vis.update_geometry(axis_orig) # Only if I move it myself?\n",
    "\tvis.poll_events()\n",
    "\tvis.update_renderer()\n",
    "\n",
    "\t# Capture frame directly into memory\n",
    "\timage = vis.capture_screen_float_buffer(False)\n",
    "\timage_8bit = (np.asarray(image) * 255).astype(np.uint8)  # Convert to 8-bit\n",
    "\tframes.append(image_8bit)\n",
    "\n",
    "\n",
    "\n",
    "# Create GIF\n",
    "# Ensure frames are in the correct format\n",
    "frames = [frame.astype(\"uint8\") for frame in frames]\n",
    "\n",
    "# Use imageio to save as GIF\n",
    "imageio.mimsave(\"cNDT_initial.gif\", frames, fps=30, loop=0)  # Adjust fps if necessary\n",
    "\n",
    "# Run visualization \n",
    "vis.run()\n",
    "vis.destroy_window()"
   ]
  },
  {
   "cell_type": "code",
   "execution_count": null,
   "id": "2a31cef4-deba-4285-b246-eda612152a71",
   "metadata": {},
   "outputs": [],
   "source": []
  },
  {
   "cell_type": "code",
   "execution_count": null,
   "id": "b1471332-6418-40a8-9a8d-ecbbe7384ef2",
   "metadata": {},
   "outputs": [],
   "source": []
  },
  {
   "cell_type": "code",
   "execution_count": null,
   "id": "5d285fb6-bdcf-4702-9109-9bf9280d8a94",
   "metadata": {},
   "outputs": [],
   "source": []
  },
  {
   "cell_type": "markdown",
   "id": "49316037-1f7b-4545-9df8-c898df60a3fe",
   "metadata": {},
   "source": [
    "# Plotting Tools"
   ]
  },
  {
   "cell_type": "code",
   "execution_count": null,
   "id": "de245e4e-4516-4965-b036-44be00fa6e08",
   "metadata": {},
   "outputs": [],
   "source": [
    "# Use open3d to create point cloud visualization \n",
    "\n",
    "# Create visualization \n",
    "vis = o3d.visualization.Visualizer()\n",
    "vis.create_window(window_name=\"Originial scene with origin\")\n",
    "\n",
    "# Create axes @ origin\n",
    "axis_origin = o3d.geometry.TriangleMesh.create_coordinate_frame(size=0.5)\n",
    "\n",
    "# Create point cloud for scene pts\n",
    "scene_cloud = o3d.geometry.PointCloud()\n",
    "scene_cloud.points = o3d.utility.Vector3dVector(ref_scene)\n",
    "scene_cloud.colors = o3d.utility.Vector3dVector(ref_rgb)\n",
    "\n",
    "# Add necessary geometries to visualization \n",
    "vis.add_geometry(axis_origin)\n",
    "vis.add_geometry(scene_cloud)\n",
    "\n",
    "# Size options (jupyter gives issues when running this multiple times, but it looks better)\n",
    "render_option = vis.get_render_option()\n",
    "render_option.point_size = 2\n",
    "\n",
    "# Run and destroy visualization \n",
    "vis.run()\n",
    "vis.destroy_window()"
   ]
  },
  {
   "cell_type": "code",
   "execution_count": null,
   "id": "b41afb10-772d-48cd-b72b-756766fa846f",
   "metadata": {},
   "outputs": [],
   "source": []
  }
 ],
 "metadata": {
  "kernelspec": {
   "display_name": "Python 3 (ipykernel)",
   "language": "python",
   "name": "python3"
  },
  "language_info": {
   "codemirror_mode": {
    "name": "ipython",
    "version": 3
   },
   "file_extension": ".py",
   "mimetype": "text/x-python",
   "name": "python",
   "nbconvert_exporter": "python",
   "pygments_lexer": "ipython3",
   "version": "3.9.18"
  }
 },
 "nbformat": 4,
 "nbformat_minor": 5
}
