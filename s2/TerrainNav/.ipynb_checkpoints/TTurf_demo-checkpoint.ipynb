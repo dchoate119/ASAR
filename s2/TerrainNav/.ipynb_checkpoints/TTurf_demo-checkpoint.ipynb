{
 "cells": [
  {
   "cell_type": "markdown",
   "id": "17b3f12d-0341-4eb1-b02c-90dc5d2f547e",
   "metadata": {},
   "source": [
    "## Colmap data testing for tufts turf images"
   ]
  },
  {
   "cell_type": "code",
   "execution_count": 1,
   "id": "34602ad7-ad18-4089-8189-b00f26d055ff",
   "metadata": {},
   "outputs": [
    {
     "name": "stdout",
     "output_type": "stream",
     "text": [
      "Jupyter environment detected. Enabling Open3D WebVisualizer.\n",
      "[Open3D INFO] WebRTC GUI backend enabled.\n",
      "[Open3D INFO] WebRTCWindowSystem: HTTP handshake server disabled.\n"
     ]
    },
    {
     "name": "stderr",
     "output_type": "stream",
     "text": [
      "2024-11-05 14:55:06.325566: I tensorflow/core/util/port.cc:153] oneDNN custom operations are on. You may see slightly different numerical results due to floating-point round-off errors from different computation orders. To turn them off, set the environment variable `TF_ENABLE_ONEDNN_OPTS=0`.\n",
      "2024-11-05 14:55:06.472855: E external/local_xla/xla/stream_executor/cuda/cuda_fft.cc:485] Unable to register cuFFT factory: Attempting to register factory for plugin cuFFT when one has already been registered\n",
      "2024-11-05 14:55:06.542554: E external/local_xla/xla/stream_executor/cuda/cuda_dnn.cc:8454] Unable to register cuDNN factory: Attempting to register factory for plugin cuDNN when one has already been registered\n",
      "2024-11-05 14:55:06.564483: E external/local_xla/xla/stream_executor/cuda/cuda_blas.cc:1452] Unable to register cuBLAS factory: Attempting to register factory for plugin cuBLAS when one has already been registered\n",
      "2024-11-05 14:55:06.661118: I tensorflow/core/platform/cpu_feature_guard.cc:210] This TensorFlow binary is optimized to use available CPU instructions in performance-critical operations.\n",
      "To enable the following instructions: AVX2 AVX_VNNI FMA, in other operations, rebuild TensorFlow with the appropriate compiler flags.\n",
      "2024-11-05 14:55:07.974761: W tensorflow/compiler/tf2tensorrt/utils/py_utils.cc:38] TF-TRT Warning: Could not find TensorRT\n"
     ]
    },
    {
     "data": {
      "application/javascript": [
       "IPython.notebook.set_autosave_interval(180000)"
      ]
     },
     "metadata": {},
     "output_type": "display_data"
    },
    {
     "name": "stdout",
     "output_type": "stream",
     "text": [
      "Autosaving every 180 seconds\n"
     ]
    }
   ],
   "source": [
    "# Tufts turf field located near \n",
    "\n",
    "\n",
    "import open3d as o3d\n",
    "import numpy as np\n",
    "import plotly.graph_objects as go \n",
    "from scipy.spatial.transform import Rotation as R\n",
    "from colmapParsingUtils import *\n",
    "import copy\n",
    "\n",
    "from ptCloudParsingUtils import *\n",
    "\n",
    "\n",
    "from mpl_toolkits.mplot3d import axes3d\n",
    "from matplotlib import cm\n",
    "import matplotlib.pyplot as plt\n",
    "\n",
    "import tensorflow as tf\n",
    "import cv2\n",
    "\n",
    "%load_ext autoreload\n",
    "%autoreload 2\n",
    "%autosave 180\n"
   ]
  },
  {
   "cell_type": "code",
   "execution_count": 2,
   "id": "a9946bf4-3972-49ad-878a-3e2e9a74429e",
   "metadata": {},
   "outputs": [],
   "source": [
    "# Load images, points, pose estimations from COLMAP \n",
    "\n",
    "images_colmap = read_images_text('/home/daniel-choate/ASAR/s2/TerrainNav/TTurf/images.txt')\n",
    "cameras = read_cameras_text('/home/daniel-choate/ASAR/s2/TerrainNav/TTurf/cameras.txt')\n",
    "pts3d = read_points3D_text('/home/daniel-choate/ASAR/s2/TerrainNav/TTurf/points3D.txt')"
   ]
  },
  {
   "cell_type": "code",
   "execution_count": 3,
   "id": "5a98b698-5842-49f0-8277-24e7e506246e",
   "metadata": {},
   "outputs": [],
   "source": [
    "# Extract 3d points from raw file \n",
    "\n",
    "pointdata_fn = \"/home/daniel-choate/ASAR/s2/TerrainNav/TTurf/points3D.txt\"\n",
    "num_pts = 75497 # Gerrard Hall\n",
    "\n",
    "# points_data = []\n",
    "scene_pts = np.zeros([num_pts, 3]) \n",
    "idx = 0\n",
    "\n",
    "with open(pointdata_fn, 'r') as file:\n",
    "    lines = file.readlines()[3:]  # Skip the first three lines\n",
    "    \n",
    "    for line in lines:\n",
    "        elements = line.strip().split()\n",
    "        \n",
    "        row = [float(elem) for elem in list(elements)]\n",
    "\n",
    "        scene_pts[idx,0] = row[1]\n",
    "        scene_pts[idx,1] = row[2]\n",
    "        scene_pts[idx,2] = row[3]\n",
    "        idx += 1\n",
    "\n",
    "# Filter RGB data into separate numpy array \n",
    "rgb_data = np.zeros([num_pts, 3])\n",
    "idx = 0\n",
    "\n",
    "with open(pointdata_fn, 'r') as file:\n",
    "    lines = file.readlines()[3:] # Skip the first three lines \n",
    "    for line in lines:\n",
    "        elements = line.strip().split()\n",
    "        row = [float(elem) for elem in list(elements)]\n",
    "\n",
    "        rgb_data[idx,0] = row[4]\n",
    "        rgb_data[idx,1] = row[5]\n",
    "        rgb_data[idx,2] = row[6]\n",
    "        idx += 1\n",
    "\n",
    "# SCALE COLORS\n",
    "rgb_data = rgb_data/255\n",
    "# print(scene_pts[:10])\n",
    "\n",
    "# Filter RGB data into separate numpy array with ALPHA\n",
    "rgba_data = np.zeros([num_pts, 4])\n",
    "idx = 0\n",
    "\n",
    "with open(pointdata_fn, 'r') as file:\n",
    "    lines = file.readlines()[3:] # Skip the first three lines \n",
    "    for line in lines:\n",
    "        elements = line.strip().split()\n",
    "        row = [float(elem) for elem in list(elements)]\n",
    "\n",
    "        rgba_data[idx,0] = row[4]\n",
    "        rgba_data[idx,1] = row[5]\n",
    "        rgba_data[idx,2] = row[6]\n",
    "        rgba_data[idx,3] = .5\n",
    "        idx += 1\n",
    "\n",
    "# SCALE COLORS\n",
    "# rgba_data = rgba_data/255\n",
    "rgba_data[:, :3] = rgba_data[:, :3] / 255\n",
    "# print(scene_pts[:10])"
   ]
  },
  {
   "cell_type": "code",
   "execution_count": 4,
   "id": "476ff2ce-0c68-4060-abc3-6cc6eea8f5eb",
   "metadata": {},
   "outputs": [
    {
     "name": "stdout",
     "output_type": "stream",
     "text": [
      "252.06210301498535\n"
     ]
    }
   ],
   "source": [
    "# Convert COLMAP poses (xyz,quats) to rotm\n",
    "\n",
    "poses = np.zeros([len(images_colmap),4,4])\n",
    "images = np.zeros([len(poses),250,250,3])\n",
    "\n",
    "\n",
    "skip_indices = {10, 17, 65, 83, 84}  # Use a set to store the indices to skip\n",
    "\n",
    "#loop through <images_from_colmap> to get 3D poses of cameras at each timestamp\n",
    "# print(len(images_from_colmap))\n",
    "for n in range(len(images_colmap)):\n",
    "    # print(n)\n",
    "    if n in skip_indices:\n",
    "        continue\n",
    "\n",
    "\n",
    "    # Pull quaternion and translation vector\n",
    "    qvec = images_colmap[n+1].qvec #raw\n",
    "    # print(qvec)\n",
    "    # print(images_colmap[n+1].tvec)\n",
    "    tvec = images_colmap[n+1].tvec[:,None]\n",
    "    # print(tvec)\n",
    "    \n",
    "    t = tvec.reshape([3,1])\n",
    "    # print(tvec)\n",
    "    Rotmat = qvec2rotmat(-qvec)\n",
    "    \n",
    "    bottom = np.array([0.0, 0.0, 0.0, 1.0]).reshape([1, 4])\n",
    "    m = np.concatenate([np.concatenate([Rotmat, t], 1), bottom], 0)\n",
    "    c2w = np.linalg.inv(m)\n",
    "\n",
    "    # NERF SPECIFIC ROTATIONS \n",
    "    # c2w[0:3,2] *= -1 # flip the y and z axis\n",
    "    # c2w[0:3,1] *= -1\n",
    "    # c2w = c2w[[1,0,2,3],:]\n",
    "    # c2w[2,:] *= -1 # flip whole world upside down\n",
    "    \n",
    "\n",
    "\n",
    "    poses[n] = c2w\n",
    "    # poses[n] = m\n",
    "    \n",
    "    #~~~~~~~~~~~~~~~~~~~~~~~~~~~~~~~~~~~~~~~~~~~~~\n",
    "\n",
    "#GET REST OF PARAMS NEEDED FOR tinyNeRF format~~~~~~~~~~~~~~~~~~~~~~~~~~~~    \n",
    "\n",
    "#fix order of colors\n",
    "images[:,:,:,0], images[:,:,:,1] = aniel.choate@tufts.eduimages[:,:,:,1], images[:,:,:,0]\n",
    "\n",
    "H,W = images.shape[1:3]\n",
    "# print(H,W)\n",
    "testimg, testpose = images[55], poses[55]\n",
    "\n",
    "focal = cameras[1].params[0] #test- see if same focal length can be shared across all images\n",
    "focal = focal/12\n",
    "print(focal)\n",
    "# print(poses)\n",
    "#~~~~~~~~~~~~~~~~~~~~~~~~~~~~~~~~~~~~~~~~~~~~~~~~~~~~~~~~~~~~~~~~~~~~~~~~~"
   ]
  },
  {
   "cell_type": "markdown",
   "id": "f027a61e-9ead-463e-99e2-5619f3b53151",
   "metadata": {},
   "source": [
    "# Plotting pt cloud"
   ]
  },
  {
   "cell_type": "code",
   "execution_count": 5,
   "id": "0292656f-69d7-45d7-972e-50cb0d02b1e9",
   "metadata": {},
   "outputs": [
    {
     "name": "stderr",
     "output_type": "stream",
     "text": [
      "libGL: Can't open configuration file /etc/drirc: No such file or directory.\n",
      "libGL: Can't open configuration file /home/daniel-choate/.drirc: No such file or directory.\n",
      "using driver i915 for 71\n",
      "libGL: Can't open configuration file /etc/drirc: No such file or directory.\n",
      "libGL: Can't open configuration file /home/daniel-choate/.drirc: No such file or directory.\n",
      "using driver i915 for 71\n",
      "pci id for fd 71: 8086:a7a0, driver iris\n",
      "MESA-LOADER: dlopen(/usr/lib/x86_64-linux-gnu/dri/iris_dri.so)\n",
      "libGL: Can't open configuration file /etc/drirc: No such file or directory.\n",
      "libGL: Can't open configuration file /home/daniel-choate/.drirc: No such file or directory.\n",
      "libGL: Can't open configuration file /etc/drirc: No such file or directory.\n",
      "libGL: Can't open configuration file /home/daniel-choate/.drirc: No such file or directory.\n",
      "libGL: Can't open configuration file /etc/drirc: No such file or directory.\n",
      "libGL: Can't open configuration file /home/daniel-choate/.drirc: No such file or directory.\n",
      "Using DRI3 for screen 0\n"
     ]
    }
   ],
   "source": [
    "# Plotting 3D points\n",
    "# BY ITSELF\n",
    "# Data generated by COLMAP\n",
    "\n",
    "vis = o3d.visualization.Visualizer()\n",
    "vis.create_window()\n",
    "\n",
    "scene_cloud = o3d.geometry.PointCloud()\n",
    "scene_cloud.points = o3d.utility.Vector3dVector(scene_pts)\n",
    "scene_cloud.colors = o3d.utility.Vector3dVector(rgb_data)\n",
    "# scene_cloud.colors = o3d.utility.Vector3dVector(rgba_data)\n",
    "vis.add_geometry(scene_cloud)\n",
    "\n",
    "# render_option = vis.get_render_option()\n",
    "render_option = vis.get_render_option()\n",
    "\n",
    "render_option.point_size = 2.5\n",
    "# render_option.point_alpha = .5\n",
    "\n",
    "vis.run()\n",
    "\n",
    "vis.destroy_window()\n"
   ]
  },
  {
   "cell_type": "markdown",
   "id": "7008ee52-d786-495c-9b4e-d922fac55b46",
   "metadata": {},
   "source": [
    "# Plot camera poses "
   ]
  },
  {
   "cell_type": "code",
   "execution_count": 6,
   "id": "7cd6d06b-d867-476d-b5d0-3ff720240611",
   "metadata": {},
   "outputs": [
    {
     "name": "stderr",
     "output_type": "stream",
     "text": [
      "libGL: Can't open configuration file /etc/drirc: No such file or directory.\n",
      "libGL: Can't open configuration file /home/daniel-choate/.drirc: No such file or directory.\n",
      "using driver i915 for 70\n",
      "libGL: Can't open configuration file /etc/drirc: No such file or directory.\n",
      "libGL: Can't open configuration file /home/daniel-choate/.drirc: No such file or directory.\n",
      "using driver i915 for 70\n",
      "pci id for fd 70: 8086:a7a0, driver iris\n",
      "MESA-LOADER: dlopen(/usr/lib/x86_64-linux-gnu/dri/iris_dri.so)\n",
      "libGL: Can't open configuration file /etc/drirc: No such file or directory.\n",
      "libGL: Can't open configuration file /home/daniel-choate/.drirc: No such file or directory.\n",
      "libGL: Can't open configuration file /etc/drirc: No such file or directory.\n",
      "libGL: Can't open configuration file /home/daniel-choate/.drirc: No such file or directory.\n",
      "libGL: Can't open configuration file /etc/drirc: No such file or directory.\n",
      "libGL: Can't open configuration file /home/daniel-choate/.drirc: No such file or directory.\n",
      "Using DRI3 for screen 0\n"
     ]
    }
   ],
   "source": [
    "# Create Open3D visualizer object\n",
    "vis = o3d.visualization.Visualizer()\n",
    "vis.create_window(window_name='3D Plot with Pose Axes and Point Cloud', width=1000, height=1000)\n",
    "\n",
    "# Add coordinate axes\n",
    "axes = o3d.geometry.TriangleMesh.create_coordinate_frame(size=0.5)\n",
    "\n",
    "# loop through poses \n",
    "for pose in poses:\n",
    "    homog_t = pose\n",
    "    axes1 = copy.deepcopy(axes).transform(homog_t)\n",
    "    vis.add_geometry(axes1)\n",
    "    \n",
    "\n",
    "vis.add_geometry(axes)\n",
    "# vis.add_geometry(scene_cloud)\n",
    "\n",
    "# Run the visualizer\n",
    "vis.run()\n",
    "vis.destroy_window()"
   ]
  },
  {
   "cell_type": "markdown",
   "id": "7f543d17-ca65-470f-a6e5-922f93523aa8",
   "metadata": {},
   "source": [
    "# Frames and cloud "
   ]
  },
  {
   "cell_type": "code",
   "execution_count": 18,
   "id": "bd09bccc-f05c-45f7-8b0b-95aa9c9118f5",
   "metadata": {},
   "outputs": [
    {
     "name": "stderr",
     "output_type": "stream",
     "text": [
      "libGL: Can't open configuration file /etc/drirc: No such file or directory.\n",
      "libGL: Can't open configuration file /home/daniel-choate/.drirc: No such file or directory.\n",
      "using driver i915 for 70\n",
      "libGL: Can't open configuration file /etc/drirc: No such file or directory.\n",
      "libGL: Can't open configuration file /home/daniel-choate/.drirc: No such file or directory.\n",
      "using driver i915 for 70\n",
      "pci id for fd 70: 8086:a7a0, driver iris\n",
      "MESA-LOADER: dlopen(/usr/lib/x86_64-linux-gnu/dri/iris_dri.so)\n",
      "libGL: Can't open configuration file /etc/drirc: No such file or directory.\n",
      "libGL: Can't open configuration file /home/daniel-choate/.drirc: No such file or directory.\n",
      "libGL: Can't open configuration file /etc/drirc: No such file or directory.\n",
      "libGL: Can't open configuration file /home/daniel-choate/.drirc: No such file or directory.\n",
      "libGL: Can't open configuration file /etc/drirc: No such file or directory.\n",
      "libGL: Can't open configuration file /home/daniel-choate/.drirc: No such file or directory.\n",
      "Using DRI3 for screen 0\n"
     ]
    }
   ],
   "source": [
    "# Create Open3D visualizer object\n",
    "vis = o3d.visualization.Visualizer()\n",
    "vis.create_window(window_name='3D Plot with Pose Axes and Point Cloud', width=1000, height=1000)\n",
    "\n",
    "# Add coordinate axes\n",
    "axes = o3d.geometry.TriangleMesh.create_coordinate_frame(size=1)\n",
    "\n",
    "# loop through poses \n",
    "for pose in poses:\n",
    "    homog_t = pose\n",
    "    axes1 = copy.deepcopy(axes).transform(homog_t)\n",
    "    vis.add_geometry(axes1)\n",
    "    \n",
    "\n",
    "vis.add_geometry(axes)\n",
    "vis.add_geometry(scene_cloud)\n",
    "\n",
    "# Run the visualizer\n",
    "vis.run()\n",
    "vis.destroy_window()"
   ]
  },
  {
   "cell_type": "code",
   "execution_count": null,
   "id": "c83f3475-29a6-46a0-b05d-1ad131da90b0",
   "metadata": {},
   "outputs": [],
   "source": []
  }
 ],
 "metadata": {
  "kernelspec": {
   "display_name": "Python 3 (ipykernel)",
   "language": "python",
   "name": "python3"
  },
  "language_info": {
   "codemirror_mode": {
    "name": "ipython",
    "version": 3
   },
   "file_extension": ".py",
   "mimetype": "text/x-python",
   "name": "python",
   "nbconvert_exporter": "python",
   "pygments_lexer": "ipython3",
   "version": "3.9.18"
  }
 },
 "nbformat": 4,
 "nbformat_minor": 5
}
