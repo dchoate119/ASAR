{
 "cells": [
  {
   "cell_type": "markdown",
   "id": "5ec86562-031d-4277-a218-72b8439ab3aa",
   "metadata": {},
   "source": [
    "# Better methods for patch offset representation"
   ]
  },
  {
   "cell_type": "markdown",
   "id": "62475d52-4287-4484-b81a-4e2f02162c6b",
   "metadata": {},
   "source": [
    "### Checklist\n",
    "1. [x] Initial layout on colmap cloud (no match solution)\n",
    "2. [x] Generate representative figure\n",
    "3. [x] Layout on satellite image\n",
    "4. [ ] Individual solutions\n",
    "5. [ ] Representative figure"
   ]
  },
  {
   "cell_type": "code",
   "execution_count": 1,
   "id": "46010fef-956c-427b-9939-d6f855e75961",
   "metadata": {},
   "outputs": [
    {
     "name": "stdout",
     "output_type": "stream",
     "text": [
      "Jupyter environment detected. Enabling Open3D WebVisualizer.\n",
      "[Open3D INFO] WebRTC GUI backend enabled.\n",
      "[Open3D INFO] WebRTCWindowSystem: HTTP handshake server disabled.\n"
     ]
    },
    {
     "data": {
      "application/javascript": [
       "IPython.notebook.set_autosave_interval(180000)"
      ]
     },
     "metadata": {},
     "output_type": "display_data"
    },
    {
     "name": "stdout",
     "output_type": "stream",
     "text": [
      "Autosaving every 180 seconds\n"
     ]
    }
   ],
   "source": [
    "import numpy as np\n",
    "import cv2\n",
    "import open3d as o3d\n",
    "import plotly.graph_objects as go\n",
    "import plotly.io as pio\n",
    "from scipy.spatial.transform import Rotation as R\n",
    "from scipy.spatial import cKDTree\n",
    "# %matplotlib qt\n",
    "import matplotlib.pyplot as plt\n",
    "from matplotlib.path import Path\n",
    "import time\n",
    "import imageio\n",
    "\n",
    "from groundNAV_agent import *\n",
    "from colmapParsingUtils import *\n",
    "import pycolmap\n",
    "\n",
    "# SAVE YOUR WORK\n",
    "%load_ext autoreload\n",
    "%autoreload 2\n",
    "%autosave 180"
   ]
  },
  {
   "cell_type": "code",
   "execution_count": 2,
   "id": "cf84fe7c-5dc7-469d-80cc-c99eab2a1082",
   "metadata": {},
   "outputs": [],
   "source": [
    "# Load in necessary parameters for gNAV agent \n",
    "# Define Class Parameters \n",
    "\n",
    "images_colm  = \"/home/daniel-choate/ASAR/s2/TerrainNav/TTurf/test/images.txt\"\n",
    "cameras_colm = \"/home/daniel-choate/ASAR/s2/TerrainNav/TTurf/test/cameras.txt\"\n",
    "pts3d_colm = \"/home/daniel-choate/ASAR/s2/TerrainNav/TTurf/test/points3D_f.txt\"\n",
    "\n",
    "# Images selected for local corrections\n",
    "image_1 = \"/home/daniel-choate/Datasets/COLMAP/TTurfSAT/TTurf_Im/IMG_9475.JPEG\"\n",
    "image_2 = \"/home/daniel-choate/Datasets/COLMAP/TTurfSAT/TTurf_Im/IMG_9464.JPEG\"\n",
    "image_3 = \"/home/daniel-choate/Datasets/COLMAP/TTurfSAT/TTurf_Im/IMG_9467.JPEG\"\n",
    "image_4 = \"/home/daniel-choate/Datasets/COLMAP/TTurfSAT/TTurf_Im/IMG_9473.JPEG\"\n",
    "image_5 = \"/home/daniel-choate/Datasets/COLMAP/TTurfSAT/TTurf_Im/IMG_9476.JPEG\"\n",
    "image_6 = \"/home/daniel-choate/Datasets/COLMAP/TTurfSAT/TTurf_Im/IMG_9446.JPEG\" #ID:4\n",
    "image_7 = \"/home/daniel-choate/Datasets/COLMAP/TTurfSAT/TTurf_Im/IMG_9520.JPEG\" #ID:78\n",
    "image_8 = \"/home/daniel-choate/Datasets/COLMAP/TTurfSAT/TTurf_Im/IMG_9531.JPEG\" #ID:89\n",
    "image_9 = \"/home/daniel-choate/Datasets/COLMAP/TTurfSAT/TTurf_Im/IMG_9542.JPEG\" #ID:100\n",
    "image_10 = \"/home/daniel-choate/Datasets/COLMAP/TTurfSAT/TTurf_Im/IMG_9576.JPEG\"\n",
    "# Load in satellite reference image\n",
    "sat_ref = \"TTurf/TurfSat.jpg\"\n",
    "\n",
    "# Organize for agent params\n",
    "images = [image_1, image_2, image_3, image_4, image_5, image_6, image_7, image_8, image_9, image_10]"
   ]
  },
  {
   "cell_type": "code",
   "execution_count": 3,
   "id": "81eb24e5-ace5-4f23-b862-8aad62d87174",
   "metadata": {},
   "outputs": [],
   "source": [
    "# Create class\n",
    "gnav = gNAV_agent(images_colm, cameras_colm, pts3d_colm, images, sat_ref)\n",
    "\n",
    "# Grab raw points and RGB data for scene and reference cloud\n",
    "scene_pts, rgb_data = gnav.grab_pts(gnav.pts3d_c)\n",
    "ref_pts, ref_rgb = gnav.ref_pts, gnav.ref_rgb"
   ]
  },
  {
   "cell_type": "code",
   "execution_count": 4,
   "id": "9bb366f2-e1fb-4bc7-8ebf-193b1d787e93",
   "metadata": {},
   "outputs": [
    {
     "name": "stdout",
     "output_type": "stream",
     "text": [
      "\n",
      "Reference frame transformation\n",
      " [[-1.55069060e-03  9.81197008e-01  1.93002661e-01 -1.21025836e-01]\n",
      " [-1.42845166e-01 -1.91240997e-01  9.71093270e-01  1.86102525e+00]\n",
      " [ 9.89743833e-01 -2.60636319e-02  1.40455805e-01  7.28134156e-01]\n",
      " [ 0.00000000e+00  0.00000000e+00  0.00000000e+00  1.00000000e+00]]\n"
     ]
    }
   ],
   "source": [
    "# Use ground plane pts to set reference frame \n",
    "# Need gravity and height\n",
    "pts_gnd_idx = np.array([25440, 25450, 25441, 25449, 25442, 25445, 103922, 103921, 103919, 103920])\n",
    "# tform_ref_frame = gnav.set_ref_frame(pts_gnd_idx) # THIS IS WHAT I AM CHANGING \n",
    "tform_ref_frame = gnav.set_ref_frame_mid(pts_gnd_idx) # NEW VERSION\n",
    "tform_ref_frame_pts = gnav.inv_homog_transform(tform_ref_frame)\n",
    "print(\"\\nReference frame transformation\\n\", tform_ref_frame_pts)\n",
    "\n",
    "\n",
    "# Transform all points to the new coordinate system \n",
    "# Not necessary since we aren't using the cloud, but a good visual check for coord frame\n",
    "tform_ref_frame_inv = gnav.inv_homog_transform(tform_ref_frame)\n",
    "origin_ref, scene_pts_ref, scene_vec_ref = gnav.unit_vec_tform(scene_pts, gnav.origin_w, tform_ref_frame_inv)\n",
    "# print(origin_ref)\n",
    "# Transform scene cloud to 2D (also as a visual check)\n",
    "# Note: 2d projection will look off with z=-1; see TTurf_v2 for cropping method\n",
    "scene_ref_2d = gnav.proj_2d_scene(scene_pts_ref)\n",
    "# print(scene_ref_2d)"
   ]
  },
  {
   "cell_type": "code",
   "execution_count": 5,
   "id": "97264eb5-c7a4-4e62-97fe-8080a0a4ace1",
   "metadata": {},
   "outputs": [],
   "source": [
    "# Image 0 - 10 yard hash marks\n",
    "imnum = 0\n",
    "x,y = 1500,1000\n",
    "side_x = 900 # WIDTH\n",
    "side_y = 500 # HEIGHT\n",
    "\n",
    "# Plot to visualize\n",
    "# gnav.plot_rect_im(x, y, side_x, side_y, imnum) \n",
    "\n",
    "# Get necessary location and rgb data \n",
    "pts_loc, pts_rgb = gnav.grab_image_pts(x, y, side_x, side_y, imnum)"
   ]
  },
  {
   "cell_type": "code",
   "execution_count": 6,
   "id": "41e31166-45ec-4796-a06e-d558ffe01da5",
   "metadata": {},
   "outputs": [],
   "source": [
    "# Image 1 - bottom of S\n",
    "imnum = 1\n",
    "x,y = 1400,2300\n",
    "side_x = 800 # WIDTH\n",
    "side_y = 1200 # HEIGHT\n",
    "\n",
    "# Plot to visualize\n",
    "# gnav.plot_rect_im(x, y, side_x, side_y, imnum) \n",
    "\n",
    "# Get necessary location and rgb data \n",
    "pts_loc, pts_rgb = gnav.grab_image_pts(x, y, side_x, side_y, imnum)"
   ]
  },
  {
   "cell_type": "code",
   "execution_count": 7,
   "id": "3aa13e4a-b209-4c9f-b132-040288097dd8",
   "metadata": {},
   "outputs": [],
   "source": [
    "# Image 2 - Jumbo logo OR B in jumbos\n",
    "imnum = 2\n",
    "x,y = 800,2100\n",
    "side_x = 1400 # WIDTH\n",
    "side_y = 500 # HEIGHT\n",
    "\n",
    "# Plot to visualize\n",
    "# gnav.plot_rect_im(x, y, side_x, side_y, imnum) \n",
    "\n",
    "# Get necessary location and rgb data \n",
    "pts_loc, pts_rgb = gnav.grab_image_pts(x, y, side_x, side_y, imnum)"
   ]
  },
  {
   "cell_type": "code",
   "execution_count": 8,
   "id": "dbf5103a-63a2-4db2-a828-c5ee65c99022",
   "metadata": {},
   "outputs": [],
   "source": [
    "# Image 3 - Edge to endzone \n",
    "imnum = 3\n",
    "x,y = 1150,900\n",
    "side_x = 1200 # WIDTH\n",
    "side_y = 500 # HEIGHT\n",
    "\n",
    "# Plot to visualize\n",
    "# gnav.plot_rect_im(x, y, side_x, side_y, imnum) \n",
    "\n",
    "# Get necessary location and rgb data \n",
    "pts_loc, pts_rgb = gnav.grab_image_pts(x, y, side_x, side_y, imnum)"
   ]
  },
  {
   "cell_type": "code",
   "execution_count": 9,
   "id": "1bff6ec5-30ee-4cf8-9712-daf7edd2738d",
   "metadata": {},
   "outputs": [],
   "source": [
    "# Image 4 - 10yd marker\n",
    "imnum = 4\n",
    "x,y = 1200,1300\n",
    "side_x = 1000 # WIDTH\n",
    "side_y = 700 # HEIGHT\n",
    "\n",
    "# Plot to visualize\n",
    "# gnav.plot_rect_im(x, y, side_x, side_y, imnum) \n",
    "\n",
    "# Get necessary location and rgb data \n",
    "pts_loc, pts_rgb = gnav.grab_image_pts(x, y, side_x, side_y, imnum)"
   ]
  },
  {
   "cell_type": "code",
   "execution_count": 10,
   "id": "7e54ede6-ef18-403b-a0a9-9652eb19f2bf",
   "metadata": {},
   "outputs": [],
   "source": [
    "# Image 5 - Bottom half of S\n",
    "imnum = 5\n",
    "x,y = 150, 2000\n",
    "side_x = 1500\n",
    "side_y = 250 # HEIGHT\n",
    "\n",
    "# Plot to visualize\n",
    "# gnav.plot_rect_im(x, y, side_x, side_y, imnum) \n",
    "\n",
    "# Get necessary location and rgb data \n",
    "pts_loc, pts_rgb = gnav.grab_image_pts(x, y, side_x, side_y, imnum)"
   ]
  },
  {
   "cell_type": "code",
   "execution_count": 11,
   "id": "34a0daab-ab14-489c-89f0-f1edc7ddfdfd",
   "metadata": {},
   "outputs": [],
   "source": [
    "# Image 6 - 40yd marker\n",
    "imnum = 6\n",
    "x,y = 1150,1150\n",
    "side_x = 1100 # WIDTH\n",
    "side_y = 900 # HEIGHT\n",
    "\n",
    "# Plot to visualize\n",
    "# gnav.plot_rect_im(x, y, side_x, side_y, imnum) \n",
    "\n",
    "# Get necessary location and rgb data \n",
    "pts_loc, pts_rgb = gnav.grab_image_pts(x, y, side_x, side_y, imnum)"
   ]
  },
  {
   "cell_type": "code",
   "execution_count": 12,
   "id": "0f20f981-854b-4693-8bfb-cd9a01ee864d",
   "metadata": {},
   "outputs": [],
   "source": [
    "# Image 7 - Jumbo logo\n",
    "imnum = 7\n",
    "x,y = 400,1500 # 1700\n",
    "side_x = 1500 # WIDTH\n",
    "side_y = 750 # HEIGHT\n",
    "\n",
    "# Plot to visualize\n",
    "# gnav.plot_rect_im(x, y, side_x, side_y, imnum) \n",
    "\n",
    "# Get necessary location and rgb data \n",
    "pts_loc, pts_rgb = gnav.grab_image_pts(x, y, side_x, side_y, imnum)"
   ]
  },
  {
   "cell_type": "code",
   "execution_count": 13,
   "id": "fe3456c8-4060-4c6a-99db-f8f7d89e2d49",
   "metadata": {},
   "outputs": [],
   "source": [
    "# Image 8 - 30yd marker (near)\n",
    "imnum = 8\n",
    "x,y = 1350,1450\n",
    "side_x = 1200 # WIDTH\n",
    "side_y = 500 # HEIGHT\n",
    "\n",
    "# Plot to visualize\n",
    "# gnav.plot_rect_im(x, y, side_x, side_y, imnum) \n",
    "\n",
    "# Get necessary location and rgb data \n",
    "pts_loc, pts_rgb = gnav.grab_image_pts(x, y, side_x, side_y, imnum)"
   ]
  },
  {
   "cell_type": "code",
   "execution_count": 14,
   "id": "91664e7d-136d-4d9e-a84c-4a70b9ff7722",
   "metadata": {},
   "outputs": [],
   "source": [
    "# Image 9 - bottom of U in Jumbos\n",
    "imnum = 9\n",
    "x,y = 600,1750\n",
    "side_x = 1000 # WIDTH\n",
    "side_y = 700 # HEIGHT\n",
    "\n",
    "# Plot to visualize\n",
    "# gnav.plot_rect_im(x, y, side_x, side_y, imnum) \n",
    "\n",
    "# Get necessary location and rgb data \n",
    "pts_loc, pts_rgb = gnav.grab_image_pts(x, y, side_x, side_y, imnum)"
   ]
  },
  {
   "cell_type": "markdown",
   "id": "943c7db6-9dfa-49c6-9a15-3bc12fdf668c",
   "metadata": {},
   "source": [
    "## 1. Initial layout on colmap cloud (no match solution)\n",
    "- [x] Generate projections\n",
    "- [x] Mean location"
   ]
  },
  {
   "cell_type": "code",
   "execution_count": 15,
   "id": "d9358507-4203-4fda-9bfb-a21185e919b3",
   "metadata": {},
   "outputs": [
    {
     "name": "stdout",
     "output_type": "stream",
     "text": [
      "\n",
      "Done image  0\n",
      "\n",
      "Done image  1\n",
      "\n",
      "Done image  2\n",
      "\n",
      "Done image  3\n",
      "\n",
      "Done image  4\n",
      "\n",
      "Done image  5\n",
      "\n",
      "Done image  6\n",
      "\n",
      "Done image  7\n",
      "\n",
      "Done image  8\n",
      "\n",
      "Done image  9\n"
     ]
    }
   ],
   "source": [
    "## Generate projection of image sections \n",
    "for i in range(len(images)):\n",
    "# Just for the first image for now\n",
    "# for i in range(1):\n",
    "    # Unit vectors in camera coords \n",
    "    pts_vec_c, pts_rgb_gnd = gnav.unit_vec_c(i)\n",
    "    gnav.im_mosaic[i] = {'rgbc': pts_rgb_gnd}\n",
    "\n",
    "    # Get transformation matrix that move from camera coords to world coords\n",
    "    id = gnav.im_ids[i]\n",
    "    homog_w2c, homog_c2w = gnav.get_pose_id(id,i)\n",
    "    # print('Homogeneous transformation from world to camera \\n', homog_c2w)\n",
    "    # print('\\n Homogeneous transformation from camera to world \\n', homog_w2c)\n",
    "\n",
    "    # Transform to world coords\n",
    "    origin_c, pts_loc_w, pts_vec_w = gnav.unit_vec_tform(pts_vec_c, gnav.origin_w, homog_c2w)\n",
    "    # print('\\n New camera frame origin = ', origin_c)\n",
    "    \n",
    "    # Get new points \n",
    "    ranges, new_pts_w = gnav.pt_range(pts_vec_w, homog_c2w, origin_c, i)\n",
    "    # print('\\nNew Points \\n', new_pts_w)\n",
    "\n",
    "    # Transfer points to reference frame\n",
    "    __, new_pts_r, pts_vec_r = gnav.unit_vec_tform(new_pts_w, gnav.origin_w, tform_ref_frame_pts)\n",
    "\n",
    "    # Convert points to grayscale \n",
    "    gray_c = gnav.conv_to_gray(gnav.im_mosaic[i]['rgbc'],i)\n",
    "    # print(gray_c)\n",
    "\n",
    "    # Put new points and grayscale colors in image mosaic\n",
    "    gnav.im_mosaic[i]['pts'] = new_pts_r\n",
    "    gnav.im_mosaic[i]['color_g'] = gray_c\n",
    "    \n",
    "    print(\"\\nDone image \", i)"
   ]
  },
  {
   "cell_type": "code",
   "execution_count": 16,
   "id": "1d81e7f3-c689-4a4b-b92f-c7246d6a8f44",
   "metadata": {},
   "outputs": [
    {
     "name": "stdout",
     "output_type": "stream",
     "text": [
      "Mean location for each colmap patch: \n",
      " [[-0.78040276  0.79359115  1.00111726]\n",
      " [-0.73513128 -1.00307527  1.00111726]\n",
      " [-1.72396002 -0.06408308  1.00111726]\n",
      " [-1.35868667  0.41415602  1.00111726]\n",
      " [ 0.76138545 -0.15151221  1.00111726]\n",
      " [-0.49264411 -2.32512668  1.00111726]\n",
      " [ 0.87608305  8.21747279  1.00111726]\n",
      " [ 4.29273404  6.25703641  1.00111726]\n",
      " [ 4.02119463  2.68858411  1.00111726]\n",
      " [-4.22097577  2.73338327  1.00111726]]\n"
     ]
    }
   ],
   "source": [
    "# Grab mean point location on COLMAP scale \n",
    "means_patch_colm = np.zeros((len(images),3))\n",
    "for i in range(len(images)):\n",
    "    pts = gnav.im_mosaic[i]['pts'] # Grab pts\n",
    "    # print(np.mean(pts, axis=0))\n",
    "    means_patch_colm[i] = np.mean(pts,axis=0) # Calc mean\n",
    "print(\"Mean location for each colmap patch: \\n\", means_patch_colm)"
   ]
  },
  {
   "cell_type": "markdown",
   "id": "9b41fe53-bd18-4355-9af8-c1cf8f040d9a",
   "metadata": {},
   "source": [
    "## 2. Representative Figure \n",
    "- [x] Circles to represent\n",
    "- [x] Lines connecting circles\n",
    "- [x] Plot\n",
    "\n",
    "### NOTES\n",
    "- The projections are not aligned with each other, but not on the ground plane (shouldn't matter)"
   ]
  },
  {
   "cell_type": "code",
   "execution_count": 17,
   "id": "4feda7f5-d6bf-412a-837e-f0922ddb2009",
   "metadata": {},
   "outputs": [],
   "source": [
    "# Generate a lineset\n",
    "points = means_patch_colm\n",
    "edges = np.array([[0,3],[3,2],[2,1],[1,5],[5,4],[4,8],[8,7],[7,6],[6,9],[9,0]])\n",
    "\n",
    "# Create a LineSet object\n",
    "lines = o3d.geometry.LineSet()\n",
    "\n",
    "# Set points and edges\n",
    "lines.points = o3d.utility.Vector3dVector(points)\n",
    "lines.lines = o3d.utility.Vector2iVector(edges)"
   ]
  },
  {
   "cell_type": "code",
   "execution_count": 18,
   "id": "f1b69358-9da9-4065-a5c6-22dcb0feae2c",
   "metadata": {},
   "outputs": [
    {
     "name": "stderr",
     "output_type": "stream",
     "text": [
      "libGL: Can't open configuration file /etc/drirc: No such file or directory.\n",
      "libGL: Can't open configuration file /home/daniel-choate/.drirc: No such file or directory.\n",
      "using driver i915 for 67\n",
      "libGL: Can't open configuration file /etc/drirc: No such file or directory.\n",
      "libGL: Can't open configuration file /home/daniel-choate/.drirc: No such file or directory.\n",
      "using driver i915 for 67\n",
      "pci id for fd 67: 8086:a7a0, driver iris\n",
      "libGL: Can't open configuration file /etc/drirc: No such file or directory.\n",
      "libGL: Can't open configuration file /home/daniel-choate/.drirc: No such file or directory.\n",
      "libGL: Can't open configuration file /etc/drirc: No such file or directory.\n",
      "libGL: Can't open configuration file /home/daniel-choate/.drirc: No such file or directory.\n",
      "libGL: Can't open configuration file /etc/drirc: No such file or directory.\n",
      "libGL: Can't open configuration file /home/daniel-choate/.drirc: No such file or directory.\n",
      "Using DRI3 for screen 0\n"
     ]
    }
   ],
   "source": [
    "# PLOT representative figure\n",
    "\n",
    "# Use open3d to create point cloud visualization \n",
    "# Create visualization \n",
    "vis = o3d.visualization.Visualizer()\n",
    "vis.create_window(window_name=\"Mosaic scene projection - COLMAP coords\")\n",
    "\n",
    "# Create axes @ origin\n",
    "axis_origin = o3d.geometry.TriangleMesh.create_coordinate_frame(size=1)\n",
    "\n",
    "\n",
    "# SPHERES\n",
    "for i in range(len(images)):\n",
    "    sphere = o3d.geometry.TriangleMesh.create_sphere(radius=0.25, resolution=20)\n",
    "    sphere.translate((means_patch_colm[i]))\n",
    "    sphere.paint_uniform_color([1.0, 0.3, 0.3])\n",
    "    vis.add_geometry(sphere)\n",
    "\n",
    "# LINES\n",
    "vis.add_geometry(lines)\n",
    "\n",
    "\n",
    "# # POINT CLOUDS \n",
    "# for i in range(len(images)):\n",
    "#     cloud = o3d.geometry.PointCloud()\n",
    "#     cloud.points = o3d.utility.Vector3dVector(gnav.im_mosaic[i]['pts'])\n",
    "#     cloud.colors = o3d.utility.Vector3dVector(gnav.im_mosaic[i]['color_g'])\n",
    "#     vis.add_geometry(cloud)\n",
    "\n",
    "\n",
    "# vis.add_geometry(axis_origin)\n",
    "\n",
    "# # Size options (jupyter gives issues when running this multiple times, but it looks better)\n",
    "# render_option = vis.get_render_option()\n",
    "# render_option.point_size = 2\n",
    "\n",
    "# # Set up initial viewpoint\n",
    "# view_control = vis.get_view_control()\n",
    "# # Direction which the camera is looking\n",
    "# view_control.set_front([0, .1, -1])  # Set the camera facing direction\n",
    "# # Point which the camera revolves about \n",
    "# view_control.set_lookat([1, 3.5, 1])   # Set the focus point\n",
    "# # Defines which way is up in the camera perspective \n",
    "# view_control.set_up([-1, 1, 0])       # Set the up direction\n",
    "# view_control.set_zoom(.45)           # Adjust zoom if necessary\n",
    "\n",
    "\n",
    "# vis.poll_events()\n",
    "# vis.update_renderer()\n",
    "# # GRAB SCREEN CLIP\n",
    "# vis.capture_screen_image(\"Figs_ScrSh/Error_Rep/circles_lines_colm.png\")\n",
    "# time.sleep(1.5)  # Keep window open for 1.5 seconds\n",
    "\n",
    "# Run and destroy visualization \n",
    "vis.run()\n",
    "vis.destroy_window()"
   ]
  },
  {
   "cell_type": "markdown",
   "id": "b1903a3a-f2fa-4d3c-80d8-5bb0764dbf5e",
   "metadata": {},
   "source": [
    "## 3. Layout on satellite image"
   ]
  },
  {
   "cell_type": "code",
   "execution_count": 19,
   "id": "80170fe7-eec0-4ff9-91e4-c04c13246bec",
   "metadata": {},
   "outputs": [
    {
     "name": "stdout",
     "output_type": "stream",
     "text": [
      "\n",
      "Done image  0\n",
      "\n",
      "Done image  1\n",
      "\n",
      "Done image  2\n",
      "\n",
      "Done image  3\n",
      "\n",
      "Done image  4\n",
      "\n",
      "Done image  5\n",
      "\n",
      "Done image  6\n",
      "\n",
      "Done image  7\n",
      "\n",
      "Done image  8\n",
      "\n",
      "Done image  9\n"
     ]
    }
   ],
   "source": [
    "# Implementing an initial guess for the local image \n",
    "\n",
    "# ARBITRARY SCALE\n",
    "scale = 78\n",
    "yaw = 2.44777\n",
    "x = 0\n",
    "y = 0\n",
    "\n",
    "\n",
    "# # BEST after CONVERGENCE\n",
    "# scale = 80.14819958\n",
    "# yaw = 2.44777939\n",
    "# x = -55.46495001\n",
    "# y = 21.62910054\n",
    "\n",
    "\n",
    "tform_guess = gnav.tform_create(x,y,0,0,0,yaw)\n",
    "gnav.best_guess_tform = tform_guess\n",
    "gnav.best_guess_scale = scale\n",
    "# gnav.best_guess_scale_MD = s_mat # Multi-directional (MD)\n",
    "# print(tform_guess)\n",
    "\n",
    "\n",
    "# NEW IMPLEMENTATION STRATEGY\n",
    "for i in range(len(images)):\n",
    "# Just for the first image for now\n",
    "# for i in range(1):\n",
    "    loc_im_pts = gnav.im_mosaic[i]['pts'].copy()\n",
    "    # print(loc_im_pts)\n",
    "\n",
    "    loc_im_pts[:, :2] *= scale # For SINGLE scale factor\n",
    "    # loc_im_pts = loc_im_pts @ s_mat # For MULTI-DIRECTIONAL scale factor\n",
    "    # Get new points \n",
    "    __, loc_im_pts_guess, loc_im_vec_guess = gnav.unit_vec_tform(loc_im_pts, gnav.origin_w, tform_guess)\n",
    "    gnav.im_pts_best_guess[i] = {'pts': loc_im_pts_guess}\n",
    "    # gnav.im_pts_best_guess[i]['tree'] = cKDTree(loc_im_pts_guess) # UNECESSARY \n",
    "\n",
    "    print(\"\\nDone image \", i)"
   ]
  },
  {
   "cell_type": "code",
   "execution_count": 20,
   "id": "07a34950-7853-4489-af6a-29bc3f38f071",
   "metadata": {},
   "outputs": [
    {
     "name": "stderr",
     "output_type": "stream",
     "text": [
      "libGL: Can't open configuration file /etc/drirc: No such file or directory.\n",
      "libGL: Can't open configuration file /home/daniel-choate/.drirc: No such file or directory.\n",
      "using driver i915 for 67\n",
      "libGL: Can't open configuration file /etc/drirc: No such file or directory.\n",
      "libGL: Can't open configuration file /home/daniel-choate/.drirc: No such file or directory.\n",
      "using driver i915 for 67\n",
      "pci id for fd 67: 8086:a7a0, driver iris\n",
      "libGL: Can't open configuration file /etc/drirc: No such file or directory.\n",
      "libGL: Can't open configuration file /home/daniel-choate/.drirc: No such file or directory.\n",
      "libGL: Can't open configuration file /etc/drirc: No such file or directory.\n",
      "libGL: Can't open configuration file /home/daniel-choate/.drirc: No such file or directory.\n",
      "libGL: Can't open configuration file /etc/drirc: No such file or directory.\n",
      "libGL: Can't open configuration file /home/daniel-choate/.drirc: No such file or directory.\n",
      "Using DRI3 for screen 0\n"
     ]
    }
   ],
   "source": [
    "# PLOT representative figure\n",
    "\n",
    "# Use open3d to create point cloud visualization \n",
    "# Create visualization \n",
    "vis = o3d.visualization.Visualizer()\n",
    "vis.create_window(window_name=\"Mosaic scene projection - COLMAP coords\")\n",
    "\n",
    "# Create axes @ origin\n",
    "axis_origin = o3d.geometry.TriangleMesh.create_coordinate_frame(size=1)\n",
    "vis.add_geometry(axis_origin)\n",
    "\n",
    "# POINT CLOUDS \n",
    "for i in range(len(images)):\n",
    "    cloud = o3d.geometry.PointCloud()\n",
    "    cloud.points = o3d.utility.Vector3dVector(gnav.im_pts_best_guess[i]['pts'])\n",
    "    cloud.colors = o3d.utility.Vector3dVector(gnav.im_mosaic[i]['color_g'])\n",
    "    vis.add_geometry(cloud)\n",
    "\n",
    "# Create point cloud for reference cloud (satellite)\n",
    "ref_cloud = o3d.geometry.PointCloud()\n",
    "ref_cloud.points = o3d.utility.Vector3dVector(gnav.ref_pts)\n",
    "ref_cloud.colors = o3d.utility.Vector3dVector(gnav.ref_rgb)\n",
    "vis.add_geometry(ref_cloud)\n",
    "\n",
    "\n",
    "# # Size options (jupyter gives issues when running this multiple times, but it looks better)\n",
    "# render_option = vis.get_render_option()\n",
    "# render_option.point_size = 2\n",
    "\n",
    "# # Set up initial viewpoint\n",
    "# view_control = vis.get_view_control()\n",
    "# # Direction which the camera is looking\n",
    "# view_control.set_front([0, .1, -1])  # Set the camera facing direction\n",
    "# # Point which the camera revolves about \n",
    "# view_control.set_lookat([1, 3.5, 1])   # Set the focus point\n",
    "# # Defines which way is up in the camera perspective \n",
    "# view_control.set_up([-1, 1, 0])       # Set the up direction\n",
    "# view_control.set_zoom(.45)           # Adjust zoom if necessary\n",
    "\n",
    "\n",
    "# vis.poll_events()\n",
    "# vis.update_renderer()\n",
    "# # GRAB SCREEN CLIP\n",
    "# vis.capture_screen_image(\"Figs_ScrSh/Error_Rep/circles_lines_colm.png\")\n",
    "# time.sleep(1.5)  # Keep window open for 1.5 seconds\n",
    "\n",
    "# Run and destroy visualization \n",
    "vis.run()\n",
    "vis.destroy_window()"
   ]
  },
  {
   "cell_type": "markdown",
   "id": "a8840470-ec6e-405b-aae8-523aff80fcc9",
   "metadata": {},
   "source": [
    "## 4. Individual Solutions\n",
    "\n",
    "- saved as <'ind_params.npy'>"
   ]
  },
  {
   "cell_type": "code",
   "execution_count": 21,
   "id": "37d20444-b602-4274-9d10-aa8f6cd4381f",
   "metadata": {},
   "outputs": [
    {
     "name": "stdout",
     "output_type": "stream",
     "text": [
      "[[  82.            2.46091425  -56.           28.        ]\n",
      " [  82.            2.46091425  -60.           14.        ]\n",
      " [  76.            2.37364778  -44.           27.        ]\n",
      " [  78.            2.40855437  -52.           23.        ]\n",
      " [  80.            2.44346095  -51.           22.        ]\n",
      " [  87.            2.42600766  -84.          -24.        ]\n",
      " [  71.            2.42600766  -48.           42.        ]\n",
      " [  68.            2.58308729 -105.           67.        ]\n",
      " [  92.            2.35619449   96.            1.        ]\n",
      " [  85.            2.42600766  -79.          112.        ]]\n"
     ]
    }
   ],
   "source": [
    "gnav.params = np.load('ind_params.npy')\n",
    "print(gnav.params)"
   ]
  },
  {
   "cell_type": "code",
   "execution_count": 22,
   "id": "b3c4d07f-e666-46fb-a852-1245de40d75d",
   "metadata": {},
   "outputs": [
    {
     "name": "stdout",
     "output_type": "stream",
     "text": [
      "\n",
      "Done image  0\n",
      "\n",
      "Done image  1\n",
      "\n",
      "Done image  2\n",
      "\n",
      "Done image  3\n",
      "\n",
      "Done image  4\n",
      "\n",
      "Done image  5\n",
      "\n",
      "Done image  6\n",
      "\n",
      "Done image  7\n",
      "\n",
      "Done image  8\n",
      "\n",
      "Done image  9\n"
     ]
    }
   ],
   "source": [
    "# APPLY Individual Solutions\n",
    "\n",
    "# Transform \n",
    "for i in range(len(images)):\n",
    "# Just for the first image for now\n",
    "# for i in range(1):\n",
    "    loc_im_pts = gnav.im_mosaic[i]['pts'].copy()\n",
    "    # print(loc_im_pts)\n",
    "    # Grab parameters \n",
    "    p = gnav.params[i]\n",
    "    scale, yaw, x, y = p[0], p[1], p[2], p[3]\n",
    "    loc_im_pts[:, :2] *= scale # For SINGLE scale factor\n",
    "    # loc_im_pts = loc_im_pts @ s_mat # For MULTI-DIRECTIONAL scale factor\n",
    "    # Make SPECIFIC transformation matrix \n",
    "    tform_guess = gnav.tform_create(x,y,0,0,0,yaw)\n",
    "    # Get new points \n",
    "    __, loc_im_pts_guess, loc_im_vec_guess = gnav.unit_vec_tform(loc_im_pts, gnav.origin_w, tform_guess)\n",
    "    gnav.im_pts_best_guess[i] = {'pts': loc_im_pts_guess}\n",
    "    # gnav.im_pts_best_guess[i]['tree'] = cKDTree(loc_im_pts_guess) # UNECESSARY \n",
    "\n",
    "    print(\"\\nDone image \", i)"
   ]
  },
  {
   "cell_type": "code",
   "execution_count": 23,
   "id": "236333d9-ebaa-4dab-927d-c9e0db54d2c8",
   "metadata": {},
   "outputs": [
    {
     "name": "stderr",
     "output_type": "stream",
     "text": [
      "libGL: Can't open configuration file /etc/drirc: No such file or directory.\n",
      "libGL: Can't open configuration file /home/daniel-choate/.drirc: No such file or directory.\n",
      "using driver i915 for 67\n",
      "libGL: Can't open configuration file /etc/drirc: No such file or directory.\n",
      "libGL: Can't open configuration file /home/daniel-choate/.drirc: No such file or directory.\n",
      "using driver i915 for 67\n",
      "pci id for fd 67: 8086:a7a0, driver iris\n",
      "libGL: Can't open configuration file /etc/drirc: No such file or directory.\n",
      "libGL: Can't open configuration file /home/daniel-choate/.drirc: No such file or directory.\n",
      "libGL: Can't open configuration file /etc/drirc: No such file or directory.\n",
      "libGL: Can't open configuration file /home/daniel-choate/.drirc: No such file or directory.\n",
      "libGL: Can't open configuration file /etc/drirc: No such file or directory.\n",
      "libGL: Can't open configuration file /home/daniel-choate/.drirc: No such file or directory.\n",
      "Using DRI3 for screen 0\n"
     ]
    }
   ],
   "source": [
    "# VISUALIZE\n",
    "\n",
    "# PLOT representative figure\n",
    "\n",
    "# Use open3d to create point cloud visualization \n",
    "# Create visualization \n",
    "vis = o3d.visualization.Visualizer()\n",
    "vis.create_window(window_name=\"Mosaic scene projection - COLMAP coords\")\n",
    "\n",
    "# Create axes @ origin\n",
    "axis_origin = o3d.geometry.TriangleMesh.create_coordinate_frame(size=40)\n",
    "vis.add_geometry(axis_origin)\n",
    "\n",
    "# POINT CLOUDS \n",
    "for i in range(len(images)):\n",
    "    cloud = o3d.geometry.PointCloud()\n",
    "    cloud.points = o3d.utility.Vector3dVector(gnav.im_pts_best_guess[i]['pts'])\n",
    "    cloud.colors = o3d.utility.Vector3dVector(gnav.im_mosaic[i]['color_g'])\n",
    "    vis.add_geometry(cloud)\n",
    "\n",
    "# Create point cloud for reference cloud (satellite)\n",
    "ref_cloud = o3d.geometry.PointCloud()\n",
    "ref_cloud.points = o3d.utility.Vector3dVector(gnav.ref_pts)\n",
    "ref_cloud.colors = o3d.utility.Vector3dVector(gnav.ref_rgb)\n",
    "vis.add_geometry(ref_cloud)\n",
    "\n",
    "\n",
    "# Run and destroy visualization \n",
    "vis.run()\n",
    "vis.destroy_window()"
   ]
  },
  {
   "cell_type": "markdown",
   "id": "d1077bcf-6c96-48ce-8ef2-27f7f5f21df1",
   "metadata": {},
   "source": [
    "### 5. Representative Figure"
   ]
  },
  {
   "cell_type": "code",
   "execution_count": 24,
   "id": "39dada5e-0886-4f5f-8a4c-8fa228b06f61",
   "metadata": {},
   "outputs": [
    {
     "name": "stdout",
     "output_type": "stream",
     "text": [
      "Mean location for each colmap patch: \n",
      " [[ -47.22077093  -62.84448125    1.00111726]\n",
      " [  38.60992186   39.98602945    1.00111726]\n",
      " [  53.63179651  -60.51139695    1.00111726]\n",
      " [   5.14096698  -71.91950513    1.00111726]\n",
      " [ -89.8691938    70.43793753    1.00111726]\n",
      " [  81.05845136  100.54848335    1.00111726]\n",
      " [-477.71582023 -357.52007041    1.00111726]\n",
      " [-578.01949705 -139.13964244    1.00111726]\n",
      " [-340.49676475   87.69141021    1.00111726]\n",
      " [  39.34975633 -298.7301833     1.00111726]]\n"
     ]
    }
   ],
   "source": [
    "# Grab mean point location on COLMAP scale \n",
    "means_patch_sat = np.zeros((len(images),3))\n",
    "for i in range(len(images)):\n",
    "    pts = gnav.im_pts_best_guess[i]['pts'] # Grab pts\n",
    "    # print(np.mean(pts, axis=0))\n",
    "    means_patch_sat[i] = np.mean(pts,axis=0) # Calc mean\n",
    "print(\"Mean location for each colmap patch: \\n\", means_patch_sat)"
   ]
  },
  {
   "cell_type": "code",
   "execution_count": 25,
   "id": "7f6c1a30-d442-404f-baac-36a734a8de2b",
   "metadata": {},
   "outputs": [],
   "source": [
    "# Generate a lineset\n",
    "points = means_patch_sat\n",
    "edges = np.array([[0,3],[3,2],[2,1],[1,5],[5,4],[4,8],[8,7],[7,6],[6,9],[9,0]])\n",
    "\n",
    "# Create a LineSet object\n",
    "lines = o3d.geometry.LineSet()\n",
    "\n",
    "# Set points and edges\n",
    "lines.points = o3d.utility.Vector3dVector(points)\n",
    "lines.lines = o3d.utility.Vector2iVector(edges)"
   ]
  },
  {
   "cell_type": "code",
   "execution_count": 26,
   "id": "5f86b2bb-1981-49c9-9c05-32324fc3024e",
   "metadata": {},
   "outputs": [
    {
     "name": "stderr",
     "output_type": "stream",
     "text": [
      "libGL: Can't open configuration file /etc/drirc: No such file or directory.\n",
      "libGL: Can't open configuration file /home/daniel-choate/.drirc: No such file or directory.\n",
      "using driver i915 for 67\n",
      "libGL: Can't open configuration file /etc/drirc: No such file or directory.\n",
      "libGL: Can't open configuration file /home/daniel-choate/.drirc: No such file or directory.\n",
      "using driver i915 for 67\n",
      "pci id for fd 67: 8086:a7a0, driver iris\n",
      "libGL: Can't open configuration file /etc/drirc: No such file or directory.\n",
      "libGL: Can't open configuration file /home/daniel-choate/.drirc: No such file or directory.\n",
      "libGL: Can't open configuration file /etc/drirc: No such file or directory.\n",
      "libGL: Can't open configuration file /home/daniel-choate/.drirc: No such file or directory.\n",
      "libGL: Can't open configuration file /etc/drirc: No such file or directory.\n",
      "libGL: Can't open configuration file /home/daniel-choate/.drirc: No such file or directory.\n",
      "Using DRI3 for screen 0\n"
     ]
    }
   ],
   "source": [
    "# PLOT representative figure\n",
    "\n",
    "# Use open3d to create point cloud visualization \n",
    "# Create visualization \n",
    "vis = o3d.visualization.Visualizer()\n",
    "vis.create_window(window_name=\"Mosaic scene projection - SATELLITE coords\")\n",
    "\n",
    "\n",
    "# Create axes @ origin\n",
    "axis_origin = o3d.geometry.TriangleMesh.create_coordinate_frame(size=40)\n",
    "# vis.add_geometry(axis_origin)\n",
    "\n",
    "# POINT CLOUDS \n",
    "for i in range(len(images)):\n",
    "    cloud = o3d.geometry.PointCloud()\n",
    "    cloud.points = o3d.utility.Vector3dVector(gnav.im_pts_best_guess[i]['pts'])\n",
    "    cloud.colors = o3d.utility.Vector3dVector(gnav.im_mosaic[i]['color_g'])\n",
    "    # vis.add_geometry(cloud)\n",
    "\n",
    "# SPHERES\n",
    "for i in range(len(images)):\n",
    "    sphere = o3d.geometry.TriangleMesh.create_sphere(radius=10, resolution=20)\n",
    "    sphere.translate((means_patch_sat[i]))\n",
    "    sphere.paint_uniform_color([0.3, 1.0, 0.3])\n",
    "    vis.add_geometry(sphere)\n",
    "\n",
    "# LINES\n",
    "vis.add_geometry(lines)\n",
    "\n",
    "# Create point cloud for reference cloud (satellite)\n",
    "ref_cloud = o3d.geometry.PointCloud()\n",
    "ref_cloud.points = o3d.utility.Vector3dVector(gnav.ref_pts)\n",
    "ref_cloud.colors = o3d.utility.Vector3dVector(gnav.ref_rgb)\n",
    "# vis.add_geometry(ref_cloud)\n",
    "\n",
    "\n",
    "# # Size options (jupyter gives issues when running this multiple times, but it looks better)\n",
    "# render_option = vis.get_render_option()\n",
    "# render_option.point_size = 2\n",
    "\n",
    "# # Set up initial viewpoint\n",
    "# view_control = vis.get_view_control()\n",
    "# # Direction which the camera is looking\n",
    "# view_control.set_front([0, .1, -1])  # Set the camera facing direction\n",
    "# # Point which the camera revolves about \n",
    "# view_control.set_lookat([1, 3.5, 1])   # Set the focus point\n",
    "# # Defines which way is up in the camera perspective \n",
    "# view_control.set_up([-1, 1, 0])       # Set the up direction\n",
    "# view_control.set_zoom(.45)           # Adjust zoom if necessary\n",
    "# GOOD ONE BELOW\n",
    "# # Set up initial viewpoint\n",
    "# view_control = vis.get_view_control()\n",
    "# # Direction which the camera is looking\n",
    "# view_control.set_front([0, 0.01, -1])  # Set the camera facing direction\n",
    "# # Point which the camera revolves about \n",
    "# view_control.set_lookat([-200, -100, 0])   # Set the focus point\n",
    "# # Defines which way is up in the camera perspective \n",
    "# view_control.set_up([0, -1, 0])       # Set the up direction\n",
    "# view_control.set_zoom(.45)           # Adjust zoom if necessary\n",
    "\n",
    "\n",
    "# vis.poll_events()\n",
    "# vis.update_renderer()\n",
    "# # GRAB SCREEN CLIP\n",
    "# vis.capture_screen_image(\"Figs_ScrSh/Error_Rep/circles_lines_sat.png\")\n",
    "# time.sleep(1.5)  # Keep window open for 1.5 seconds\n",
    "\n",
    "# Run and destroy visualization \n",
    "vis.run()\n",
    "vis.destroy_window()"
   ]
  },
  {
   "cell_type": "code",
   "execution_count": null,
   "id": "4ec2fcbf-0247-45ae-8525-80d9ebcceab6",
   "metadata": {},
   "outputs": [],
   "source": []
  },
  {
   "cell_type": "code",
   "execution_count": null,
   "id": "13fbd3ce-a4c8-4e41-8812-8efca9cd04e7",
   "metadata": {},
   "outputs": [],
   "source": []
  }
 ],
 "metadata": {
  "kernelspec": {
   "display_name": "Python 3 (ipykernel)",
   "language": "python",
   "name": "python3"
  },
  "language_info": {
   "codemirror_mode": {
    "name": "ipython",
    "version": 3
   },
   "file_extension": ".py",
   "mimetype": "text/x-python",
   "name": "python",
   "nbconvert_exporter": "python",
   "pygments_lexer": "ipython3",
   "version": "3.9.18"
  }
 },
 "nbformat": 4,
 "nbformat_minor": 5
}
