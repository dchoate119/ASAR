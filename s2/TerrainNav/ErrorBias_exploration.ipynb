{
 "cells": [
  {
   "cell_type": "markdown",
   "id": "04ebdcae-bb5a-46e5-a518-25fc09538413",
   "metadata": {},
   "source": [
    "Exploring the impact of error biases from rotation or translation on the transformation equation 'y = cx'"
   ]
  },
  {
   "cell_type": "code",
   "execution_count": 1,
   "id": "262a11b7-2d55-4ba4-a6ac-229b13fde28a",
   "metadata": {},
   "outputs": [],
   "source": [
    "import numpy as np \n",
    "from sympy import symbols, Matrix"
   ]
  },
  {
   "cell_type": "code",
   "execution_count": 2,
   "id": "e99a6896-db05-4449-92e3-6d2516ccf074",
   "metadata": {},
   "outputs": [
    {
     "name": "stdout",
     "output_type": "stream",
     "text": [
      "Inverse of A:\n",
      "Matrix([[d/(a*d - b*c), -b/(a*d - b*c)], [-c/(a*d - b*c), a/(a*d - b*c)]])\n"
     ]
    }
   ],
   "source": [
    "# Define symbolic variables\n",
    "a, b, c, d = symbols('a b c d')\n",
    "\n",
    "# Create a 2x2 symbolic matrix\n",
    "A = Matrix([[a, b], [c, d]])\n",
    "\n",
    "# Calculate the inverse\n",
    "A_inv = A.inv()\n",
    "\n",
    "# Display the inverse\n",
    "print(\"Inverse of A:\")\n",
    "print(A_inv)\n"
   ]
  },
  {
   "cell_type": "code",
   "execution_count": null,
   "id": "d2d15ab1-4ae4-4252-991c-130fe2b04b1a",
   "metadata": {},
   "outputs": [],
   "source": []
  }
 ],
 "metadata": {
  "kernelspec": {
   "display_name": "Python 3 (ipykernel)",
   "language": "python",
   "name": "python3"
  },
  "language_info": {
   "codemirror_mode": {
    "name": "ipython",
    "version": 3
   },
   "file_extension": ".py",
   "mimetype": "text/x-python",
   "name": "python",
   "nbconvert_exporter": "python",
   "pygments_lexer": "ipython3",
   "version": "3.9.18"
  }
 },
 "nbformat": 4,
 "nbformat_minor": 5
}
