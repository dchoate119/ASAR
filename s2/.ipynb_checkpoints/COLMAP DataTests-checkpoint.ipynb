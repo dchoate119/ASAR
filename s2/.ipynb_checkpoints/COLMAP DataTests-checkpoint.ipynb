{
 "cells": [
  {
   "cell_type": "markdown",
   "id": "a4617d03",
   "metadata": {},
   "source": [
    "# COLMAP Data Testing "
   ]
  },
  {
   "cell_type": "code",
   "execution_count": null,
   "id": "fe0ff450",
   "metadata": {},
   "outputs": [],
   "source": [
    "# Using desk scene\n",
    "# Attempting to import data and plot point clouds and image locations \n",
    "\n",
    "import numpy as np\n",
    "import tensorflow as tf\n",
    "import matplotlib.pyplot as plt\n",
    "import scipy.io as sio\n",
    "import datetime\n",
    "import trimesh \n",
    "import time\n",
    "import math\n",
    "from vedo import *\n",
    "import ast\n",
    "\n",
    "# # Limit GPU memory, if running notebook on GPU\n",
    "# gpus = tf.config.experimental.list_physical_devices('GPU')\n",
    "# print(gpus)\n",
    "# if gpus:\n",
    "#     try:\n",
    "#         memlim = 2*1024\n",
    "#         tf.config.experimental.set_virtual_device_configuration(gpus[0], [tf.config.experimental.VirtualDeviceConfiguration(memory_limit=memlim)])\n",
    "#     except RuntimeError as e:\n",
    "#         print(e)"
   ]
  },
  {
   "cell_type": "code",
   "execution_count": 28,
   "id": "77f81c5f",
   "metadata": {},
   "outputs": [
    {
     "name": "stderr",
     "output_type": "stream",
     "text": [
      "IOPub data rate exceeded.\n",
      "The notebook server will temporarily stop sending output\n",
      "to the client in order to avoid crashing it.\n",
      "To change this limit, set the config variable\n",
      "`--NotebookApp.iopub_data_rate_limit`.\n",
      "\n",
      "Current values:\n",
      "NotebookApp.iopub_data_rate_limit=1000000.0 (bytes/sec)\n",
      "NotebookApp.rate_limit_window=3.0 (secs)\n",
      "\n"
     ]
    }
   ],
   "source": [
    "# Import txt files \n",
    "\n",
    "imagedata_fn = \"/home/daniel-choate/ASAR/s2/COLMAP/images.txt\"\n",
    "cameradata_fn = \"/home/daniel-choate/ASAR/s2/COLMAP/cameras.txt\"\n",
    "pointdata_fn = \"/home/daniel-choate/ASAR/s2/COLMAP/points3D.txt\"\n",
    "\n",
    "points_data = []\n",
    "\n",
    "with open(pointdata_fn, 'r') as file:\n",
    "    lines = file.readlines()[3:]  # Skip the first three lines\n",
    "    \n",
    "    for line in lines:\n",
    "        elements = line.strip().split()\n",
    "        \n",
    "        row = [float(elem) for elem in list(elements)]\n",
    "        \n",
    "        points_data.append(row)\n",
    "\n",
    "for row in points_data: \n",
    "    print(row)\n",
    "    \n",
    "\n",
    "    "
   ]
  },
  {
   "cell_type": "code",
   "execution_count": null,
   "id": "a8510514",
   "metadata": {},
   "outputs": [],
   "source": []
  },
  {
   "cell_type": "code",
   "execution_count": null,
   "id": "a9adbb21",
   "metadata": {},
   "outputs": [],
   "source": []
  },
  {
   "cell_type": "code",
   "execution_count": null,
   "id": "d40b784b",
   "metadata": {},
   "outputs": [],
   "source": []
  },
  {
   "cell_type": "code",
   "execution_count": null,
   "id": "2bb2b6b9",
   "metadata": {},
   "outputs": [],
   "source": []
  },
  {
   "cell_type": "code",
   "execution_count": null,
   "id": "0574e6ec",
   "metadata": {},
   "outputs": [],
   "source": []
  },
  {
   "cell_type": "code",
   "execution_count": null,
   "id": "6549e31e",
   "metadata": {},
   "outputs": [],
   "source": []
  }
 ],
 "metadata": {
  "kernelspec": {
   "display_name": "Python 3 (ipykernel)",
   "language": "python",
   "name": "python3"
  },
  "language_info": {
   "codemirror_mode": {
    "name": "ipython",
    "version": 3
   },
   "file_extension": ".py",
   "mimetype": "text/x-python",
   "name": "python",
   "nbconvert_exporter": "python",
   "pygments_lexer": "ipython3",
   "version": "3.9.18"
  }
 },
 "nbformat": 4,
 "nbformat_minor": 5
}
