{
 "cells": [
  {
   "cell_type": "markdown",
   "id": "9bcd3a0f-016b-4c18-931a-4cf0fe8407de",
   "metadata": {},
   "source": [
    "# Data extraction from OU rosbag\n",
    "- Hangar data from OU airport\n",
    "- Goal: find section of useful, continuous data\n",
    "- Specifically IMU/camera frames"
   ]
  },
  {
   "cell_type": "code",
   "execution_count": 1,
   "id": "e52b8d84-f94f-485f-8d23-519e6966ab24",
   "metadata": {},
   "outputs": [
    {
     "name": "stdout",
     "output_type": "stream",
     "text": [
      "Jupyter environment detected. Enabling Open3D WebVisualizer.\n",
      "[Open3D INFO] WebRTC GUI backend enabled.\n",
      "[Open3D INFO] WebRTCWindowSystem: HTTP handshake server disabled.\n"
     ]
    },
    {
     "data": {
      "application/javascript": [
       "IPython.notebook.set_autosave_interval(180000)"
      ]
     },
     "metadata": {},
     "output_type": "display_data"
    },
    {
     "name": "stdout",
     "output_type": "stream",
     "text": [
      "Autosaving every 180 seconds\n"
     ]
    }
   ],
   "source": [
    "import numpy as np\n",
    "import cv2\n",
    "import open3d as o3d\n",
    "\n",
    "import rosbags\n",
    "from cv_bridge import CvBridge\n",
    "from rosbags.highlevel import AnyReader\n",
    "from rosbags.serde import deserialize_ros1\n",
    "from rosbags.typesys import Stores, get_typestore\n",
    "from pathlib import Path\n",
    "\n",
    "# SAVE YOUR WORK\n",
    "%load_ext autoreload\n",
    "%autoreload 2\n",
    "%autosave 180"
   ]
  },
  {
   "cell_type": "code",
   "execution_count": 2,
   "id": "8c8971c6-18e1-4c16-9782-299d6af51e37",
   "metadata": {},
   "outputs": [
    {
     "name": "stdout",
     "output_type": "stream",
     "text": [
      "Topics in BAG: \n",
      "/gps/gps gps_common/msg/GPSFix\n",
      "/camera_fl/image_raw sensor_msgs/msg/Image\n",
      "/gps/imu sensor_msgs/msg/Imu\n",
      "/novatel/oem7/corrimu novatel_oem7_msgs/msg/CORRIMU\n",
      "/novatel/oem7/bestpos novatel_oem7_msgs/msg/BESTPOS\n",
      "/gps/fix sensor_msgs/msg/NavSatFix\n",
      "/tf_static tf2_msgs/msg/TFMessage\n",
      "/novatel/oem7/inspva novatel_oem7_msgs/msg/INSPVA\n",
      "/novatel/oem7/odom nav_msgs/msg/Odometry\n",
      "/novatel/oem7/oem7raw novatel_oem7_msgs/msg/Oem7RawMsg\n",
      "/leo_camera_fl/image_raw sensor_msgs/msg/Image\n",
      "/velodyne_points sensor_msgs/msg/PointCloud2\n",
      "/novatel/oem7/driver/bond bond/msg/Status\n",
      "/novatel/oem7/time novatel_oem7_msgs/msg/TIME\n",
      "/novatel/oem7/inspvax novatel_oem7_msgs/msg/INSPVAX\n",
      "/novatel/oem7/insstdev novatel_oem7_msgs/msg/INSSTDEV\n",
      "/novatel/oem7/insconfig novatel_oem7_msgs/msg/INSCONFIG\n"
     ]
    }
   ],
   "source": [
    "# Path to rosbag file\n",
    "rosbag_path = Path('/home/daniel-choate/Datasets/OU_SurfNav/OURAIRPORT_04182025_RECORD1_RIGHT_OUT_OF_HANGAR.bag')\n",
    "\n",
    "# Use anyreader to open bag\n",
    "with AnyReader([rosbag_path]) as reader:\n",
    "    # reader.open() # Redundant\n",
    "    print(\"Topics in BAG: \")\n",
    "    # Print all topics in bag\n",
    "    for c in reader.connections:\n",
    "        print(c.topic, c.msgtype)"
   ]
  },
  {
   "cell_type": "code",
   "execution_count": 4,
   "id": "e058d18c-45f1-4d8a-9072-b218e350ec9a",
   "metadata": {},
   "outputs": [
    {
     "name": "stdout",
     "output_type": "stream",
     "text": [
      "IMU data saved to /home/daniel-choate/ASAR/s3/OU_data/imu_data.txt\n"
     ]
    }
   ],
   "source": [
    "# Extract IMU data \n",
    "imu_topic = '/gps/imu'\n",
    "output_txt = Path('./imu_data.txt')\n",
    "\n",
    "# initialize typestore - holds info about ROS message\n",
    "# knows how to serialize and deserealize\n",
    "# typestore = get_typestore(Stores.ROS1)\n",
    "\n",
    "# Grabbing image frames from 1:41 to 1:51 (101 seconds to 111 seconds)\n",
    "start = 102 # 1:41 \n",
    "end = 111 # 1:51  \n",
    "t_beginning = 1745000812\n",
    "t_des_s = t_beginning + start\n",
    "t_des_e = t_beginning + end\n",
    "\n",
    "# Open with anyreader and write in output file - 'w' for write - as f, assigns open file as f\n",
    "with AnyReader([rosbag_path]) as reader, open(output_txt, 'w') as f:\n",
    "    # Writes header line into text file, \\t is tab, \\n is newline\n",
    "    f.write(\n",
    "        \"timestamp_sec\\t\"\n",
    "        \"orientation_x\\torientation_y\\torientation_z\\torientation_w\\t\"\n",
    "        \"angular_velocity_x\\tangular_velocity_y\\tangular_velocity_z\\t\"\n",
    "        \"linear_acceleration_x\\tlinear_acceleration_y\\tlinear_acceleration_z\\n\"\n",
    "    )\n",
    "    # connection: data about topic/message, timestamp: when recorded, rawdata: raw binarry message data\n",
    "    for connection, timestamp, rawdata in reader.messages():\n",
    "        if connection.topic == imu_topic:\n",
    "            ts_sec = timestamp /1e9\n",
    "\n",
    "            # Filter specific time window\n",
    "            if t_des_s <= ts_sec <= t_des_e:\n",
    "                # grab message and timestamp \n",
    "                # msg = deserialize_ros1(rawdata, connection.msgtype) # No longer supports ros1 I guess??\n",
    "                msg = reader.deserialize(rawdata, connection.msgtype) # \n",
    "                # msg = typestore.deserialize_ros1(rawdata, connection.msgtype) # Use typestore instead of deserialize\n",
    "                # Format as tab-separated string: timestamp with 9 decimal places, orientations w/ 6\n",
    "                line = (\n",
    "                    f\"{ts_sec:.9f}\\t\"\n",
    "                    f\"{msg.orientation.x:.6f}\\t{msg.orientation.y:.6f}\\t{msg.orientation.z:.6f}\\t{msg.orientation.w:.6f}\\t\"\n",
    "                    f\"{msg.angular_velocity.x:.6f}\\t{msg.angular_velocity.y:.6f}\\t{msg.angular_velocity.z:.6f}\\t\"\n",
    "                    f\"{msg.linear_acceleration.x:.6f}\\t{msg.linear_acceleration.y:.6f}\\t{msg.linear_acceleration.z:.6f}\\n\"\n",
    "                )\n",
    "                f.write(line)\n",
    "            \n",
    "# resolve returns absolute path of file \n",
    "print(f\"IMU data saved to {output_txt.resolve()}\")"
   ]
  },
  {
   "cell_type": "code",
   "execution_count": null,
   "id": "3ea67f5e-2153-4ea5-a1c5-381867a6c3c7",
   "metadata": {
    "scrolled": true
   },
   "outputs": [],
   "source": [
    "# # Extract image data - in a TEXT FILE \n",
    "# # Open with anyreader and write in output file - 'w' for write - as f, assigns open file as f\n",
    "# img_topic = '/camera_fl/image_raw'\n",
    "# # img_topic = '/leo_camera_fl/image_raw'\n",
    "# output_txt = Path('./mako_camera_data.txt')\n",
    "\n",
    "# # Grabbing image frames from 1:41 to 1:51 (101 seconds to 111 seconds)\n",
    "# start = 101 # 1:41\n",
    "# end = 111 # 1:51\n",
    "# t_beginning = 1745000812\n",
    "# t_des_s = t_beginning + start\n",
    "# t_des_e = t_beginning + end\n",
    "\n",
    "# # Initialize bridge to convert to opencv images \n",
    "# num = 0\n",
    "\n",
    "# with AnyReader([rosbag_path]) as reader:\n",
    "#     with output_txt.open('w') as f:\n",
    "#         # Write header\n",
    "#         for connection, timestamp, rawdata in reader.messages():\n",
    "#             if connection.topic == img_topic:\n",
    "#                 msg = reader.deserialize(rawdata, connection.msgtype)\n",
    "#                 time_s = timestamp / 1e9\n",
    "#                 # print(timestamp / 1e9)\n",
    "#                 if time_s > t_des_s and time_s < t_des_e:\n",
    "#                     # Write image info and data \n",
    "#                     f.write(f\"---Frame {num}---\\n\")\n",
    "#                     f.write(f\"Timestamp: {time_s}\\n\")\n",
    "#                     f.write(f\"Height: {msg.height}, Width: {msg.width}, Encoding: {msg.encoding}\\n\")\n",
    "#                     f.write(\"Data:\\n\")\n",
    "#                     f.write(' '.join(map(str, msg.data.tolist())))\n",
    "#                     f.write('\\n\\n')\n",
    "#                     num += 1\n",
    "#                     # print(msg)\n",
    "\n",
    "# print(\"Done\")\n",
    "# print(f\"Saved {num} frames to {output_txt.resolve()}\")"
   ]
  },
  {
   "cell_type": "code",
   "execution_count": null,
   "id": "8d7a13f5-b8fb-4630-b9e0-1fea3e898b49",
   "metadata": {},
   "outputs": [],
   "source": [
    "# Extract image data - as PNG instead of a TEXT file \n",
    "\n",
    "# Open with anyreader and write in output file - 'w' for write - as f, assigns open file as f\n",
    "img_topic = '/camera_fl/image_raw'\n",
    "# img_topic = '/leo_camera_fl/image_raw'\n",
    "# output_txt = Path('./mako_camera_data.txt')\n",
    "output_dir = Path(\"./image_frames\")\n",
    "# Make a directory if it doesnt exist\n",
    "output_dir.mkdir(parents=True, exist_ok=True)\n",
    "\n",
    "# Grabbing image frames from 1:41 to 1:51 (101 seconds to 111 seconds)\n",
    "start = 102 # 1:41 # From 99 to 102 is the same starting frame (218 images)\n",
    "end = 111 # 1:51 # From 111 to 114 is the same ending frame (218 images) \n",
    "# DOING 115 GIVES 28 EXTRA FRAMES \n",
    "t_beginning = 1745000812\n",
    "t_des_s = t_beginning + start\n",
    "t_des_e = t_beginning + end\n",
    "\n",
    "# Initialize bridge to convert to opencv images \n",
    "bridge = CvBridge()\n",
    "timestamps = []\n",
    "num = 0\n",
    "\n",
    "with AnyReader([rosbag_path]) as reader:\n",
    "    # with output_txt.open('w') as f:\n",
    "    # Write header\n",
    "    for connection, timestamp, rawdata in reader.messages():\n",
    "        if connection.topic == img_topic:\n",
    "            msg = reader.deserialize(rawdata, connection.msgtype)\n",
    "            time_s = timestamp / 1e9\n",
    "            # print(timestamp / 1e9)\n",
    "            if time_s > t_des_s and time_s < t_des_e:\n",
    "                try:\n",
    "                    # Convert ros image to BGR format\n",
    "                    cv_image = bridge.imgmsg_to_cv2(msg, desired_encoding=\"bgr8\")\n",
    "                    filename = f\"{num:06}.png\" # Builds a filename like 00001.png\n",
    "                    cv2.imwrite(str(output_dir / filename), cv_image) # SAVES image as png file\n",
    "                    timestamps.append(time_s)\n",
    "                    num += 1\n",
    "                # Print warning if conversion fails \n",
    "                except Exception as e:\n",
    "                    print(f\"Failed frame {num}: {e}\")\n",
    "\n",
    "# Save numpy of timestamps \n",
    "np.save(output_dir / \"timestamps.npy\", np.array(timestamps))\n",
    "\n",
    "print(f\"Saved {num} frames to {output_dir}\")"
   ]
  },
  {
   "cell_type": "markdown",
   "id": "32560afd-d7e6-4c6e-8a71-cb6fb294b510",
   "metadata": {},
   "source": [
    "### GPS Data"
   ]
  },
  {
   "cell_type": "code",
   "execution_count": 10,
   "id": "b4514201-7fdf-4995-b885-8e623d0f1e39",
   "metadata": {},
   "outputs": [
    {
     "name": "stdout",
     "output_type": "stream",
     "text": [
      "GPS data saved to /home/daniel-choate/ASAR/s3/OU_data/gps_data.txt\n"
     ]
    }
   ],
   "source": [
    "# Extract IMU data \n",
    "gps_topic = '/gps/gps'\n",
    "output_txt = Path('./gps_data.txt')\n",
    "\n",
    "# initialize typestore - holds info about ROS message\n",
    "# knows how to serialize and deserealize\n",
    "# typestore = get_typestore(Stores.ROS1)\n",
    "\n",
    "# Grabbing image frames from 1:41 to 1:51 (101 seconds to 111 seconds)\n",
    "start = 102 # 1:41 \n",
    "end = 111 # 1:51  \n",
    "t_beginning = 1745000812\n",
    "t_des_s = t_beginning + start\n",
    "t_des_e = t_beginning + end\n",
    "\n",
    "# Open with anyreader and write in output file - 'w' for write - as f, assigns open file as f\n",
    "with AnyReader([rosbag_path]) as reader, open(output_txt, 'w') as f:\n",
    "    # write the header\n",
    "    f.write(\n",
    "        \"timestamp_sec\\t\"\n",
    "        \"latitude\\tlongitude\\taltitude\\t\"\n",
    "        \"track\\tspeed\\tclimb\\t\"\n",
    "        \"pitch\\troll\\tdip\\t\"\n",
    "        \"err\\terr_horz\\terr_vert\\t\"\n",
    "        \"satellites_used\\tsatellites_visible\\t\"\n",
    "        \"fix_status\\t\"\n",
    "        \"position_covariance\\n\"\n",
    "    )\n",
    "    # connection: data about topic/message, timestamp: when recorded, rawdata: raw binarry message data\n",
    "    for connection, timestamp, rawdata in reader.messages():\n",
    "        if connection.topic == gps_topic:\n",
    "            ts_sec = timestamp /1e9\n",
    "            # Filter specific time window\n",
    "            if t_des_s <= ts_sec <= t_des_e:\n",
    "                # grab message and timestamp \n",
    "                msg = reader.deserialize(rawdata, connection.msgtype)\n",
    "                cov_str = \" \".join(f\"{v:.6f}\" for v in msg.position_covariance)\n",
    "                # print(msg)\n",
    "                line = (\n",
    "                    f\"{ts_sec:.9f}\\t\"\n",
    "                    f\"{msg.latitude:.9f}\\t{msg.longitude:.9f}\\t{msg.altitude:.3f}\\t\"\n",
    "                    f\"{msg.track:.3f}\\t{msg.speed:.3f}\\t{msg.climb:.3f}\\t\"\n",
    "                    f\"{msg.pitch:.3f}\\t{msg.roll:.3f}\\t{msg.dip:.3f}\\t\"\n",
    "                    f\"{msg.err:.3f}\\t{msg.err_horz:.3f}\\t{msg.err_vert:.3f}\\t\"\n",
    "                    f\"{msg.status.satellites_used}\\t{msg.status.satellites_visible}\\t\"\n",
    "                    f\"{msg.status.status}\\t\"\n",
    "                    f\"{cov_str}\\n\"\n",
    "                )\n",
    "                f.write(line)\n",
    "            \n",
    "# resolve returns absolute path of file \n",
    "print(f\"GPS data saved to {output_txt.resolve()}\")"
   ]
  },
  {
   "cell_type": "markdown",
   "id": "370ddf9d-1449-4280-b98d-0a03b7a70419",
   "metadata": {},
   "source": [
    "NOTES:\n",
    "- Here is an example of IMU data\n",
    "- sensor_msgs__msg__Imu(header=std_msgs__msg__Header(seq=44834, stamp=builtin_interfaces__msg__Time(sec=1745000812, nanosec=87813158, __msgtype__='builtin_interfaces/msg/Time'), frame_id='gps', __msgtype__='std_msgs/msg/Header'), orientation=geometry_msgs__msg__Quaternion(x=-0.009278456013546474, y=0.0061581732236583135, z=-0.20094420041697877, w=0.9795393894455359, __msgtype__='geometry_msgs/msg/Quaternion'), orientation_covariance=array([0.0008063 , 0.        , 0.        , 0.        , 0.00075656,\n",
    "       0.        , 0.        , 0.        , 0.07670139]), angular_velocity=geometry_msgs__msg__Vector3(x=-0.005988682611227179, y=0.018105970673913032, z=-0.04808308551070367, __msgtype__='geometry_msgs/msg/Vector3'), angular_velocity_covariance=array([0.001, 0.   , 0.   , 0.   , 0.001, 0.   , 0.   , 0.   , 0.001]), linear_acceleration=geometry_msgs__msg__Vector3(x=0.30585637641497193, y=-0.22827447537192508, z=-0.6717360873706076, __msgtype__='geometry_msgs/msg/Vector3'), linear_acceleration_covariance=array([0.001, 0.   , 0.   , 0.   , 0.001, 0.   , 0.   , 0.   , 0.001]), __msgtype__='sensor_msgs/msg/Imu')\n",
    "- Here is an example of MAKO camera data\n",
    "- sensor_msgs__msg__Image(header=std_msgs__msg__Header(seq=2348, stamp=builtin_interfaces__msg__Time(sec=1745000812, nanosec=78065105, __msgtype__='builtin_interfaces/msg/Time'), frame_id='camera_fl', __msgtype__='std_msgs/msg/Header'), height=1544, width=2064, encoding='bayer_rggb8', is_bigendian=0, step=2064, data=array([56, 77, 57, ..., 36, 36, 36], dtype=uint8), __msgtype__='sensor_msgs/msg/Image')\n",
    "- Here is an example of LEO camera data\n",
    "- sensor_msgs__msg__Image(header=std_msgs__msg__Header(seq=239, stamp=builtin_interfaces__msg__Time(sec=1745000812, nanosec=114862119, __msgtype__='builtin_interfaces/msg/Time'), frame_id='leo_camera_fl', __msgtype__='std_msgs/msg/Header'), height=1080, width=1920, encoding='rgb8', is_bigendian=0, step=5760, data=array([ 65, 107, 155, ...,  91, 109,  88], dtype=uint8), __msgtype__='sensor_msgs/msg/Image')\n",
    "- USING MAKO CAM - supposed to be more accurate - has gobal shutter, less motion blur - as opposed to leopard cam with rolling shutter\n",
    "- Timeframe: 1:41-1:51"
   ]
  },
  {
   "cell_type": "markdown",
   "id": "b82972ac-120d-4655-897a-b9c39be9ab8a",
   "metadata": {},
   "source": [
    "## GPS DATA \n",
    "- Example:\n",
    "- gps_common__msg__GPSFix(header=std_msgs__msg__Header(seq=55105, stamp=builtin_interfaces__msg__Time(sec=1745000914, nanosec=782258935, __msgtype__='builtin_interfaces/msg/Time'), frame_id='gps', __msgtype__='std_msgs/msg/Header'), status=gps_common__msg__GPSStatus(header=std_msgs__msg__Header(seq=0, stamp=builtin_interfaces__msg__Time(sec=0, nanosec=0, __msgtype__='builtin_interfaces/msg/Time'), frame_id='', __msgtype__='std_msgs/msg/Header'), satellites_used=23, satellite_used_prn=array([], dtype=int32), satellites_visible=27, satellite_visible_prn=array([], dtype=int32), satellite_visible_z=array([], dtype=int32), satellite_visible_azimuth=array([], dtype=int32), satellite_visible_snr=array([], dtype=int32), status=0, motion_source=96, orientation_source=96, position_source=97, STATUS_NO_FIX=-1, STATUS_FIX=0, STATUS_SBAS_FIX=1, STATUS_GBAS_FIX=2, STATUS_DGPS_FIX=18, STATUS_WAAS_FIX=33, SOURCE_NONE=0, SOURCE_GPS=1, SOURCE_POINTS=2, SOURCE_DOPPLER=4, SOURCE_ALTIMETER=8, SOURCE_MAGNETIC=16, SOURCE_GYRO=32, SOURCE_ACCEL=64, __msgtype__='gps_common/msg/GPSStatus'), latitude=39.214202717951615, longitude=-82.22109211442644, altitude=232.49454779084772, track=29.39769139051932, speed=6.9956188333580505, climb=-0.017810697836071032, pitch=0.148605316620624, roll=-2.3440510215929256, dip=0.0, time=1429036132.78, gdop=0.0, pdop=0.0, hdop=0.0, vdop=0.0, tdop=0.0, err=3.128613680243492, err_horz=2.761866880405886, err_vert=3.6762969493865967, err_track=0.0, err_speed=0.0, err_climb=0.0, err_time=0.0, err_pitch=0.0, err_roll=0.0, err_dip=0.0, position_covariance=array([0.59953437, 0.        , 0.        , 0.        , 1.30698265,\n",
    "       0.        , 0.        , 0.        , 3.38027871]), position_covariance_type=2, COVARIANCE_TYPE_UNKNOWN=0, COVARIANCE_TYPE_APPROXIMATED=1, COVARIANCE_TYPE_DIAGONAL_KNOWN=2, COVARIANCE_TYPE_KNOWN=3, __msgtype__='gps_common/msg/GPSFix')\n",
    "- WHATS IN IT\n",
    "    - Timestamp and header info\n",
    "    - Satellites used, satellites visible\n",
    "    - Fix status\n",
    "    - Motion source\n",
    "        - Combo of accelerometer and gyroscope data\n",
    "    - Position: Latitude, Longitude, Altitude\n",
    "    - Motion and Orientation\n",
    "        - Track (degrees from north)\n",
    "        - Speed\n",
    "        - Climb rate\n",
    "        - Pitch\n",
    "        - Roll\n",
    "        - Dip (angle of magnetic field ?)\n",
    "    - Position error estimate\n",
    "    - Horizontal error\n",
    "    - Vertical error\n",
    "    - track/speed/climb/time/pitch/roll errors\n",
    "    - Position covariance: diagonal\n",
    "    - Dilution of precision ??"
   ]
  },
  {
   "cell_type": "code",
   "execution_count": null,
   "id": "3ab157da-957d-4b2d-9dbe-96db62189f12",
   "metadata": {},
   "outputs": [],
   "source": []
  }
 ],
 "metadata": {
  "kernelspec": {
   "display_name": "Python 3 (ipykernel)",
   "language": "python",
   "name": "python3"
  },
  "language_info": {
   "codemirror_mode": {
    "name": "ipython",
    "version": 3
   },
   "file_extension": ".py",
   "mimetype": "text/x-python",
   "name": "python",
   "nbconvert_exporter": "python",
   "pygments_lexer": "ipython3",
   "version": "3.9.18"
  }
 },
 "nbformat": 4,
 "nbformat_minor": 5
}
