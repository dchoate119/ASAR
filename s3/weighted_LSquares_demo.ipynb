{
 "cells": [
  {
   "cell_type": "markdown",
   "id": "ae03ee5f-056e-49b4-ab74-31171aca7b68",
   "metadata": {},
   "source": [
    "# Integrity check for state estimation solutions"
   ]
  },
  {
   "cell_type": "markdown",
   "id": "6e50a9c1-f825-42c2-a491-91f9bf3f52c4",
   "metadata": {},
   "source": [
    "- Implementing a new pipeline to determine if we can create more meaningful integrity bounds for pose estimations\n",
    "- Starting with a weighted least squares based on micropatch analysis\n",
    "\n",
    "### Big picture \n",
    "- Generate projection comparisons between pose estimates and reference map\n",
    "    - New SSD version formulation\n",
    "- Formulate jacobian matrix to measure change over small perturbations\n",
    "- Formulate measurement covariance matrix R\n",
    "- Use R to generate position estimate covariance P"
   ]
  },
  {
   "cell_type": "markdown",
   "id": "6012f163-c617-4937-8ecf-432df68ed0fb",
   "metadata": {},
   "source": [
    "# CHECKLIST \n",
    "1) [ ] Import turf imagery and SfM estimates (and ground truth)\n",
    "2) [ ] Implement pose estimations and ground truth for individual patches\n",
    "3) [ ] Divide each patch into micro patches\n",
    "4) [ ] Calculate error vector for each micropatch\n",
    "5) [ ] Generate mean and covariance data for a set of micropatches\n",
    "6) [ ] Combine into 2Mx2M R matrix for M patches\n",
    "7) [ ] Weighted LSquares"
   ]
  },
  {
   "cell_type": "code",
   "execution_count": null,
   "id": "909b77df-5af9-4492-9881-3b8ca04ea408",
   "metadata": {},
   "outputs": [],
   "source": []
  }
 ],
 "metadata": {
  "kernelspec": {
   "display_name": "Python 3 (ipykernel)",
   "language": "python",
   "name": "python3"
  },
  "language_info": {
   "codemirror_mode": {
    "name": "ipython",
    "version": 3
   },
   "file_extension": ".py",
   "mimetype": "text/x-python",
   "name": "python",
   "nbconvert_exporter": "python",
   "pygments_lexer": "ipython3",
   "version": "3.9.18"
  }
 },
 "nbformat": 4,
 "nbformat_minor": 5
}
