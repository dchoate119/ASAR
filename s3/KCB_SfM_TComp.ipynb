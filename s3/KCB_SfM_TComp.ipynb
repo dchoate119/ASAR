{
 "cells": [
  {
   "cell_type": "markdown",
   "id": "66b82d8f-7dbf-4496-99f4-5449fa333137",
   "metadata": {},
   "source": [
    "# Trajectory Comparison of GPS and SfM results at KCB (VTTI dataset)"
   ]
  },
  {
   "cell_type": "markdown",
   "id": "953978ea-3b4c-40bf-a3bd-f336a6942b9c",
   "metadata": {},
   "source": [
    "Comparing the results from pose solutions gathered from colmap Sturcture-from-Motion to the knownn GPS trajectory\n",
    "\n",
    "Action Items:\n",
    "- [ ] Extract GPS data + timestamps from VTTI set\n",
    "- [ ] LLA to ENU conversion\n",
    "- [ ] Gather pose estimates (already calculated)\n",
    "- [ ] Convert to same ENU frame\n",
    "- [ ] Trajectory comparison"
   ]
  },
  {
   "cell_type": "code",
   "execution_count": 1,
   "id": "5622f0b6-3338-4821-b7cc-eda49837849b",
   "metadata": {},
   "outputs": [
    {
     "data": {
      "application/javascript": [
       "IPython.notebook.set_autosave_interval(120000)"
      ]
     },
     "metadata": {},
     "output_type": "display_data"
    },
    {
     "name": "stdout",
     "output_type": "stream",
     "text": [
      "Autosaving every 120 seconds\n"
     ]
    }
   ],
   "source": [
    "import numpy as np\n",
    "import cv2\n",
    "\n",
    "\n",
    "\n",
    "# SAVE YOUR WORK\n",
    "%load_ext autoreload\n",
    "%autoreload 2\n",
    "%autosave 120"
   ]
  },
  {
   "cell_type": "code",
   "execution_count": 3,
   "id": "477c58d2-224e-41c8-8430-5ddabed25c2f",
   "metadata": {},
   "outputs": [],
   "source": [
    "# Upload GPS data and Vision Trajectory Data\n",
    "\n",
    "# Vision Trajectory Data \n",
    "cameras_fn = '/VTTI_data/HIGH/cameras.txt'\n",
    "images_fn = '/VTTI_data/HIGH/images.txt'\n",
    "points3D_fn = '/VTTI_data/HIGH/points3D.txt'\n",
    "timestamps_fn = '/VTTI_data/HIGH/timestamps.npy'\n",
    "\n",
    "# GPS data \n",
    "odom_fn = '/VTTI_data/GPS/odom_traject.npy'\n",
    "best_utm_fn = '/VTTI_data/GPS/bestutm_traj.npy'"
   ]
  },
  {
   "cell_type": "code",
   "execution_count": null,
   "id": "e004e13a-c5bf-4305-ba7f-8943d9d4e6ff",
   "metadata": {},
   "outputs": [],
   "source": []
  }
 ],
 "metadata": {
  "kernelspec": {
   "display_name": "Python 3 (ipykernel)",
   "language": "python",
   "name": "python3"
  },
  "language_info": {
   "codemirror_mode": {
    "name": "ipython",
    "version": 3
   },
   "file_extension": ".py",
   "mimetype": "text/x-python",
   "name": "python",
   "nbconvert_exporter": "python",
   "pygments_lexer": "ipython3",
   "version": "3.9.18"
  }
 },
 "nbformat": 4,
 "nbformat_minor": 5
}
