{
 "cells": [
  {
   "cell_type": "markdown",
   "id": "9c065117-041b-4f52-991f-3cfd9f47bb1a",
   "metadata": {},
   "source": [
    "# Airfield data extraction \n",
    "\n",
    "Data provided by VTTI:\n",
    "- Need to extract frames from video feed\n",
    "- For colmap usage"
   ]
  },
  {
   "cell_type": "code",
   "execution_count": 1,
   "id": "7a12736d-68e6-483c-94cd-78a87b19787f",
   "metadata": {},
   "outputs": [
    {
     "data": {
      "application/javascript": [
       "IPython.notebook.set_autosave_interval(180000)"
      ]
     },
     "metadata": {},
     "output_type": "display_data"
    },
    {
     "name": "stdout",
     "output_type": "stream",
     "text": [
      "Autosaving every 180 seconds\n"
     ]
    }
   ],
   "source": [
    "import cv2\n",
    "import os\n",
    "\n",
    "\n",
    "\n",
    "# SAVE YOUR WORK\n",
    "%load_ext autoreload\n",
    "%autoreload 2\n",
    "%autosave 180"
   ]
  },
  {
   "cell_type": "code",
   "execution_count": 2,
   "id": "d94d6715-47c0-455d-a7a6-8b3bdec9808c",
   "metadata": {},
   "outputs": [],
   "source": [
    "def extract_frames(video_path, start_time, end_time, output_dir, target_fps):\n",
    "    \"\"\"\n",
    "    Extract image frames from a video\n",
    "    Inputs: video path, start time, end time, output path\n",
    "    Output: saved video in output directory\n",
    "    \"\"\"\n",
    "    cap = cv2.VideoCapture(video_path)\n",
    "    if not cap.isOpened():\n",
    "        print(\"Error: Could not open video.\")\n",
    "        return\n",
    "\n",
    "    # Get frames per sec\n",
    "    fps = cap.get(cv2.CAP_PROP_FPS)\n",
    "    total_frames = int(cap.get(cv2.CAP_PROP_FRAME_COUNT))\n",
    "    print(\"frames per second: \", fps)\n",
    "    print(\"\\ntotal frames: \", total_frames)\n",
    "\n",
    "    # Convert start and end times to frame numbers\n",
    "    start_frame = int(start_time * fps)\n",
    "    end_frame = int(end_time * fps)\n",
    "\n",
    "    if end_frame > total_frames:\n",
    "        end_frame = total_frames\n",
    "\n",
    "    # Output directory \n",
    "    os.makedirs(output_dir, exist_ok=True)\n",
    "\n",
    "    # start frame\n",
    "    cap.set(cv2.CAP_PROP_POS_FRAMES, start_frame)\n",
    "\n",
    "    frame_num = start_frame \n",
    "    num_frames = 0\n",
    "\n",
    "    step = int(round(fps/target_fps))\n",
    "    \n",
    "    while frame_num <= end_frame:\n",
    "        ret, frame = cap.read()\n",
    "        if not ret:\n",
    "            break\n",
    "\n",
    "        # Save\n",
    "        if (frame_num-start_frame) % step == 0:\n",
    "            frame_filename = os.path.join(output_dir, f'frame_{frame_num}.jpg')\n",
    "            cv2.imwrite(frame_filename, frame)\n",
    "\n",
    "            num_frames += 1\n",
    "        frame_num += 1\n",
    "\n",
    "    cap.release()\n",
    "    print(f\"{num_frames} frames saved to {output_dir}\")"
   ]
  },
  {
   "cell_type": "code",
   "execution_count": 3,
   "id": "c0f32e83-68b8-494e-a05a-edc7fa097a81",
   "metadata": {},
   "outputs": [
    {
     "name": "stdout",
     "output_type": "stream",
     "text": [
      "frames per second:  59.99851184939916\n",
      "\n",
      "total frames:  32254\n",
      "121 frames saved to /home/daniel-choate/Datasets/VTTI_airfield/MSNV_0000_0000_0_250804_1830_00156/Images\n"
     ]
    }
   ],
   "source": [
    "path = '/home/daniel-choate/Datasets/VTTI_airfield/MSNV_0000_0000_0_250804_1830_00156/MSNV_0000_0000_0_250804_1830_00156_camera_forward.mp4'\n",
    "start = 430 # 7 min 10 sec\n",
    "end = 450 # 7 min 30 sec \n",
    "output_dir = '/home/daniel-choate/Datasets/VTTI_airfield/MSNV_0000_0000_0_250804_1830_00156/Images'\n",
    "target_fps = 6\n",
    "\n",
    "extract_frames(path, start, end, output_dir, target_fps)"
   ]
  },
  {
   "cell_type": "code",
   "execution_count": 10,
   "id": "98838fc7-262c-48e9-8c2f-aabf6e07dcc6",
   "metadata": {},
   "outputs": [
    {
     "name": "stdout",
     "output_type": "stream",
     "text": [
      "Processed 121 images into /home/daniel-choate/Datasets/VTTI_airfield/MSNV_0000_0000_0_250804_1830_00156/Images_PP\n"
     ]
    }
   ],
   "source": [
    "import cv2\n",
    "import glob\n",
    "import os\n",
    "\n",
    "# Input and output folders\n",
    "in_dir = \"/home/daniel-choate/Datasets/VTTI_airfield/MSNV_0000_0000_0_250804_1830_00156/Images\"   # folder with your raw RGB timestamped images\n",
    "out_dir = \"/home/daniel-choate/Datasets/VTTI_airfield/MSNV_0000_0000_0_250804_1830_00156/Images_PP\" # where processed images go\n",
    "os.makedirs(out_dir, exist_ok=True)\n",
    "\n",
    "# Collect and sort input files\n",
    "files = sorted(glob.glob(os.path.join(in_dir, \"*\")))\n",
    "\n",
    "for i, f in enumerate(files):\n",
    "    img = cv2.imread(f)\n",
    "    h, w = img.shape[:2]\n",
    "\n",
    "    # --- STEP 1: crop out timestamp ---\n",
    "    # Example: remove bottom 40 pixels (adjust for your case)\n",
    "    cropped = img[100:h, 0:w]\n",
    "\n",
    "    # --- STEP 2: convert to grayscale ---\n",
    "    gray = cv2.cvtColor(cropped, cv2.COLOR_BGR2GRAY)\n",
    "\n",
    "    # --- STEP 3: rename sequentially ---\n",
    "    out_path = os.path.join(out_dir, f\"{i:06d}.png\")\n",
    "    cv2.imwrite(out_path, gray)\n",
    "\n",
    "print(f\"Processed {len(files)} images into {out_dir}\")\n"
   ]
  },
  {
   "cell_type": "code",
   "execution_count": null,
   "id": "3e44245c-9d72-4d22-826f-406615975784",
   "metadata": {},
   "outputs": [],
   "source": []
  }
 ],
 "metadata": {
  "kernelspec": {
   "display_name": "Python 3 (ipykernel)",
   "language": "python",
   "name": "python3"
  },
  "language_info": {
   "codemirror_mode": {
    "name": "ipython",
    "version": 3
   },
   "file_extension": ".py",
   "mimetype": "text/x-python",
   "name": "python",
   "nbconvert_exporter": "python",
   "pygments_lexer": "ipython3",
   "version": "3.9.18"
  }
 },
 "nbformat": 4,
 "nbformat_minor": 5
}
