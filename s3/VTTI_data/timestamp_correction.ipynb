{
 "cells": [
  {
   "cell_type": "markdown",
   "id": "b3d80792-27c8-49d4-905b-dec9b8d9d156",
   "metadata": {},
   "source": [
    "# Removing timestamps from a set of images "
   ]
  },
  {
   "cell_type": "code",
   "execution_count": null,
   "id": "4894e9ce-0d2b-4c22-bdac-27418147c47a",
   "metadata": {},
   "outputs": [],
   "source": [
    "import cv2\n",
    "import numpy as np \n",
    "import matplotlib.pyplot as plt\n",
    "\n",
    "\n",
    "# SAVE YOUR WORK\n",
    "%load_ext autoreload\n",
    "%autoreload 2\n",
    "%autosave 180"
   ]
  },
  {
   "cell_type": "code",
   "execution_count": null,
   "id": "436c3fa9-15d1-4d01-8952-524ef04be85b",
   "metadata": {},
   "outputs": [],
   "source": [
    "# Import image\n",
    "in_dir = '/home/daniel-choate/Datasets/VTTI_airfield/MSNV_0000_0000_0_250804_1830_00156/DSO_Test/60_fps_nondist/Images_gray/frame_25799.jpg'\n",
    "im = cv2.imread(in_dir)\n",
    "plt.imshow(im)"
   ]
  },
  {
   "cell_type": "code",
   "execution_count": null,
   "id": "5f6e4338-782f-4000-a674-f3185b9f5089",
   "metadata": {},
   "outputs": [],
   "source": [
    "# Create mask (same size as image, single channel)\n",
    "mask = np.zeros(im.shape[:2], dtype=np.uint8)\n",
    "\n",
    "# print(mask)\n",
    "\n",
    "# timestamp top-left, rectangle of 100x30 pixels\n",
    "mask[30:100, 0:530] = 255\n",
    "\n",
    "# Inpaint using the TELEA method\n",
    "result = cv2.inpaint(im, mask, inpaintRadius=3, flags=cv2.INPAINT_TELEA)\n",
    "\n",
    "# Save result\n",
    "cv2.imwrite('image_no_timestamp.jpg', result)"
   ]
  },
  {
   "cell_type": "code",
   "execution_count": null,
   "id": "5060d887-8a08-4b30-a4bc-d653c1e9c091",
   "metadata": {},
   "outputs": [],
   "source": []
  }
 ],
 "metadata": {
  "kernelspec": {
   "display_name": "Python 3 (ipykernel)",
   "language": "python",
   "name": "python3"
  },
  "language_info": {
   "codemirror_mode": {
    "name": "ipython",
    "version": 3
   },
   "file_extension": ".py",
   "mimetype": "text/x-python",
   "name": "python",
   "nbconvert_exporter": "python",
   "pygments_lexer": "ipython3",
   "version": "3.9.18"
  }
 },
 "nbformat": 4,
 "nbformat_minor": 5
}
