{
 "cells": [
  {
   "cell_type": "markdown",
   "id": "9c065117-041b-4f52-991f-3cfd9f47bb1a",
   "metadata": {},
   "source": [
    "# Airfield data extraction \n",
    "\n",
    "Data provided by VTTI:\n",
    "- Need to extract frames from video feed\n",
    "- For colmap usage"
   ]
  },
  {
   "cell_type": "code",
   "execution_count": 1,
   "id": "7a12736d-68e6-483c-94cd-78a87b19787f",
   "metadata": {},
   "outputs": [
    {
     "data": {
      "application/javascript": [
       "IPython.notebook.set_autosave_interval(180000)"
      ]
     },
     "metadata": {},
     "output_type": "display_data"
    },
    {
     "name": "stdout",
     "output_type": "stream",
     "text": [
      "Autosaving every 180 seconds\n"
     ]
    }
   ],
   "source": [
    "import cv2\n",
    "import os\n",
    "import numpy as np\n",
    "\n",
    "\n",
    "\n",
    "# SAVE YOUR WORK\n",
    "%load_ext autoreload\n",
    "%autoreload 2\n",
    "%autosave 180"
   ]
  },
  {
   "cell_type": "code",
   "execution_count": 2,
   "id": "d94d6715-47c0-455d-a7a6-8b3bdec9808c",
   "metadata": {},
   "outputs": [],
   "source": [
    "def extract_frames(video_path, start_time, end_time, output_dir, target_fps, save_npy=True):\n",
    "    \"\"\"\n",
    "    Extract image frames from a video\n",
    "    Inputs: video path, start time, end time, output path\n",
    "    Output: saved video in output directory\n",
    "    \"\"\"\n",
    "    cap = cv2.VideoCapture(video_path)\n",
    "    if not cap.isOpened():\n",
    "        print(\"Error: Could not open video.\")\n",
    "        return\n",
    "\n",
    "    # Get frames per sec\n",
    "    fps = cap.get(cv2.CAP_PROP_FPS)\n",
    "    total_frames = int(cap.get(cv2.CAP_PROP_FRAME_COUNT))\n",
    "    print(\"frames per second: \", fps)\n",
    "    print(\"\\ntotal frames: \", total_frames)\n",
    "\n",
    "    # Convert start and end times to frame numbers\n",
    "    start_frame = int(start_time * fps)\n",
    "    end_frame = int(end_time * fps)\n",
    "\n",
    "    if end_frame > total_frames:\n",
    "        end_frame = total_frames\n",
    "\n",
    "    # Output directory \n",
    "    os.makedirs(output_dir, exist_ok=True)\n",
    "\n",
    "    # start frame\n",
    "    cap.set(cv2.CAP_PROP_POS_FRAMES, start_frame)\n",
    "\n",
    "    frame_num = start_frame \n",
    "    num_frames = 0\n",
    "\n",
    "    step = int(round(fps/target_fps))\n",
    "\n",
    "    timestamps = []\n",
    "    \n",
    "    while frame_num <= end_frame:\n",
    "        ret, frame = cap.read()\n",
    "        if not ret:\n",
    "            break\n",
    "\n",
    "        # Save\n",
    "        if (frame_num-start_frame) % step == 0:\n",
    "            frame_filename = os.path.join(output_dir, f'frame_{frame_num}.jpg')\n",
    "            # cv2.imwrite(frame_filename, frame) # IMAGE DOWNLOAD STEP \n",
    "\n",
    "            # COMPUTE TIMESTAMP \n",
    "            timestamp = frame_num/fps\n",
    "            timestamps.append(timestamp)\n",
    "\n",
    "            num_frames += 1\n",
    "        frame_num += 1\n",
    "\n",
    "    cap.release()\n",
    "    print(f\"{num_frames} frames saved to {output_dir}\")\n",
    "\n",
    "    timestamps = np.array(timestamps, dtype=np.float64)\n",
    "\n",
    "    if save_npy:\n",
    "        npy_path = os.path.join(output_dir, 'timestamps.npy')\n",
    "        np.save(npy_path, timestamps)\n",
    "        print(f\"Timestamps saved to {npy_path}\")\n",
    "\n",
    "    return timestamps"
   ]
  },
  {
   "cell_type": "code",
   "execution_count": 3,
   "id": "c0f32e83-68b8-494e-a05a-edc7fa097a81",
   "metadata": {},
   "outputs": [
    {
     "name": "stdout",
     "output_type": "stream",
     "text": [
      "frames per second:  59.99851184939916\n",
      "\n",
      "total frames:  32254\n",
      "121 frames saved to /home/daniel-choate/Datasets/VTTI_airfield/MSNV_0000_0000_0_250804_1830_00156/6_fps/Images_test\n",
      "Timestamps saved to /home/daniel-choate/Datasets/VTTI_airfield/MSNV_0000_0000_0_250804_1830_00156/6_fps/Images_test/timestamps.npy\n"
     ]
    },
    {
     "data": {
      "text/plain": [
       "array([429.99399826, 430.16066906, 430.32733986, 430.49401067,\n",
       "       430.66068147, 430.82735227, 430.99402307, 431.16069387,\n",
       "       431.32736467, 431.49403547, 431.66070627, 431.82737707,\n",
       "       431.99404787, 432.16071867, 432.32738947, 432.49406027,\n",
       "       432.66073107, 432.82740187, 432.99407267, 433.16074347,\n",
       "       433.32741427, 433.49408507, 433.66075588, 433.82742668,\n",
       "       433.99409748, 434.16076828, 434.32743908, 434.49410988,\n",
       "       434.66078068, 434.82745148, 434.99412228, 435.16079308,\n",
       "       435.32746388, 435.49413468, 435.66080548, 435.82747628,\n",
       "       435.99414708, 436.16081788, 436.32748868, 436.49415948,\n",
       "       436.66083028, 436.82750109, 436.99417189, 437.16084269,\n",
       "       437.32751349, 437.49418429, 437.66085509, 437.82752589,\n",
       "       437.99419669, 438.16086749, 438.32753829, 438.49420909,\n",
       "       438.66087989, 438.82755069, 438.99422149, 439.16089229,\n",
       "       439.32756309, 439.49423389, 439.66090469, 439.82757549,\n",
       "       439.9942463 , 440.1609171 , 440.3275879 , 440.4942587 ,\n",
       "       440.6609295 , 440.8276003 , 440.9942711 , 441.1609419 ,\n",
       "       441.3276127 , 441.4942835 , 441.6609543 , 441.8276251 ,\n",
       "       441.9942959 , 442.1609667 , 442.3276375 , 442.4943083 ,\n",
       "       442.6609791 , 442.8276499 , 442.9943207 , 443.1609915 ,\n",
       "       443.32766231, 443.49433311, 443.66100391, 443.82767471,\n",
       "       443.99434551, 444.16101631, 444.32768711, 444.49435791,\n",
       "       444.66102871, 444.82769951, 444.99437031, 445.16104111,\n",
       "       445.32771191, 445.49438271, 445.66105351, 445.82772431,\n",
       "       445.99439511, 446.16106591, 446.32773671, 446.49440752,\n",
       "       446.66107832, 446.82774912, 446.99441992, 447.16109072,\n",
       "       447.32776152, 447.49443232, 447.66110312, 447.82777392,\n",
       "       447.99444472, 448.16111552, 448.32778632, 448.49445712,\n",
       "       448.66112792, 448.82779872, 448.99446952, 449.16114032,\n",
       "       449.32781112, 449.49448192, 449.66115273, 449.82782353,\n",
       "       449.99449433])"
      ]
     },
     "execution_count": 3,
     "metadata": {},
     "output_type": "execute_result"
    }
   ],
   "source": [
    "path = '/home/daniel-choate/Datasets/VTTI_airfield/MSNV_0000_0000_0_250804_1830_00156/MSNV_0000_0000_0_250804_1830_00156_camera_forward.mp4'\n",
    "start = 430 # 7 min 10 sec\n",
    "end = 450 # 7 min 30 sec \n",
    "output_dir = '/home/daniel-choate/Datasets/VTTI_airfield/MSNV_0000_0000_0_250804_1830_00156/6_fps/Images_test'\n",
    "target_fps = 6\n",
    "\n",
    "extract_frames(path, start, end, output_dir, target_fps)"
   ]
  },
  {
   "cell_type": "code",
   "execution_count": null,
   "id": "98838fc7-262c-48e9-8c2f-aabf6e07dcc6",
   "metadata": {},
   "outputs": [],
   "source": [
    "# import cv2\n",
    "# import glob\n",
    "# import os\n",
    "\n",
    "# # Input and output folders\n",
    "# in_dir = \"/home/daniel-choate/Datasets/VTTI_airfield/MSNV_0000_0000_0_250804_1830_00156/Images\"   # folder with your raw RGB timestamped images\n",
    "# out_dir = \"/home/daniel-choate/Datasets/VTTI_airfield/MSNV_0000_0000_0_250804_1830_00156/Images_PP\" # where processed images go\n",
    "# os.makedirs(out_dir, exist_ok=True)\n",
    "\n",
    "# # Collect and sort input files\n",
    "# files = sorted(glob.glob(os.path.join(in_dir, \"*\")))\n",
    "\n",
    "# for i, f in enumerate(files):\n",
    "#     img = cv2.imread(f)\n",
    "#     h, w = img.shape[:2]\n",
    "\n",
    "#     # --- STEP 1: crop out timestamp ---\n",
    "#     # Example: remove bottom 40 pixels (adjust for your case)\n",
    "#     cropped = img[100:h, 0:w]\n",
    "\n",
    "#     # --- STEP 2: convert to grayscale ---\n",
    "#     gray = cv2.cvtColor(cropped, cv2.COLOR_BGR2GRAY)\n",
    "\n",
    "#     # --- STEP 3: rename sequentially ---\n",
    "#     out_path = os.path.join(out_dir, f\"{i:06d}.png\")\n",
    "#     cv2.imwrite(out_path, gray)\n",
    "\n",
    "# print(f\"Processed {len(files)} images into {out_dir}\")\n"
   ]
  },
  {
   "cell_type": "markdown",
   "id": "941a2c4f-5563-4068-a569-a15e5f54172f",
   "metadata": {},
   "source": [
    "### GPS data extraction"
   ]
  },
  {
   "cell_type": "code",
   "execution_count": 1,
   "id": "3d201e05-5842-43d2-9941-3db3f5af3296",
   "metadata": {},
   "outputs": [
    {
     "name": "stdout",
     "output_type": "stream",
     "text": [
      "Odom trajectory shape: (53966, 8)\n",
      "BestUTM trajectory shape: (540, 4)\n"
     ]
    }
   ],
   "source": [
    "# Extract odom and bestutm\n",
    "# Odom is most directly comparable\n",
    "\n",
    "from mcap_ros2.reader import read_ros2_messages\n",
    "import numpy as np\n",
    "\n",
    "fn = '/home/daniel-choate/Datasets/VTTI_airfield/MSNV_0000_0000_0_250804_1830_00156/MSNV_0000_0000_0_250804_1830_00156-gps_0.mcap'\n",
    "\n",
    "odom_traj = []\n",
    "\n",
    "with open(fn, \"rb\") as f:\n",
    "    for msg in read_ros2_messages(f, topics=[\"/novatel/oem7/odom\"]):\n",
    "        odom_msg = msg.ros_msg\n",
    "        x = odom_msg.pose.pose.position.x\n",
    "        y = odom_msg.pose.pose.position.y\n",
    "        z = odom_msg.pose.pose.position.z\n",
    "        t = msg.publish_time  # nanoseconds\n",
    "        odom_traj.append([t, x, y, z,\n",
    "                         odom_msg.pose.pose.orientation.x,\n",
    "                          odom_msg.pose.pose.orientation.y,\n",
    "                          odom_msg.pose.pose.orientation.z,\n",
    "                          odom_msg.pose.pose.orientation.w])\n",
    "\n",
    "odom_traj = np.array(odom_traj)\n",
    "print(\"Odom trajectory shape:\", odom_traj.shape)\n",
    "\n",
    "\n",
    "bestutm_traj = []\n",
    "\n",
    "with open(fn, \"rb\") as f:\n",
    "    for msg in read_ros2_messages(f, topics=[\"/novatel/oem7/bestutm\"]):\n",
    "        bestutm_msg = msg.ros_msg\n",
    "        e = bestutm_msg.easting\n",
    "        n = bestutm_msg.northing\n",
    "        h = bestutm_msg.height\n",
    "        t = msg.publish_time\n",
    "        bestutm_traj.append([t, e, n, h])\n",
    "\n",
    "bestutm_traj = np.array(bestutm_traj)\n",
    "print(\"BestUTM trajectory shape:\", bestutm_traj.shape)"
   ]
  },
  {
   "cell_type": "code",
   "execution_count": 2,
   "id": "7274f1c2-18e9-455a-8673-3b19e0f7479d",
   "metadata": {},
   "outputs": [],
   "source": [
    "output_dir = '/home/daniel-choate/Datasets/VTTI_airfield/MSNV_0000_0000_0_250804_1830_00156/odom_traj.npy'\n",
    "np.save(output_dir, odom_traj)"
   ]
  },
  {
   "cell_type": "code",
   "execution_count": null,
   "id": "a5b6afd3-2862-4f84-bd7f-4c8052be895f",
   "metadata": {},
   "outputs": [],
   "source": []
  }
 ],
 "metadata": {
  "kernelspec": {
   "display_name": "Python 3 (ipykernel)",
   "language": "python",
   "name": "python3"
  },
  "language_info": {
   "codemirror_mode": {
    "name": "ipython",
    "version": 3
   },
   "file_extension": ".py",
   "mimetype": "text/x-python",
   "name": "python",
   "nbconvert_exporter": "python",
   "pygments_lexer": "ipython3",
   "version": "3.9.18"
  }
 },
 "nbformat": 4,
 "nbformat_minor": 5
}
