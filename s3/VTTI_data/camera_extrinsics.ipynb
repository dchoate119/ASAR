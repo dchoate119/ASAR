{
 "cells": [
  {
   "cell_type": "markdown",
   "id": "c417e941-e9d6-4c48-86c3-f75d2be41767",
   "metadata": {},
   "source": [
    "# Camera Extrinsic Exploration\n",
    "- converted parquet file to a csv\n",
    "- determining what extrinsic information is helpful"
   ]
  },
  {
   "cell_type": "code",
   "execution_count": 1,
   "id": "e7c94e82-6e7f-4d40-928f-90f580b78391",
   "metadata": {},
   "outputs": [
    {
     "data": {
      "application/javascript": [
       "IPython.notebook.set_autosave_interval(180000)"
      ]
     },
     "metadata": {},
     "output_type": "display_data"
    },
    {
     "name": "stdout",
     "output_type": "stream",
     "text": [
      "Autosaving every 180 seconds\n"
     ]
    }
   ],
   "source": [
    "import pandas as pd\n",
    "\n",
    "\n",
    "## SAVE WORK \n",
    "%load_ext autoreload\n",
    "%autoreload 2\n",
    "%autosave 180"
   ]
  },
  {
   "cell_type": "code",
   "execution_count": 3,
   "id": "278d9e39-af6c-447d-b671-646564b432ea",
   "metadata": {},
   "outputs": [],
   "source": [
    "# Load in the csv file\n",
    "fn = '/home/daniel-choate/Datasets/VTTI_airfield/MSNV_0000_0000_0_250804_1830_00156/geometry_msgs_TransformStamped.csv'\n",
    "df = pd.read_csv(fn)"
   ]
  },
  {
   "cell_type": "code",
   "execution_count": null,
   "id": "523b9355-267c-44a2-920e-4b1622968b41",
   "metadata": {},
   "outputs": [],
   "source": []
  },
  {
   "cell_type": "code",
   "execution_count": 4,
   "id": "3a29b688-9b22-4fe0-acee-ff3729109714",
   "metadata": {},
   "outputs": [
    {
     "name": "stdout",
     "output_type": "stream",
     "text": [
      "<bound method NDFrame.head of                  child_frame_id      header.frame_id  header.stamp.nanosec  \\\n",
      "0              base_link_ground            base_link             438191378   \n",
      "1                         lidar     base_link_ground             438659907   \n",
      "2                camera_forward                lidar             439163313   \n",
      "3        camera_forward_optical       camera_forward             439607101   \n",
      "4                   camera_left                lidar             440164879   \n",
      "5           camera_left_optical          camera_left             440601947   \n",
      "6                  camera_right                lidar             441059299   \n",
      "7          camera_right_optical         camera_right             441487312   \n",
      "8           camera_forward_zoom                lidar             441982154   \n",
      "9   camera_forward_zoom_optical  camera_forward_zoom             442602004   \n",
      "10                gps_antenna_1     base_link_ground             443089463   \n",
      "11                gps_antenna_2     base_link_ground             443470958   \n",
      "12                          gps     base_link_ground             444154615   \n",
      "13                     imu_link     base_link_ground             444873773   \n",
      "14                     os_lidar                lidar             192622101   \n",
      "15                       os_imu                lidar             192622101   \n",
      "\n",
      "    header.stamp.sec             log_time         publish_time  sequence  \\\n",
      "0         1754331169  1754331172064469385  1754331169445418811         0   \n",
      "1         1754331169  1754331172064469385  1754331169445418811         0   \n",
      "2         1754331169  1754331172064469385  1754331169445418811         0   \n",
      "3         1754331169  1754331172064469385  1754331169445418811         0   \n",
      "4         1754331169  1754331172064469385  1754331169445418811         0   \n",
      "5         1754331169  1754331172064469385  1754331169445418811         0   \n",
      "6         1754331169  1754331172064469385  1754331169445418811         0   \n",
      "7         1754331169  1754331172064469385  1754331169445418811         0   \n",
      "8         1754331169  1754331172064469385  1754331169445418811         0   \n",
      "9         1754331169  1754331172064469385  1754331169445418811         0   \n",
      "10        1754331169  1754331172064469385  1754331169445418811         0   \n",
      "11        1754331169  1754331172064469385  1754331169445418811         0   \n",
      "12        1754331169  1754331172064469385  1754331169445418811         0   \n",
      "13        1754331169  1754331172064469385  1754331169445418811         0   \n",
      "14        1754331170  1754331172301632635  1754331170192674212         0   \n",
      "15        1754331170  1754331172301632635  1754331170192674212         0   \n",
      "\n",
      "         topic  transform.rotation.w  transform.rotation.x  \\\n",
      "0   /tf_static              1.000000                   0.0   \n",
      "1   /tf_static              1.000000                   0.0   \n",
      "2   /tf_static              1.000000                   0.0   \n",
      "3   /tf_static              0.500000                  -0.5   \n",
      "4   /tf_static              0.914784                   0.0   \n",
      "5   /tf_static              0.500000                  -0.5   \n",
      "6   /tf_static              0.914784                   0.0   \n",
      "7   /tf_static              0.500000                  -0.5   \n",
      "8   /tf_static              1.000000                   0.0   \n",
      "9   /tf_static              0.500000                  -0.5   \n",
      "10  /tf_static              1.000000                   0.0   \n",
      "11  /tf_static              1.000000                   0.0   \n",
      "12  /tf_static              1.000000                   0.0   \n",
      "13  /tf_static              1.000000                   0.0   \n",
      "14  /tf_static              0.000000                   0.0   \n",
      "15  /tf_static              1.000000                   0.0   \n",
      "\n",
      "    transform.rotation.y  transform.rotation.z  transform.translation.x  \\\n",
      "0                    0.0              0.000000                 0.000000   \n",
      "1                    0.0              0.000000                 1.912001   \n",
      "2                    0.0              0.000000                 0.045000   \n",
      "3                    0.5             -0.500000                 0.000000   \n",
      "4                    0.0              0.403944                -0.010000   \n",
      "5                    0.5             -0.500000                 0.000000   \n",
      "6                    0.0             -0.403944                -0.010000   \n",
      "7                    0.5             -0.500000                 0.000000   \n",
      "8                    0.0              0.000000                 0.045000   \n",
      "9                    0.5             -0.500000                 0.000000   \n",
      "10                   0.0              0.000000                -0.315000   \n",
      "11                   0.0              0.000000                 0.835000   \n",
      "12                   0.0              0.000000                -0.040000   \n",
      "13                   0.0              0.000000                -0.040000   \n",
      "14                   0.0              1.000000                 0.000000   \n",
      "15                   0.0              0.000000                -0.002441   \n",
      "\n",
      "    transform.translation.y  transform.translation.z     timestamp  \n",
      "0                  0.000000                -0.375000  1.754331e+09  \n",
      "1                  0.000000                 1.871001  1.754331e+09  \n",
      "2                  0.000000                 0.063000  1.754331e+09  \n",
      "3                  0.000000                 0.000000  1.754331e+09  \n",
      "4                  0.119000                 0.063000  1.754331e+09  \n",
      "5                  0.000000                 0.000000  1.754331e+09  \n",
      "6                 -0.119000                 0.063000  1.754331e+09  \n",
      "7                  0.000000                 0.000000  1.754331e+09  \n",
      "8                  0.000000                 0.133000  1.754331e+09  \n",
      "9                  0.000000                 0.000000  1.754331e+09  \n",
      "10                 0.000000                 1.890001  1.754331e+09  \n",
      "11                 0.000000                 1.890001  1.754331e+09  \n",
      "12                 0.000000                 0.820000  1.754331e+09  \n",
      "13                 0.000000                 0.820000  1.754331e+09  \n",
      "14                 0.000000                 0.038195  1.754331e+09  \n",
      "15                -0.009725                 0.007533  1.754331e+09  >\n"
     ]
    }
   ],
   "source": [
    "print(df.head)"
   ]
  },
  {
   "cell_type": "code",
   "execution_count": null,
   "id": "e610db32-6765-41b5-b85f-7b7dfda54786",
   "metadata": {},
   "outputs": [],
   "source": []
  }
 ],
 "metadata": {
  "kernelspec": {
   "display_name": "Python 3 (ipykernel)",
   "language": "python",
   "name": "python3"
  },
  "language_info": {
   "codemirror_mode": {
    "name": "ipython",
    "version": 3
   },
   "file_extension": ".py",
   "mimetype": "text/x-python",
   "name": "python",
   "nbconvert_exporter": "python",
   "pygments_lexer": "ipython3",
   "version": "3.9.18"
  }
 },
 "nbformat": 4,
 "nbformat_minor": 5
}
