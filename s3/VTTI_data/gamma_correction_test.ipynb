{
 "cells": [
  {
   "cell_type": "markdown",
   "id": "d7725e09-b396-41c5-a88f-0079e1669f67",
   "metadata": {},
   "source": [
    "# Gamma Correction Test\n",
    "Working with brightness values "
   ]
  },
  {
   "cell_type": "code",
   "execution_count": 1,
   "id": "824f9543-e3de-4905-ae17-61fd272e9e22",
   "metadata": {},
   "outputs": [
    {
     "data": {
      "application/javascript": [
       "IPython.notebook.set_autosave_interval(180000)"
      ]
     },
     "metadata": {},
     "output_type": "display_data"
    },
    {
     "name": "stdout",
     "output_type": "stream",
     "text": [
      "Autosaving every 180 seconds\n"
     ]
    }
   ],
   "source": [
    "import cv2\n",
    "import numpy as np\n",
    "\n",
    "# SAVE WORK\n",
    "%load_ext autoreload\n",
    "%autoreload 2\n",
    "%autosave 180"
   ]
  },
  {
   "cell_type": "code",
   "execution_count": 2,
   "id": "38bbe0ae-f76d-44d6-8713-047ec472a3d5",
   "metadata": {},
   "outputs": [],
   "source": [
    "# Load image\n",
    "fn = '/home/daniel-choate/Datasets/VTTI_airfield/MSNV_0000_0000_0_250804_1830_00156/60_fps/Images_TSR_Gray_UND/frame_25799.jpg'\n",
    "img = cv2.imread(fn, cv2.IMREAD_GRAYSCALE)/255"
   ]
  },
  {
   "cell_type": "code",
   "execution_count": 3,
   "id": "411eaf8c-9b3e-487c-8376-8fc675912ee9",
   "metadata": {},
   "outputs": [
    {
     "name": "stdout",
     "output_type": "stream",
     "text": [
      "Estimated gamma: 0.8499363881963634\n"
     ]
    }
   ],
   "source": [
    "# print(img)\n",
    "\n",
    "# Average of a central patch\n",
    "I_input = np.mean(img[img.shape[0]//3:2*img.shape[0]//3,\n",
    "                      img.shape[1]//3:2*img.shape[1]//3])\n",
    "\n",
    "# Decide desired midtone for linear image\n",
    "I_target = 0.7\n",
    "\n",
    "# Estimate gamma\n",
    "gamma_est = np.log(I_target) / np.log(I_input)\n",
    "print(\"Estimated gamma:\", gamma_est)"
   ]
  },
  {
   "cell_type": "code",
   "execution_count": 4,
   "id": "8638bbd5-d90f-42d1-9226-a3a42b74e4ad",
   "metadata": {},
   "outputs": [],
   "source": [
    "# img_linear = img ** 0.85\n",
    "# cv2.imshow(\"Linearized\", img_linear)\n",
    "# cv2.waitKey(0)"
   ]
  },
  {
   "cell_type": "code",
   "execution_count": 6,
   "id": "b91548e8-0560-479c-b6b3-1a40145c74c3",
   "metadata": {},
   "outputs": [],
   "source": [
    "gamma = 0.85\n",
    "n_points = 256  # or match your existing table length\n",
    "pcalib = np.linspace(0, 1, n_points) ** gamma\n",
    "\n",
    "pcalib = pcalib.reshape(1, -1)\n",
    "\n",
    "# Save as text file\n",
    "np.savetxt(\"pcalib_gamma0.85.txt\", pcalib, fmt=\"%.16f\")"
   ]
  },
  {
   "cell_type": "code",
   "execution_count": null,
   "id": "b08757e1-a896-497f-94ce-57c9dccbe53c",
   "metadata": {},
   "outputs": [],
   "source": []
  },
  {
   "cell_type": "code",
   "execution_count": null,
   "id": "ee064878-80bc-4e53-ab1c-705a13f9e610",
   "metadata": {},
   "outputs": [],
   "source": []
  }
 ],
 "metadata": {
  "kernelspec": {
   "display_name": "Python 3 (ipykernel)",
   "language": "python",
   "name": "python3"
  },
  "language_info": {
   "codemirror_mode": {
    "name": "ipython",
    "version": 3
   },
   "file_extension": ".py",
   "mimetype": "text/x-python",
   "name": "python",
   "nbconvert_exporter": "python",
   "pygments_lexer": "ipython3",
   "version": "3.9.18"
  }
 },
 "nbformat": 4,
 "nbformat_minor": 5
}
