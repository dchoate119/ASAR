{
 "cells": [
  {
   "cell_type": "markdown",
   "id": "19e43ba4-b3fe-4748-a609-1ddbcf41148e",
   "metadata": {},
   "source": [
    "# VTTI Dataset Image Preprocessing\n",
    "- Problem: DSO expects undistored image frames\n",
    "- Goals:\n",
    "    - Use .yaml data to undistort image\n",
    "    - Update camera intrinsics for simple Pinhole calibration"
   ]
  },
  {
   "cell_type": "code",
   "execution_count": 1,
   "id": "6fcf65b3-360d-4450-9780-05bbaa8abe49",
   "metadata": {},
   "outputs": [
    {
     "data": {
      "application/javascript": [
       "IPython.notebook.set_autosave_interval(180000)"
      ]
     },
     "metadata": {},
     "output_type": "display_data"
    },
    {
     "name": "stdout",
     "output_type": "stream",
     "text": [
      "Autosaving every 180 seconds\n"
     ]
    }
   ],
   "source": [
    "import cv2\n",
    "import numpy as np\n",
    "import os\n",
    "import glob\n",
    "import yaml\n",
    "\n",
    "# SAVE YOUR WORK\n",
    "%load_ext autoreload\n",
    "%autoreload 2\n",
    "%autosave 180"
   ]
  },
  {
   "cell_type": "code",
   "execution_count": 2,
   "id": "247f1338-0489-4c9b-b077-2f83b549675c",
   "metadata": {},
   "outputs": [
    {
     "name": "stdout",
     "output_type": "stream",
     "text": [
      "Original instrinsics: \n",
      " [[1.61482951e+03 0.00000000e+00 1.23500441e+03]\n",
      " [0.00000000e+00 1.61997672e+03 6.96002777e+02]\n",
      " [0.00000000e+00 0.00000000e+00 1.00000000e+00]]\n",
      "2448 1376\n",
      "New instrinsics: \n",
      " [[1.43223878e+03 0.00000000e+00 1.23664616e+03]\n",
      " [0.00000000e+00 1.55486685e+03 6.96741068e+02]\n",
      " [0.00000000e+00 0.00000000e+00 1.00000000e+00]]\n",
      "Still not exactly sure what the roi is \n",
      " (0, 0, 2447, 1375)\n"
     ]
    }
   ],
   "source": [
    "# Load in yaml file \n",
    "with open('/home/daniel-choate/ASAR/s3/VTTI_data/DSO/camera_forward.yaml', 'r') as f:\n",
    "    calib = yaml.safe_load(f)\n",
    "\n",
    "# Grab camera instrinsics and distortion coeffs\n",
    "K = np.array(calib['camera_matrix']['data']).reshape(3,3)\n",
    "print(\"Original instrinsics: \\n\", K)\n",
    "D = np.array(calib['distortion_coefficients']['data']).reshape(1,8)\n",
    "# print(D)\n",
    "w = calib['image_width']\n",
    "h = calib['image_height']\n",
    "print(w,h)\n",
    "\n",
    "# Compute undistortion maps\n",
    "# Takes K and D (original intrinsics + distortion)\n",
    "# Computes new camera matrix K - new_K\n",
    "# 1: keep all pix, no sclaing\n",
    "# roi: region of interest (keeping full images in this case) - ADJUSTING FROM 1 to ZERO***\n",
    "new_k, roi = cv2.getOptimalNewCameraMatrix(K,D, (w,h), alpha = 0, newImgSize=(w,h))\n",
    "print(\"New instrinsics: \\n\", new_k)\n",
    "print(\"Still not exactly sure what the roi is \\n\", roi)\n",
    "\n",
    "# Build lookup tables for maps\n",
    "map1, map2 = cv2.initUndistortRectifyMap(K, D, None, new_k, (w,h), cv2.CV_16SC2)\n",
    "# print(\"\\nMap 1\\n\", map1, \"\\nMap 2\\n\", map2)\n",
    "\n",
    "# Process all images\n",
    "in_dir = \"/home/daniel-choate/Datasets/VTTI_airfield/MSNV_0000_0000_0_250804_1830_00156/Images\"\n",
    "out_dir = \"/home/daniel-choate/Datasets/VTTI_airfield/MSNV_0000_0000_0_250804_1830_00156/Images_PP\"\n",
    "os.makedirs(out_dir, exist_ok=True)\n"
   ]
  },
  {
   "cell_type": "code",
   "execution_count": 3,
   "id": "7f12ac8b-37cb-42d5-98f2-a700e37f32d3",
   "metadata": {},
   "outputs": [
    {
     "name": "stdout",
     "output_type": "stream",
     "text": [
      "{'camera_name': 'forward', 'camera_barcode': '', 'image_width': 2448, 'image_height': 1376, 'camera_matrix': {'rows': 3, 'cols': 3, 'data': [1614.82951, 0.0, 1235.00441, 0.0, 1619.97672, 696.002777, 0.0, 0.0, 1.0]}, 'distortion_model': 'rational_polynomial', 'distortion_coefficients': {'rows': 1, 'cols': 8, 'data': [49.0967308, 84.2090797, 5.78514307e-05, -0.000167231838, 25.2012578, 49.3039768, 95.7972418, 38.9384233]}, 'rectification_matrix': {'rows': 3, 'cols': 3, 'data': [1.0, 0.0, 0.0, 0.0, 1.0, 0.0, 0.0, 0.0, 1.0]}, 'projection_matrix': {'rows': 3, 'cols': 4, 'data': [1614.82951, 0.0, 1235.00441, 0.0, 0.0, 1619.97672, 696.002777, 0.0, 0.0, 0.0, 1.0, 0.0]}}\n"
     ]
    }
   ],
   "source": [
    "print(calib)"
   ]
  },
  {
   "cell_type": "code",
   "execution_count": 4,
   "id": "42c24c3c-0d24-4dd1-8b6c-6bbb2b87da4e",
   "metadata": {},
   "outputs": [
    {
     "name": "stdout",
     "output_type": "stream",
     "text": [
      "Done\n"
     ]
    }
   ],
   "source": [
    "# CROP AMOUNT FOR TIMESTAMP CORRECTION \n",
    "top_crop = 70\n",
    "\n",
    "# Loop over and undistort all images \n",
    "for img_path in sorted(glob.glob(os.path.join(in_dir, \"*.jpg\"))):\n",
    "    img = cv2.imread(img_path)\n",
    "    # MAGIC LINE: applies undistortion mapping\n",
    "    # Bilinear interpolation when resampling \n",
    "    undistorted = cv2.remap(img, map1, map2, interpolation=cv2.INTER_LINEAR)\n",
    "    # print(undistorted.shape)\n",
    "    \n",
    "    # Crop to ROI: because we changed alpha to zero # REMOVING FOR NOW\n",
    "    # x,y,wc,hc = roi\n",
    "    # und_cropped = undistorted[y+top_crop:y+hc, x:x+wc]\n",
    "    \n",
    "    # Convert to grayscale - IGNORE FOR NOW, NEED INITIAL RESULTS ****\n",
    "    gray = cv2.cvtColor(undistorted, cv2.COLOR_BGR2GRAY)\n",
    "    # Save the image - same name\n",
    "    out_name = os.path.join(out_dir, os.path.basename(img_path))\n",
    "    cv2.imwrite(out_name, gray) # CHANGE TO GRAY ONCE USING *****\n",
    "\n",
    "print(\"Done\")"
   ]
  },
  {
   "cell_type": "code",
   "execution_count": null,
   "id": "1d15fee3-4eaa-4db0-8487-09e2f75328b5",
   "metadata": {},
   "outputs": [],
   "source": [
    "# New intrinsics\n",
    "fx = new_k[0][0]\n",
    "fy = new_k[1][1]\n",
    "cx = new_k[0][2]\n",
    "cy = new_k[1][2]\n",
    "\n",
    "in_w, in_h = w, h  # width and height of the undistorted buffer\n",
    "\n",
    "# Adjust cy for top crop\n",
    "cy_new = cy - top_crop\n",
    "out_h = hc - top_crop  # new output height\n",
    "out_w = wc             # width stays the same\n",
    "\n",
    "# Write updated calib.txt for DSO\n",
    "calib_txt = f\"\"\"Pinhole {fx} {fy} {cx} {cy_new} 0\n",
    "{in_w} {in_h}\n",
    "crop\n",
    "{out_w} {out_h}\n",
    "\"\"\"\n",
    "with open(os.path.join(out_dir, \"calib.txt\"), \"w\") as f:\n",
    "    f.write(calib_txt)\n",
    "\n",
    "print(\"Done. Cropped top 70px and wrote updated calib.txt\")"
   ]
  },
  {
   "cell_type": "code",
   "execution_count": null,
   "id": "f298be62-8e20-43ad-aa5e-e8d7ebc425a8",
   "metadata": {},
   "outputs": [],
   "source": [
    "# CREATE THE GAMMA FILE \n",
    "\n",
    "# Linear mapping: intensity i maps to i/255\n",
    "gamma = np.linspace(0, 255, 256)\n",
    "\n",
    "# Save as space-separated text file (one row)\n",
    "np.savetxt(\"gamma.txt\", gamma.reshape(1, -1), fmt=\"%.6f\")\n",
    "print(\"Saved gamma.txt with linear response\")"
   ]
  },
  {
   "cell_type": "code",
   "execution_count": null,
   "id": "b133e20e-480a-47fe-9873-ae1fd4f52334",
   "metadata": {},
   "outputs": [],
   "source": [
    "dir = 'DSO/vignette.png'\n",
    "im = cv2.imread(dir)\n",
    "new_w, new_h = 2448, 1376\n",
    "img_new = cv2.resize(im, (new_w, new_h), interpolation=cv2.INTER_LINEAR)\n",
    "out_name = dir\n",
    "cv2.imwrite(out_name, img_new)\n",
    "print(im)"
   ]
  },
  {
   "cell_type": "code",
   "execution_count": null,
   "id": "26f66fc3-325d-4833-ab8b-cd04b9a43f01",
   "metadata": {},
   "outputs": [],
   "source": [
    "import cv2\n",
    "import numpy as np\n",
    "\n",
    "height, width = 1376, 2448\n",
    "vignette = np.ones((height, width), dtype=np.float32)  # flat vignette\n",
    "vignette_16 = (vignette * 65535).astype(np.uint16)\n",
    "cv2.imwrite(\"vignetteT.png\", vignette_16)"
   ]
  },
  {
   "cell_type": "code",
   "execution_count": null,
   "id": "8df67754-63bf-4a3d-a2d1-f57e742757d8",
   "metadata": {},
   "outputs": [],
   "source": [
    "img = cv2.imread(\"vignetteT.png\", cv2.IMREAD_UNCHANGED)\n",
    "print(img.shape, img.dtype)"
   ]
  },
  {
   "cell_type": "code",
   "execution_count": null,
   "id": "ece77c92-c1dc-4497-b71a-f61aea448f00",
   "metadata": {},
   "outputs": [],
   "source": []
  }
 ],
 "metadata": {
  "kernelspec": {
   "display_name": "Python 3 (ipykernel)",
   "language": "python",
   "name": "python3"
  },
  "language_info": {
   "codemirror_mode": {
    "name": "ipython",
    "version": 3
   },
   "file_extension": ".py",
   "mimetype": "text/x-python",
   "name": "python",
   "nbconvert_exporter": "python",
   "pygments_lexer": "ipython3",
   "version": "3.9.18"
  }
 },
 "nbformat": 4,
 "nbformat_minor": 5
}
