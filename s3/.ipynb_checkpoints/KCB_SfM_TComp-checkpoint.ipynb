{
 "cells": [
  {
   "cell_type": "markdown",
   "id": "66b82d8f-7dbf-4496-99f4-5449fa333137",
   "metadata": {},
   "source": [
    "# Trajectory Comparison of GPS and SfM results at KCB (VTTI dataset)"
   ]
  },
  {
   "cell_type": "markdown",
   "id": "953978ea-3b4c-40bf-a3bd-f336a6942b9c",
   "metadata": {},
   "source": [
    "Comparing the results from pose solutions gathered from colmap Sturcture-from-Motion to the knownn GPS trajectory\n",
    "\n",
    "Action Items:\n",
    "- [x] Extract GPS data + timestamps from VTTI set\n",
    "- [x] LLA (actually in UTM) to ENU conversion\n",
    "- [x] Gather pose estimates (already calculated)\n",
    "- [ ] Convert to same ENU frame\n",
    "- [ ] Trajectory comparison"
   ]
  },
  {
   "cell_type": "code",
   "execution_count": 1,
   "id": "5622f0b6-3338-4821-b7cc-eda49837849b",
   "metadata": {},
   "outputs": [
    {
     "name": "stderr",
     "output_type": "stream",
     "text": [
      "/home/daniel-choate/miniconda3/envs/py39/lib/python3.9/site-packages/dash/dash.py:23: UserWarning: pkg_resources is deprecated as an API. See https://setuptools.pypa.io/en/latest/pkg_resources.html. The pkg_resources package is slated for removal as early as 2025-11-30. Refrain from using this package or pin to Setuptools<81.\n",
      "  from pkg_resources import get_distribution, parse_version\n"
     ]
    },
    {
     "name": "stdout",
     "output_type": "stream",
     "text": [
      "Jupyter environment detected. Enabling Open3D WebVisualizer.\n",
      "[Open3D INFO] WebRTC GUI backend enabled.\n",
      "[Open3D INFO] WebRTCWindowSystem: HTTP handshake server disabled.\n"
     ]
    },
    {
     "data": {
      "application/javascript": [
       "IPython.notebook.set_autosave_interval(120000)"
      ]
     },
     "metadata": {},
     "output_type": "display_data"
    },
    {
     "name": "stdout",
     "output_type": "stream",
     "text": [
      "Autosaving every 120 seconds\n"
     ]
    }
   ],
   "source": [
    "import numpy as np\n",
    "import cv2\n",
    "import matplotlib.pyplot as plt\n",
    "import open3d as o3d\n",
    "from colmapParsingUtils import *\n",
    "\n",
    "\n",
    "# SAVE YOUR WORK\n",
    "%load_ext autoreload\n",
    "%autoreload 2\n",
    "%autosave 120"
   ]
  },
  {
   "cell_type": "code",
   "execution_count": 2,
   "id": "477c58d2-224e-41c8-8430-5ddabed25c2f",
   "metadata": {},
   "outputs": [],
   "source": [
    "# Upload GPS data and Vision Trajectory Data\n",
    "\n",
    "# Vision Trajectory Data \n",
    "cameras_fn = 'VTTI_data/HIGH/cameras.txt'\n",
    "images_fn = 'VTTI_data/HIGH/images.txt'\n",
    "points3D_fn = 'VTTI_data/HIGH/points3D.txt'\n",
    "timestamps_fn = 'VTTI_data/HIGH/timestamps.npy'\n",
    "\n",
    "# GPS data \n",
    "odom_fn = 'VTTI_data/GPS/odom_traj.npy'\n",
    "best_utm_fn = 'VTTI_data/GPS/bestutm_traj.npy'\n",
    "\n",
    "# Load in data\n",
    "ims_colm = read_images_text(images_fn)\n",
    "cameras = read_cameras_text(cameras_fn)\n",
    "pts3d = read_points3D_text(points3D_fn)\n",
    "tstamps_im = np.load(timestamps_fn)\n",
    "# GPS\n",
    "odom_gps = np.load(odom_fn, allow_pickle=True)\n",
    "best_utm_gps = np.load(best_utm_fn, allow_pickle=True)"
   ]
  },
  {
   "cell_type": "code",
   "execution_count": 3,
   "id": "e004e13a-c5bf-4305-ba7f-8943d9d4e6ff",
   "metadata": {},
   "outputs": [],
   "source": [
    "# A few helper functions\n",
    "\n",
    "def get_poses(ims_colm):\n",
    "    \"\"\"\n",
    "    Get the pose transformation for a specific image id\n",
    "    Input: Image ID\n",
    "    Output: transform from camera to world coordinates\n",
    "    \"\"\"\n",
    "    poses = []\n",
    "    centers = []\n",
    "    for i in ims_colm:\n",
    "        # Get quaternion and translation vector\n",
    "        qvec = ims_colm[i].qvec\n",
    "        tvec = ims_colm[i].tvec[:,None]\n",
    "        # print(tvec)\n",
    "        t = tvec.reshape([3,1])\n",
    "        # Create rotation matrix\n",
    "        Rotmat = qvec2rotmat(qvec) # Positive or negative does not matter\n",
    "        # print(\"\\n Rotation matrix \\n\", Rotmat)\n",
    "        # Create 4x4 transformation matrix with rotation and translation\n",
    "        bottom = np.array([0.0, 0.0, 0.0, 1.0]).reshape([1, 4])\n",
    "        w2c = np.concatenate([np.concatenate([Rotmat, t], 1), bottom], 0)\n",
    "        c2w = np.linalg.inv(w2c)\n",
    "        poses.append(c2w)\n",
    "        centers.append(c2w[:3,3])\n",
    "        # self.im_pts_2d[imnum]['w2c'] = w2c\n",
    "    \t# self.im_pts_2d[imnum]['c2w'] = c2w\n",
    "    poses = np.stack(poses)\n",
    "    centers = np.stack(centers)\n",
    "    return poses, centers\n",
    "\n",
    "def UTM_2_ENU(odom_gps, sfm_start, sfm_end):\n",
    "    \"\"\"\n",
    "    Transform the UTM coords to a local ENU frame\n",
    "    Inputs: Full odometry array\n",
    "    Output: ENU poses and timestamps\n",
    "    \"\"\"\n",
    "    # Grab times and utm coords\n",
    "    times = [o[0] for o in odom_gps]\n",
    "    gps_times = np.array(times)\n",
    "    # Initial time\n",
    "    gps_t0 = gps_times[0]\n",
    "    # print(gps_t0)\n",
    "    gps_sec = np.array([(t-gps_t0).total_seconds() for t in gps_times])\n",
    "    # print(gps_sec[:-1])\n",
    "    \n",
    "    # UTM position \n",
    "    utm = [[o[1], o[2], o[3]] for o in odom_gps]\n",
    "    utm = np.array(utm)\n",
    "    # Subtract first (center) coord\n",
    "    utm_base = utm[0]\n",
    "    enu_pos = utm - utm_base\n",
    "\n",
    "    # Extract quarternions\n",
    "    quats = np.array([[o[4], o[5], o[6], o[7]] for o in odom_gps])\n",
    "\n",
    "    # Crop to specific sfm range if specified\n",
    "    if sfm_start is not None:\n",
    "        mask = (gps_sec >= sfm_start) & (gps_sec <= sfm_end)\n",
    "        gps_sec = gps_sec[mask]\n",
    "        enu_pos = enu_pos[mask]\n",
    "        quats = quats[mask]\n",
    "\n",
    "    # Create 4x4 tforms\n",
    "    poses = []\n",
    "    for p, q in zip(enu_pos, quats):\n",
    "        pose = np.eye(4)\n",
    "        R = qvec2rotmat(q)\n",
    "        pose[:3, :3] = R\n",
    "        pose[:3, 3] = p\n",
    "        poses.append(pose)\n",
    "\n",
    "    poses = np.array(poses)\n",
    "    return poses, gps_sec"
   ]
  },
  {
   "cell_type": "markdown",
   "id": "9997bf12-5f5d-478d-b7c7-a80548d8b0d7",
   "metadata": {},
   "source": [
    "### UTM to ENU Conversion"
   ]
  },
  {
   "cell_type": "code",
   "execution_count": 4,
   "id": "3f7d2de3-c5aa-455d-93df-8247f5adb6f1",
   "metadata": {},
   "outputs": [],
   "source": [
    "# First, grab starting and finishing SfM timestamps\n",
    "sfm_start, sfm_end = tstamps_im[0], tstamps_im[-1]\n",
    "# Conversion fcn: for full traject, set start and end to 'None'\n",
    "poses_gps, tstamps_gps = UTM_2_ENU(odom_gps, sfm_start, sfm_end)\n",
    "# poses_gps, tstamps_gps = UTM_2_ENU(odom_gps, None, sfm_end)"
   ]
  },
  {
   "cell_type": "code",
   "execution_count": 5,
   "id": "b0e10d3b-665b-4aa5-89e8-b0c06b731ac7",
   "metadata": {},
   "outputs": [
    {
     "data": {
      "text/plain": [
       "<matplotlib.legend.Legend at 0x709fb5e787f0>"
      ]
     },
     "execution_count": 5,
     "metadata": {},
     "output_type": "execute_result"
    },
    {
     "data": {
      "image/png": "[encoded data removed]",
      "text/plain": [
       "<Figure size 1000x500 with 1 Axes>"
      ]
     },
     "metadata": {},
     "output_type": "display_data"
    }
   ],
   "source": [
    "# Plot GPS ENU coords over time\n",
    "fig, ax = plt.subplots(figsize=(10,5))\n",
    "es, ns, us = poses_gps[:,0,3], poses_gps[:,1,3], poses_gps[:,2,3]\n",
    "ax.plot(tstamps_gps, es, label=\"East (m)\")\n",
    "ax.plot(tstamps_gps, ns, label=\"North (m)\")\n",
    "ax.plot(tstamps_gps, us, label=\"Up (m)\")\n",
    "\n",
    "ax.set_xlabel(\"Times\")\n",
    "ax.set_ylabel(\"Distance (m)\")\n",
    "ax.legend()"
   ]
  },
  {
   "cell_type": "code",
   "execution_count": 6,
   "id": "72550800-f5d9-4061-b7d0-d7f6a51f8fff",
   "metadata": {},
   "outputs": [
    {
     "name": "stderr",
     "output_type": "stream",
     "text": [
      "libGL: Can't open configuration file /etc/drirc: No such file or directory.\n",
      "libGL: Can't open configuration file /home/daniel-choate/.drirc: No such file or directory.\n",
      "using driver i915 for 74\n",
      "libGL: Can't open configuration file /etc/drirc: No such file or directory.\n",
      "libGL: Can't open configuration file /home/daniel-choate/.drirc: No such file or directory.\n",
      "using driver i915 for 74\n",
      "pci id for fd 74: 8086:a7a0, driver iris\n",
      "libGL: Can't open configuration file /etc/drirc: No such file or directory.\n",
      "libGL: Can't open configuration file /home/daniel-choate/.drirc: No such file or directory.\n",
      "libGL: Can't open configuration file /etc/drirc: No such file or directory.\n",
      "libGL: Can't open configuration file /home/daniel-choate/.drirc: No such file or directory.\n",
      "libGL: Can't open configuration file /etc/drirc: No such file or directory.\n",
      "libGL: Can't open configuration file /home/daniel-choate/.drirc: No such file or directory.\n",
      "Using DRI3 for screen 0\n"
     ]
    }
   ],
   "source": [
    "# Plot poses in open3d\n",
    "\n",
    "vis = o3d.visualization.Visualizer()\n",
    "vis.create_window(window_name=\"VTTI airport GPS pose data\")\n",
    "\n",
    "# Add coordinate axes\n",
    "# axes = o3d.geometry.TriangleMesh.create_coordinate_frame(size=1)\n",
    "\n",
    "# Loop through and gather poses\n",
    "for p in poses_gps[::50]:\n",
    "    # print(p)\n",
    "    axes = o3d.geometry.TriangleMesh.create_coordinate_frame(size=10).transform(p)\n",
    "    vis.add_geometry(axes)\n",
    "\n",
    "# Add geometries\n",
    "# vis.add_geometry(axes)\n",
    "\n",
    "# Run the visualizer\n",
    "vis.run()\n",
    "vis.destroy_window()"
   ]
  },
  {
   "cell_type": "markdown",
   "id": "bb346658-6a62-47e3-9426-634f85a20e2c",
   "metadata": {},
   "source": [
    "### Gather pose estimates "
   ]
  },
  {
   "cell_type": "code",
   "execution_count": 7,
   "id": "4c7e17ca-17f5-4024-961d-cd65f0fe02d4",
   "metadata": {},
   "outputs": [],
   "source": [
    "# Lets grab the appropriate timeframes\n",
    "poses, centers = get_poses(ims_colm)\n",
    "\n",
    "# Grab points and rgb data\n",
    "raw_pts = [pts3d[key].xyz for key in pts3d.keys()]\n",
    "raw_rgb = [pts3d[key].rgb for key in pts3d.keys()]\n",
    "# Stack into numpy array \n",
    "scene_pts =  np.vstack(raw_pts)\n",
    "scene_rgb = np.vstack(raw_rgb)/255"
   ]
  },
  {
   "cell_type": "code",
   "execution_count": 8,
   "id": "ad1a56d8-7917-4f0a-b9c0-dcccc7a7a90a",
   "metadata": {},
   "outputs": [
    {
     "name": "stderr",
     "output_type": "stream",
     "text": [
      "libGL: Can't open configuration file /etc/drirc: No such file or directory.\n",
      "libGL: Can't open configuration file /home/daniel-choate/.drirc: No such file or directory.\n",
      "using driver i915 for 74\n",
      "libGL: Can't open configuration file /etc/drirc: No such file or directory.\n",
      "libGL: Can't open configuration file /home/daniel-choate/.drirc: No such file or directory.\n",
      "using driver i915 for 74\n",
      "pci id for fd 74: 8086:a7a0, driver iris\n",
      "libGL: Can't open configuration file /etc/drirc: No such file or directory.\n",
      "libGL: Can't open configuration file /home/daniel-choate/.drirc: No such file or directory.\n",
      "libGL: Can't open configuration file /etc/drirc: No such file or directory.\n",
      "libGL: Can't open configuration file /home/daniel-choate/.drirc: No such file or directory.\n",
      "libGL: Can't open configuration file /etc/drirc: No such file or directory.\n",
      "libGL: Can't open configuration file /home/daniel-choate/.drirc: No such file or directory.\n",
      "Using DRI3 for screen 0\n"
     ]
    }
   ],
   "source": [
    "# Plot poses in open3d\n",
    "\n",
    "vis = o3d.visualization.Visualizer()\n",
    "vis.create_window(window_name=\"VTTI airport COLMAP pose data\")\n",
    "\n",
    "# Add coordinate axes\n",
    "axes = o3d.geometry.TriangleMesh.create_coordinate_frame(size=1)\n",
    "\n",
    "# Loop through and gather poses\n",
    "for p in poses:\n",
    "    axes = o3d.geometry.TriangleMesh.create_coordinate_frame(size=0.25).transform(p)\n",
    "    vis.add_geometry(axes)\n",
    "    \n",
    "# Create point cloud\n",
    "scene_cloud = o3d.geometry.PointCloud()\n",
    "scene_cloud.points = o3d.utility.Vector3dVector(scene_pts)\n",
    "scene_cloud.colors = o3d.utility.Vector3dVector(scene_rgb)\n",
    "\n",
    "# Add geometries\n",
    "vis.add_geometry(axes)\n",
    "vis.add_geometry(scene_cloud)\n",
    "\n",
    "# Run the visualizer\n",
    "vis.run()\n",
    "vis.destroy_window()"
   ]
  },
  {
   "cell_type": "markdown",
   "id": "5623ac57-c290-41d6-93f5-a79cae1dce6b",
   "metadata": {},
   "source": [
    "### Convert to same ENU frame\n",
    "\n",
    "Start with some mock testing, moving the GPS coords to eyeball match the SfM coords"
   ]
  },
  {
   "cell_type": "code",
   "execution_count": null,
   "id": "71a327c2-8be2-4054-b83f-c13d4ee7a14b",
   "metadata": {},
   "outputs": [],
   "source": [
    "# Some mock testing, moving the GPS coords to eyeball match the \n",
    "\n"
   ]
  }
 ],
 "metadata": {
  "kernelspec": {
   "display_name": "Python 3 (ipykernel)",
   "language": "python",
   "name": "python3"
  },
  "language_info": {
   "codemirror_mode": {
    "name": "ipython",
    "version": 3
   },
   "file_extension": ".py",
   "mimetype": "text/x-python",
   "name": "python",
   "nbconvert_exporter": "python",
   "pygments_lexer": "ipython3",
   "version": "3.9.18"
  }
 },
 "nbformat": 4,
 "nbformat_minor": 5
}
