{
 "cells": [
  {
   "cell_type": "markdown",
   "id": "883dcd95-8838-48b4-a3a4-666272472872",
   "metadata": {},
   "source": [
    "# GNAV pipeline application on VTTI dataset"
   ]
  },
  {
   "cell_type": "markdown",
   "id": "e049f14b-ad2a-46bd-bfa9-98a278f846d6",
   "metadata": {},
   "source": [
    "With a satellite reference image, we intend to utilize a SfM solution to match ground segments of images to the reference map.\n",
    "- Inputs: Reference image (satellite), SfM solution (images, points, cameras), selected images (5)\n",
    "- Output: Correction solutions for translation, rotation, scaling\n",
    "\n",
    "APPLYING ORIGINAL PIPELINE ON VTTI AIRPORT"
   ]
  },
  {
   "cell_type": "code",
   "execution_count": 1,
   "id": "c7b95b01-f00f-4ed3-8192-13bdf84fe165",
   "metadata": {},
   "outputs": [
    {
     "name": "stdout",
     "output_type": "stream",
     "text": [
      "Jupyter environment detected. Enabling Open3D WebVisualizer.\n",
      "[Open3D INFO] WebRTC GUI backend enabled.\n",
      "[Open3D INFO] WebRTCWindowSystem: HTTP handshake server disabled.\n"
     ]
    },
    {
     "data": {
      "application/javascript": [
       "IPython.notebook.set_autosave_interval(180000)"
      ]
     },
     "metadata": {},
     "output_type": "display_data"
    },
    {
     "name": "stdout",
     "output_type": "stream",
     "text": [
      "Autosaving every 180 seconds\n"
     ]
    }
   ],
   "source": [
    "import numpy as np\n",
    "import cv2\n",
    "import open3d as o3d\n",
    "import plotly.graph_objects as go\n",
    "import plotly.io as pio\n",
    "from scipy.spatial.transform import Rotation as R\n",
    "from scipy.spatial import cKDTree\n",
    "import imageio\n",
    "# %matplotlib qt\n",
    "import matplotlib.pyplot as plt\n",
    "from matplotlib.path import Path\n",
    "import time\n",
    "\n",
    "from groundNAV_agent import *\n",
    "from colmapParsingUtils import *\n",
    "import pycolmap\n",
    "\n",
    "# SAVE YOUR WORK\n",
    "%load_ext autoreload\n",
    "%autoreload 2\n",
    "%autosave 180"
   ]
  },
  {
   "cell_type": "code",
   "execution_count": 4,
   "id": "3b2c0aa7-d39a-46a1-a7bc-c8423bc28d49",
   "metadata": {},
   "outputs": [],
   "source": [
    "# UPLOAD INPUTS\n",
    "\n",
    "# CLOSER IMAGES \n",
    "# Load in necessary parameters for gNAV agent \n",
    "# Define Class Parameters \n",
    "\n",
    "images_colm  = \"VTTI_data/images.txt\"\n",
    "cameras_colm = \"VTTI_data/cameras.txt\"\n",
    "pts3d_colm = \"VTTI_data/points3D.txt\"\n",
    "\n",
    "# Images selected for local corrections\n",
    "image_1 = \"/home/daniel-choate/Datasets/COLMAP/VTTI_airport/Images/frame_30850.jpg\"\n",
    "image_2 = \"/home/daniel-choate/Datasets/COLMAP/VTTI_airport/Images/frame_30900.jpg\"\n",
    "image_3 = \"/home/daniel-choate/Datasets/COLMAP/VTTI_airport/Images/frame_30950.jpg\"\n",
    "image_4 = \"/home/daniel-choate/Datasets/COLMAP/VTTI_airport/Images/frame_31000.jpg\"\n",
    "image_5 = \"/home/daniel-choate/Datasets/COLMAP/VTTI_airport/Images/frame_31050.jpg\"\n",
    "image_6 = \"/home/daniel-choate/Datasets/COLMAP/VTTI_airport/Images/frame_31100.jpg\"\n",
    "image_7 = \"/home/daniel-choate/Datasets/COLMAP/VTTI_airport/Images/frame_31150.jpg\"\n",
    "image_8 = \"/home/daniel-choate/Datasets/COLMAP/VTTI_airport/Images/frame_31200.jpg\"\n",
    "\n",
    "# Load in satellite reference image\n",
    "sat_ref = \"VTTI_data/Satellite_schematic.png\"\n",
    "# sat_ref = cv2.imread('TTurf/TurfSat.jpg')\n",
    "\n",
    "# Organize for agent params\n",
    "images = [image_1, image_2, image_3, image_4, image_5, image_6, image_7, image_8]"
   ]
  },
  {
   "cell_type": "code",
   "execution_count": 5,
   "id": "034fa405-3f54-4d76-9f29-70c73ff9a899",
   "metadata": {},
   "outputs": [],
   "source": [
    "# Create class\n",
    "gnav = gNAV_agent(images_colm, cameras_colm, pts3d_colm, images, sat_ref)\n",
    "\n",
    "# Grab raw points and RGB data for scene and reference cloud\n",
    "scene_pts, rgb_data = gnav.grab_pts(gnav.pts3d_c)\n",
    "ref_pts, ref_rgb = gnav.ref_pts, gnav.ref_rgb"
   ]
  },
  {
   "cell_type": "markdown",
   "id": "341c5386-bc83-4d5e-b9d8-02e14624cc97",
   "metadata": {},
   "source": [
    "### Changing REF FRAME TO MIDDLE"
   ]
  },
  {
   "cell_type": "code",
   "execution_count": 8,
   "id": "cae77ba4-f8ff-479c-8daf-5899b66046c0",
   "metadata": {},
   "outputs": [
    {
     "name": "stdout",
     "output_type": "stream",
     "text": [
      "\n",
      "Reference frame transformation\n",
      " [[ 1.75853188e-01  1.42051389e-02  9.84313908e-01  4.06905363e+00]\n",
      " [-9.84415751e-01  1.38567228e-03  1.75851386e-01  6.74881404e+00]\n",
      " [ 1.13405686e-03 -9.99898142e-01  1.42274374e-02  1.16035901e+00]\n",
      " [ 0.00000000e+00  0.00000000e+00  0.00000000e+00  1.00000000e+00]]\n"
     ]
    }
   ],
   "source": [
    "# Ground plane point indices (retrieved through pos file)\n",
    "pts_gnd_idx = np.array([525, 532, 533, 534, 538, 539, 6178, 6180, 6188, 6190, 6193, 6192, 5385, 5386, 5388, 5389, 5390, 5391, 5392, 5393])\n",
    "\n",
    "# MADE IT UP TO HERE ******************\n",
    "# tform_ref_frame = gnav.set_ref_frame(pts_gnd_idx) # THIS IS WHAT I AM CHANGING \n",
    "tform_ref_frame = gnav.set_ref_frame_mid(pts_gnd_idx) # NEW VERSION\n",
    "tform_ref_frame_pts = gnav.inv_homog_transform(tform_ref_frame)\n",
    "print(\"\\nReference frame transformation\\n\", tform_ref_frame_pts)"
   ]
  },
  {
   "cell_type": "code",
   "execution_count": null,
   "id": "18d926bd-b9bf-4a53-bc0a-b28162fc0f38",
   "metadata": {},
   "outputs": [],
   "source": []
  }
 ],
 "metadata": {
  "kernelspec": {
   "display_name": "Python 3 (ipykernel)",
   "language": "python",
   "name": "python3"
  },
  "language_info": {
   "codemirror_mode": {
    "name": "ipython",
    "version": 3
   },
   "file_extension": ".py",
   "mimetype": "text/x-python",
   "name": "python",
   "nbconvert_exporter": "python",
   "pygments_lexer": "ipython3",
   "version": "3.9.18"
  }
 },
 "nbformat": 4,
 "nbformat_minor": 5
}
