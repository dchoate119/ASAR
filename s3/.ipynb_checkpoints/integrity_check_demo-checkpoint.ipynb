{
 "cells": [
  {
   "cell_type": "markdown",
   "id": "ae03ee5f-056e-49b4-ab74-31171aca7b68",
   "metadata": {},
   "source": [
    "# Integrity check for state estimation solutions"
   ]
  },
  {
   "cell_type": "markdown",
   "id": "6e50a9c1-f825-42c2-a491-91f9bf3f52c4",
   "metadata": {},
   "source": [
    "- Implementing a new pipeline to determine if we can create more meaningful integrity bounds for pose estimations\n",
    "\n",
    "### Big picture \n",
    "- Generate projection comparisons between pose estimates and reference map\n",
    "    - New SSD version formulation\n",
    "- Apply small perturbations to pose estimations - measure impact on comparison metric\n",
    "- Formulate jacobian matrix to measure change over small perturbations\n",
    "- Formulate measurement covariance matrix R\n",
    "- Use R to generate position estimate covariance P"
   ]
  },
  {
   "cell_type": "code",
   "execution_count": null,
   "id": "9251497b-66fc-48b5-8b94-ebd9f0ea736c",
   "metadata": {},
   "outputs": [],
   "source": []
  }
 ],
 "metadata": {
  "kernelspec": {
   "display_name": "Python 3 (ipykernel)",
   "language": "python",
   "name": "python3"
  },
  "language_info": {
   "codemirror_mode": {
    "name": "ipython",
    "version": 3
   },
   "file_extension": ".py",
   "mimetype": "text/x-python",
   "name": "python",
   "nbconvert_exporter": "python",
   "pygments_lexer": "ipython3",
   "version": "3.9.18"
  }
 },
 "nbformat": 4,
 "nbformat_minor": 5
}
