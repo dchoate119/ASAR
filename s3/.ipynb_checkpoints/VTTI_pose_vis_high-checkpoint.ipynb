{
 "cells": [
  {
   "cell_type": "markdown",
   "id": "f84e5899-ba03-4811-9df0-5222362992b1",
   "metadata": {},
   "source": [
    "# Pose visualizations VTTI airport\n",
    "- colmap results for VTTI airport\n",
    "- pose estimations, sparse map results"
   ]
  },
  {
   "cell_type": "code",
   "execution_count": 1,
   "id": "a48f47c5-6fbc-46da-8cfd-ce70e5622ca6",
   "metadata": {},
   "outputs": [
    {
     "name": "stdout",
     "output_type": "stream",
     "text": [
      "Jupyter environment detected. Enabling Open3D WebVisualizer.\n",
      "[Open3D INFO] WebRTC GUI backend enabled.\n",
      "[Open3D INFO] WebRTCWindowSystem: HTTP handshake server disabled.\n"
     ]
    },
    {
     "data": {
      "application/javascript": [
       "IPython.notebook.set_autosave_interval(180000)"
      ]
     },
     "metadata": {},
     "output_type": "display_data"
    },
    {
     "name": "stdout",
     "output_type": "stream",
     "text": [
      "Autosaving every 180 seconds\n"
     ]
    }
   ],
   "source": [
    "import open3d as o3d\n",
    "import numpy as np\n",
    "import plotly.graph_objects as go \n",
    "from scipy.spatial.transform import Rotation as R\n",
    "from colmapParsingUtils import *\n",
    "import copy\n",
    "\n",
    "from mpl_toolkits.mplot3d import axes3d\n",
    "from matplotlib import cm\n",
    "import matplotlib.pyplot as plt\n",
    "\n",
    "import cv2\n",
    "\n",
    "%load_ext autoreload\n",
    "%autoreload 2\n",
    "%autosave 180"
   ]
  },
  {
   "cell_type": "code",
   "execution_count": 2,
   "id": "cb4eac39-30a5-46b2-a146-5a67d1cc2d6d",
   "metadata": {},
   "outputs": [],
   "source": [
    "# Import colmap files\n",
    "\n",
    "images_colmap = read_images_text('VTTI_data/images.txt')\n",
    "cameras = read_cameras_text('VTTI_data/cameras.txt')\n",
    "pts3d = read_points3D_text('VTTI_data/points3D.txt')"
   ]
  },
  {
   "cell_type": "code",
   "execution_count": 3,
   "id": "a2879bd1-9b7f-4dc1-bd24-cdd6e074fe51",
   "metadata": {},
   "outputs": [],
   "source": [
    "def get_pose_id_mod(id):\n",
    "    \"\"\"\n",
    "    Get the pose transformation for a specific image id\n",
    "    Input: Image ID\n",
    "    Output: transform from camera to world coordinates\n",
    "    \"\"\"\n",
    "    # Get quaternion and translation vector\n",
    "    qvec = images_colmap[id].qvec\n",
    "    tvec = images_colmap[id].tvec[:,None]\n",
    "    # print(tvec)\n",
    "    t = tvec.reshape([3,1])\n",
    "    # Create rotation matrix\n",
    "    Rotmat = qvec2rotmat(qvec) # Positive or negative does not matter\n",
    "    # print(\"\\n Rotation matrix \\n\", Rotmat)\n",
    "    # Create 4x4 transformation matrix with rotation and translation\n",
    "    bottom = np.array([0.0, 0.0, 0.0, 1.0]).reshape([1, 4])\n",
    "    w2c = np.concatenate([np.concatenate([Rotmat, t], 1), bottom], 0)\n",
    "    c2w = np.linalg.inv(w2c)\n",
    "    # self.im_pts_2d[imnum]['w2c'] = w2c\n",
    "\t# self.im_pts_2d[imnum]['c2w'] = c2w\n",
    "    return w2c, c2w"
   ]
  },
  {
   "cell_type": "code",
   "execution_count": 4,
   "id": "dbca3589-e5b0-44f2-8748-48c5d8eaf560",
   "metadata": {},
   "outputs": [
    {
     "name": "stdout",
     "output_type": "stream",
     "text": [
      "[[[ 0.99516636 -0.01662726 -0.09678557  0.74512953]\n",
      "  [ 0.01814335  0.99972577  0.01480542 -0.1202237 ]\n",
      "  [ 0.09651286 -0.01648987  0.99519513 -6.6551748 ]\n",
      "  [ 0.          0.          0.          1.        ]]\n",
      "\n",
      " [[ 0.99518672 -0.01619271 -0.09664985  0.73323449]\n",
      "  [ 0.01769162  0.99973584  0.01467176 -0.11834796]\n",
      "  [ 0.09638674 -0.01631104  0.9952103  -6.5482461 ]\n",
      "  [ 0.          0.          0.          1.        ]]\n",
      "\n",
      " [[ 0.99525943 -0.01455921 -0.09615975  0.72131182]\n",
      "  [ 0.01603678  0.99976465  0.01461077 -0.11647346]\n",
      "  [ 0.0959244  -0.0160836   0.99525867 -6.44185251]\n",
      "  [ 0.          0.          0.          1.        ]]\n",
      "\n",
      " ...\n",
      "\n",
      " [[ 0.99755597 -0.01253788 -0.06873783 -0.56597668]\n",
      "  [ 0.01335255  0.9998458   0.01140509  0.09497059]\n",
      "  [ 0.06858424 -0.01229504  0.99756956  5.56468129]\n",
      "  [ 0.          0.          0.          1.        ]]\n",
      "\n",
      " [[ 0.99747061 -0.01245839 -0.06997976 -0.57304296]\n",
      "  [ 0.01338327  0.99982898  0.0127631   0.09651631]\n",
      "  [ 0.06980879 -0.01366738  0.99746676  5.64289441]\n",
      "  [ 0.          0.          0.          1.        ]]\n",
      "\n",
      " [[ 0.9974211  -0.01245552 -0.0706825  -0.58021838]\n",
      "  [ 0.01337403  0.99983197  0.01253657  0.0977261 ]\n",
      "  [ 0.07051447 -0.01344955  0.99742008  5.72028241]\n",
      "  [ 0.          0.          0.          1.        ]]]\n"
     ]
    }
   ],
   "source": [
    "# Grab all poses \n",
    "# print(gnav.images_c)\n",
    "poses = np.zeros([len(images_colmap),4,4])\n",
    "\n",
    "for n in range(len(images_colmap)):\n",
    "    # print(n)\n",
    "    __, c2w = get_pose_id_mod(n+1)\n",
    "    # print(c2w)\n",
    "    poses[n] = c2w\n",
    "\n",
    "print(poses)"
   ]
  },
  {
   "cell_type": "code",
   "execution_count": 5,
   "id": "2c1a1997-2aab-452f-bf0a-4fc9da0a81cc",
   "metadata": {},
   "outputs": [
    {
     "name": "stdout",
     "output_type": "stream",
     "text": [
      "[[22.97992253 11.99089278 41.6134335 ]\n",
      " [ 0.68538984  0.12238285 -3.99684762]\n",
      " [ 0.12274158  0.07814955 -5.65248005]\n",
      " ...\n",
      " [-4.3725532  -0.53039597  7.20135333]\n",
      " [-0.82962842  0.20173527  3.6887773 ]\n",
      " [ 0.43409313  0.23481523  3.678977  ]]\n",
      "[[0.         0.         0.        ]\n",
      " [0.96078431 0.79215686 0.56470588]\n",
      " [0.51764706 0.44313725 0.28627451]\n",
      " ...\n",
      " [0.11764706 0.12156863 0.05098039]\n",
      " [0.41176471 0.41176471 0.05098039]\n",
      " [0.30980392 0.36470588 0.05490196]]\n"
     ]
    }
   ],
   "source": [
    "# Grab raw point cloud and rgb data from scene \n",
    "\n",
    "raw_pts = [pts3d[key].xyz for key in pts3d.keys()]\n",
    "raw_rgb = [pts3d[key].rgb for key in pts3d.keys()]\n",
    "# print(raw_pts)\n",
    "scene_pts = np.vstack(raw_pts)\n",
    "scene_rgb = np.vstack(raw_rgb)\n",
    "# Normalize\n",
    "scene_rgb = scene_rgb / 255\n",
    "print(scene_pts)\n",
    "print(scene_rgb)"
   ]
  },
  {
   "cell_type": "code",
   "execution_count": 6,
   "id": "aa91f412-30c1-4a6e-a834-95b598182798",
   "metadata": {},
   "outputs": [
    {
     "name": "stdout",
     "output_type": "stream",
     "text": [
      "135\n"
     ]
    }
   ],
   "source": [
    "print(len(poses))"
   ]
  },
  {
   "cell_type": "code",
   "execution_count": 8,
   "id": "a566aee2-c6b8-42c4-b0d1-687809df892b",
   "metadata": {},
   "outputs": [
    {
     "name": "stderr",
     "output_type": "stream",
     "text": [
      "libGL: Can't open configuration file /etc/drirc: No such file or directory.\n",
      "libGL: Can't open configuration file /home/daniel-choate/.drirc: No such file or directory.\n",
      "using driver i915 for 74\n",
      "libGL: Can't open configuration file /etc/drirc: No such file or directory.\n",
      "libGL: Can't open configuration file /home/daniel-choate/.drirc: No such file or directory.\n",
      "using driver i915 for 74\n",
      "pci id for fd 74: 8086:a7a0, driver iris\n",
      "libGL: Can't open configuration file /etc/drirc: No such file or directory.\n",
      "libGL: Can't open configuration file /home/daniel-choate/.drirc: No such file or directory.\n",
      "libGL: Can't open configuration file /etc/drirc: No such file or directory.\n",
      "libGL: Can't open configuration file /home/daniel-choate/.drirc: No such file or directory.\n",
      "libGL: Can't open configuration file /etc/drirc: No such file or directory.\n",
      "libGL: Can't open configuration file /home/daniel-choate/.drirc: No such file or directory.\n",
      "Using DRI3 for screen 0\n"
     ]
    }
   ],
   "source": [
    "# PLOT INITIAL POINT CLOUD AND POSES \n",
    "# Create Open3D visualizer object\n",
    "vis = o3d.visualization.Visualizer()\n",
    "vis.create_window(window_name='3D Plot with Pose Axes and Point Cloud')#, width=1000, height=1000)\n",
    "\n",
    "# Add coordinate axes\n",
    "axes = o3d.geometry.TriangleMesh.create_coordinate_frame(size=.5)\n",
    "\n",
    "# loop through poses \n",
    "# for pose in poses:\n",
    "for i in range(len(poses)):\n",
    "    if (poses[i] == 0).all():\n",
    "        print(\"Empty pose\", i)\n",
    "        continue\n",
    "# for i in range(1):\n",
    "    # print(i)\n",
    "    homog_t = poses[i]\n",
    "    # homog_t = pose\n",
    "    # print(homog_t)\n",
    "    s = i*.01\n",
    "    # print(s)\n",
    "    # if i in np.arange(106,135):\n",
    "    if i in np.array([35, 40, 45, 50, 55, 60, 65, 70]):\n",
    "        axes1 = o3d.geometry.TriangleMesh.create_coordinate_frame(size=.25).transform(homog_t)\n",
    "        vis.add_geometry(axes1)\n",
    "    axes1 = o3d.geometry.TriangleMesh.create_coordinate_frame(size=.1).transform(homog_t)\n",
    "    # axes1 = copy.deepcopy(axes).transform(homog_t)\n",
    "    vis.add_geometry(axes1)\n",
    "    \n",
    "scene_cloud = o3d.geometry.PointCloud()\n",
    "scene_cloud.points = o3d.utility.Vector3dVector(scene_pts)\n",
    "scene_cloud.colors = o3d.utility.Vector3dVector(scene_rgb)\n",
    "\n",
    "vis.add_geometry(axes)\n",
    "vis.add_geometry(scene_cloud)\n",
    "\n",
    "# # Size options (jupyter gives issues when running this multiple times, but it looks better)\n",
    "# render_option = vis.get_render_option()\n",
    "# render_option.point_size = 1.5\n",
    "\n",
    "\n",
    "# Run the visualizer\n",
    "vis.run()\n",
    "vis.destroy_window()\n"
   ]
  },
  {
   "cell_type": "markdown",
   "id": "86d585b6-3135-4b8f-bfbd-269bc2a1845d",
   "metadata": {},
   "source": [
    "### FRAMES IN USE: 35, 40, 45, 50, 55, 60, 65, 70\n",
    "\n",
    "- frame_30850.jpg\n",
    "- frame_30900.jpg\n",
    "- frame_30950.jpg\n",
    "- frame_31000.jpg\n",
    "- frame_31050.jpg\n",
    "- frame_31100.jpg\n",
    "- frame_31150.jpg\n",
    "- frame_31200.jpg\n",
    "\n",
    "see <vtti_gnav_demo.ipynb>"
   ]
  },
  {
   "cell_type": "code",
   "execution_count": 10,
   "id": "58d05a95-b1c8-408b-a325-bb0fbd3a1f38",
   "metadata": {},
   "outputs": [
    {
     "name": "stdout",
     "output_type": "stream",
     "text": [
      "frame_31840.jpg\n"
     ]
    }
   ],
   "source": [
    "print(images_colmap[135].name)"
   ]
  },
  {
   "cell_type": "code",
   "execution_count": 9,
   "id": "7b1daa9f-91bc-4bf2-a17c-1bdfa2ee6fed",
   "metadata": {},
   "outputs": [
    {
     "name": "stdout",
     "output_type": "stream",
     "text": [
      "frame_30850.jpg\n",
      "frame_30900.jpg\n",
      "frame_30950.jpg\n",
      "frame_31000.jpg\n",
      "frame_31050.jpg\n",
      "frame_31100.jpg\n",
      "frame_31150.jpg\n",
      "frame_31200.jpg\n"
     ]
    }
   ],
   "source": [
    "for elt in np.array([35, 40, 45, 50, 55, 60, 65, 70]):\n",
    "    print(images_colmap[elt+1].name)"
   ]
  },
  {
   "cell_type": "code",
   "execution_count": 262,
   "id": "d0eee2c7-824d-4d5c-9e19-923e93377ad0",
   "metadata": {},
   "outputs": [],
   "source": [
    "# Determining ground plane points \n",
    "\n",
    "gnd_pts_IDX = np.array([525, 532, 533, 534, 538, 539, 6178, 6180, 6188, 6190, 6193, 6192, 5385, 5386, 5388, 5389, 5390, 5391, 5392, 5393])\n",
    "\n",
    "#5000 to 6000\n",
    "arr2 = np.arange(5385, 5400)\n",
    "arr1 = np.array([1])\n",
    "arr3 = np.array([5391, 5392, 5393])\n",
    "gnd_pts_TEST = np.concatenate((arr1, arr2))"
   ]
  },
  {
   "cell_type": "code",
   "execution_count": 263,
   "id": "adfdc5e9-155a-4db2-b9bd-840bc5debc35",
   "metadata": {},
   "outputs": [
    {
     "name": "stdout",
     "output_type": "stream",
     "text": [
      "19645\n",
      "[   1 5385 5386 5387 5388 5389 5390 5391 5392 5393 5394 5395 5396 5397\n",
      " 5398 5399]\n",
      "[[ 0.68538984  0.12238285 -3.99684762]\n",
      " [-0.44847025  0.19756669  3.16127443]\n",
      " [-0.25240107  0.20085858  3.19075809]\n",
      " [-0.25240107  0.20085858  3.19075809]\n",
      " [-0.43828561  0.19824658  3.16951919]\n",
      " [-0.36292449  0.19842794  3.18191986]\n",
      " [-0.26428832  0.20106238  3.20024582]\n",
      " [-0.08974391  0.20658675  3.24323247]\n",
      " [-0.01698524  0.20745666  3.25470795]\n",
      " [-0.22977656  0.20227105  3.2362126 ]\n",
      " [-0.01316876  0.20730632  3.26470464]\n",
      " [-0.17177818  0.20374202  3.25131547]\n",
      " [-0.32706224  0.19913354  3.23013834]\n",
      " [-0.48380266  0.19889803  3.22501906]\n",
      " [-0.25337162  0.19891419  3.25710229]\n",
      " [-0.36840212  0.20054638  3.25407108]]\n"
     ]
    }
   ],
   "source": [
    "print(len(scene_pts))\n",
    "print(gnd_pts_TEST)\n",
    "print(scene_pts[gnd_pts_TEST])"
   ]
  },
  {
   "cell_type": "code",
   "execution_count": 266,
   "id": "3b8c9d01-29cc-4003-8fc2-41efc03b88eb",
   "metadata": {},
   "outputs": [
    {
     "name": "stderr",
     "output_type": "stream",
     "text": [
      "libGL: Can't open configuration file /etc/drirc: No such file or directory.\n",
      "libGL: Can't open configuration file /home/daniel-choate/.drirc: No such file or directory.\n",
      "using driver i915 for 74\n",
      "libGL: Can't open configuration file /etc/drirc: No such file or directory.\n",
      "libGL: Can't open configuration file /home/daniel-choate/.drirc: No such file or directory.\n",
      "using driver i915 for 74\n",
      "pci id for fd 74: 8086:a7a0, driver iris\n",
      "libGL: Can't open configuration file /etc/drirc: No such file or directory.\n",
      "libGL: Can't open configuration file /home/daniel-choate/.drirc: No such file or directory.\n",
      "libGL: Can't open configuration file /etc/drirc: No such file or directory.\n",
      "libGL: Can't open configuration file /home/daniel-choate/.drirc: No such file or directory.\n",
      "libGL: Can't open configuration file /etc/drirc: No such file or directory.\n",
      "libGL: Can't open configuration file /home/daniel-choate/.drirc: No such file or directory.\n",
      "Using DRI3 for screen 0\n"
     ]
    }
   ],
   "source": [
    "# PLOT INITIAL POINT CLOUD AND POSES \n",
    "# Create Open3D visualizer object\n",
    "vis = o3d.visualization.Visualizer()\n",
    "vis.create_window(window_name='3D Plot with Pose Axes and Point Cloud')#, width=1000, height=1000)\n",
    "\n",
    "# Add coordinate axes\n",
    "axes = o3d.geometry.TriangleMesh.create_coordinate_frame(size=.5)\n",
    "\n",
    "scene_cloud = o3d.geometry.PointCloud()\n",
    "scene_cloud.points = o3d.utility.Vector3dVector(scene_pts)\n",
    "scene_cloud.colors = o3d.utility.Vector3dVector(scene_rgb)\n",
    "\n",
    "gnd_pts_t = o3d.geometry.PointCloud()\n",
    "gnd_pts_t.points = o3d.utility.Vector3dVector(scene_pts[gnd_pts_TEST])\n",
    "gnd_pts_t.paint_uniform_color([1,0,0])\n",
    "# gnd_pts_t.colors = o3d.utility.Vector3dVector(scene_rgb[gnd_pts_TEST])\n",
    "\n",
    "gnd_pts = o3d.geometry.PointCloud()\n",
    "gnd_pts.points = o3d.utility.Vector3dVector(scene_pts[gnd_pts_IDX])\n",
    "gnd_pts.paint_uniform_color([0,1,0])\n",
    "\n",
    "\n",
    "vis.add_geometry(axes)\n",
    "# vis.add_geometry(scene_cloud)\n",
    "# vis.add_geometry(gnd_pts_t)\n",
    "vis.add_geometry(gnd_pts)\n",
    "\n",
    "# # Size options (jupyter gives issues when running this multiple times, but it looks better)\n",
    "# render_option = vis.get_render_option()\n",
    "# render_option.point_size = 2\n",
    "\n",
    "\n",
    "# Run the visualizer\n",
    "vis.run()\n",
    "vis.destroy_window()"
   ]
  },
  {
   "cell_type": "code",
   "execution_count": null,
   "id": "37b46b1a-6944-4d0c-95ee-dcd06386eadd",
   "metadata": {},
   "outputs": [],
   "source": []
  },
  {
   "cell_type": "code",
   "execution_count": null,
   "id": "055fb99f-b13f-4e5b-8305-475c4817d68a",
   "metadata": {},
   "outputs": [],
   "source": []
  },
  {
   "cell_type": "code",
   "execution_count": null,
   "id": "7430ef67-0285-4cb0-b610-c1621af35c78",
   "metadata": {},
   "outputs": [],
   "source": []
  },
  {
   "cell_type": "code",
   "execution_count": null,
   "id": "43949a4a-e497-496f-b047-bf45f7395dce",
   "metadata": {},
   "outputs": [],
   "source": []
  },
  {
   "cell_type": "code",
   "execution_count": null,
   "id": "d5db2e6c-b290-48b0-af3c-5302ef4dd7f1",
   "metadata": {},
   "outputs": [],
   "source": []
  },
  {
   "cell_type": "code",
   "execution_count": null,
   "id": "fd1444e6-67f0-499d-b68f-e32357475c1b",
   "metadata": {},
   "outputs": [],
   "source": []
  },
  {
   "cell_type": "code",
   "execution_count": null,
   "id": "5111217d-1651-48fe-b6f7-1f00302db7a3",
   "metadata": {},
   "outputs": [],
   "source": []
  },
  {
   "cell_type": "code",
   "execution_count": null,
   "id": "022f9dbf-f9b7-4640-a8f6-c04583a17a34",
   "metadata": {},
   "outputs": [],
   "source": []
  },
  {
   "cell_type": "code",
   "execution_count": null,
   "id": "bde2b426-7645-4d0e-8293-e5491118e609",
   "metadata": {},
   "outputs": [],
   "source": []
  },
  {
   "cell_type": "code",
   "execution_count": null,
   "id": "c2b1985b-b00c-41c0-8095-fd23c43836eb",
   "metadata": {},
   "outputs": [],
   "source": [
    "# # GIF HELP\n",
    "\n",
    "# # Capture frames for GIF\n",
    "# frames = []\n",
    "# num_frames = 30  # Adjust the number of frames\n",
    "# angle_step = 180/num_frames\n",
    "\n",
    "\n",
    "# for i in range(num_frames):\n",
    "# \t# Rotate the view\n",
    "#     view_control.rotate(angle_step, 0)  # (horizontal, vertical)\n",
    "\n",
    "#     # vis.update_geometry(axis_orig) # Only if I move it myself?\n",
    "#     vis.poll_events()\n",
    "#     vis.update_renderer()\n",
    "\n",
    "#     # Capture frame directly into memory\n",
    "#     image = vis.capture_screen_float_buffer(False)\n",
    "#     image_8bit = (np.asarray(image) * 255).astype(np.uint8)  # Convert to 8-bit\n",
    "#     frames.append(image_8bit)\n",
    "\n",
    "\n",
    "# for i in range(num_frames):\n",
    "# \t# Rotate the view\n",
    "# \tview_control.rotate(angle_step, 0)  # (horizontal, vertical)\n",
    "\n",
    "# \t# vis.update_geometry(axis_orig) # Only if I move it myself?\n",
    "# \tvis.poll_events()\n",
    "# \tvis.update_renderer()\n",
    "\n",
    "# \t# Capture frame directly into memory\n",
    "# \timage = vis.capture_screen_float_buffer(False)\n",
    "# \timage_8bit = (np.asarray(image) * 255).astype(np.uint8)  # Convert to 8-bit\n",
    "# \tframes.append(image_8bit)\n",
    "\n",
    "# for i in range(num_frames):\n",
    "# \t# Rotate the view\n",
    "# \tview_control.rotate(angle_step, 0)  # (horizontal, vertical)\n",
    "\n",
    "# \t# vis.update_geometry(axis_orig) # Only if I move it myself?\n",
    "# \tvis.poll_events()\n",
    "# \tvis.update_renderer()\n",
    "\n",
    "# \t# Capture frame directly into memory\n",
    "# \timage = vis.capture_screen_float_buffer(False)\n",
    "# \timage_8bit = (np.asarray(image) * 255).astype(np.uint8)  # Convert to 8-bit\n",
    "# \tframes.append(image_8bit)\n",
    "\n",
    "# for i in range(num_frames):\n",
    "# \t# Rotate the view\n",
    "# \tview_control.rotate(angle_step, angle_step/5)  # (horizontal, vertical)\n",
    "\n",
    "# \t# vis.update_geometry(axis_orig) # Only if I move it myself?\n",
    "# \tvis.poll_events()\n",
    "# \tvis.update_renderer()\n",
    "\n",
    "# \t# Capture frame directly into memory\n",
    "# \timage = vis.capture_screen_float_buffer(False)\n",
    "# \timage_8bit = (np.asarray(image) * 255).astype(np.uint8)  # Convert to 8-bit\n",
    "# \tframes.append(image_8bit)\n",
    "\n",
    "# for i in range(num_frames):\n",
    "# \t# Rotate the view\n",
    "#     view_control.rotate(-angle_step, -angle_step/5)  # (horizontal, vertical)\n",
    "\n",
    "#     # vis.update_geometry(axis_orig) # Only if I move it myself?\n",
    "#     vis.poll_events()\n",
    "#     vis.update_renderer()\n",
    "\n",
    "#     # Capture frame directly into memory\n",
    "#     image = vis.capture_screen_float_buffer(False)\n",
    "#     image_8bit = (np.asarray(image) * 255).astype(np.uint8)  # Convert to 8-bit\n",
    "#     frames.append(image_8bit)\n",
    "\n",
    "\n",
    "# for i in range(num_frames):\n",
    "# \t# Rotate the view\n",
    "# \tview_control.rotate(-angle_step, 0)  # (horizontal, vertical)\n",
    "\n",
    "# \t# vis.update_geometry(axis_orig) # Only if I move it myself?\n",
    "# \tvis.poll_events()\n",
    "# \tvis.update_renderer()\n",
    "\n",
    "# \t# Capture frame directly into memory\n",
    "# \timage = vis.capture_screen_float_buffer(False)\n",
    "# \timage_8bit = (np.asarray(image) * 255).astype(np.uint8)  # Convert to 8-bit\n",
    "# \tframes.append(image_8bit)\n",
    "\n",
    "# for i in range(num_frames):\n",
    "# \t# Rotate the view\n",
    "# \tview_control.rotate(-angle_step, 0)  # (horizontal, vertical)\n",
    "\n",
    "# \t# vis.update_geometry(axis_orig) # Only if I move it myself?\n",
    "# \tvis.poll_events()\n",
    "# \tvis.update_renderer()\n",
    "\n",
    "# \t# Capture frame directly into memory\n",
    "# \timage = vis.capture_screen_float_buffer(False)\n",
    "# \timage_8bit = (np.asarray(image) * 255).astype(np.uint8)  # Convert to 8-bit\n",
    "# \tframes.append(image_8bit)\n",
    "\n",
    "# for i in range(num_frames):\n",
    "# \t# Rotate the view\n",
    "# \tview_control.rotate(-angle_step, 0)  # (horizontal, vertical)\n",
    "\n",
    "# \t# vis.update_geometry(axis_orig) # Only if I move it myself?\n",
    "# \tvis.poll_events()\n",
    "# \tvis.update_renderer()\n",
    "\n",
    "# \t# Capture frame directly into memory\n",
    "# \timage = vis.capture_screen_float_buffer(False)\n",
    "# \timage_8bit = (np.asarray(image) * 255).astype(np.uint8)  # Convert to 8-bit\n",
    "# \tframes.append(image_8bit)\n",
    "\n",
    "# # Create GIF\n",
    "# # Ensure frames are in the correct format\n",
    "# frames = [frame.astype(\"uint8\") for frame in frames]\n",
    "\n",
    "# # Use imageio to save as GIF\n",
    "# imageio.mimsave(\"test.gif\", frames, fps=30, loop=0)  # Adjust fps if necessary"
   ]
  },
  {
   "cell_type": "code",
   "execution_count": null,
   "id": "7b50cbce-15b8-43b5-ae66-d85d4843dcd9",
   "metadata": {},
   "outputs": [],
   "source": []
  }
 ],
 "metadata": {
  "kernelspec": {
   "display_name": "Python 3 (ipykernel)",
   "language": "python",
   "name": "python3"
  },
  "language_info": {
   "codemirror_mode": {
    "name": "ipython",
    "version": 3
   },
   "file_extension": ".py",
   "mimetype": "text/x-python",
   "name": "python",
   "nbconvert_exporter": "python",
   "pygments_lexer": "ipython3",
   "version": "3.9.18"
  }
 },
 "nbformat": 4,
 "nbformat_minor": 5
}
