{
 "cells": [
  {
   "cell_type": "markdown",
   "id": "f84e5899-ba03-4811-9df0-5222362992b1",
   "metadata": {},
   "source": [
    "# Pose visualizations VTTI airport\n",
    "- colmap results for VTTI airport\n",
    "- pose estimations, sparse map results"
   ]
  },
  {
   "cell_type": "code",
   "execution_count": 1,
   "id": "a48f47c5-6fbc-46da-8cfd-ce70e5622ca6",
   "metadata": {},
   "outputs": [
    {
     "name": "stdout",
     "output_type": "stream",
     "text": [
      "Jupyter environment detected. Enabling Open3D WebVisualizer.\n",
      "[Open3D INFO] WebRTC GUI backend enabled.\n",
      "[Open3D INFO] WebRTCWindowSystem: HTTP handshake server disabled.\n"
     ]
    },
    {
     "data": {
      "application/javascript": [
       "IPython.notebook.set_autosave_interval(180000)"
      ]
     },
     "metadata": {},
     "output_type": "display_data"
    },
    {
     "name": "stdout",
     "output_type": "stream",
     "text": [
      "Autosaving every 180 seconds\n"
     ]
    }
   ],
   "source": [
    "import open3d as o3d\n",
    "import numpy as np\n",
    "import plotly.graph_objects as go \n",
    "from scipy.spatial.transform import Rotation as R\n",
    "from colmapParsingUtils import *\n",
    "import copy\n",
    "\n",
    "from mpl_toolkits.mplot3d import axes3d\n",
    "from matplotlib import cm\n",
    "import matplotlib.pyplot as plt\n",
    "\n",
    "import cv2\n",
    "\n",
    "%load_ext autoreload\n",
    "%autoreload 2\n",
    "%autosave 180"
   ]
  },
  {
   "cell_type": "code",
   "execution_count": 2,
   "id": "cb4eac39-30a5-46b2-a146-5a67d1cc2d6d",
   "metadata": {},
   "outputs": [],
   "source": [
    "# Import colmap files\n",
    "\n",
    "images_colmap = read_images_text('VTTI_data/MED/images.txt')\n",
    "cameras = read_cameras_text('VTTI_data/MED/cameras.txt')\n",
    "pts3d = read_points3D_text('VTTI_data/MED/points3D.txt')"
   ]
  },
  {
   "cell_type": "code",
   "execution_count": 3,
   "id": "a2879bd1-9b7f-4dc1-bd24-cdd6e074fe51",
   "metadata": {},
   "outputs": [],
   "source": [
    "def get_pose_id_mod(id):\n",
    "    \"\"\"\n",
    "    Get the pose transformation for a specific image id\n",
    "    Input: Image ID\n",
    "    Output: transform from camera to world coordinates\n",
    "    \"\"\"\n",
    "    # Get quaternion and translation vector\n",
    "    qvec = images_colmap[id].qvec\n",
    "    tvec = images_colmap[id].tvec[:,None]\n",
    "    # print(tvec)\n",
    "    t = tvec.reshape([3,1])\n",
    "    # Create rotation matrix\n",
    "    Rotmat = qvec2rotmat(qvec) # Positive or negative does not matter\n",
    "    # print(\"\\n Rotation matrix \\n\", Rotmat)\n",
    "    # Create 4x4 transformation matrix with rotation and translation\n",
    "    bottom = np.array([0.0, 0.0, 0.0, 1.0]).reshape([1, 4])\n",
    "    w2c = np.concatenate([np.concatenate([Rotmat, t], 1), bottom], 0)\n",
    "    c2w = np.linalg.inv(w2c)\n",
    "    # self.im_pts_2d[imnum]['w2c'] = w2c\n",
    "\t# self.im_pts_2d[imnum]['c2w'] = c2w\n",
    "    return w2c, c2w"
   ]
  },
  {
   "cell_type": "code",
   "execution_count": 4,
   "id": "dbca3589-e5b0-44f2-8748-48c5d8eaf560",
   "metadata": {},
   "outputs": [
    {
     "name": "stdout",
     "output_type": "stream",
     "text": [
      "[[[ 0.          0.          0.          0.        ]\n",
      "  [ 0.          0.          0.          0.        ]\n",
      "  [ 0.          0.          0.          0.        ]\n",
      "  [ 0.          0.          0.          0.        ]]\n",
      "\n",
      " [[ 0.79455326  0.07143469  0.60297778  0.27268257]\n",
      "  [-0.17586021  0.97756604  0.11592165  0.39475428]\n",
      "  [-0.58116977 -0.19814573  0.7892908   1.49041468]\n",
      "  [ 0.          0.          0.          1.        ]]\n",
      "\n",
      " [[ 0.79369488  0.07205231  0.60403386  0.27281595]\n",
      "  [-0.17640134  0.977556    0.11518175  0.39478827]\n",
      "  [-0.58217781 -0.19797154  0.78859132  1.49061506]\n",
      "  [ 0.          0.          0.          1.        ]]\n",
      "\n",
      " ...\n",
      "\n",
      " [[ 0.86280754  0.0636791   0.50150585 -0.22504389]\n",
      "  [-0.16155486  0.97474613  0.15417528 -0.50212471]\n",
      "  [-0.47902315 -0.2140443   0.85130597 -2.22118709]\n",
      "  [ 0.          0.          0.          1.        ]]\n",
      "\n",
      " [[ 0.86242613  0.06321548  0.50222005 -0.14685916]\n",
      "  [-0.16194798  0.97447971  0.15544176 -0.47376719]\n",
      "  [-0.47957692 -0.21539056  0.85065438 -2.07997979]\n",
      "  [ 0.          0.          0.          1.        ]]\n",
      "\n",
      " [[ 0.86262914  0.06253834  0.5019561  -0.0721387 ]\n",
      "  [-0.16192381  0.97425154  0.15689047 -0.44620092]\n",
      "  [-0.47921984 -0.21661694  0.85054421 -1.94338543]\n",
      "  [ 0.          0.          0.          1.        ]]]\n"
     ]
    }
   ],
   "source": [
    "# Grab all poses \n",
    "# print(gnav.images_c)\n",
    "poses = np.zeros([len(images_colmap),4,4])\n",
    "skip_indices = {0, 11, 18, 66, 84, 85}\n",
    "\n",
    "for n in range(len(images_colmap)):\n",
    "    # print(n)\n",
    "    if n in skip_indices:\n",
    "        continue\n",
    "    __, c2w = get_pose_id_mod(n)\n",
    "    # print(c2w)\n",
    "    poses[n] = c2w\n",
    "\n",
    "print(poses)\n",
    "\n",
    "# NOTE:\n",
    "# Empty pose 0\n",
    "# Empty pose 11\n",
    "# Empty pose 18\n",
    "# Empty pose 66\n",
    "# Empty pose 84\n",
    "# Empty pose 85"
   ]
  },
  {
   "cell_type": "code",
   "execution_count": 5,
   "id": "2c1a1997-2aab-452f-bf0a-4fc9da0a81cc",
   "metadata": {},
   "outputs": [
    {
     "name": "stdout",
     "output_type": "stream",
     "text": [
      "[[ 1.12940825  2.71022215  9.07917009]\n",
      " [ 1.44768681  3.15658229  8.23648973]\n",
      " [ 4.23380216  3.07969941  7.54482844]\n",
      " ...\n",
      " [-0.37457069  0.09393494 10.70742001]\n",
      " [-1.41622541  0.51846377 10.61861868]\n",
      " [-1.28204617  0.50700051 10.61118551]]\n",
      "[[0.02352941 0.02745098 0.00784314]\n",
      " [0.03137255 0.03137255 0.        ]\n",
      " [0.         0.         0.        ]\n",
      " ...\n",
      " [0.43529412 0.38039216 0.22352941]\n",
      " [0.14901961 0.12941176 0.10588235]\n",
      " [0.09019608 0.0627451  0.03137255]]\n"
     ]
    }
   ],
   "source": [
    "# Grab raw point cloud and rgb data from scene \n",
    "\n",
    "raw_pts = [pts3d[key].xyz for key in pts3d.keys()]\n",
    "raw_rgb = [pts3d[key].rgb for key in pts3d.keys()]\n",
    "# print(raw_pts)\n",
    "scene_pts = np.vstack(raw_pts)\n",
    "scene_rgb = np.vstack(raw_rgb)\n",
    "# Normalize\n",
    "scene_rgb = scene_rgb / 255\n",
    "print(scene_pts)\n",
    "print(scene_rgb)"
   ]
  },
  {
   "cell_type": "code",
   "execution_count": 6,
   "id": "aa91f412-30c1-4a6e-a834-95b598182798",
   "metadata": {},
   "outputs": [
    {
     "name": "stdout",
     "output_type": "stream",
     "text": [
      "135\n"
     ]
    }
   ],
   "source": [
    "print(len(poses))"
   ]
  },
  {
   "cell_type": "code",
   "execution_count": 7,
   "id": "a566aee2-c6b8-42c4-b0d1-687809df892b",
   "metadata": {},
   "outputs": [
    {
     "name": "stdout",
     "output_type": "stream",
     "text": [
      "Empty pose 0\n",
      "Empty pose 11\n",
      "Empty pose 18\n",
      "Empty pose 66\n",
      "Empty pose 84\n",
      "Empty pose 85\n"
     ]
    },
    {
     "name": "stderr",
     "output_type": "stream",
     "text": [
      "libGL: Can't open configuration file /etc/drirc: No such file or directory.\n",
      "libGL: Can't open configuration file /home/daniel-choate/.drirc: No such file or directory.\n",
      "using driver i915 for 74\n",
      "libGL: Can't open configuration file /etc/drirc: No such file or directory.\n",
      "libGL: Can't open configuration file /home/daniel-choate/.drirc: No such file or directory.\n",
      "using driver i915 for 74\n",
      "pci id for fd 74: 8086:a7a0, driver iris\n",
      "libGL: Can't open configuration file /etc/drirc: No such file or directory.\n",
      "libGL: Can't open configuration file /home/daniel-choate/.drirc: No such file or directory.\n",
      "libGL: Can't open configuration file /etc/drirc: No such file or directory.\n",
      "libGL: Can't open configuration file /home/daniel-choate/.drirc: No such file or directory.\n",
      "libGL: Can't open configuration file /etc/drirc: No such file or directory.\n",
      "libGL: Can't open configuration file /home/daniel-choate/.drirc: No such file or directory.\n",
      "Using DRI3 for screen 0\n"
     ]
    }
   ],
   "source": [
    "# PLOT INITIAL POINT CLOUD AND POSES \n",
    "# Create Open3D visualizer object\n",
    "vis = o3d.visualization.Visualizer()\n",
    "vis.create_window(window_name='3D Plot with Pose Axes and Point Cloud')#, width=1000, height=1000)\n",
    "\n",
    "# Add coordinate axes\n",
    "axes = o3d.geometry.TriangleMesh.create_coordinate_frame(size=.5)\n",
    "\n",
    "# loop through poses \n",
    "# for pose in poses:\n",
    "for i in range(len(poses)):\n",
    "    if (poses[i] == 0).all():\n",
    "        print(\"Empty pose\", i)\n",
    "        continue\n",
    "# for i in range(1):\n",
    "    # print(i)\n",
    "    homog_t = poses[i]\n",
    "    # homog_t = pose\n",
    "    # print(homog_t)\n",
    "    s = i*.01\n",
    "    # print(s)\n",
    "    # if i in np.arange(106,135):\n",
    "    if i in np.array([107, 112, 117, 122, 127, 132]):\n",
    "        axes1 = o3d.geometry.TriangleMesh.create_coordinate_frame(size=1).transform(homog_t)\n",
    "        vis.add_geometry(axes1)\n",
    "    axes1 = o3d.geometry.TriangleMesh.create_coordinate_frame(size=.5).transform(homog_t)\n",
    "    # axes1 = copy.deepcopy(axes).transform(homog_t)\n",
    "    vis.add_geometry(axes1)\n",
    "    \n",
    "scene_cloud = o3d.geometry.PointCloud()\n",
    "scene_cloud.points = o3d.utility.Vector3dVector(scene_pts)\n",
    "scene_cloud.colors = o3d.utility.Vector3dVector(scene_rgb)\n",
    "\n",
    "vis.add_geometry(axes)\n",
    "vis.add_geometry(scene_cloud)\n",
    "\n",
    "# # Size options (jupyter gives issues when running this multiple times, but it looks better)\n",
    "# render_option = vis.get_render_option()\n",
    "# render_option.point_size = 2\n",
    "\n",
    "\n",
    "# Run the visualizer\n",
    "vis.run()\n",
    "vis.destroy_window()\n"
   ]
  },
  {
   "cell_type": "markdown",
   "id": "86d585b6-3135-4b8f-bfbd-269bc2a1845d",
   "metadata": {},
   "source": [
    "### FRAMES IN USE: 107, 112, 117, 122, 127, 132\n",
    "\n",
    "- frame_31570.jpg\n",
    "- frame_31620.jpg\n",
    "- frame_31670.jpg\n",
    "- frame_31720.jpg\n",
    "- frame_31770.jpg\n",
    "- frame_31820.jpg\n",
    "\n",
    "see <vtti_gnav_demo.ipynb>"
   ]
  },
  {
   "cell_type": "code",
   "execution_count": 148,
   "id": "58d05a95-b1c8-408b-a325-bb0fbd3a1f38",
   "metadata": {},
   "outputs": [
    {
     "name": "stdout",
     "output_type": "stream",
     "text": [
      "frame_31840.jpg\n"
     ]
    }
   ],
   "source": [
    "print(images_colmap[135].name)"
   ]
  },
  {
   "cell_type": "code",
   "execution_count": 149,
   "id": "7b1daa9f-91bc-4bf2-a17c-1bdfa2ee6fed",
   "metadata": {},
   "outputs": [
    {
     "name": "stdout",
     "output_type": "stream",
     "text": [
      "frame_31570.jpg\n",
      "frame_31620.jpg\n",
      "frame_31670.jpg\n",
      "frame_31720.jpg\n",
      "frame_31770.jpg\n",
      "frame_31820.jpg\n"
     ]
    }
   ],
   "source": [
    "for elt in np.array([107, 112, 117, 122, 127, 132]):\n",
    "    print(images_colmap[elt+1].name)"
   ]
  },
  {
   "cell_type": "code",
   "execution_count": 136,
   "id": "d0eee2c7-824d-4d5c-9e19-923e93377ad0",
   "metadata": {},
   "outputs": [],
   "source": [
    "# Determining ground plane points \n",
    "\n",
    "gnd_pts_IDX = np.array([1667, 1675, 1680, 1681, 1682, 1683, 1875, 1876, 1877, 12776, 12778, 12780, 12782, 12784, 12787, 12789])\n",
    "\n",
    "arr2 = np.arange(12775,12790)\n",
    "arr1 = np.array([1])\n",
    "arr3 = np.array([12787, 12789])\n",
    "gnd_pts_TEST = np.concatenate((arr1, arr2))"
   ]
  },
  {
   "cell_type": "code",
   "execution_count": 137,
   "id": "adfdc5e9-155a-4db2-b9bd-840bc5debc35",
   "metadata": {},
   "outputs": [
    {
     "name": "stdout",
     "output_type": "stream",
     "text": [
      "30494\n",
      "[    1 12775 12776 12777 12778 12779 12780 12781 12782 12783 12784 12785\n",
      " 12786 12787 12788 12789]\n",
      "[[ 1.44768681  3.15658229  8.23648973]\n",
      " [ 0.26401975  0.41131484  1.54531511]\n",
      " [-0.03653655 -0.06782255 -1.87108607]\n",
      " [ 0.29401562  0.39970383  1.50908626]\n",
      " [-0.18519407 -0.01817601 -1.7155522 ]\n",
      " [ 0.29388074  0.39972872  1.50920177]\n",
      " [ 0.28200253 -0.09702349 -1.92057832]\n",
      " [ 0.29135988  0.40035     1.51127481]\n",
      " [ 0.35324464 -0.1015492  -1.93511367]\n",
      " [ 0.29413734  0.39966912  1.50906061]\n",
      " [ 0.72757166 -0.12574995 -2.01179678]\n",
      " [ 0.29517006  0.39960742  1.50898387]\n",
      " [ 0.28225712  0.39720548  1.49524819]\n",
      " [ 0.04208403 -0.05476814 -1.77231044]\n",
      " [ 0.28638918  0.40202835  1.51661508]\n",
      " [ 0.44989832 -0.10897952 -1.94288102]]\n"
     ]
    }
   ],
   "source": [
    "print(len(scene_pts))\n",
    "print(gnd_pts_TEST)\n",
    "print(scene_pts[gnd_pts_TEST])"
   ]
  },
  {
   "cell_type": "code",
   "execution_count": 139,
   "id": "3b8c9d01-29cc-4003-8fc2-41efc03b88eb",
   "metadata": {},
   "outputs": [
    {
     "name": "stderr",
     "output_type": "stream",
     "text": [
      "libGL: Can't open configuration file /etc/drirc: No such file or directory.\n",
      "libGL: Can't open configuration file /home/daniel-choate/.drirc: No such file or directory.\n",
      "using driver i915 for 74\n",
      "libGL: Can't open configuration file /etc/drirc: No such file or directory.\n",
      "libGL: Can't open configuration file /home/daniel-choate/.drirc: No such file or directory.\n",
      "using driver i915 for 74\n",
      "pci id for fd 74: 8086:a7a0, driver iris\n",
      "libGL: Can't open configuration file /etc/drirc: No such file or directory.\n",
      "libGL: Can't open configuration file /home/daniel-choate/.drirc: No such file or directory.\n",
      "libGL: Can't open configuration file /etc/drirc: No such file or directory.\n",
      "libGL: Can't open configuration file /home/daniel-choate/.drirc: No such file or directory.\n",
      "libGL: Can't open configuration file /etc/drirc: No such file or directory.\n",
      "libGL: Can't open configuration file /home/daniel-choate/.drirc: No such file or directory.\n",
      "Using DRI3 for screen 0\n"
     ]
    }
   ],
   "source": [
    "# PLOT INITIAL POINT CLOUD AND POSES \n",
    "# Create Open3D visualizer object\n",
    "vis = o3d.visualization.Visualizer()\n",
    "vis.create_window(window_name='3D Plot with Pose Axes and Point Cloud')#, width=1000, height=1000)\n",
    "\n",
    "# Add coordinate axes\n",
    "axes = o3d.geometry.TriangleMesh.create_coordinate_frame(size=.5)\n",
    "\n",
    "scene_cloud = o3d.geometry.PointCloud()\n",
    "scene_cloud.points = o3d.utility.Vector3dVector(scene_pts)\n",
    "scene_cloud.colors = o3d.utility.Vector3dVector(scene_rgb)\n",
    "\n",
    "gnd_pts_t = o3d.geometry.PointCloud()\n",
    "gnd_pts_t.points = o3d.utility.Vector3dVector(scene_pts[gnd_pts_TEST])\n",
    "gnd_pts_t.paint_uniform_color([1,0,0])\n",
    "# gnd_pts_t.colors = o3d.utility.Vector3dVector(scene_rgb[gnd_pts_TEST])\n",
    "\n",
    "gnd_pts = o3d.geometry.PointCloud()\n",
    "gnd_pts.points = o3d.utility.Vector3dVector(scene_pts[gnd_pts_IDX])\n",
    "gnd_pts.paint_uniform_color([0,1,0])\n",
    "\n",
    "\n",
    "vis.add_geometry(axes)\n",
    "# vis.add_geometry(scene_cloud)\n",
    "# vis.add_geometry(gnd_pts_t)\n",
    "vis.add_geometry(gnd_pts)\n",
    "\n",
    "# # Size options (jupyter gives issues when running this multiple times, but it looks better)\n",
    "# render_option = vis.get_render_option()\n",
    "# render_option.point_size = 2\n",
    "\n",
    "\n",
    "# Run the visualizer\n",
    "vis.run()\n",
    "vis.destroy_window()"
   ]
  },
  {
   "cell_type": "code",
   "execution_count": null,
   "id": "37b46b1a-6944-4d0c-95ee-dcd06386eadd",
   "metadata": {},
   "outputs": [],
   "source": []
  },
  {
   "cell_type": "code",
   "execution_count": null,
   "id": "055fb99f-b13f-4e5b-8305-475c4817d68a",
   "metadata": {},
   "outputs": [],
   "source": []
  },
  {
   "cell_type": "code",
   "execution_count": null,
   "id": "7430ef67-0285-4cb0-b610-c1621af35c78",
   "metadata": {},
   "outputs": [],
   "source": []
  },
  {
   "cell_type": "code",
   "execution_count": null,
   "id": "43949a4a-e497-496f-b047-bf45f7395dce",
   "metadata": {},
   "outputs": [],
   "source": []
  },
  {
   "cell_type": "code",
   "execution_count": null,
   "id": "d5db2e6c-b290-48b0-af3c-5302ef4dd7f1",
   "metadata": {},
   "outputs": [],
   "source": []
  },
  {
   "cell_type": "code",
   "execution_count": null,
   "id": "fd1444e6-67f0-499d-b68f-e32357475c1b",
   "metadata": {},
   "outputs": [],
   "source": []
  },
  {
   "cell_type": "code",
   "execution_count": null,
   "id": "5111217d-1651-48fe-b6f7-1f00302db7a3",
   "metadata": {},
   "outputs": [],
   "source": []
  },
  {
   "cell_type": "code",
   "execution_count": null,
   "id": "022f9dbf-f9b7-4640-a8f6-c04583a17a34",
   "metadata": {},
   "outputs": [],
   "source": []
  },
  {
   "cell_type": "code",
   "execution_count": 46,
   "id": "bde2b426-7645-4d0e-8293-e5491118e609",
   "metadata": {},
   "outputs": [
    {
     "name": "stdout",
     "output_type": "stream",
     "text": [
      "[ 96  97  98  99 100 101 102 103 104 105]\n"
     ]
    }
   ],
   "source": []
  },
  {
   "cell_type": "code",
   "execution_count": 10,
   "id": "c2b1985b-b00c-41c0-8095-fd23c43836eb",
   "metadata": {},
   "outputs": [],
   "source": [
    "# # GIF HELP\n",
    "\n",
    "# # Capture frames for GIF\n",
    "# frames = []\n",
    "# num_frames = 30  # Adjust the number of frames\n",
    "# angle_step = 180/num_frames\n",
    "\n",
    "\n",
    "# for i in range(num_frames):\n",
    "# \t# Rotate the view\n",
    "#     view_control.rotate(angle_step, 0)  # (horizontal, vertical)\n",
    "\n",
    "#     # vis.update_geometry(axis_orig) # Only if I move it myself?\n",
    "#     vis.poll_events()\n",
    "#     vis.update_renderer()\n",
    "\n",
    "#     # Capture frame directly into memory\n",
    "#     image = vis.capture_screen_float_buffer(False)\n",
    "#     image_8bit = (np.asarray(image) * 255).astype(np.uint8)  # Convert to 8-bit\n",
    "#     frames.append(image_8bit)\n",
    "\n",
    "\n",
    "# for i in range(num_frames):\n",
    "# \t# Rotate the view\n",
    "# \tview_control.rotate(angle_step, 0)  # (horizontal, vertical)\n",
    "\n",
    "# \t# vis.update_geometry(axis_orig) # Only if I move it myself?\n",
    "# \tvis.poll_events()\n",
    "# \tvis.update_renderer()\n",
    "\n",
    "# \t# Capture frame directly into memory\n",
    "# \timage = vis.capture_screen_float_buffer(False)\n",
    "# \timage_8bit = (np.asarray(image) * 255).astype(np.uint8)  # Convert to 8-bit\n",
    "# \tframes.append(image_8bit)\n",
    "\n",
    "# for i in range(num_frames):\n",
    "# \t# Rotate the view\n",
    "# \tview_control.rotate(angle_step, 0)  # (horizontal, vertical)\n",
    "\n",
    "# \t# vis.update_geometry(axis_orig) # Only if I move it myself?\n",
    "# \tvis.poll_events()\n",
    "# \tvis.update_renderer()\n",
    "\n",
    "# \t# Capture frame directly into memory\n",
    "# \timage = vis.capture_screen_float_buffer(False)\n",
    "# \timage_8bit = (np.asarray(image) * 255).astype(np.uint8)  # Convert to 8-bit\n",
    "# \tframes.append(image_8bit)\n",
    "\n",
    "# for i in range(num_frames):\n",
    "# \t# Rotate the view\n",
    "# \tview_control.rotate(angle_step, angle_step/5)  # (horizontal, vertical)\n",
    "\n",
    "# \t# vis.update_geometry(axis_orig) # Only if I move it myself?\n",
    "# \tvis.poll_events()\n",
    "# \tvis.update_renderer()\n",
    "\n",
    "# \t# Capture frame directly into memory\n",
    "# \timage = vis.capture_screen_float_buffer(False)\n",
    "# \timage_8bit = (np.asarray(image) * 255).astype(np.uint8)  # Convert to 8-bit\n",
    "# \tframes.append(image_8bit)\n",
    "\n",
    "# for i in range(num_frames):\n",
    "# \t# Rotate the view\n",
    "#     view_control.rotate(-angle_step, -angle_step/5)  # (horizontal, vertical)\n",
    "\n",
    "#     # vis.update_geometry(axis_orig) # Only if I move it myself?\n",
    "#     vis.poll_events()\n",
    "#     vis.update_renderer()\n",
    "\n",
    "#     # Capture frame directly into memory\n",
    "#     image = vis.capture_screen_float_buffer(False)\n",
    "#     image_8bit = (np.asarray(image) * 255).astype(np.uint8)  # Convert to 8-bit\n",
    "#     frames.append(image_8bit)\n",
    "\n",
    "\n",
    "# for i in range(num_frames):\n",
    "# \t# Rotate the view\n",
    "# \tview_control.rotate(-angle_step, 0)  # (horizontal, vertical)\n",
    "\n",
    "# \t# vis.update_geometry(axis_orig) # Only if I move it myself?\n",
    "# \tvis.poll_events()\n",
    "# \tvis.update_renderer()\n",
    "\n",
    "# \t# Capture frame directly into memory\n",
    "# \timage = vis.capture_screen_float_buffer(False)\n",
    "# \timage_8bit = (np.asarray(image) * 255).astype(np.uint8)  # Convert to 8-bit\n",
    "# \tframes.append(image_8bit)\n",
    "\n",
    "# for i in range(num_frames):\n",
    "# \t# Rotate the view\n",
    "# \tview_control.rotate(-angle_step, 0)  # (horizontal, vertical)\n",
    "\n",
    "# \t# vis.update_geometry(axis_orig) # Only if I move it myself?\n",
    "# \tvis.poll_events()\n",
    "# \tvis.update_renderer()\n",
    "\n",
    "# \t# Capture frame directly into memory\n",
    "# \timage = vis.capture_screen_float_buffer(False)\n",
    "# \timage_8bit = (np.asarray(image) * 255).astype(np.uint8)  # Convert to 8-bit\n",
    "# \tframes.append(image_8bit)\n",
    "\n",
    "# for i in range(num_frames):\n",
    "# \t# Rotate the view\n",
    "# \tview_control.rotate(-angle_step, 0)  # (horizontal, vertical)\n",
    "\n",
    "# \t# vis.update_geometry(axis_orig) # Only if I move it myself?\n",
    "# \tvis.poll_events()\n",
    "# \tvis.update_renderer()\n",
    "\n",
    "# \t# Capture frame directly into memory\n",
    "# \timage = vis.capture_screen_float_buffer(False)\n",
    "# \timage_8bit = (np.asarray(image) * 255).astype(np.uint8)  # Convert to 8-bit\n",
    "# \tframes.append(image_8bit)\n",
    "\n",
    "# # Create GIF\n",
    "# # Ensure frames are in the correct format\n",
    "# frames = [frame.astype(\"uint8\") for frame in frames]\n",
    "\n",
    "# # Use imageio to save as GIF\n",
    "# imageio.mimsave(\"test.gif\", frames, fps=30, loop=0)  # Adjust fps if necessary"
   ]
  },
  {
   "cell_type": "code",
   "execution_count": null,
   "id": "7b50cbce-15b8-43b5-ae66-d85d4843dcd9",
   "metadata": {},
   "outputs": [],
   "source": []
  }
 ],
 "metadata": {
  "kernelspec": {
   "display_name": "Python 3 (ipykernel)",
   "language": "python",
   "name": "python3"
  },
  "language_info": {
   "codemirror_mode": {
    "name": "ipython",
    "version": 3
   },
   "file_extension": ".py",
   "mimetype": "text/x-python",
   "name": "python",
   "nbconvert_exporter": "python",
   "pygments_lexer": "ipython3",
   "version": "3.9.18"
  }
 },
 "nbformat": 4,
 "nbformat_minor": 5
}
