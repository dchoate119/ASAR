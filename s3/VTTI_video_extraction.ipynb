{
 "cells": [
  {
   "cell_type": "markdown",
   "id": "9c065117-041b-4f52-991f-3cfd9f47bb1a",
   "metadata": {},
   "source": [
    "# Airfield data extraction \n",
    "\n",
    "Data provided by VTTI:\n",
    "- Need to extract frames from video feed\n",
    "- For colmap usage"
   ]
  },
  {
   "cell_type": "code",
   "execution_count": 1,
   "id": "7a12736d-68e6-483c-94cd-78a87b19787f",
   "metadata": {},
   "outputs": [
    {
     "data": {
      "application/javascript": [
       "IPython.notebook.set_autosave_interval(180000)"
      ]
     },
     "metadata": {},
     "output_type": "display_data"
    },
    {
     "name": "stdout",
     "output_type": "stream",
     "text": [
      "Autosaving every 180 seconds\n"
     ]
    }
   ],
   "source": [
    "import cv2\n",
    "import os\n",
    "\n",
    "\n",
    "\n",
    "# SAVE YOUR WORK\n",
    "%load_ext autoreload\n",
    "%autoreload 2\n",
    "%autosave 180"
   ]
  },
  {
   "cell_type": "code",
   "execution_count": 11,
   "id": "d94d6715-47c0-455d-a7a6-8b3bdec9808c",
   "metadata": {},
   "outputs": [],
   "source": [
    "def extract_frames(video_path, start_time, end_time, output_dir, target_fps):\n",
    "    \"\"\"\n",
    "    Extract image frames from a video\n",
    "    Inputs: video path, start time, end time, output path\n",
    "    Output: saved video in output directory\n",
    "    \"\"\"\n",
    "    cap = cv2.VideoCapture(video_path)\n",
    "    if not cap.isOpened():\n",
    "        print(\"Error: Could not open video.\")\n",
    "        return\n",
    "\n",
    "    # Get frames per sec\n",
    "    fps = cap.get(cv2.CAP_PROP_FPS)\n",
    "    total_frames = int(cap.get(cv2.CAP_PROP_FRAME_COUNT))\n",
    "    print(\"frames per second: \", fps)\n",
    "    print(\"\\ntotal frames: \", total_frames)\n",
    "\n",
    "    # Convert start and end times to frame numbers\n",
    "    start_frame = int(start_time * fps)\n",
    "    end_frame = int(end_time * fps)\n",
    "\n",
    "    if end_frame > total_frames:\n",
    "        end_frame = total_frames\n",
    "\n",
    "    # Output directory \n",
    "    os.makedirs(output_dir, exist_ok=True)\n",
    "\n",
    "    # start frame\n",
    "    cap.set(cv2.CAP_PROP_POS_FRAMES, start_frame)\n",
    "\n",
    "    frame_num = start_frame \n",
    "    num_frames = 0\n",
    "\n",
    "    step = int(round(fps/target_fps))\n",
    "    \n",
    "    while frame_num <= end_frame:\n",
    "        ret, frame = cap.read()\n",
    "        if not ret:\n",
    "            break\n",
    "\n",
    "        # Save\n",
    "        if (frame_num-start_frame) % step == 0:\n",
    "            frame_filename = os.path.join(output_dir, f'frame_{frame_num}.jpg')\n",
    "            cv2.imwrite(frame_filename, frame)\n",
    "\n",
    "            num_frames += 1\n",
    "        frame_num += 1\n",
    "\n",
    "    cap.release()\n",
    "    print(f\"{num_frames} frames saved to {output_dir}\")"
   ]
  },
  {
   "cell_type": "code",
   "execution_count": 12,
   "id": "c0f32e83-68b8-494e-a05a-edc7fa097a81",
   "metadata": {},
   "outputs": [
    {
     "name": "stdout",
     "output_type": "stream",
     "text": [
      "frames per second:  61.00164697965842\n",
      "\n",
      "total frames:  38277\n",
      "135 frames saved to /home/daniel-choate/Datasets/VTTI_airfield/Images\n"
     ]
    }
   ],
   "source": [
    "path = '/home/daniel-choate/Datasets/VTTI_airfield/airfield_video.mp4'\n",
    "start = 500\n",
    "end = 522\n",
    "output_dir = '/home/daniel-choate/Datasets/VTTI_airfield/Images'\n",
    "target_fps = 6\n",
    "\n",
    "extract_frames(path, start, end, output_dir, target_fps)"
   ]
  },
  {
   "cell_type": "code",
   "execution_count": null,
   "id": "98838fc7-262c-48e9-8c2f-aabf6e07dcc6",
   "metadata": {},
   "outputs": [],
   "source": []
  }
 ],
 "metadata": {
  "kernelspec": {
   "display_name": "Python 3 (ipykernel)",
   "language": "python",
   "name": "python3"
  },
  "language_info": {
   "codemirror_mode": {
    "name": "ipython",
    "version": 3
   },
   "file_extension": ".py",
   "mimetype": "text/x-python",
   "name": "python",
   "nbconvert_exporter": "python",
   "pygments_lexer": "ipython3",
   "version": "3.9.18"
  }
 },
 "nbformat": 4,
 "nbformat_minor": 5
}
