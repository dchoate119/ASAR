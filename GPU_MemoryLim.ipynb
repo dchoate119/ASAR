{
 "cells": [
  {
   "cell_type": "code",
   "execution_count": null,
   "id": "5ed86517-0f94-4e13-82ab-0398aab68ecf",
   "metadata": {},
   "outputs": [],
   "source": [
    "# Template code for using a desired section of the GPU\n",
    "\n",
    "\n",
    "# memlim = 2x1024 specifies 2 GB \n",
    "# My GPU is 8 GB *******\n",
    "# Limit GPU memory, if running notebook on GPU\n",
    "gpus = tf.config.experimental.list_physical_devices('GPU')\n",
    "print(gpus)\n",
    "if gpus:\n",
    "    try:\n",
    "        memlim = 2*1024\n",
    "        tf.config.experimental.set_virtual_device_configuration(gpus[0], [tf.config.experimental.VirtualDeviceConfiguration(memory_limit=memlim)])\n",
    "    except RuntimeError as e:\n",
    "        print(e)\n",
    "\n"
   ]
  }
 ],
 "metadata": {
  "kernelspec": {
   "display_name": "Python 3 (ipykernel)",
   "language": "python",
   "name": "python3"
  },
  "language_info": {
   "codemirror_mode": {
    "name": "ipython",
    "version": 3
   },
   "file_extension": ".py",
   "mimetype": "text/x-python",
   "name": "python",
   "nbconvert_exporter": "python",
   "pygments_lexer": "ipython3",
   "version": "3.9.18"
  }
 },
 "nbformat": 4,
 "nbformat_minor": 5
}
